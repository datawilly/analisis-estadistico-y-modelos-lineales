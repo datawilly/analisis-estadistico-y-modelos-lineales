{
  "cells": [
    {
      "cell_type": "markdown",
      "metadata": {
        "id": "view-in-github",
        "colab_type": "text"
      },
      "source": [
        "<a href=\"https://colab.research.google.com/github/datawilly/analisis-estadistico-y-modelos-lineales/blob/main/PEC2_ROSALES_RAMIREZ.ipynb\" target=\"_parent\"><img src=\"https://colab.research.google.com/assets/colab-badge.svg\" alt=\"Open In Colab\"/></a>"
      ]
    },
    {
      "cell_type": "markdown",
      "metadata": {
        "nbpresent": {
          "id": "b8300535-6e4c-460b-b499-7db5c12d363e"
        },
        "id": "O_bevQIXmrBH"
      },
      "source": [
        "<a name = \"inicio\"></a>\n",
        "\n",
        "***\n",
        "\n",
        "<div style=\"font-size: 30px;text-align: center;height:60px;padding:10px;margin:10px 0 0 0;\">Prueba evaluación continua (PEC2) </div>\n",
        "\n",
        "<table>\n",
        "  <tr>\n",
        "    <td>\n",
        "<div>\n",
        "<img src=\"attachment:image-2.png\" width=\"135\"/>\n",
        "<td>&nbsp;</td><td>&nbsp;</td>\n",
        "</div>\n",
        "    </td>\n",
        "    <td>\n",
        "<div>\n",
        "<img src=\"attachment:image-3.png\" width=\"350\"/>\n",
        "</div>       \n",
        "</td>\n",
        "  </tr>\n",
        "<table>\n",
        "    \n",
        "<u>Índice de contenidos<u>:\n",
        "\n",
        "1. [Instrucciones de la prueba](#topic1)\n",
        "2. [Bloque 1: Ejercicios básicos de la prueba](#topic2)\n",
        "3. [Bloque 2: Ejercicios intermedios de la prueba](#topic3)\n",
        "4. [Bloque 3: Ejercicios avanzados de la prueba](#topic4)\n",
        "\n",
        "***"
      ]
    },
    {
      "cell_type": "code",
      "source": [],
      "metadata": {
        "id": "EyI877-Vmrz-"
      },
      "execution_count": null,
      "outputs": []
    },
    {
      "cell_type": "markdown",
      "metadata": {
        "id": "gEO_FYLXmrBK"
      },
      "source": [
        "# Instrucciones de la prueba <a id=\"topic1\"></a>&nbsp;&nbsp;<a href=\"#index\"><i class=\"fa fa-list-alt\" aria-hidden=\"true\"></i></a>\n"
      ]
    },
    {
      "cell_type": "markdown",
      "metadata": {
        "id": "lFKriVQ4mrBK"
      },
      "source": [
        "Este notebook corresponde a la <u>segunda prueba de evaluación continua</u>. El peso de la misma corresponde al **20% de la nota final** de la asignatura. Se establecen los siguientes tres niveles de evaluación por bloques de dificultad:\n",
        "\n",
        "1. Básico: el alumno es capaz de realizar tareas, ejercicios o prácticas similares a las realizadas durante la asignatura.\n",
        "2. Intermedio: el alumno es capaz de aplicar las técnicas, conocimientos y habilidades vistas en clase a problemas con elementos diferentes.\n",
        "3. Avanzado: el alumno es capaz de ampliar las técnicas, conocimientos y habilidades vistas en clase, investigando nuevos aspectos o problemas.\n",
        "\n",
        "Las calificaciones, por tanto, serán coherentes al nivel alcanzado. Cada alumno deberá de entregar este mismo notebook con sus respuestas a través de la plataforma **Blackboard** llamando al archivo **PEC2_Apellidos**. El profesor publicará las calificaciones con posterioridad. ¡Mucha suerte y ánimo a tod@s!\n",
        "\n",
        "**<mark>Nota.-**<mark><div style=\"background-color:#F7DC6F\"><b>Tened en cuenta que deberéis de aportar respuestas detalladas y bien justificadas. No es admisible adjuntar únicamente el código sin comentar. Hay que incluir paso a paso lo que estáis haciendo en las propias celdas de código. Además, deberéis de razonar, argumentar e interpretar los resultados obtenidos utilizando para ello celdas tipo Markdown. </b></div>"
      ]
    },
    {
      "cell_type": "markdown",
      "metadata": {
        "id": "bY_kIsRGmrBK"
      },
      "source": [
        "# Bloque 1: Ejercicios básicos de la prueba <a id=\"topic2\"></a>&nbsp;&nbsp;<a href=\"#index\"><i class=\"fa fa-list-alt\" aria-hidden=\"true\"></i></a>"
      ]
    },
    {
      "cell_type": "markdown",
      "metadata": {
        "id": "FbOxKcc0mrBL"
      },
      "source": [
        "### 01 Ejercicio [1.5 puntos]\n",
        "\n",
        "Un analista de deportes quiere saber si existe una relación entre la variable número de bateos que realiza un equipo de béisbol (`numero_bateos`) y la variable dependiente, número de runs que consigue, (`runs`). Para ello contáis con la base de datos $\\tt beisbol$ que se aporta abajo sobre diferentes equipos de la Major League Baseball (MLB) de los EE.UU. Realizar los siguientes apartados:\n",
        "\n",
        "1. Exploración inicial de la base de datos\n",
        "2. Análisis de la existencia de relación lineal entre las variables\n",
        "3. Estimación de un modelo de regresión lineal simple entre las variables\n",
        "4. Interpretación de las salidas de estimación de un modelo de regresión lineal simple"
      ]
    },
    {
      "cell_type": "code",
      "execution_count": null,
      "metadata": {
        "id": "yBEEU9B5mrBM",
        "outputId": "00b8daa4-53ed-4542-fc70-8d81a038d151"
      },
      "outputs": [
        {
          "data": {
            "text/html": [
              "<table class=\"dataframe\">\n",
              "<caption>A data.frame: 6 × 3</caption>\n",
              "<thead>\n",
              "\t<tr><th></th><th scope=col>equipos</th><th scope=col>numero_bateos</th><th scope=col>runs</th></tr>\n",
              "\t<tr><th></th><th scope=col>&lt;chr&gt;</th><th scope=col>&lt;dbl&gt;</th><th scope=col>&lt;dbl&gt;</th></tr>\n",
              "</thead>\n",
              "<tbody>\n",
              "\t<tr><th scope=row>1</th><td>Texas  </td><td>5659</td><td>855</td></tr>\n",
              "\t<tr><th scope=row>2</th><td>Boston </td><td>5710</td><td>875</td></tr>\n",
              "\t<tr><th scope=row>3</th><td>Detroit</td><td>5563</td><td>787</td></tr>\n",
              "\t<tr><th scope=row>4</th><td>Kansas </td><td>5672</td><td>730</td></tr>\n",
              "\t<tr><th scope=row>5</th><td>St.    </td><td>5532</td><td>762</td></tr>\n",
              "\t<tr><th scope=row>6</th><td>New_S. </td><td>5600</td><td>718</td></tr>\n",
              "</tbody>\n",
              "</table>\n"
            ],
            "text/latex": [
              "A data.frame: 6 × 3\n",
              "\\begin{tabular}{r|lll}\n",
              "  & equipos & numero\\_bateos & runs\\\\\n",
              "  & <chr> & <dbl> & <dbl>\\\\\n",
              "\\hline\n",
              "\t1 & Texas   & 5659 & 855\\\\\n",
              "\t2 & Boston  & 5710 & 875\\\\\n",
              "\t3 & Detroit & 5563 & 787\\\\\n",
              "\t4 & Kansas  & 5672 & 730\\\\\n",
              "\t5 & St.     & 5532 & 762\\\\\n",
              "\t6 & New\\_S.  & 5600 & 718\\\\\n",
              "\\end{tabular}\n"
            ],
            "text/markdown": [
              "\n",
              "A data.frame: 6 × 3\n",
              "\n",
              "| <!--/--> | equipos &lt;chr&gt; | numero_bateos &lt;dbl&gt; | runs &lt;dbl&gt; |\n",
              "|---|---|---|---|\n",
              "| 1 | Texas   | 5659 | 855 |\n",
              "| 2 | Boston  | 5710 | 875 |\n",
              "| 3 | Detroit | 5563 | 787 |\n",
              "| 4 | Kansas  | 5672 | 730 |\n",
              "| 5 | St.     | 5532 | 762 |\n",
              "| 6 | New_S.  | 5600 | 718 |\n",
              "\n"
            ],
            "text/plain": [
              "  equipos numero_bateos runs\n",
              "1 Texas   5659          855 \n",
              "2 Boston  5710          875 \n",
              "3 Detroit 5563          787 \n",
              "4 Kansas  5672          730 \n",
              "5 St.     5532          762 \n",
              "6 New_S.  5600          718 "
            ]
          },
          "metadata": {},
          "output_type": "display_data"
        }
      ],
      "source": [
        "# Base de datos beisbol MLB\n",
        "equipos = c(\"Texas\", \"Boston\", \"Detroit\", \"Kansas\", \"St.\", \"New_S.\", \"New_Y.\", \"Milwaukee\", \"Colorado\", \"Houston\", \"Baltimore\", \"Los_An.\", \"Chicago A\", \"Cincinnati\", \"Los_P.\", \"Philadelphia\", \"Chicago B\", \"Cleveland\", \"Arizona\", \"Toronto\", \"Minnesota\", \"Florida\", \"Pittsburgh\", \"Oakland\", \"Tampa\", \"Atlanta\", \"Washington\", \"San.F\", \"San.I\", \"Seattle\")\n",
        "numero_bateos = c(5659, 5710, 5563, 5672, 5532, 5600, 5518, 5447, 5544, 5598, 5585, 5436, 5549, 5612, 5513, 5579, 5502, 5509, 5421, 5559, 5487, 5508, 5421, 5452, 5436, 5528, 5441, 5486, 5417, 5421)\n",
        "runs = c(855, 875, 787, 730, 762, 718, 867, 721, 735, 615, 708, 644, 654 , 735, 667, 713, 654, 704, 731, 743, 619, 625, 610, 645, 707, 641, 624, 570, 593, 556)\n",
        "beisbol = data.frame(equipos, numero_bateos, runs)\n",
        "head(beisbol)"
      ]
    },
    {
      "cell_type": "markdown",
      "metadata": {
        "id": "nfWu-T-cmrBO"
      },
      "source": [
        "<div style=\"background-color:#F7DC6F\"><b>Resolución Ejercicio 01</b></div>"
      ]
    },
    {
      "cell_type": "markdown",
      "metadata": {
        "id": "JPNwCb__mrBP"
      },
      "source": [
        "<div style=\"background-color:#5DADE2\"><b>Apartado 1</b></div>"
      ]
    },
    {
      "cell_type": "markdown",
      "metadata": {
        "id": "BCc8SHt6mrBP"
      },
      "source": [
        "**Exploración inicial de la base de datos**"
      ]
    },
    {
      "cell_type": "code",
      "execution_count": null,
      "metadata": {
        "id": "jLw3ZxhFmrBQ",
        "outputId": "2786b83c-560a-4724-b973-413f8ccf574f"
      },
      "outputs": [
        {
          "data": {
            "text/html": [
              "<table class=\"dataframe\">\n",
              "<caption>A data.frame: 30 × 3</caption>\n",
              "<thead>\n",
              "\t<tr><th scope=col>equipos</th><th scope=col>numero_bateos</th><th scope=col>runs</th></tr>\n",
              "\t<tr><th scope=col>&lt;chr&gt;</th><th scope=col>&lt;dbl&gt;</th><th scope=col>&lt;dbl&gt;</th></tr>\n",
              "</thead>\n",
              "<tbody>\n",
              "\t<tr><td>Texas       </td><td>5659</td><td>855</td></tr>\n",
              "\t<tr><td>Boston      </td><td>5710</td><td>875</td></tr>\n",
              "\t<tr><td>Detroit     </td><td>5563</td><td>787</td></tr>\n",
              "\t<tr><td>Kansas      </td><td>5672</td><td>730</td></tr>\n",
              "\t<tr><td>St.         </td><td>5532</td><td>762</td></tr>\n",
              "\t<tr><td>New_S.      </td><td>5600</td><td>718</td></tr>\n",
              "\t<tr><td>New_Y.      </td><td>5518</td><td>867</td></tr>\n",
              "\t<tr><td>Milwaukee   </td><td>5447</td><td>721</td></tr>\n",
              "\t<tr><td>Colorado    </td><td>5544</td><td>735</td></tr>\n",
              "\t<tr><td>Houston     </td><td>5598</td><td>615</td></tr>\n",
              "\t<tr><td>Baltimore   </td><td>5585</td><td>708</td></tr>\n",
              "\t<tr><td>Los_An.     </td><td>5436</td><td>644</td></tr>\n",
              "\t<tr><td>Chicago A   </td><td>5549</td><td>654</td></tr>\n",
              "\t<tr><td>Cincinnati  </td><td>5612</td><td>735</td></tr>\n",
              "\t<tr><td>Los_P.      </td><td>5513</td><td>667</td></tr>\n",
              "\t<tr><td>Philadelphia</td><td>5579</td><td>713</td></tr>\n",
              "\t<tr><td>Chicago B   </td><td>5502</td><td>654</td></tr>\n",
              "\t<tr><td>Cleveland   </td><td>5509</td><td>704</td></tr>\n",
              "\t<tr><td>Arizona     </td><td>5421</td><td>731</td></tr>\n",
              "\t<tr><td>Toronto     </td><td>5559</td><td>743</td></tr>\n",
              "\t<tr><td>Minnesota   </td><td>5487</td><td>619</td></tr>\n",
              "\t<tr><td>Florida     </td><td>5508</td><td>625</td></tr>\n",
              "\t<tr><td>Pittsburgh  </td><td>5421</td><td>610</td></tr>\n",
              "\t<tr><td>Oakland     </td><td>5452</td><td>645</td></tr>\n",
              "\t<tr><td>Tampa       </td><td>5436</td><td>707</td></tr>\n",
              "\t<tr><td>Atlanta     </td><td>5528</td><td>641</td></tr>\n",
              "\t<tr><td>Washington  </td><td>5441</td><td>624</td></tr>\n",
              "\t<tr><td>San.F       </td><td>5486</td><td>570</td></tr>\n",
              "\t<tr><td>San.I       </td><td>5417</td><td>593</td></tr>\n",
              "\t<tr><td>Seattle     </td><td>5421</td><td>556</td></tr>\n",
              "</tbody>\n",
              "</table>\n"
            ],
            "text/latex": [
              "A data.frame: 30 × 3\n",
              "\\begin{tabular}{lll}\n",
              " equipos & numero\\_bateos & runs\\\\\n",
              " <chr> & <dbl> & <dbl>\\\\\n",
              "\\hline\n",
              "\t Texas        & 5659 & 855\\\\\n",
              "\t Boston       & 5710 & 875\\\\\n",
              "\t Detroit      & 5563 & 787\\\\\n",
              "\t Kansas       & 5672 & 730\\\\\n",
              "\t St.          & 5532 & 762\\\\\n",
              "\t New\\_S.       & 5600 & 718\\\\\n",
              "\t New\\_Y.       & 5518 & 867\\\\\n",
              "\t Milwaukee    & 5447 & 721\\\\\n",
              "\t Colorado     & 5544 & 735\\\\\n",
              "\t Houston      & 5598 & 615\\\\\n",
              "\t Baltimore    & 5585 & 708\\\\\n",
              "\t Los\\_An.      & 5436 & 644\\\\\n",
              "\t Chicago A    & 5549 & 654\\\\\n",
              "\t Cincinnati   & 5612 & 735\\\\\n",
              "\t Los\\_P.       & 5513 & 667\\\\\n",
              "\t Philadelphia & 5579 & 713\\\\\n",
              "\t Chicago B    & 5502 & 654\\\\\n",
              "\t Cleveland    & 5509 & 704\\\\\n",
              "\t Arizona      & 5421 & 731\\\\\n",
              "\t Toronto      & 5559 & 743\\\\\n",
              "\t Minnesota    & 5487 & 619\\\\\n",
              "\t Florida      & 5508 & 625\\\\\n",
              "\t Pittsburgh   & 5421 & 610\\\\\n",
              "\t Oakland      & 5452 & 645\\\\\n",
              "\t Tampa        & 5436 & 707\\\\\n",
              "\t Atlanta      & 5528 & 641\\\\\n",
              "\t Washington   & 5441 & 624\\\\\n",
              "\t San.F        & 5486 & 570\\\\\n",
              "\t San.I        & 5417 & 593\\\\\n",
              "\t Seattle      & 5421 & 556\\\\\n",
              "\\end{tabular}\n"
            ],
            "text/markdown": [
              "\n",
              "A data.frame: 30 × 3\n",
              "\n",
              "| equipos &lt;chr&gt; | numero_bateos &lt;dbl&gt; | runs &lt;dbl&gt; |\n",
              "|---|---|---|\n",
              "| Texas        | 5659 | 855 |\n",
              "| Boston       | 5710 | 875 |\n",
              "| Detroit      | 5563 | 787 |\n",
              "| Kansas       | 5672 | 730 |\n",
              "| St.          | 5532 | 762 |\n",
              "| New_S.       | 5600 | 718 |\n",
              "| New_Y.       | 5518 | 867 |\n",
              "| Milwaukee    | 5447 | 721 |\n",
              "| Colorado     | 5544 | 735 |\n",
              "| Houston      | 5598 | 615 |\n",
              "| Baltimore    | 5585 | 708 |\n",
              "| Los_An.      | 5436 | 644 |\n",
              "| Chicago A    | 5549 | 654 |\n",
              "| Cincinnati   | 5612 | 735 |\n",
              "| Los_P.       | 5513 | 667 |\n",
              "| Philadelphia | 5579 | 713 |\n",
              "| Chicago B    | 5502 | 654 |\n",
              "| Cleveland    | 5509 | 704 |\n",
              "| Arizona      | 5421 | 731 |\n",
              "| Toronto      | 5559 | 743 |\n",
              "| Minnesota    | 5487 | 619 |\n",
              "| Florida      | 5508 | 625 |\n",
              "| Pittsburgh   | 5421 | 610 |\n",
              "| Oakland      | 5452 | 645 |\n",
              "| Tampa        | 5436 | 707 |\n",
              "| Atlanta      | 5528 | 641 |\n",
              "| Washington   | 5441 | 624 |\n",
              "| San.F        | 5486 | 570 |\n",
              "| San.I        | 5417 | 593 |\n",
              "| Seattle      | 5421 | 556 |\n",
              "\n"
            ],
            "text/plain": [
              "   equipos      numero_bateos runs\n",
              "1  Texas        5659          855 \n",
              "2  Boston       5710          875 \n",
              "3  Detroit      5563          787 \n",
              "4  Kansas       5672          730 \n",
              "5  St.          5532          762 \n",
              "6  New_S.       5600          718 \n",
              "7  New_Y.       5518          867 \n",
              "8  Milwaukee    5447          721 \n",
              "9  Colorado     5544          735 \n",
              "10 Houston      5598          615 \n",
              "11 Baltimore    5585          708 \n",
              "12 Los_An.      5436          644 \n",
              "13 Chicago A    5549          654 \n",
              "14 Cincinnati   5612          735 \n",
              "15 Los_P.       5513          667 \n",
              "16 Philadelphia 5579          713 \n",
              "17 Chicago B    5502          654 \n",
              "18 Cleveland    5509          704 \n",
              "19 Arizona      5421          731 \n",
              "20 Toronto      5559          743 \n",
              "21 Minnesota    5487          619 \n",
              "22 Florida      5508          625 \n",
              "23 Pittsburgh   5421          610 \n",
              "24 Oakland      5452          645 \n",
              "25 Tampa        5436          707 \n",
              "26 Atlanta      5528          641 \n",
              "27 Washington   5441          624 \n",
              "28 San.F        5486          570 \n",
              "29 San.I        5417          593 \n",
              "30 Seattle      5421          556 "
            ]
          },
          "metadata": {},
          "output_type": "display_data"
        }
      ],
      "source": [
        "beisbol"
      ]
    },
    {
      "cell_type": "code",
      "execution_count": null,
      "metadata": {
        "id": "7MGUrNyVmrBS",
        "outputId": "0bddb808-3c1c-41a9-d462-78918f7eb0e2"
      },
      "outputs": [
        {
          "name": "stdout",
          "output_type": "stream",
          "text": [
            "'data.frame':\t30 obs. of  3 variables:\n",
            " $ equipos      : chr  \"Texas\" \"Boston\" \"Detroit\" \"Kansas\" ...\n",
            " $ numero_bateos: num  5659 5710 5563 5672 5532 ...\n",
            " $ runs         : num  855 875 787 730 762 718 867 721 735 615 ...\n"
          ]
        }
      ],
      "source": [
        "#Iniciamos conociendo la estructura de nuestra base de datos.\n",
        "str(beisbol)"
      ]
    },
    {
      "cell_type": "markdown",
      "metadata": {
        "id": "pa1ObBcemrBT"
      },
      "source": [
        "Podemos observar que está dividida en variables con 30 observaciones en total (30 filas, 3 columnas), una variable es de tipo caracter y las dos restantes son numéricas"
      ]
    },
    {
      "cell_type": "code",
      "execution_count": null,
      "metadata": {
        "scrolled": true,
        "id": "2fQf2O2JmrBU",
        "outputId": "876462ff-4412-4216-e542-6f9b1d0ca997"
      },
      "outputs": [
        {
          "data": {
            "text/html": [
              "<style>\n",
              ".list-inline {list-style: none; margin:0; padding: 0}\n",
              ".list-inline>li {display: inline-block}\n",
              ".list-inline>li:not(:last-child)::after {content: \"\\00b7\"; padding: 0 .5ex}\n",
              "</style>\n",
              "<ol class=list-inline><li>30</li><li>3</li></ol>\n"
            ],
            "text/latex": [
              "\\begin{enumerate*}\n",
              "\\item 30\n",
              "\\item 3\n",
              "\\end{enumerate*}\n"
            ],
            "text/markdown": [
              "1. 30\n",
              "2. 3\n",
              "\n",
              "\n"
            ],
            "text/plain": [
              "[1] 30  3"
            ]
          },
          "metadata": {},
          "output_type": "display_data"
        }
      ],
      "source": [
        "#Confirmamos la informacion anterior viendo la dimension de la base de datos\n",
        "dim(beisbol)"
      ]
    },
    {
      "cell_type": "markdown",
      "metadata": {
        "id": "NF6USNqvmrBV"
      },
      "source": [
        "**Visualizacion:**  \n",
        "Una vez conocemos las características generales de nuestro dataframe, realizamos una exploracion de manera gráfica"
      ]
    },
    {
      "cell_type": "code",
      "execution_count": null,
      "metadata": {
        "scrolled": false,
        "id": "uvVKTwNVmrBV",
        "outputId": "2829f5bb-da5b-4cd6-f848-3698723a951d"
      },
      "outputs": [
        {
          "name": "stdout",
          "output_type": "stream",
          "text": [
            "\n",
            "  There is a binary version available but the source version is later:\n",
            "        binary source needs_compilation\n",
            "ggplot2  3.4.2  3.4.4             FALSE\n",
            "\n"
          ]
        },
        {
          "name": "stderr",
          "output_type": "stream",
          "text": [
            "installing the source package 'ggplot2'\n",
            "\n",
            "\n"
          ]
        },
        {
          "data": {
            "image/png": "[encoded data removed]",
            "text/plain": [
              "plot without title"
            ]
          },
          "metadata": {
            "image/png": {
              "height": 420,
              "width": 420
            }
          },
          "output_type": "display_data"
        }
      ],
      "source": [
        "#Resulta un taanto complicado, generar una visualizacion de manera adecuada con la libreria estandar\n",
        "#de R por lo que vamos a usar ggplot2 que nos permite crear gráficos mas facilmente.\n",
        "#Instalamos la libreria y la cargamos\n",
        "install.packages(\"ggplot2\")\n",
        "library(ggplot2)\n",
        "\n",
        "#Creamos nuestro gráfico, en este caso vamos a ver las carreras de cada equipo\n",
        "grafico_barras = ggplot(beisbol, aes(x = equipos, y = runs, fill = runs)) +\n",
        "#Vamos a representarlo con un gráfico de barras que van a tener como tamaño la cantidad de carreras\n",
        "    geom_bar(stat = \"identity\") +\n",
        "#Le ponemos las etiquetas a cada barra para poder ver mejor el valor que representa\n",
        "    geom_text(aes(label = runs),vjust = -0.5,color = \"black\",size = 3) +\n",
        "#Establecemos el título del gráfico y los de los ejes \"x\" y \"y\"\n",
        "  labs(title = \"Gráfico de Barras\", x = \"Equipos\", y = \"Número de Carreras\") +\n",
        "#Como no podemos ver bien los nombres de las ciudades vamos a modificar las etiquetas\n",
        "  theme(axis.text.x = element_text(angle = 45, hjust = 1))\n",
        "#Mostramos el gráfico\n",
        "print(grafico_barras)\n"
      ]
    },
    {
      "cell_type": "markdown",
      "metadata": {
        "id": "Ee5P49ztmrBW"
      },
      "source": [
        "A primera vista podemos clasificar a los equipos en cuatro grupos:  \n",
        "        1. Menos de 500 carreras.  \n",
        "        2. De 500 a 600 carreras.  \n",
        "        3. De 600 a 700 carreras.  \n",
        "        4. Mas de 700 carreras.  \n",
        "Notamos que la mayoría de los equipos se situan en el grupo 2 y 3, siendo solo 6 equipos los que se encuentran fuera de estos grupos, 3 en el grupo 1 y 3 en el grupo 4."
      ]
    },
    {
      "cell_type": "code",
      "execution_count": null,
      "metadata": {
        "scrolled": false,
        "id": "svWXpL29mrBW",
        "outputId": "8db8b893-527e-44b7-a566-812cd70773bb"
      },
      "outputs": [
        {
          "data": {
            "image/png": "[encoded data removed]",
            "text/plain": [
              "plot without title"
            ]
          },
          "metadata": {
            "image/png": {
              "height": 420,
              "width": 420
            }
          },
          "output_type": "display_data"
        }
      ],
      "source": [
        "#Vamos a hacer otro gráfico, esta vez de dispersion entre las carreras y el número de bateos\n",
        "grafico_dispersion = ggplot(beisbol, aes(x = numero_bateos, y = runs)) +\n",
        "#Establecemos que el gráfico va a ser de dispersión\n",
        "  geom_point(color = \"red\") +\n",
        "#Declaramos los títulos del gráfico, y de los ejes \"x\" y \"y\"\n",
        "  labs(title = \"Gráfico de Dispersión\", x = \"Número de Bateos\", y = \"Número de Carreras\")\n",
        "#Mostramos el gráfico\n",
        "print(grafico_dispersion)\n"
      ]
    },
    {
      "cell_type": "markdown",
      "metadata": {
        "id": "gi5uH1KQmrBX"
      },
      "source": [
        "En el gráfico anterior podemos notar que a medida que aumenta el número de bateos tambien lo hace el número de carreras, lo cual puede sugerir una relacion lineal con pendiente positiva."
      ]
    },
    {
      "cell_type": "markdown",
      "metadata": {
        "id": "qlEjZvpImrBX"
      },
      "source": [
        "**Medidas de tendencia central**"
      ]
    },
    {
      "cell_type": "markdown",
      "metadata": {
        "id": "UJ5cVgCkmrBX"
      },
      "source": [
        "Media"
      ]
    },
    {
      "cell_type": "code",
      "execution_count": null,
      "metadata": {
        "scrolled": true,
        "id": "g9y7yoArmrBY",
        "outputId": "00b362b5-12b3-48a6-e563-b241d8c1c34e"
      },
      "outputs": [
        {
          "data": {
            "text/html": [
              "5523.5"
            ],
            "text/latex": [
              "5523.5"
            ],
            "text/markdown": [
              "5523.5"
            ],
            "text/plain": [
              "[1] 5523.5"
            ]
          },
          "metadata": {},
          "output_type": "display_data"
        },
        {
          "data": {
            "text/html": [
              "693.6"
            ],
            "text/latex": [
              "693.6"
            ],
            "text/markdown": [
              "693.6"
            ],
            "text/plain": [
              "[1] 693.6"
            ]
          },
          "metadata": {},
          "output_type": "display_data"
        }
      ],
      "source": [
        "#Obtenemos la media del número de bateos y de las carreras que son variables numéricas\n",
        "mean(beisbol$numero_bateos)\n",
        "mean(beisbol$runs)"
      ]
    },
    {
      "cell_type": "markdown",
      "metadata": {
        "id": "7beSh6XLmrBZ"
      },
      "source": [
        "Podemos observar que el promedio de bateos de la temporada fueron **5523.5** y el promedio de carreras fue **693.60**"
      ]
    },
    {
      "cell_type": "markdown",
      "metadata": {
        "id": "HjG77SSomrBa"
      },
      "source": [
        "Moda  \n",
        "R no tiene una función propia para calcular la moda, pero lo modemos hacer manualmente"
      ]
    },
    {
      "cell_type": "code",
      "execution_count": null,
      "metadata": {
        "id": "thyOGzQtmrBa",
        "outputId": "4d04d4f9-c375-483b-9658-8d63a54a880a"
      },
      "outputs": [
        {
          "data": {
            "text/html": [
              "5421"
            ],
            "text/latex": [
              "5421"
            ],
            "text/markdown": [
              "5421"
            ],
            "text/plain": [
              "[1] 5421"
            ]
          },
          "metadata": {},
          "output_type": "display_data"
        }
      ],
      "source": [
        "#Creamos una tabla de frecuencias que nos cuente las veces que se repite un valor\n",
        "tabla_bateos = table(beisbol$numero_bateos)\n",
        "#En la variable moda vamos a tomar el elemento que mas se repite y tomamos su índice\n",
        "#transformandolo en número\n",
        "moda = as.numeric(names(tabla_bateos[tabla_bateos == max(tabla_bateos)]))\n",
        "moda"
      ]
    },
    {
      "cell_type": "markdown",
      "metadata": {
        "id": "FYN-408SmrBa"
      },
      "source": [
        "La estadística de bateos que mas se presentó en la temporada fue de 5421 bateos"
      ]
    },
    {
      "cell_type": "code",
      "execution_count": null,
      "metadata": {
        "scrolled": true,
        "id": "bbsd5-2rmrBb",
        "outputId": "3eee1d88-bcfc-4a3d-ddc8-6533b1dfeecf"
      },
      "outputs": [
        {
          "data": {
            "text/html": [
              "<style>\n",
              ".list-inline {list-style: none; margin:0; padding: 0}\n",
              ".list-inline>li {display: inline-block}\n",
              ".list-inline>li:not(:last-child)::after {content: \"\\00b7\"; padding: 0 .5ex}\n",
              "</style>\n",
              "<ol class=list-inline><li>654</li><li>735</li></ol>\n"
            ],
            "text/latex": [
              "\\begin{enumerate*}\n",
              "\\item 654\n",
              "\\item 735\n",
              "\\end{enumerate*}\n"
            ],
            "text/markdown": [
              "1. 654\n",
              "2. 735\n",
              "\n",
              "\n"
            ],
            "text/plain": [
              "[1] 654 735"
            ]
          },
          "metadata": {},
          "output_type": "display_data"
        }
      ],
      "source": [
        "#Realizamos el mismo proceso que en anterior\n",
        "tabla_runs = table(beisbol$runs)\n",
        "moda = as.numeric(names(tabla_runs[tabla_runs == max(tabla_runs)]))\n",
        "moda"
      ]
    },
    {
      "cell_type": "markdown",
      "metadata": {
        "id": "rJbaVKbGmrBb"
      },
      "source": [
        "La cantidad de carreras de los equipos que mas se presentaron en la temporada fueron 654 y 735"
      ]
    },
    {
      "cell_type": "markdown",
      "metadata": {
        "id": "rINdphZfmrBb"
      },
      "source": [
        "Mediana"
      ]
    },
    {
      "cell_type": "code",
      "execution_count": null,
      "metadata": {
        "id": "0k8xmpv_mrBb",
        "outputId": "cee12658-2a93-411c-b9dd-c53a61e37106"
      },
      "outputs": [
        {
          "data": {
            "text/html": [
              "5515.5"
            ],
            "text/latex": [
              "5515.5"
            ],
            "text/markdown": [
              "5515.5"
            ],
            "text/plain": [
              "[1] 5515.5"
            ]
          },
          "metadata": {},
          "output_type": "display_data"
        },
        {
          "data": {
            "text/html": [
              "705.5"
            ],
            "text/latex": [
              "705.5"
            ],
            "text/markdown": [
              "705.5"
            ],
            "text/plain": [
              "[1] 705.5"
            ]
          },
          "metadata": {},
          "output_type": "display_data"
        }
      ],
      "source": [
        "#Obtenemos la mediana de las variables numero de bateos y carreras\n",
        "median(beisbol$numero_bateos)\n",
        "median(beisbol$runs)"
      ]
    },
    {
      "cell_type": "markdown",
      "metadata": {
        "id": "Jd1kQc0HmrBb"
      },
      "source": [
        "En el número de bateos 5515.50 se encuentra exactamente en la mitad de las observaciones, de la misma manera 705.50 para el numero de carreras"
      ]
    },
    {
      "cell_type": "markdown",
      "metadata": {
        "id": "HiYIipnrmrBb"
      },
      "source": [
        "**Medidas de posicion**"
      ]
    },
    {
      "cell_type": "code",
      "execution_count": null,
      "metadata": {
        "id": "6nfuhcbqmrBb",
        "outputId": "2895245b-ad04-4483-c295-7e5ee10bb82f"
      },
      "outputs": [
        {
          "data": {
            "text/plain": [
              "   equipos          numero_bateos       runs      \n",
              " Length:30          Min.   :5417   Min.   :556.0  \n",
              " Class :character   1st Qu.:5448   1st Qu.:629.0  \n",
              " Mode  :character   Median :5516   Median :705.5  \n",
              "                    Mean   :5524   Mean   :693.6  \n",
              "                    3rd Qu.:5575   3rd Qu.:734.0  \n",
              "                    Max.   :5710   Max.   :875.0  "
            ]
          },
          "metadata": {},
          "output_type": "display_data"
        }
      ],
      "source": [
        "#Obtenemos las principales medidas de posicion con la función summary\n",
        "summary(beisbol)"
      ]
    },
    {
      "cell_type": "markdown",
      "metadata": {
        "id": "ZOL63ReGmrBc"
      },
      "source": [
        "Podemos observar las principales medidas de posicion en las variables, al ser equipos una variable de tipo caracter nos presenta solo la longitud de esta, en el numero de bateos y las carreras podemos confirmar nuestra media y mediana obtenidas anteriormente, así como la dostribucion del primer y tercer cuartil respectivamente."
      ]
    },
    {
      "cell_type": "markdown",
      "metadata": {
        "id": "G6k4JRJgmrBc"
      },
      "source": [
        "Medidas de dispersion"
      ]
    },
    {
      "cell_type": "code",
      "execution_count": null,
      "metadata": {
        "scrolled": true,
        "id": "UYwOYspBmrBc",
        "outputId": "cb3945b4-23bf-4fa7-a531-e7e1623b5128"
      },
      "outputs": [
        {
          "data": {
            "text/html": [
              "293"
            ],
            "text/latex": [
              "293"
            ],
            "text/markdown": [
              "293"
            ],
            "text/plain": [
              "[1] 293"
            ]
          },
          "metadata": {},
          "output_type": "display_data"
        },
        {
          "data": {
            "text/html": [
              "319"
            ],
            "text/latex": [
              "319"
            ],
            "text/markdown": [
              "319"
            ],
            "text/plain": [
              "[1] 319"
            ]
          },
          "metadata": {},
          "output_type": "display_data"
        }
      ],
      "source": [
        "#Obtenemos el rango de nuestras columnas de bateos y carreras obteniendo la resta entre el valor\n",
        "#máximo y el valor mínimo\n",
        "diff(range(beisbol$numero_bateos))\n",
        "diff(range(beisbol$runs))"
      ]
    },
    {
      "cell_type": "markdown",
      "metadata": {
        "id": "0H6HmjwZmrBe"
      },
      "source": [
        "Entre el valor máximo y mínimo de bateos hay 293 bateos de diferencia y entre el valor máximo y mínimo de carreras hay 319 de diferencia"
      ]
    },
    {
      "cell_type": "code",
      "execution_count": null,
      "metadata": {
        "id": "WGeKulwUmrBe",
        "outputId": "5a916ec7-4f8c-4aa1-8dd0-72e78e7a2780"
      },
      "outputs": [
        {
          "data": {
            "text/html": [
              "126.75"
            ],
            "text/latex": [
              "126.75"
            ],
            "text/markdown": [
              "126.75"
            ],
            "text/plain": [
              "[1] 126.75"
            ]
          },
          "metadata": {},
          "output_type": "display_data"
        },
        {
          "data": {
            "text/html": [
              "105"
            ],
            "text/latex": [
              "105"
            ],
            "text/markdown": [
              "105"
            ],
            "text/plain": [
              "[1] 105"
            ]
          },
          "metadata": {},
          "output_type": "display_data"
        }
      ],
      "source": [
        "#Obtenemos el rango intercuartílico con la función IQR\n",
        "IQR(beisbol$numero_bateos)\n",
        "IQR(beisbol$runs)"
      ]
    },
    {
      "cell_type": "markdown",
      "metadata": {
        "id": "nv-Tj2lamrBe"
      },
      "source": [
        "El rango intercuartílico nos indica la diferencia entre el tercer y primer cuartil, para el caso de la columna número de bateos es de 126.75 y para el numero de carreras es 105, aquí podemos observar que si bien el rango de carreras fue mayor según la anterior medida de dispersión esto se invirtío en este caso sugiriendo que estos valores se encuentran menos dispersos que el numero bateos."
      ]
    },
    {
      "cell_type": "code",
      "execution_count": null,
      "metadata": {
        "scrolled": true,
        "id": "zxdIDr3pmrBe",
        "outputId": "8a05ddf8-6c53-4e1d-ba83-43cbe4290c5b"
      },
      "outputs": [
        {
          "data": {
            "text/html": [
              "6379.70689655172"
            ],
            "text/latex": [
              "6379.70689655172"
            ],
            "text/markdown": [
              "6379.70689655172"
            ],
            "text/plain": [
              "[1] 6379.707"
            ]
          },
          "metadata": {},
          "output_type": "display_data"
        },
        {
          "data": {
            "text/html": [
              "6802.8"
            ],
            "text/latex": [
              "6802.8"
            ],
            "text/markdown": [
              "6802.8"
            ],
            "text/plain": [
              "[1] 6802.8"
            ]
          },
          "metadata": {},
          "output_type": "display_data"
        }
      ],
      "source": [
        "#Obtenemos la varianza de nuestras columnas numéricas.\n",
        "var(beisbol$numero_bateos)\n",
        "var(beisbol$runs)"
      ]
    },
    {
      "cell_type": "markdown",
      "metadata": {
        "id": "NjFLhOjvmrBf"
      },
      "source": [
        "Notamos que los valores de nuestra varianza son muy altos lo que indica una gran dispersión de los datos respecto a la media"
      ]
    },
    {
      "cell_type": "code",
      "execution_count": null,
      "metadata": {
        "scrolled": true,
        "id": "qWhXPq4KmrBf",
        "outputId": "3dc17089-3099-4dbf-e26d-60e32b14060b"
      },
      "outputs": [
        {
          "data": {
            "text/html": [
              "79.873067404174"
            ],
            "text/latex": [
              "79.873067404174"
            ],
            "text/markdown": [
              "79.873067404174"
            ],
            "text/plain": [
              "[1] 79.87307"
            ]
          },
          "metadata": {},
          "output_type": "display_data"
        },
        {
          "data": {
            "text/html": [
              "82.4790882587823"
            ],
            "text/latex": [
              "82.4790882587823"
            ],
            "text/markdown": [
              "82.4790882587823"
            ],
            "text/plain": [
              "[1] 82.47909"
            ]
          },
          "metadata": {},
          "output_type": "display_data"
        }
      ],
      "source": [
        "#Procedemos a obtener la desviación estandar con la función sd\n",
        "sd(beisbol$numero_bateos)\n",
        "sd(beisbol$runs)"
      ]
    },
    {
      "cell_type": "markdown",
      "metadata": {
        "id": "n3OPblG3mrBf"
      },
      "source": [
        "La desviacion estandar es una medida mas clara de la dispersión de los datos, aquí podemos notar que si bien a simple vista las desviaciones son similaes, si las escalamos con nuestras columnas, vemos que la escala de el número de bateos va desde *min = 5417* hasta *max = 5710* esto nos indica que la desviacion promedio de los valores respecto de la media no es tan grande en este caso.\n",
        "\n",
        "Por otro lado en la columna runs si tenemos una desviación muy grande ya que la escala va desde *min = 556* a *max = 875* lo cual nos muestra una significativa dispersión de los datos"
      ]
    },
    {
      "cell_type": "markdown",
      "metadata": {
        "id": "xwF-un-ymrBf"
      },
      "source": [
        "**Medidas de forma**"
      ]
    },
    {
      "cell_type": "code",
      "execution_count": null,
      "metadata": {
        "scrolled": true,
        "id": "OSTrs7ILmrBg",
        "outputId": "96dc1739-a4c9-42db-8a1f-a4eda146def2"
      },
      "outputs": [
        {
          "name": "stdout",
          "output_type": "stream",
          "text": [
            "\n",
            "  There is a binary version available but the source version is later:\n",
            "      binary source needs_compilation\n",
            "e1071 1.7-13 1.7-14              TRUE\n",
            "\n",
            "  Binaries will be installed\n",
            "package 'e1071' successfully unpacked and MD5 sums checked\n"
          ]
        },
        {
          "name": "stderr",
          "output_type": "stream",
          "text": [
            "Warning message:\n",
            "\"cannot remove prior installation of package 'e1071'\"\n",
            "Warning message in file.copy(savedcopy, lib, recursive = TRUE):\n",
            "\"problema al copiar C:\\Users\\William\\anaconda3\\envs\\r4-base\\lib\\R\\library\\00LOCK\\e1071\\libs\\x64\\e1071.dll  a C:\\Users\\William\\anaconda3\\envs\\r4-base\\lib\\R\\library\\e1071\\libs\\x64\\e1071.dll: Permission denied\"\n",
            "Warning message:\n",
            "\"restored 'e1071'\"\n"
          ]
        },
        {
          "name": "stdout",
          "output_type": "stream",
          "text": [
            "\n",
            "The downloaded binary packages are in\n",
            "\tC:\\Users\\William\\AppData\\Local\\Temp\\Rtmpkbps60\\downloaded_packages\n"
          ]
        },
        {
          "data": {
            "text/html": [
              "0.462290751613149"
            ],
            "text/latex": [
              "0.462290751613149"
            ],
            "text/markdown": [
              "0.462290751613149"
            ],
            "text/plain": [
              "[1] 0.4622908"
            ]
          },
          "metadata": {},
          "output_type": "display_data"
        },
        {
          "data": {
            "text/html": [
              "0.519943977425978"
            ],
            "text/latex": [
              "0.519943977425978"
            ],
            "text/markdown": [
              "0.519943977425978"
            ],
            "text/plain": [
              "[1] 0.519944"
            ]
          },
          "metadata": {},
          "output_type": "display_data"
        }
      ],
      "source": [
        "#Instalamos la libreria e1071 que contiene las funciones skewness y kurtosis\n",
        "install.packages(\"e1071\")\n",
        "library(e1071)\n",
        "#Usamos la funcion skewness para encontrar su coeficiente de asimetría\n",
        "skewness(beisbol$numero_bateos)\n",
        "skewness(beisbol$runs)"
      ]
    },
    {
      "cell_type": "markdown",
      "metadata": {
        "id": "8tFol4jnmrBg"
      },
      "source": [
        "Podemos ver que ambas columnas tienen un coeficiente de asimetría positivo es decir que tanto para el número de bateos como para el número de carreras, estas tienden a ser mayores que el promedio de todas la carreras y bateos"
      ]
    },
    {
      "cell_type": "code",
      "execution_count": null,
      "metadata": {
        "scrolled": true,
        "id": "it-alZqImrBg",
        "outputId": "7446827e-f80e-4c40-bd5b-04f6dfa2fc2e"
      },
      "outputs": [
        {
          "data": {
            "text/html": [
              "-0.644721573061496"
            ],
            "text/latex": [
              "-0.644721573061496"
            ],
            "text/markdown": [
              "-0.644721573061496"
            ],
            "text/plain": [
              "[1] -0.6447216"
            ]
          },
          "metadata": {},
          "output_type": "display_data"
        },
        {
          "data": {
            "text/html": [
              "-0.361793280281738"
            ],
            "text/latex": [
              "-0.361793280281738"
            ],
            "text/markdown": [
              "-0.361793280281738"
            ],
            "text/plain": [
              "[1] -0.3617933"
            ]
          },
          "metadata": {},
          "output_type": "display_data"
        }
      ],
      "source": [
        "#Obtenemos la kurtosis de nuestras columnas\n",
        "kurtosis(beisbol$numero_bateos)\n",
        "kurtosis(beisbol$runs)"
      ]
    },
    {
      "cell_type": "markdown",
      "metadata": {
        "id": "43O9emxsmrBh"
      },
      "source": [
        "Por otro lado el coeficiente de kurtosis nos indica que estamos ante una curva platicurtica, esto quiere decir que los valores se encuentran dispersos como ya observamos en las medidas de dispersión las cuales nos indicaron una significativa dispersión de los valores respecto a la media.\n",
        "\n",
        "Vamos a confirmar esto realizando histogramas de nuestras columnas para ver que su distribución no sigue estrictamente la de una curva normal pero tampoco se aleja mucho de ella."
      ]
    },
    {
      "cell_type": "code",
      "execution_count": null,
      "metadata": {
        "id": "TQTL9hWImrBh",
        "outputId": "084032b4-4838-40fb-e8bc-6cd6d8923187"
      },
      "outputs": [
        {
          "data": {
            "image/png": "[encoded data removed]",
            "text/plain": [
              "Plot with title \"Histogram of beisbol$runs\""
            ]
          },
          "metadata": {
            "image/png": {
              "height": 420,
              "width": 420
            }
          },
          "output_type": "display_data"
        }
      ],
      "source": [
        "par(mfrow = c(1, 2))\n",
        "hist(beisbol$numero_bateos)\n",
        "hist(beisbol$runs)"
      ]
    },
    {
      "cell_type": "markdown",
      "metadata": {
        "id": "Q2JWfUKnmrBh"
      },
      "source": [
        "<div style=\"background-color:#5DADE2\"><b>Apartado 2</b></div>"
      ]
    },
    {
      "cell_type": "markdown",
      "metadata": {
        "id": "2eznYMOzmrBh"
      },
      "source": [
        "**Contraste de bondad de ajuste**"
      ]
    },
    {
      "cell_type": "code",
      "execution_count": null,
      "metadata": {
        "scrolled": false,
        "id": "55kBMP6JmrBh",
        "outputId": "bd5c9db4-df65-4d91-b19a-fb25b3aa96d6"
      },
      "outputs": [
        {
          "data": {
            "image/png": "[encoded data removed]",
            "text/plain": [
              "Plot with title \"Histogram of beisbol$runs\""
            ]
          },
          "metadata": {
            "image/png": {
              "height": 420,
              "width": 420
            }
          },
          "output_type": "display_data"
        }
      ],
      "source": [
        "#Volvemos a generar nuestros histogramas\n",
        "par(mfrow = c(2, 1))\n",
        "hist(beisbol$numero_bateos)\n",
        "hist(beisbol$runs)"
      ]
    },
    {
      "cell_type": "markdown",
      "metadata": {
        "id": "bcWSMwtxmrBi"
      },
      "source": [
        "Podemos notar que, como se mencionó en el apartado anterior, si bien la distribución de los datos no se apega estrictamente a lo que esperaríamos si dibujamos una curva de distribución normal, esta no se aleja demasiado de este concepto"
      ]
    },
    {
      "cell_type": "code",
      "execution_count": null,
      "metadata": {
        "scrolled": true,
        "id": "CzbJzRoImrBi",
        "outputId": "6faf3d85-64c3-487a-8467-84b87ca73761"
      },
      "outputs": [
        {
          "data": {
            "text/plain": [
              "\n",
              "\tLilliefors (Kolmogorov-Smirnov) normality test\n",
              "\n",
              "data:  beisbol$numero_bateos\n",
              "D = 0.11465, p-value = 0.4004\n"
            ]
          },
          "metadata": {},
          "output_type": "display_data"
        },
        {
          "data": {
            "text/plain": [
              "\n",
              "\tLilliefors (Kolmogorov-Smirnov) normality test\n",
              "\n",
              "data:  beisbol$runs\n",
              "D = 0.11776, p-value = 0.3583\n"
            ]
          },
          "metadata": {},
          "output_type": "display_data"
        }
      ],
      "source": [
        "#Realizamos nuestro lillie.test para confirmar numéricamente si nuestras columnas siguen una\n",
        "#distribucion normal, para esto primero tenemos que cargar la libreria nortest\n",
        "library(nortest)\n",
        "lillie.test(beisbol$numero_bateos)\n",
        "lillie.test(beisbol$runs)"
      ]
    },
    {
      "cell_type": "markdown",
      "metadata": {
        "id": "jGXupYbLmrBi"
      },
      "source": [
        "Una vez aplicado el test de lillie observamos que para ambos casos su p-valor es superior al nivel de significancia del 5%, dado esto **NO** rechazamos nuestra hipótesis nula, es decir que ambas columnas siguen una distribución de tipo normal"
      ]
    },
    {
      "cell_type": "markdown",
      "metadata": {
        "id": "GqmfX9stmrBj"
      },
      "source": [
        "**Contraste para la media**"
      ]
    },
    {
      "cell_type": "code",
      "execution_count": null,
      "metadata": {
        "scrolled": true,
        "id": "zqPOeFCImrBj",
        "outputId": "da351c6d-33e1-4896-c278-784ac92c7475"
      },
      "outputs": [
        {
          "data": {
            "text/plain": [
              "\n",
              "\tBartlett test of homogeneity of variances\n",
              "\n",
              "data:  list(beisbol$numero_bateos, beisbol$runs)\n",
              "Bartlett's K-squared = 0.029381, df = 1, p-value = 0.8639\n"
            ]
          },
          "metadata": {},
          "output_type": "display_data"
        }
      ],
      "source": [
        "#Una vez tenemos reconocida nuestra distribucion vamos a realizar los contrastes para la media.\n",
        "#pero primero necesitamos realizar el test de Bartlett para escoger entre contraste\n",
        "#paramétrico o no paramétrico\n",
        "bartlett.test(list(beisbol$numero_bateos,beisbol$runs))"
      ]
    },
    {
      "cell_type": "markdown",
      "metadata": {
        "id": "m_m_6GramrBk"
      },
      "source": [
        "Realizado nuestro test de Barlett obtenemos un p-valor mucho mas alto que el 5% por lo cual **NO** rechazamos nuestra hipótesis nula y podemos decir que nuestras varianzas no difieren significativamente entre si, lo que nos da paso a poder realizar un contraste para la media de tipo **paramétrico**"
      ]
    },
    {
      "cell_type": "code",
      "execution_count": null,
      "metadata": {
        "scrolled": true,
        "id": "MQixQesvmrBk",
        "outputId": "e2e638cf-935b-47b7-e494-b52a2470c0e6"
      },
      "outputs": [
        {
          "data": {
            "text/plain": [
              "\n",
              "\tWelch Two Sample t-test\n",
              "\n",
              "data:  beisbol$numero_bateos and beisbol$runs\n",
              "t = 230.41, df = 57.94, p-value < 2.2e-16\n",
              "alternative hypothesis: true difference in means is not equal to 0\n",
              "95 percent confidence interval:\n",
              " 4787.939 4871.861\n",
              "sample estimates:\n",
              "mean of x mean of y \n",
              "   5523.5     693.6 \n"
            ]
          },
          "metadata": {},
          "output_type": "display_data"
        }
      ],
      "source": [
        "#Realizamos el test T de tipo paramétrico\n",
        "t.test(beisbol$numero_bateos,beisbol$runs)"
      ]
    },
    {
      "cell_type": "markdown",
      "metadata": {
        "id": "ivE2ut2nmrBk"
      },
      "source": [
        "Según nuestro test t de contraste para medias obtenemos que existe una clara diferencia entre la media de nuestro numero de bateos y la media del numero de carreras, esto dado por nuestro estadístico *p* el cual es mucho menor al 5%"
      ]
    },
    {
      "cell_type": "markdown",
      "metadata": {
        "id": "q-XYlInVmrBk"
      },
      "source": [
        "**Contraste de correlacion**"
      ]
    },
    {
      "cell_type": "code",
      "execution_count": null,
      "metadata": {
        "scrolled": true,
        "id": "T6vssjRBmrBl",
        "outputId": "523cf038-05f3-4c98-e6b6-7b607077dcd5"
      },
      "outputs": [
        {
          "data": {
            "text/html": [
              "0.610627046720669"
            ],
            "text/latex": [
              "0.610627046720669"
            ],
            "text/markdown": [
              "0.610627046720669"
            ],
            "text/plain": [
              "[1] 0.610627"
            ]
          },
          "metadata": {},
          "output_type": "display_data"
        }
      ],
      "source": [
        "#Terminamos los contrastes de hipótesis con el contraste de correlación, para este caso\n",
        "#usaremos el contraste de correlacion de pearson ya que como hemos demostrado en puntos anteriores\n",
        "#demostramos que existe normalidad en la distribucion de nuestros valores\n",
        "cor(beisbol$numero_bateos,beisbol$runs, method = \"pearson\")"
      ]
    },
    {
      "cell_type": "markdown",
      "metadata": {
        "id": "eOF3udL6mrBl"
      },
      "source": [
        "Al ser un contraste entre dos columnas este test nos entrega un solo valor, para este caso específico observamos que es positivo y ligeramente alto por lo que podemos asumir que existe una correlacion entre el número de bateos y las carreras, ahora vamos a contrastar este valor calculando su significatividad lo cual nos dirá si podemos tomar por cierto este valor o no"
      ]
    },
    {
      "cell_type": "code",
      "execution_count": null,
      "metadata": {
        "scrolled": true,
        "id": "c9PSi398mrBl",
        "outputId": "ce0919d9-764a-4fb5-b318-8dd620957747"
      },
      "outputs": [
        {
          "data": {
            "text/plain": [
              "\n",
              "\tPearson's product-moment correlation\n",
              "\n",
              "data:  beisbol$numero_bateos and beisbol$runs\n",
              "t = 4.0801, df = 28, p-value = 0.0003388\n",
              "alternative hypothesis: true correlation is not equal to 0\n",
              "95 percent confidence interval:\n",
              " 0.3209675 0.7958231\n",
              "sample estimates:\n",
              "     cor \n",
              "0.610627 \n"
            ]
          },
          "metadata": {},
          "output_type": "display_data"
        }
      ],
      "source": [
        "cor.test(beisbol$numero_bateos,beisbol$runs, method = \"pearson\")"
      ]
    },
    {
      "cell_type": "markdown",
      "metadata": {
        "id": "7TloO7AEmrBl"
      },
      "source": [
        "De acuerdo al resultado de nuestro test de correlacion obtenemos un p-valor mucho menor al 5%, en consecuencia podemos **rechazar** nuestra hipótesis nula en favor de la hipótesis alternativa siendo entonces que si existe una relación positiva fuerte entre el número de bateos y el número de carreras obtenidas en la temporada, entonces, entre mas bateos se presenten por equipo, mas carreras se lograran en la temporada"
      ]
    },
    {
      "cell_type": "code",
      "execution_count": null,
      "metadata": {
        "id": "X8S1gAtxmrBm",
        "outputId": "aa5cd76f-6231-424f-fc93-1d9e6fc47706"
      },
      "outputs": [
        {
          "data": {
            "image/png": "[encoded data removed]",
            "text/plain": [
              "plot without title"
            ]
          },
          "metadata": {
            "image/png": {
              "height": 420,
              "width": 420
            }
          },
          "output_type": "display_data"
        }
      ],
      "source": [
        "#Usamos ggplot para poder obtener una vision de esta correlacion.\n",
        "ggplot(data = beisbol, aes(x = numero_bateos, y = runs)) +\n",
        "       geom_point(colour = \"red4\") +\n",
        "       ggtitle(\"Diagrama de dispersión\") +\n",
        "       theme_bw() +\n",
        "       theme(plot.title = element_text(hjust = 0.5))"
      ]
    },
    {
      "cell_type": "markdown",
      "metadata": {
        "id": "wbTi2GA8mrBm"
      },
      "source": [
        "Confirmamos lo que ya habíamos observado en la etapa de exploracion de datos y es que por la represntacion gráfica de los datos podíamos asumir que existía una relacion positiva entre ellas, ahora ya queda demotrado a través de su coeficiente de correlacion y apoyado en su nivel de significación"
      ]
    },
    {
      "cell_type": "markdown",
      "metadata": {
        "id": "XA4G8qOHmrBn"
      },
      "source": [
        "<div style=\"background-color:#5DADE2\"><b>Apartado 3</b></div>"
      ]
    },
    {
      "cell_type": "markdown",
      "metadata": {
        "id": "_xZ6lv-9mrBn"
      },
      "source": [
        "**Estimacion de modelo de regresion simple**"
      ]
    },
    {
      "cell_type": "code",
      "execution_count": null,
      "metadata": {
        "id": "dM5Qrf8hmrBn",
        "outputId": "4817dd5a-5ed2-452f-ad68-fccc8c60a15c"
      },
      "outputs": [
        {
          "data": {
            "image/png": "[encoded data removed]",
            "text/plain": [
              "Plot with title \"Número de bateos vs Número de carreras\""
            ]
          },
          "metadata": {
            "image/png": {
              "height": 420,
              "width": 420
            }
          },
          "output_type": "display_data"
        }
      ],
      "source": [
        "#Realizamos un gráfico esta vez con scatter el cual además nos dibuja una posible linea de regresión para este conjunto de datos\n",
        "scatter.smooth(x = beisbol$numero_bateos, y = beisbol$runs, main = \"Número de bateos vs Número de carreras\")"
      ]
    },
    {
      "cell_type": "code",
      "execution_count": null,
      "metadata": {
        "scrolled": true,
        "id": "E0stNcXimrBn",
        "outputId": "f7ae160f-f6f1-4eaf-e662-90267e7f6001"
      },
      "outputs": [
        {
          "data": {
            "text/plain": [
              "\n",
              "Call:\n",
              "lm(formula = beisbol$runs ~ beisbol$numero_bateos)\n",
              "\n",
              "Coefficients:\n",
              "          (Intercept)  beisbol$numero_bateos  \n",
              "           -2789.2429                 0.6305  \n"
            ]
          },
          "metadata": {},
          "output_type": "display_data"
        }
      ],
      "source": [
        "#Corremos nuestro modelo de regresion lineal en nuestros datos seleccionados\n",
        "modelo = lm(beisbol$runs ~ beisbol$numero_bateos)\n",
        "modelo"
      ]
    },
    {
      "cell_type": "markdown",
      "metadata": {
        "id": "SZiz_UosmrBw"
      },
      "source": [
        "Ya tenemos estimado nuestro modelo de regresion simple, en este caso relacionando el número de carreras vs el número de bateos, siendo -2789.24 el número de carreras cuando existen 0 bateos (lo cual es nuestro intercepto con el eje *x* y en el mundo real no representaría una situación posible) y 0.6305 es el coeficiente de el número de bateos, lo que nos indica que por cada unidad que incremente el número de bateos nuestro número de carreras aumentará en 0.6305"
      ]
    },
    {
      "cell_type": "markdown",
      "metadata": {
        "id": "hOPh_66XmrBw"
      },
      "source": [
        "<div style=\"background-color:#5DADE2\"><b>Apartado 4</b></div>"
      ]
    },
    {
      "cell_type": "code",
      "execution_count": null,
      "metadata": {
        "id": "dj9QBq6pmrBw",
        "outputId": "440bcdf8-1635-4137-fb8c-3116876e8883"
      },
      "outputs": [
        {
          "data": {
            "text/plain": [
              "\n",
              "Call:\n",
              "lm(formula = beisbol$runs ~ beisbol$numero_bateos)\n",
              "\n",
              "Residuals:\n",
              "    Min      1Q  Median      3Q     Max \n",
              "-125.58  -47.05  -16.59   54.40  176.87 \n",
              "\n",
              "Coefficients:\n",
              "                        Estimate Std. Error t value Pr(>|t|)    \n",
              "(Intercept)           -2789.2429   853.6957  -3.267 0.002871 ** \n",
              "beisbol$numero_bateos     0.6305     0.1545   4.080 0.000339 ***\n",
              "---\n",
              "Signif. codes:  0 '***' 0.001 '**' 0.01 '*' 0.05 '.' 0.1 ' ' 1\n",
              "\n",
              "Residual standard error: 66.47 on 28 degrees of freedom\n",
              "Multiple R-squared:  0.3729,\tAdjusted R-squared:  0.3505 \n",
              "F-statistic: 16.65 on 1 and 28 DF,  p-value: 0.0003388\n"
            ]
          },
          "metadata": {},
          "output_type": "display_data"
        }
      ],
      "source": [
        "#Extraemos el resumen de los valores de nuestro modelo\n",
        "output = summary(modelo)\n",
        "output"
      ]
    },
    {
      "cell_type": "markdown",
      "metadata": {
        "id": "vDVSRjSMmrBx"
      },
      "source": [
        "Extraemos un resumen de la informacion de nuestro modelo, y lo guardamos en la variable output, entre los valores que podemos reconocer vemos:  \n",
        "**1.** La fórmula utilizada *formula = (beisbol $ runs ~ beisbol $ numero_bateos)* es decir que estamos explicando la columna runs en funcion de numero_bateos  \n",
        "**2.** Los coeficientes de nuestra formula siendo -2789.2429 para beta cero y 0.6305 para beta uno  \n",
        "**3.** La desviacion estandar 853.6957 para beta cero y 0.1545 para beta uno  \n",
        "**4.** El estimador t que nos sirve para contrastar nuestra hipótesis nula, en este caso ambos son menores que el 5% lo cual nos dice que el valor estimado como resultado de nuestro modelo lineal es estadísticamente significativo  \n",
        "**5.** El Residual standard error cuyo valor es 66.47  \n",
        "**6.** Y los grados de libertad que son iguales a 28"
      ]
    },
    {
      "cell_type": "code",
      "execution_count": null,
      "metadata": {
        "id": "acK0bnqVmrBx",
        "outputId": "1d346edb-43ab-44ce-fdaf-d141334fce22"
      },
      "outputs": [
        {
          "data": {
            "text/html": [
              "<table class=\"dataframe\">\n",
              "<caption>A matrix: 2 × 4 of type dbl</caption>\n",
              "<thead>\n",
              "\t<tr><th></th><th scope=col>Estimate</th><th scope=col>Std. Error</th><th scope=col>t value</th><th scope=col>Pr(&gt;|t|)</th></tr>\n",
              "</thead>\n",
              "<tbody>\n",
              "\t<tr><th scope=row>(Intercept)</th><td>-2789.24289</td><td>853.6957215</td><td>-3.267256</td><td>0.0028705508</td></tr>\n",
              "\t<tr><th scope=row>beisbol$numero_bateos</th><td>    0.63055</td><td>  0.1545414</td><td> 4.080136</td><td>0.0003388351</td></tr>\n",
              "</tbody>\n",
              "</table>\n"
            ],
            "text/latex": [
              "A matrix: 2 × 4 of type dbl\n",
              "\\begin{tabular}{r|llll}\n",
              "  & Estimate & Std. Error & t value & Pr(>\\textbar{}t\\textbar{})\\\\\n",
              "\\hline\n",
              "\t(Intercept) & -2789.24289 & 853.6957215 & -3.267256 & 0.0028705508\\\\\n",
              "\tbeisbol\\$numero\\_bateos &     0.63055 &   0.1545414 &  4.080136 & 0.0003388351\\\\\n",
              "\\end{tabular}\n"
            ],
            "text/markdown": [
              "\n",
              "A matrix: 2 × 4 of type dbl\n",
              "\n",
              "| <!--/--> | Estimate | Std. Error | t value | Pr(&gt;|t|) |\n",
              "|---|---|---|---|---|\n",
              "| (Intercept) | -2789.24289 | 853.6957215 | -3.267256 | 0.0028705508 |\n",
              "| beisbol$numero_bateos |     0.63055 |   0.1545414 |  4.080136 | 0.0003388351 |\n",
              "\n"
            ],
            "text/plain": [
              "                      Estimate    Std. Error  t value   Pr(>|t|)    \n",
              "(Intercept)           -2789.24289 853.6957215 -3.267256 0.0028705508\n",
              "beisbol$numero_bateos     0.63055   0.1545414  4.080136 0.0003388351"
            ]
          },
          "metadata": {},
          "output_type": "display_data"
        }
      ],
      "source": [
        "#Extraemos los coeficientes de nuestro modelo\n",
        "output$coef"
      ]
    },
    {
      "cell_type": "markdown",
      "metadata": {
        "id": "j4YgicpZmrBx"
      },
      "source": [
        "Para nuestro modelo de regresion lineal tenemos dos coeficientes estimados siendo -2789.24289 el coeficiente de las carreras y 0.63055 el coeficiente para el numero de bateos, esto nos quiere decir que nuestro valor base si no existiese ningún bateo es de -2789.24289 carreras, mientras que el segundo coeficiente representa la proporción en la cual aumenta el número de carreras por cada incremento en el número de bateos, lo cual confirma que existe una relacion directa entre estas dos columnas."
      ]
    },
    {
      "cell_type": "code",
      "execution_count": null,
      "metadata": {
        "scrolled": false,
        "id": "vRzoF7XpmrBx",
        "outputId": "9685154c-c93c-4dde-efcd-58500caa6533"
      },
      "outputs": [
        {
          "data": {
            "text/html": [
              "<style>\n",
              ".dl-inline {width: auto; margin:0; padding: 0}\n",
              ".dl-inline>dt, .dl-inline>dd {float: none; width: auto; display: inline-block}\n",
              ".dl-inline>dt::after {content: \":\\0020\"; padding-right: .5ex}\n",
              ".dl-inline>dt:not(:first-of-type) {padding-left: .5ex}\n",
              "</style><dl class=dl-inline><dt>1</dt><dd>779.039524029587</dd><dt>2</dt><dd>811.19757366434</dd><dt>3</dt><dd>718.506724717112</dd><dt>4</dt><dd>787.236673936485</dd><dt>5</dt><dd>698.959674939125</dd><dt>6</dt><dd>741.837074452129</dd></dl>\n"
            ],
            "text/latex": [
              "\\begin{description*}\n",
              "\\item[1] 779.039524029587\n",
              "\\item[2] 811.19757366434\n",
              "\\item[3] 718.506724717112\n",
              "\\item[4] 787.236673936485\n",
              "\\item[5] 698.959674939125\n",
              "\\item[6] 741.837074452129\n",
              "\\end{description*}\n"
            ],
            "text/markdown": [
              "1\n",
              ":   779.0395240295872\n",
              ":   811.197573664343\n",
              ":   718.5067247171124\n",
              ":   787.2366739364855\n",
              ":   698.9596749391256\n",
              ":   741.837074452129\n",
              "\n"
            ],
            "text/plain": [
              "       1        2        3        4        5        6 \n",
              "779.0395 811.1976 718.5067 787.2367 698.9597 741.8371 "
            ]
          },
          "metadata": {},
          "output_type": "display_data"
        }
      ],
      "source": [
        "#Ahora vamos a obtener los valores estimados de nuestro modelo\n",
        "head(modelo$fitted.values)"
      ]
    },
    {
      "cell_type": "markdown",
      "metadata": {
        "id": "Um76XkismrBy"
      },
      "source": [
        "Los valores estimados son aquellos que nuestro modelo calcula se ajustan mejor a la recta de regresión, no son datos resultado de una predicción si no mas bien los puntos en los cuales el modelo ajusta la recta que de acuerdo a nuestros parámetros se ajusta de mejor manera para explicar los valores de cada observacion, al ser valores estimados se considera que pueden existir variaciones con los valores reales, si observamos los 5 primeros valores de nuestros datos originales vamos a apreciar que difieren de nuestros valores estimados"
      ]
    },
    {
      "cell_type": "code",
      "execution_count": null,
      "metadata": {
        "id": "gbXvO4hrmrBy",
        "outputId": "410f7000-8847-43de-a14e-cc168930f5f1"
      },
      "outputs": [
        {
          "data": {
            "text/html": [
              "<table class=\"dataframe\">\n",
              "<caption>A data.frame: 6 × 3</caption>\n",
              "<thead>\n",
              "\t<tr><th></th><th scope=col>equipos</th><th scope=col>numero_bateos</th><th scope=col>runs</th></tr>\n",
              "\t<tr><th></th><th scope=col>&lt;chr&gt;</th><th scope=col>&lt;dbl&gt;</th><th scope=col>&lt;dbl&gt;</th></tr>\n",
              "</thead>\n",
              "<tbody>\n",
              "\t<tr><th scope=row>1</th><td>Texas  </td><td>5659</td><td>855</td></tr>\n",
              "\t<tr><th scope=row>2</th><td>Boston </td><td>5710</td><td>875</td></tr>\n",
              "\t<tr><th scope=row>3</th><td>Detroit</td><td>5563</td><td>787</td></tr>\n",
              "\t<tr><th scope=row>4</th><td>Kansas </td><td>5672</td><td>730</td></tr>\n",
              "\t<tr><th scope=row>5</th><td>St.    </td><td>5532</td><td>762</td></tr>\n",
              "\t<tr><th scope=row>6</th><td>New_S. </td><td>5600</td><td>718</td></tr>\n",
              "</tbody>\n",
              "</table>\n"
            ],
            "text/latex": [
              "A data.frame: 6 × 3\n",
              "\\begin{tabular}{r|lll}\n",
              "  & equipos & numero\\_bateos & runs\\\\\n",
              "  & <chr> & <dbl> & <dbl>\\\\\n",
              "\\hline\n",
              "\t1 & Texas   & 5659 & 855\\\\\n",
              "\t2 & Boston  & 5710 & 875\\\\\n",
              "\t3 & Detroit & 5563 & 787\\\\\n",
              "\t4 & Kansas  & 5672 & 730\\\\\n",
              "\t5 & St.     & 5532 & 762\\\\\n",
              "\t6 & New\\_S.  & 5600 & 718\\\\\n",
              "\\end{tabular}\n"
            ],
            "text/markdown": [
              "\n",
              "A data.frame: 6 × 3\n",
              "\n",
              "| <!--/--> | equipos &lt;chr&gt; | numero_bateos &lt;dbl&gt; | runs &lt;dbl&gt; |\n",
              "|---|---|---|---|\n",
              "| 1 | Texas   | 5659 | 855 |\n",
              "| 2 | Boston  | 5710 | 875 |\n",
              "| 3 | Detroit | 5563 | 787 |\n",
              "| 4 | Kansas  | 5672 | 730 |\n",
              "| 5 | St.     | 5532 | 762 |\n",
              "| 6 | New_S.  | 5600 | 718 |\n",
              "\n"
            ],
            "text/plain": [
              "  equipos numero_bateos runs\n",
              "1 Texas   5659          855 \n",
              "2 Boston  5710          875 \n",
              "3 Detroit 5563          787 \n",
              "4 Kansas  5672          730 \n",
              "5 St.     5532          762 \n",
              "6 New_S.  5600          718 "
            ]
          },
          "metadata": {},
          "output_type": "display_data"
        }
      ],
      "source": [
        "head(beisbol)"
      ]
    },
    {
      "cell_type": "code",
      "execution_count": null,
      "metadata": {
        "id": "RtL6ARn-mrBz",
        "outputId": "2a69e2ac-ce16-4d98-e228-cb43bd9886c1"
      },
      "outputs": [
        {
          "data": {
            "text/html": [
              "<style>\n",
              ".dl-inline {width: auto; margin:0; padding: 0}\n",
              ".dl-inline>dt, .dl-inline>dd {float: none; width: auto; display: inline-block}\n",
              ".dl-inline>dt::after {content: \":\\0020\"; padding-right: .5ex}\n",
              ".dl-inline>dt:not(:first-of-type) {padding-left: .5ex}\n",
              "</style><dl class=dl-inline><dt>1</dt><dd>75.960475970413</dd><dt>2</dt><dd>63.8024263356603</dd><dt>3</dt><dd>68.4932752828878</dd><dt>4</dt><dd>-57.236673936485</dd><dt>5</dt><dd>63.0403250608746</dd><dt>6</dt><dd>-23.8370744521287</dd></dl>\n"
            ],
            "text/latex": [
              "\\begin{description*}\n",
              "\\item[1] 75.960475970413\n",
              "\\item[2] 63.8024263356603\n",
              "\\item[3] 68.4932752828878\n",
              "\\item[4] -57.236673936485\n",
              "\\item[5] 63.0403250608746\n",
              "\\item[6] -23.8370744521287\n",
              "\\end{description*}\n"
            ],
            "text/markdown": [
              "1\n",
              ":   75.9604759704132\n",
              ":   63.80242633566033\n",
              ":   68.49327528288784\n",
              ":   -57.2366739364855\n",
              ":   63.04032506087466\n",
              ":   -23.8370744521287\n",
              "\n"
            ],
            "text/plain": [
              "        1         2         3         4         5         6 \n",
              " 75.96048  63.80243  68.49328 -57.23667  63.04033 -23.83707 "
            ]
          },
          "metadata": {},
          "output_type": "display_data"
        }
      ],
      "source": [
        "#Obtenemos los residuos estimados de nuestro modelo\n",
        "head(modelo$residuals)"
      ]
    },
    {
      "cell_type": "markdown",
      "metadata": {
        "id": "h18uAtagmrBz"
      },
      "source": [
        "Los residuos estimados los podemos entender como la diferencia entre el valor estimado y el valor real, para nuestro ejemplo tenemos valores que están en positivo (siendo aquellos en los que nuestro modelo obtuvo un valor menor al real) y valores que están en negativo (siendo aquellos en los que nuestro modelo tuvo un valor mayor al real). Podemos observar que si sumamos nuestro residuo estimado con el valor estimado por el modelo vamos a obtener el valor real de nuestros datos originales"
      ]
    },
    {
      "cell_type": "code",
      "execution_count": null,
      "metadata": {
        "id": "Lesj1OCQmrBz",
        "outputId": "546075f9-79a6-4087-f969-db8c81a75deb"
      },
      "outputs": [
        {
          "data": {
            "text/html": [
              "28"
            ],
            "text/latex": [
              "28"
            ],
            "text/markdown": [
              "28"
            ],
            "text/plain": [
              "[1] 28"
            ]
          },
          "metadata": {},
          "output_type": "display_data"
        }
      ],
      "source": [
        "#Extraemos los grados de libertad de nuestro modelo\n",
        "head(output$df)[2]"
      ]
    },
    {
      "cell_type": "markdown",
      "metadata": {
        "id": "sxpQJQWEmrB0"
      },
      "source": [
        "Los grados de libertad nos muestran basicamente la cantidad de observaciones de nuestro modelo, con la salvedad de que se les resta el numero de parámetros estimados, es decir que para nuestro caso en particular:  \n",
        "\n",
        "*28 grados de libertad + 2 parámetros estimados = 30 observaciones de nuestro modelo*  \n",
        "\n",
        "Este valor es importante porque nos permite conocer que tan grande es nuestra base de datos, y nos da una idea de que tan significativo puede ser nuestro modelo."
      ]
    },
    {
      "cell_type": "code",
      "execution_count": null,
      "metadata": {
        "id": "0DzVNA_vmrB0",
        "outputId": "246906f9-06f0-41ca-fbeb-8924cb23890d"
      },
      "outputs": [
        {
          "data": {
            "text/html": [
              "66.4728377356063"
            ],
            "text/latex": [
              "66.4728377356063"
            ],
            "text/markdown": [
              "66.4728377356063"
            ],
            "text/plain": [
              "[1] 66.47284"
            ]
          },
          "metadata": {},
          "output_type": "display_data"
        }
      ],
      "source": [
        "#Obtenemos nuestra suma del cuadrado de los residuos\n",
        "head(output$sigma)"
      ]
    },
    {
      "cell_type": "markdown",
      "metadata": {
        "id": "SisrrW-qmrB1"
      },
      "source": [
        "En este caso en particular podemos iniciar notando que este valor es muy alto, lo que sigma nos representa es la variacion que no está siendo explicada por el modelo, es decir que nos hace falta mucha informacion para poder lograr explicar el número de carreras de un equipo en la temporada, lo cual a su vez nos permite inferir que esta variable dependiente no solo responde al número de bateos si no a otras condiciones que no están contempladas en el modelo por falta de información."
      ]
    },
    {
      "cell_type": "code",
      "execution_count": null,
      "metadata": {
        "id": "q26oTLukmrB1",
        "outputId": "42bc8db6-0eeb-406e-d4ba-f2562bfb7885"
      },
      "outputs": [
        {
          "data": {
            "text/html": [
              "<table class=\"dataframe\">\n",
              "<caption>A matrix: 2 × 4 of type dbl</caption>\n",
              "<thead>\n",
              "\t<tr><th></th><th scope=col>Estimate</th><th scope=col>Std. Error</th><th scope=col>t value</th><th scope=col>Pr(&gt;|t|)</th></tr>\n",
              "</thead>\n",
              "<tbody>\n",
              "\t<tr><th scope=row>(Intercept)</th><td>-2789.24289</td><td>853.6957215</td><td>-3.267256</td><td>0.0028705508</td></tr>\n",
              "\t<tr><th scope=row>beisbol$numero_bateos</th><td>    0.63055</td><td>  0.1545414</td><td> 4.080136</td><td>0.0003388351</td></tr>\n",
              "</tbody>\n",
              "</table>\n"
            ],
            "text/latex": [
              "A matrix: 2 × 4 of type dbl\n",
              "\\begin{tabular}{r|llll}\n",
              "  & Estimate & Std. Error & t value & Pr(>\\textbar{}t\\textbar{})\\\\\n",
              "\\hline\n",
              "\t(Intercept) & -2789.24289 & 853.6957215 & -3.267256 & 0.0028705508\\\\\n",
              "\tbeisbol\\$numero\\_bateos &     0.63055 &   0.1545414 &  4.080136 & 0.0003388351\\\\\n",
              "\\end{tabular}\n"
            ],
            "text/markdown": [
              "\n",
              "A matrix: 2 × 4 of type dbl\n",
              "\n",
              "| <!--/--> | Estimate | Std. Error | t value | Pr(&gt;|t|) |\n",
              "|---|---|---|---|---|\n",
              "| (Intercept) | -2789.24289 | 853.6957215 | -3.267256 | 0.0028705508 |\n",
              "| beisbol$numero_bateos |     0.63055 |   0.1545414 |  4.080136 | 0.0003388351 |\n",
              "\n"
            ],
            "text/plain": [
              "                      Estimate    Std. Error  t value   Pr(>|t|)    \n",
              "(Intercept)           -2789.24289 853.6957215 -3.267256 0.0028705508\n",
              "beisbol$numero_bateos     0.63055   0.1545414  4.080136 0.0003388351"
            ]
          },
          "metadata": {},
          "output_type": "display_data"
        }
      ],
      "source": [
        "#Volvemos a obtener los coeficientes pero en este caso nos fijamos en el error estandar\n",
        "output$coef"
      ]
    },
    {
      "cell_type": "markdown",
      "metadata": {
        "id": "1iRvUWOrmrB1"
      },
      "source": [
        "De acuerdo al resultado anterior podemos darnos cuenta que para beta cero nuestro error estandar es muy alto, lo cual nos permite entender que la variabilidad de nuestro numero de carreras es muy alta sin contar el número de bateos y por lo tanto existe muy poca precision en la estimacion de este, mientras que en el caso del número de bateos el error estandar es mucho menor lo cual nos da un poco mas de confianza en el coeficiente estimado, aunque estadísticamente hablando sigue siendo un valor algo alto si tenemos en cuenta la proporcion con el coeficiente estimado."
      ]
    },
    {
      "cell_type": "code",
      "execution_count": null,
      "metadata": {
        "id": "kCpqxO8_mrB1",
        "outputId": "2f78af08-96f0-4434-f2ff-3c7bf3446a46"
      },
      "outputs": [
        {
          "data": {
            "text/html": [
              "0.372865390186805"
            ],
            "text/latex": [
              "0.372865390186805"
            ],
            "text/markdown": [
              "0.372865390186805"
            ],
            "text/plain": [
              "[1] 0.3728654"
            ]
          },
          "metadata": {},
          "output_type": "display_data"
        }
      ],
      "source": [
        "#Continuamos con la extracion del R2\n",
        "output$r.squared"
      ]
    },
    {
      "cell_type": "markdown",
      "metadata": {
        "id": "b67rQqjDmrB3"
      },
      "source": [
        "En este punto podemos observar que este estadístico refuerza la idea de que el número de bateos no logra explicar coompletamente las carreras de un equipo en una temporada, específicamente solo logra explicar el 37.29% de las carreras, lo cual nos deja con un 62.71% de variabilidad en las carreras que tiene como fuente otras variables que no están incluidas en nuestro modelo"
      ]
    },
    {
      "cell_type": "code",
      "execution_count": null,
      "metadata": {
        "id": "OD__1BGlmrB3",
        "outputId": "95038b01-be4c-4064-c7fd-e2b0a3066b2d"
      },
      "outputs": [
        {
          "data": {
            "text/html": [
              "0.35046772555062"
            ],
            "text/latex": [
              "0.35046772555062"
            ],
            "text/markdown": [
              "0.35046772555062"
            ],
            "text/plain": [
              "[1] 0.3504677"
            ]
          },
          "metadata": {},
          "output_type": "display_data"
        }
      ],
      "source": [
        "#Obtenemos nuestro R2 ajustado\n",
        "output$adj.r.squared"
      ]
    },
    {
      "cell_type": "markdown",
      "metadata": {
        "id": "qH0hbEmymrB4"
      },
      "source": [
        "Para este caso en particular nuestro R2 ajustado no significa un gran cambio en nuestro entendimiento del modelo puesto que el R2 se calcula en función de las variables agregadas al modelo, es decir que entre más variables posea mayor va a ser el valor de ajuste, en nuestro caso solo tenemos uno por eso notamos que el ajuste es de aproximadaamente 0.022."
      ]
    },
    {
      "cell_type": "code",
      "execution_count": null,
      "metadata": {
        "id": "CDxWd9NMmrB5",
        "outputId": "a3db162e-5cf3-43ea-d0b0-5e577f90145e"
      },
      "outputs": [
        {
          "data": {
            "text/html": [
              "<table class=\"dataframe\">\n",
              "<caption>A matrix: 2 × 2 of type dbl</caption>\n",
              "<thead>\n",
              "\t<tr><th></th><th scope=col>2.5 %</th><th scope=col>97.5 %</th></tr>\n",
              "</thead>\n",
              "<tbody>\n",
              "\t<tr><th scope=row>(Intercept)</th><td>-4537.9592982</td><td>-1040.5264727</td></tr>\n",
              "\t<tr><th scope=row>beisbol$numero_bateos</th><td>    0.3139863</td><td>    0.9471137</td></tr>\n",
              "</tbody>\n",
              "</table>\n"
            ],
            "text/latex": [
              "A matrix: 2 × 2 of type dbl\n",
              "\\begin{tabular}{r|ll}\n",
              "  & 2.5 \\% & 97.5 \\%\\\\\n",
              "\\hline\n",
              "\t(Intercept) & -4537.9592982 & -1040.5264727\\\\\n",
              "\tbeisbol\\$numero\\_bateos &     0.3139863 &     0.9471137\\\\\n",
              "\\end{tabular}\n"
            ],
            "text/markdown": [
              "\n",
              "A matrix: 2 × 2 of type dbl\n",
              "\n",
              "| <!--/--> | 2.5 % | 97.5 % |\n",
              "|---|---|---|\n",
              "| (Intercept) | -4537.9592982 | -1040.5264727 |\n",
              "| beisbol$numero_bateos |     0.3139863 |     0.9471137 |\n",
              "\n"
            ],
            "text/plain": [
              "                      2.5 %         97.5 %       \n",
              "(Intercept)           -4537.9592982 -1040.5264727\n",
              "beisbol$numero_bateos     0.3139863     0.9471137"
            ]
          },
          "metadata": {},
          "output_type": "display_data"
        }
      ],
      "source": [
        "#Veamos el nivel de confianza de nuestro modelo\n",
        "confint(modelo)"
      ]
    },
    {
      "cell_type": "markdown",
      "metadata": {
        "id": "qgeCmuzhmrB5"
      },
      "source": [
        "Observamos que nuestro nivel de confianza es demasiado grande para ambas variables, lo que nos explica el nivel de confianza es el intervalo entre los cuales se puede encontrar nuestro coeficiente calculado, para este caso en particular notamos que este rango es muy alto y esto nos dice tambien que tenemos muy poca precision a la hora de calcular nuestros coeficientes"
      ]
    },
    {
      "cell_type": "code",
      "execution_count": null,
      "metadata": {
        "id": "_aBJa1QpmrB6",
        "outputId": "45459041-5024-44c8-fefb-d6184bc26a16"
      },
      "outputs": [
        {
          "data": {
            "text/html": [
              "<table class=\"dataframe\">\n",
              "<caption>A anova: 2 × 5</caption>\n",
              "<thead>\n",
              "\t<tr><th></th><th scope=col>Df</th><th scope=col>Sum Sq</th><th scope=col>Mean Sq</th><th scope=col>F value</th><th scope=col>Pr(&gt;F)</th></tr>\n",
              "\t<tr><th></th><th scope=col>&lt;int&gt;</th><th scope=col>&lt;dbl&gt;</th><th scope=col>&lt;dbl&gt;</th><th scope=col>&lt;dbl&gt;</th><th scope=col>&lt;dbl&gt;</th></tr>\n",
              "</thead>\n",
              "<tbody>\n",
              "\t<tr><th scope=row>beisbol$numero_bateos</th><td> 1</td><td> 73559.33</td><td>73559.332</td><td>16.64751</td><td>0.0003388351</td></tr>\n",
              "\t<tr><th scope=row>Residuals</th><td>28</td><td>123721.87</td><td> 4418.638</td><td>      NA</td><td>          NA</td></tr>\n",
              "</tbody>\n",
              "</table>\n"
            ],
            "text/latex": [
              "A anova: 2 × 5\n",
              "\\begin{tabular}{r|lllll}\n",
              "  & Df & Sum Sq & Mean Sq & F value & Pr(>F)\\\\\n",
              "  & <int> & <dbl> & <dbl> & <dbl> & <dbl>\\\\\n",
              "\\hline\n",
              "\tbeisbol\\$numero\\_bateos &  1 &  73559.33 & 73559.332 & 16.64751 & 0.0003388351\\\\\n",
              "\tResiduals & 28 & 123721.87 &  4418.638 &       NA &           NA\\\\\n",
              "\\end{tabular}\n"
            ],
            "text/markdown": [
              "\n",
              "A anova: 2 × 5\n",
              "\n",
              "| <!--/--> | Df &lt;int&gt; | Sum Sq &lt;dbl&gt; | Mean Sq &lt;dbl&gt; | F value &lt;dbl&gt; | Pr(&gt;F) &lt;dbl&gt; |\n",
              "|---|---|---|---|---|---|\n",
              "| beisbol$numero_bateos |  1 |  73559.33 | 73559.332 | 16.64751 | 0.0003388351 |\n",
              "| Residuals | 28 | 123721.87 |  4418.638 |       NA |           NA |\n",
              "\n"
            ],
            "text/plain": [
              "                      Df Sum Sq    Mean Sq   F value  Pr(>F)      \n",
              "beisbol$numero_bateos  1  73559.33 73559.332 16.64751 0.0003388351\n",
              "Residuals             28 123721.87  4418.638       NA           NA"
            ]
          },
          "metadata": {},
          "output_type": "display_data"
        }
      ],
      "source": [
        "#Por último calculamos el valor del estadístico F\n",
        "anova(modelo)"
      ]
    },
    {
      "cell_type": "markdown",
      "metadata": {
        "id": "t4Qk6E_mmrB6"
      },
      "source": [
        "A pesar de que este valor ya nos fue entregado cuando hicimos el *summary(output)* es importante volverlo a calcular para tener mas evidencia contrastada de nuestro modelo, ahora, el p-valor de este estadístico nos da la pauta para rechazar la hipótesis nula la cual sugiere que los valores de los coeficientes son estadísticamente iguales. Entonces al rechazar la hipótesis nula podemos afirmar que los valores de nuestros coeficientes **SI** difieren entre sí"
      ]
    },
    {
      "cell_type": "markdown",
      "metadata": {
        "id": "mqGIU_pumrB7"
      },
      "source": [
        "### 02 Ejercicio [1.5 puntos]\n",
        "\n",
        "El archivo de datos `USA.txt` contiene datos demográficos, sociales y económicos de los 50 estados de los Estados Unidos más el distrito de Columbia el año que Barack Obama ganó sus segundas elecciones presidenciales. Estos datos han sido recopilados de diversas fuentes como el United States Census Bureau, el Pew Research Center y el Bureau of Labor Statistics. Explicar variable `obama` que representa el porcentaje de votos a Obama en esas elecciones para cada estado en función de la variable `grad_univ` que representa el porcentaje de graduados universitarios de cada estado, la variable `afro` que representa el porcentaje de afroamericanos de cada estado, la variable `hispanos` que representa el porcentaje de hispanohablantes de cada estado y la variable `blancos` que representa el porcentaje de personas para cada estado cuya tonalidad de piel es clara. Realizar los siguientes apartados:\n",
        "\n",
        "1. Cargar el dataset en R y transformarlo en un dataframe\n",
        "2. Exploración inicial de la base de datos\n",
        "3. Análisis de la existencia de relación lineal entre las variables seleccionadas\n",
        "4. Estimación de un modelo de regresión lineal múltiple entre las variables seleccionadas\n",
        "5. Interpretación de las salidas de estimación del modelo de regresión lineal múltiple obtenido"
      ]
    },
    {
      "cell_type": "markdown",
      "metadata": {
        "id": "WU2tmcdlmrB7"
      },
      "source": [
        "<div style=\"background-color:#F7DC6F\"><b>Resolución Ejercicio 02</b></div>"
      ]
    },
    {
      "cell_type": "markdown",
      "metadata": {
        "id": "zLyroJhVmrB8"
      },
      "source": [
        "<div style=\"background-color:#5DADE2\"><b>Apartado 1</b></div>"
      ]
    },
    {
      "cell_type": "code",
      "execution_count": null,
      "metadata": {
        "id": "BnirW-s-mrB8",
        "outputId": "fba45e7f-b961-442c-9e31-89556c7dfd91"
      },
      "outputs": [
        {
          "data": {
            "text/html": [
              "<table class=\"dataframe\">\n",
              "<caption>A data.frame: 6 × 21</caption>\n",
              "<thead>\n",
              "\t<tr><th></th><th scope=col>estado</th><th scope=col>region</th><th scope=col>densidad</th><th scope=col>veteranos</th><th scope=col>mujeres</th><th scope=col>grad_instituto</th><th scope=col>grad_univ</th><th scope=col>afro</th><th scope=col>asia</th><th scope=col>hispanos</th><th scope=col>...</th><th scope=col>evangelicos</th><th scope=col>protestantes</th><th scope=col>relig_afro</th><th scope=col>catolicos</th><th scope=col>mormones</th><th scope=col>jubilados</th><th scope=col>paro</th><th scope=col>salario</th><th scope=col>obama</th><th scope=col>diputados</th></tr>\n",
              "\t<tr><th></th><th scope=col>&lt;chr&gt;</th><th scope=col>&lt;int&gt;</th><th scope=col>&lt;dbl&gt;</th><th scope=col>&lt;dbl&gt;</th><th scope=col>&lt;dbl&gt;</th><th scope=col>&lt;dbl&gt;</th><th scope=col>&lt;dbl&gt;</th><th scope=col>&lt;dbl&gt;</th><th scope=col>&lt;dbl&gt;</th><th scope=col>&lt;dbl&gt;</th><th scope=col>...</th><th scope=col>&lt;int&gt;</th><th scope=col>&lt;int&gt;</th><th scope=col>&lt;int&gt;</th><th scope=col>&lt;int&gt;</th><th scope=col>&lt;int&gt;</th><th scope=col>&lt;dbl&gt;</th><th scope=col>&lt;dbl&gt;</th><th scope=col>&lt;int&gt;</th><th scope=col>&lt;dbl&gt;</th><th scope=col>&lt;int&gt;</th></tr>\n",
              "</thead>\n",
              "<tbody>\n",
              "\t<tr><th scope=row>1</th><td>Alabama   </td><td>3</td><td> 94.4</td><td> 8.1</td><td>51.5</td><td>82.6</td><td>22.3</td><td>26.2</td><td> 1.1</td><td> 3.9</td><td>...</td><td>49</td><td> 1</td><td>18</td><td> 6</td><td>1</td><td>13.8</td><td> 8.0</td><td>43464</td><td>38.36</td><td> 9</td></tr>\n",
              "\t<tr><th scope=row>2</th><td>Alaska    </td><td>4</td><td>  1.2</td><td>10.1</td><td>48.0</td><td>91.6</td><td>27.5</td><td> 3.3</td><td> 5.4</td><td> 5.5</td><td>...</td><td>26</td><td>19</td><td> 2</td><td>14</td><td>4</td><td> 7.7</td><td> 7.6</td><td>63648</td><td>40.81</td><td> 3</td></tr>\n",
              "\t<tr><th scope=row>3</th><td>Arizona   </td><td>4</td><td> 56.3</td><td> 8.2</td><td>50.3</td><td>85.4</td><td>26.6</td><td> 4.1</td><td> 2.8</td><td>29.6</td><td>...</td><td>23</td><td>15</td><td> 2</td><td>25</td><td>4</td><td>13.8</td><td> 8.4</td><td>47044</td><td>44.59</td><td>11</td></tr>\n",
              "\t<tr><th scope=row>4</th><td>Arkansas  </td><td>3</td><td> 56.0</td><td> 7.9</td><td>50.9</td><td>83.3</td><td>19.8</td><td>15.4</td><td> 1.2</td><td> 6.4</td><td>...</td><td>53</td><td>16</td><td>10</td><td> 5</td><td>0</td><td>14.4</td><td> 7.6</td><td>39018</td><td>36.88</td><td> 6</td></tr>\n",
              "\t<tr><th scope=row>5</th><td>California</td><td>4</td><td>239.1</td><td> 5.0</td><td>50.3</td><td>81.0</td><td>30.5</td><td> 6.2</td><td>13.0</td><td>37.6</td><td>...</td><td>18</td><td>14</td><td> 4</td><td>31</td><td>2</td><td>11.4</td><td>10.4</td><td>57020</td><td>60.24</td><td>55</td></tr>\n",
              "\t<tr><th scope=row>6</th><td>Colorado  </td><td>4</td><td> 48.5</td><td> 8.1</td><td>49.9</td><td>89.9</td><td>36.7</td><td> 4.0</td><td> 2.8</td><td>20.7</td><td>...</td><td>23</td><td>19</td><td> 2</td><td>19</td><td>2</td><td>10.9</td><td> 7.8</td><td>57255</td><td>51.49</td><td> 9</td></tr>\n",
              "</tbody>\n",
              "</table>\n"
            ],
            "text/latex": [
              "A data.frame: 6 × 21\n",
              "\\begin{tabular}{r|lllllllllllllllllllll}\n",
              "  & estado & region & densidad & veteranos & mujeres & grad\\_instituto & grad\\_univ & afro & asia & hispanos & ... & evangelicos & protestantes & relig\\_afro & catolicos & mormones & jubilados & paro & salario & obama & diputados\\\\\n",
              "  & <chr> & <int> & <dbl> & <dbl> & <dbl> & <dbl> & <dbl> & <dbl> & <dbl> & <dbl> & ... & <int> & <int> & <int> & <int> & <int> & <dbl> & <dbl> & <int> & <dbl> & <int>\\\\\n",
              "\\hline\n",
              "\t1 & Alabama    & 3 &  94.4 &  8.1 & 51.5 & 82.6 & 22.3 & 26.2 &  1.1 &  3.9 & ... & 49 &  1 & 18 &  6 & 1 & 13.8 &  8.0 & 43464 & 38.36 &  9\\\\\n",
              "\t2 & Alaska     & 4 &   1.2 & 10.1 & 48.0 & 91.6 & 27.5 &  3.3 &  5.4 &  5.5 & ... & 26 & 19 &  2 & 14 & 4 &  7.7 &  7.6 & 63648 & 40.81 &  3\\\\\n",
              "\t3 & Arizona    & 4 &  56.3 &  8.2 & 50.3 & 85.4 & 26.6 &  4.1 &  2.8 & 29.6 & ... & 23 & 15 &  2 & 25 & 4 & 13.8 &  8.4 & 47044 & 44.59 & 11\\\\\n",
              "\t4 & Arkansas   & 3 &  56.0 &  7.9 & 50.9 & 83.3 & 19.8 & 15.4 &  1.2 &  6.4 & ... & 53 & 16 & 10 &  5 & 0 & 14.4 &  7.6 & 39018 & 36.88 &  6\\\\\n",
              "\t5 & California & 4 & 239.1 &  5.0 & 50.3 & 81.0 & 30.5 &  6.2 & 13.0 & 37.6 & ... & 18 & 14 &  4 & 31 & 2 & 11.4 & 10.4 & 57020 & 60.24 & 55\\\\\n",
              "\t6 & Colorado   & 4 &  48.5 &  8.1 & 49.9 & 89.9 & 36.7 &  4.0 &  2.8 & 20.7 & ... & 23 & 19 &  2 & 19 & 2 & 10.9 &  7.8 & 57255 & 51.49 &  9\\\\\n",
              "\\end{tabular}\n"
            ],
            "text/markdown": [
              "\n",
              "A data.frame: 6 × 21\n",
              "\n",
              "| <!--/--> | estado &lt;chr&gt; | region &lt;int&gt; | densidad &lt;dbl&gt; | veteranos &lt;dbl&gt; | mujeres &lt;dbl&gt; | grad_instituto &lt;dbl&gt; | grad_univ &lt;dbl&gt; | afro &lt;dbl&gt; | asia &lt;dbl&gt; | hispanos &lt;dbl&gt; | ... ... | evangelicos &lt;int&gt; | protestantes &lt;int&gt; | relig_afro &lt;int&gt; | catolicos &lt;int&gt; | mormones &lt;int&gt; | jubilados &lt;dbl&gt; | paro &lt;dbl&gt; | salario &lt;int&gt; | obama &lt;dbl&gt; | diputados &lt;int&gt; |\n",
              "|---|---|---|---|---|---|---|---|---|---|---|---|---|---|---|---|---|---|---|---|---|---|\n",
              "| 1 | Alabama    | 3 |  94.4 |  8.1 | 51.5 | 82.6 | 22.3 | 26.2 |  1.1 |  3.9 | ... | 49 |  1 | 18 |  6 | 1 | 13.8 |  8.0 | 43464 | 38.36 |  9 |\n",
              "| 2 | Alaska     | 4 |   1.2 | 10.1 | 48.0 | 91.6 | 27.5 |  3.3 |  5.4 |  5.5 | ... | 26 | 19 |  2 | 14 | 4 |  7.7 |  7.6 | 63648 | 40.81 |  3 |\n",
              "| 3 | Arizona    | 4 |  56.3 |  8.2 | 50.3 | 85.4 | 26.6 |  4.1 |  2.8 | 29.6 | ... | 23 | 15 |  2 | 25 | 4 | 13.8 |  8.4 | 47044 | 44.59 | 11 |\n",
              "| 4 | Arkansas   | 3 |  56.0 |  7.9 | 50.9 | 83.3 | 19.8 | 15.4 |  1.2 |  6.4 | ... | 53 | 16 | 10 |  5 | 0 | 14.4 |  7.6 | 39018 | 36.88 |  6 |\n",
              "| 5 | California | 4 | 239.1 |  5.0 | 50.3 | 81.0 | 30.5 |  6.2 | 13.0 | 37.6 | ... | 18 | 14 |  4 | 31 | 2 | 11.4 | 10.4 | 57020 | 60.24 | 55 |\n",
              "| 6 | Colorado   | 4 |  48.5 |  8.1 | 49.9 | 89.9 | 36.7 |  4.0 |  2.8 | 20.7 | ... | 23 | 19 |  2 | 19 | 2 | 10.9 |  7.8 | 57255 | 51.49 |  9 |\n",
              "\n"
            ],
            "text/plain": [
              "  estado     region densidad veteranos mujeres grad_instituto grad_univ afro\n",
              "1 Alabama    3       94.4     8.1      51.5    82.6           22.3      26.2\n",
              "2 Alaska     4        1.2    10.1      48.0    91.6           27.5       3.3\n",
              "3 Arizona    4       56.3     8.2      50.3    85.4           26.6       4.1\n",
              "4 Arkansas   3       56.0     7.9      50.9    83.3           19.8      15.4\n",
              "5 California 4      239.1     5.0      50.3    81.0           30.5       6.2\n",
              "6 Colorado   4       48.5     8.1      49.9    89.9           36.7       4.0\n",
              "  asia hispanos ... evangelicos protestantes relig_afro catolicos mormones\n",
              "1  1.1  3.9     ... 49           1           18          6        1       \n",
              "2  5.4  5.5     ... 26          19            2         14        4       \n",
              "3  2.8 29.6     ... 23          15            2         25        4       \n",
              "4  1.2  6.4     ... 53          16           10          5        0       \n",
              "5 13.0 37.6     ... 18          14            4         31        2       \n",
              "6  2.8 20.7     ... 23          19            2         19        2       \n",
              "  jubilados paro salario obama diputados\n",
              "1 13.8       8.0 43464   38.36  9       \n",
              "2  7.7       7.6 63648   40.81  3       \n",
              "3 13.8       8.4 47044   44.59 11       \n",
              "4 14.4       7.6 39018   36.88  6       \n",
              "5 11.4      10.4 57020   60.24 55       \n",
              "6 10.9       7.8 57255   51.49  9       "
            ]
          },
          "metadata": {},
          "output_type": "display_data"
        }
      ],
      "source": [
        "#Cargamos nuestro dataset con read.table y lo transformamos en dataframe\n",
        "usa = read.table(\"USA.txt\", header = TRUE)\n",
        "head(usa)"
      ]
    },
    {
      "cell_type": "markdown",
      "metadata": {
        "id": "mjobgEC9mrB8"
      },
      "source": [
        "<div style=\"background-color:#5DADE2\"><b>Apartado 2</b></div>"
      ]
    },
    {
      "cell_type": "markdown",
      "metadata": {
        "id": "Tv2pGC7gmrB8"
      },
      "source": [
        "**Estructura**"
      ]
    },
    {
      "cell_type": "code",
      "execution_count": null,
      "metadata": {
        "id": "KUZ_Zyp4mrB8",
        "outputId": "4835847a-9bc6-4cf9-f9ed-47e0ff8cb3e6"
      },
      "outputs": [
        {
          "data": {
            "text/html": [
              "FALSE"
            ],
            "text/latex": [
              "FALSE"
            ],
            "text/markdown": [
              "FALSE"
            ],
            "text/plain": [
              "[1] FALSE"
            ]
          },
          "metadata": {},
          "output_type": "display_data"
        }
      ],
      "source": [
        "#Como en esta ocasión no podemos ver la totalidad de los datos directamente,\n",
        "#verificamos si existen valores nulos en el dataframe\n",
        "any(is.na(usa))"
      ]
    },
    {
      "cell_type": "code",
      "execution_count": null,
      "metadata": {
        "id": "xNepKFVgmrB9",
        "outputId": "fbf707c4-d73c-44d2-bc92-ac2a27c45a66"
      },
      "outputs": [
        {
          "name": "stdout",
          "output_type": "stream",
          "text": [
            "'data.frame':\t51 obs. of  21 variables:\n",
            " $ estado        : chr  \"Alabama\" \"Alaska\" \"Arizona\" \"Arkansas\" ...\n",
            " $ region        : int  3 4 4 3 4 4 1 3 3 3 ...\n",
            " $ densidad      : num  94.4 1.2 56.3 56 239.1 ...\n",
            " $ veteranos     : num  8.1 10.1 8.2 7.9 5 8.1 6 8.5 5.2 8.3 ...\n",
            " $ mujeres       : num  51.5 48 50.3 50.9 50.3 49.9 51.3 51.6 52.8 51.1 ...\n",
            " $ grad_instituto: num  82.6 91.6 85.4 83.3 81 89.9 89 87.7 87.5 85.8 ...\n",
            " $ grad_univ     : num  22.3 27.5 26.6 19.8 30.5 36.7 36.2 28.5 51.2 26.2 ...\n",
            " $ afro          : num  26.2 3.3 4.1 15.4 6.2 4 10.1 21.4 50.7 16 ...\n",
            " $ asia          : num  1.1 5.4 2.8 1.2 13 2.8 3.8 3.2 3.5 2.4 ...\n",
            " $ hispanos      : num  3.9 5.5 29.6 6.4 37.6 20.7 13.4 8.2 9.1 22.5 ...\n",
            " $ blancos       : num  67 64.1 57.8 74.5 40.1 70 71.2 65.3 34.8 57.9 ...\n",
            " $ evangelicos   : int  49 26 23 53 18 23 9 15 15 25 ...\n",
            " $ protestantes  : int  1 19 15 16 14 19 13 18 20 15 ...\n",
            " $ relig_afro    : int  18 2 2 10 4 2 4 14 18 8 ...\n",
            " $ catolicos     : int  6 14 25 5 31 19 43 27 18 26 ...\n",
            " $ mormones      : int  1 4 4 0 2 2 1 0 0 0 ...\n",
            " $ jubilados     : num  13.8 7.7 13.8 14.4 11.4 10.9 14.2 14.4 11.4 17.3 ...\n",
            " $ paro          : num  8 7.6 8.4 7.6 10.4 7.8 8.3 7.2 9 8.5 ...\n",
            " $ salario       : int  43464 63648 47044 39018 57020 57255 64247 48972 65246 46071 ...\n",
            " $ obama         : num  38.4 40.8 44.6 36.9 60.2 ...\n",
            " $ diputados     : int  9 3 11 6 55 9 7 3 3 29 ...\n"
          ]
        }
      ],
      "source": [
        "#Vemos la estructura del dataframe\n",
        "str(usa)"
      ]
    },
    {
      "cell_type": "markdown",
      "metadata": {
        "id": "WzNqfzmfmrB9"
      },
      "source": [
        "Podemos observar que tenemos 21 variables en nuestro dataframe, siendo una de tipo caracter que contiene los nombres de los estados y el resto son de tipo numérico ya sean enteros o decimales y contienen informacion demográfica de cada estado en este periodo de tiempo"
      ]
    },
    {
      "cell_type": "code",
      "execution_count": null,
      "metadata": {
        "scrolled": true,
        "id": "ThmhGLLKmrB9",
        "outputId": "47fe442f-5d4e-4476-e98a-49d55242e148"
      },
      "outputs": [
        {
          "data": {
            "text/html": [
              "<style>\n",
              ".list-inline {list-style: none; margin:0; padding: 0}\n",
              ".list-inline>li {display: inline-block}\n",
              ".list-inline>li:not(:last-child)::after {content: \"\\00b7\"; padding: 0 .5ex}\n",
              "</style>\n",
              "<ol class=list-inline><li>51</li><li>21</li></ol>\n"
            ],
            "text/latex": [
              "\\begin{enumerate*}\n",
              "\\item 51\n",
              "\\item 21\n",
              "\\end{enumerate*}\n"
            ],
            "text/markdown": [
              "1. 51\n",
              "2. 21\n",
              "\n",
              "\n"
            ],
            "text/plain": [
              "[1] 51 21"
            ]
          },
          "metadata": {},
          "output_type": "display_data"
        }
      ],
      "source": [
        "#Verificamos la dimension de nuestro dataframe\n",
        "dim(usa)"
      ]
    },
    {
      "cell_type": "markdown",
      "metadata": {
        "id": "ogMYzap5mrB-"
      },
      "source": [
        "Observamos que tenemos 51 observaciones correspondientes a cada uno de los estados y 21 variables de las cuales como ya se dijo 20 corresponden a informacion demográfica y 1 al nombre del estado"
      ]
    },
    {
      "cell_type": "markdown",
      "metadata": {
        "id": "OmUsJC00mrB-"
      },
      "source": [
        "**Visualizacion**:  \n",
        "Nos piden que relacionemos la variable *obama* con 4 variables de nuestro dataframe, antes de pasar a los contrastes estadísticos y a la regresion misma vamos a entender un poco de manera gráfica las posibles relaciones entre estas variables"
      ]
    },
    {
      "cell_type": "code",
      "execution_count": null,
      "metadata": {
        "id": "Zp6DoONTmrB-",
        "outputId": "c1b20a68-415d-4f66-f321-67b24a25b046"
      },
      "outputs": [
        {
          "data": {
            "image/png": "[encoded data removed]",
            "text/plain": [
              "plot without title"
            ]
          },
          "metadata": {
            "image/png": {
              "height": 420,
              "width": 420
            }
          },
          "output_type": "display_data"
        }
      ],
      "source": [
        "#Cargamos nuestra libreria ggplot\n",
        "library(ggplot2)\n",
        "#Creamos un grafico de dispersion que nos permita entender la relacion entre el grado universitario y\n",
        "#los votos que recibió obama en este periodo\n",
        "disp_grad_univ = ggplot(usa, aes(x = grad_univ, y = obama)) +\n",
        "  geom_point(color = \"blue\") +\n",
        "  labs(title = \"Gráfico de Dispersión entre Grado Universitario y Votos a Obama\", x = \"Grado Universitario\", y = \"Porcentaje de Votos a Obama\")\n",
        "print(disp_grad_univ)"
      ]
    },
    {
      "cell_type": "markdown",
      "metadata": {
        "id": "c8ivgDsImrB_"
      },
      "source": [
        "Mirando este gráfico y dada nuestra experiencia en el ejercicio anterior podemos inferir por el momento que si existe una relacion positiva entre el incremento del grado universitario de un estado y la tendencia a tener mas votos para Obama, adicionalmente podemos observar un claro valor atípico en uno de los estados"
      ]
    },
    {
      "cell_type": "code",
      "execution_count": null,
      "metadata": {
        "scrolled": false,
        "id": "lAftsvkdmrB_",
        "outputId": "1e0b2f6b-45a7-43b0-ae1a-a35198ccb0ea"
      },
      "outputs": [
        {
          "data": {
            "image/png": "[encoded data removed]",
            "text/plain": [
              "plot without title"
            ]
          },
          "metadata": {
            "image/png": {
              "height": 420,
              "width": 420
            }
          },
          "output_type": "display_data"
        }
      ],
      "source": [
        "#Creamos un segundo gráfico para entender la relacion entre afro y obama\n",
        "disp_afro = ggplot(usa, aes(x = afro, y = obama)) +\n",
        "  geom_point(color = \"red\") +\n",
        "  labs(title = \"Gráfico de Dispersión entre Afros y Votos a Obama\", x = \"Porcentaje de Afros\", y = \"Porcentaje de Votos a Obama\")\n",
        "\n",
        "print(disp_afro)"
      ]
    },
    {
      "cell_type": "markdown",
      "metadata": {
        "id": "GG5CO0oRmrB_"
      },
      "source": [
        "En el anterior gráfico podemos notar que aparentemente no existe una relación clara entre los estados que votaron por Obama y su porcentaje de población afro, algo que puede resultar un poco contraintuitivo si hablamos de que el era parte de esta minoria en Estados Unidos, podemos ver que en cuanto se incrementa el porcentaje de poblacion afro, la votación para Obama se mantiene estable o incluso baja, esto contrastado nuevamente con un solo valor atípico que se presenta al igual que en el gráfico del nivel universitario en la esquina superior derecha de nuestro gráfico"
      ]
    },
    {
      "cell_type": "code",
      "execution_count": null,
      "metadata": {
        "id": "0rGrq1EamrCA",
        "outputId": "7767268c-b6d3-4d96-d844-e48e38a9dd72"
      },
      "outputs": [
        {
          "data": {
            "image/png": "[encoded data removed]",
            "text/plain": [
              "plot without title"
            ]
          },
          "metadata": {
            "image/png": {
              "height": 420,
              "width": 420
            }
          },
          "output_type": "display_data"
        }
      ],
      "source": [
        "#Vamos con el tercer gráfico esta vez entre hispanos y obama\n",
        "disp_hispanos = ggplot(usa, aes(x = hispanos, y = obama)) +\n",
        "  geom_point(color = \"green\") +\n",
        "  labs(title = \"Gráfico de Dispersión entre Afros y Votos a Obama\", x = \"Porcentaje de Hispanos\", y = \"Porcentaje de Votos a Obama\")\n",
        "\n",
        "print(disp_hispanos)"
      ]
    },
    {
      "cell_type": "markdown",
      "metadata": {
        "id": "oe_xvkRdmrCA"
      },
      "source": [
        "Aquí tambien podemos notar que al igual que con la poblacion afro, no se evidencia una relación entre este segmento de la población y el porcentaje de votos, de hecho parece ser que esta variable no influyó en la voyacion puesto que la dispersión de los puntos no parece seguir ningun patrón específico"
      ]
    },
    {
      "cell_type": "code",
      "execution_count": null,
      "metadata": {
        "id": "blyhUutkmrCA",
        "outputId": "56ab375c-e019-4f6b-b9b4-ed9899dfb774"
      },
      "outputs": [
        {
          "data": {
            "image/png": "[encoded data removed]",
            "text/plain": [
              "plot without title"
            ]
          },
          "metadata": {
            "image/png": {
              "height": 420,
              "width": 420
            }
          },
          "output_type": "display_data"
        }
      ],
      "source": [
        "#Terminamos con un gráfico entre blancos y obama\n",
        "disp_blancos = ggplot(usa, aes(x = blancos, y = obama)) +\n",
        "  geom_point(color = \"black\") +\n",
        "  labs(title = \"Gráfico de Dispersión entre blancos y Votos a Obama\", x = \"Porcentaje de Blancos\", y = \"Porcentaje de Votos a Obama\")\n",
        "\n",
        "print(disp_blancos)"
      ]
    },
    {
      "cell_type": "markdown",
      "metadata": {
        "id": "gkradGmAmrCB"
      },
      "source": [
        "En este último caso si logramos ver una relación entre la población blanca de un estado y la cantidad de votos obtenidos por Obama, pero aquí a diferencia de la relación entre Obama y el grado universitario, estamos hablando de una relación inversa es decir que entre mas población blanca tiene un estado la votación recibida por Obama fue menor."
      ]
    },
    {
      "cell_type": "code",
      "execution_count": null,
      "metadata": {
        "id": "QVDnqkd0mrCB",
        "outputId": "46523b02-8711-4721-a556-b98cec3ab6e1"
      },
      "outputs": [
        {
          "data": {
            "image/png": "[encoded data removed]",
            "text/plain": [
              "Plot with title \"Histogram of usa$hispanos\""
            ]
          },
          "metadata": {
            "image/png": {
              "height": 420,
              "width": 420
            }
          },
          "output_type": "display_data"
        },
        {
          "data": {
            "image/png": "[encoded data removed]",
            "text/plain": [
              "Plot with title \"Histogram of usa$afro\""
            ]
          },
          "metadata": {
            "image/png": {
              "height": 420,
              "width": 420
            }
          },
          "output_type": "display_data"
        }
      ],
      "source": [
        "#Veamos los histogramas de las distintas variables para ver si podemos notar una aproximacion a la distribución normal en las\n",
        "#variables\n",
        "par(mfrow = c(2, 2))\n",
        "hist(usa$obama)\n",
        "hist(usa$grad_univ)\n",
        "hist(usa$blancos)\n",
        "hist(usa$hispanos)\n",
        "hist(usa$afro)"
      ]
    },
    {
      "cell_type": "markdown",
      "metadata": {
        "id": "wvw2ochZmrCB"
      },
      "source": [
        "**Medidas de tendencia central**"
      ]
    },
    {
      "cell_type": "code",
      "execution_count": null,
      "metadata": {
        "id": "Rbhckj09mrCC",
        "outputId": "01fcf600-16cb-42f2-c347-cb4abc51e48b"
      },
      "outputs": [
        {
          "data": {
            "text/html": [
              "<table class=\"dataframe\">\n",
              "<caption>A data.frame: 6 × 5</caption>\n",
              "<thead>\n",
              "\t<tr><th></th><th scope=col>obama</th><th scope=col>grad_univ</th><th scope=col>afro</th><th scope=col>hispanos</th><th scope=col>blancos</th></tr>\n",
              "\t<tr><th></th><th scope=col>&lt;dbl&gt;</th><th scope=col>&lt;dbl&gt;</th><th scope=col>&lt;dbl&gt;</th><th scope=col>&lt;dbl&gt;</th><th scope=col>&lt;dbl&gt;</th></tr>\n",
              "</thead>\n",
              "<tbody>\n",
              "\t<tr><th scope=row>1</th><td>38.36</td><td>22.3</td><td>26.2</td><td> 3.9</td><td>67.0</td></tr>\n",
              "\t<tr><th scope=row>2</th><td>40.81</td><td>27.5</td><td> 3.3</td><td> 5.5</td><td>64.1</td></tr>\n",
              "\t<tr><th scope=row>3</th><td>44.59</td><td>26.6</td><td> 4.1</td><td>29.6</td><td>57.8</td></tr>\n",
              "\t<tr><th scope=row>4</th><td>36.88</td><td>19.8</td><td>15.4</td><td> 6.4</td><td>74.5</td></tr>\n",
              "\t<tr><th scope=row>5</th><td>60.24</td><td>30.5</td><td> 6.2</td><td>37.6</td><td>40.1</td></tr>\n",
              "\t<tr><th scope=row>6</th><td>51.49</td><td>36.7</td><td> 4.0</td><td>20.7</td><td>70.0</td></tr>\n",
              "</tbody>\n",
              "</table>\n"
            ],
            "text/latex": [
              "A data.frame: 6 × 5\n",
              "\\begin{tabular}{r|lllll}\n",
              "  & obama & grad\\_univ & afro & hispanos & blancos\\\\\n",
              "  & <dbl> & <dbl> & <dbl> & <dbl> & <dbl>\\\\\n",
              "\\hline\n",
              "\t1 & 38.36 & 22.3 & 26.2 &  3.9 & 67.0\\\\\n",
              "\t2 & 40.81 & 27.5 &  3.3 &  5.5 & 64.1\\\\\n",
              "\t3 & 44.59 & 26.6 &  4.1 & 29.6 & 57.8\\\\\n",
              "\t4 & 36.88 & 19.8 & 15.4 &  6.4 & 74.5\\\\\n",
              "\t5 & 60.24 & 30.5 &  6.2 & 37.6 & 40.1\\\\\n",
              "\t6 & 51.49 & 36.7 &  4.0 & 20.7 & 70.0\\\\\n",
              "\\end{tabular}\n"
            ],
            "text/markdown": [
              "\n",
              "A data.frame: 6 × 5\n",
              "\n",
              "| <!--/--> | obama &lt;dbl&gt; | grad_univ &lt;dbl&gt; | afro &lt;dbl&gt; | hispanos &lt;dbl&gt; | blancos &lt;dbl&gt; |\n",
              "|---|---|---|---|---|---|\n",
              "| 1 | 38.36 | 22.3 | 26.2 |  3.9 | 67.0 |\n",
              "| 2 | 40.81 | 27.5 |  3.3 |  5.5 | 64.1 |\n",
              "| 3 | 44.59 | 26.6 |  4.1 | 29.6 | 57.8 |\n",
              "| 4 | 36.88 | 19.8 | 15.4 |  6.4 | 74.5 |\n",
              "| 5 | 60.24 | 30.5 |  6.2 | 37.6 | 40.1 |\n",
              "| 6 | 51.49 | 36.7 |  4.0 | 20.7 | 70.0 |\n",
              "\n"
            ],
            "text/plain": [
              "  obama grad_univ afro hispanos blancos\n",
              "1 38.36 22.3      26.2  3.9     67.0   \n",
              "2 40.81 27.5       3.3  5.5     64.1   \n",
              "3 44.59 26.6       4.1 29.6     57.8   \n",
              "4 36.88 19.8      15.4  6.4     74.5   \n",
              "5 60.24 30.5       6.2 37.6     40.1   \n",
              "6 51.49 36.7       4.0 20.7     70.0   "
            ]
          },
          "metadata": {},
          "output_type": "display_data"
        }
      ],
      "source": [
        "#Creamos un nuevo dataframe que contenga todas las variables que usaremos operar sobre variables numéricas\n",
        "usa_numeric = subset(usa, select = c(\"obama\",\"grad_univ\",\"afro\",\"hispanos\",\"blancos\"))\n",
        "head(usa_numeric)"
      ]
    },
    {
      "cell_type": "code",
      "execution_count": null,
      "metadata": {
        "scrolled": true,
        "id": "x_p5PEYwmrCC"
      },
      "outputs": [],
      "source": [
        "#Vamos a obtener las modas de cada una de las variables de nuestro dataframe\n",
        "#primero vamos a transformar la columna a una tabla de frecuencias que nos cuente los valores repetidos en cada una\n",
        "t_obama = table(usa_numeric$obama)\n",
        "#despues seleccionamos la posicion que tenga el conteo máximo y de aquí tomamos el nombre (que contiene el valor que mas se\n",
        "#repite en el dataframe) y lo pasamos a formato numérico\n",
        "moda_obama = as.numeric(names(t_obama)[which.max(t_obama)])\n",
        "#Repetimos el proceso con todas nuestras variables\n",
        "t_grad = table(usa_numeric$grad_univ)\n",
        "moda_grad = as.numeric(names(t_grad[which.max(t_grad)]))\n",
        "t_afro = table(usa_numeric$afro)\n",
        "moda_afro = as.numeric(names(t_afro[which.max(t_afro)]))\n",
        "t_hispanos = table(usa_numeric$hispanos)\n",
        "moda_hispanos = as.numeric(names(t_hispanos[which.max(t_hispanos)]))\n",
        "t_blancos = table(usa_numeric$blancos)\n",
        "moda_blancos = as.numeric(names(t_blancos[which.max(t_blancos)]))"
      ]
    },
    {
      "cell_type": "code",
      "execution_count": null,
      "metadata": {
        "id": "SKI_qN9SmrCC",
        "outputId": "a4484a73-6f3d-47b5-f3b8-b7ef03e41663"
      },
      "outputs": [
        {
          "name": "stdout",
          "output_type": "stream",
          "text": [
            "[1] \"La moda para la columna 'obama' es: 24.75 cuyo rango es entre  24.75 y 90.91\"\n",
            "[1] \"La moda para la columna 'grad_univ' es: 24.7 cuyo rango es entre  17.9 y 51.2\"\n",
            "[1] \"La moda para la columna 'afro' es: 1.1 cuyo rango es entre  0.4 y 50.7\"\n",
            "[1] \"La moda para la columna 'hispanos' es: 8.9 cuyo rango es entre  1 y 46.3\"\n",
            "[1] \"La moda para la columna 'blancos' es: 64.1 cuyo rango es entre  22.7 y 94.4\"\n"
          ]
        }
      ],
      "source": [
        "#Imprimimos los valores de la moda de cada variable junto con su rango\n",
        "print(paste(\"La moda para la columna 'obama' es:\", moda_obama, \"cuyo rango es entre \", min(usa_numeric$obama), \"y\", max(usa_numeric$obama)))\n",
        "print(paste(\"La moda para la columna 'grad_univ' es:\", moda_grad, \"cuyo rango es entre \", min(usa_numeric$grad_univ), \"y\", max(usa_numeric$grad_univ)))\n",
        "print(paste(\"La moda para la columna 'afro' es:\", moda_afro, \"cuyo rango es entre \", min(usa_numeric$afro), \"y\", max(usa_numeric$afro)))\n",
        "print(paste(\"La moda para la columna 'hispanos' es:\", moda_hispanos, \"cuyo rango es entre \", min(usa_numeric$hispanos), \"y\", max(usa_numeric$hispanos)))\n",
        "print(paste(\"La moda para la columna 'blancos' es:\", moda_blancos, \"cuyo rango es entre \", min(usa_numeric$blancos), \"y\", max(usa_numeric$blancos)))"
      ]
    },
    {
      "cell_type": "code",
      "execution_count": null,
      "metadata": {
        "id": "K3BckEgEmrCC",
        "outputId": "8548f71e-168a-4112-a449-e44b7ff85626"
      },
      "outputs": [
        {
          "data": {
            "text/html": [
              "<table class=\"dataframe\">\n",
              "<caption>A data.frame: 5 × 1</caption>\n",
              "<thead>\n",
              "\t<tr><th></th><th scope=col>colMeans.usa_numeric.</th></tr>\n",
              "\t<tr><th></th><th scope=col>&lt;dbl&gt;</th></tr>\n",
              "</thead>\n",
              "<tbody>\n",
              "\t<tr><th scope=row>obama</th><td>49.02569</td></tr>\n",
              "\t<tr><th scope=row>grad_univ</th><td>28.22941</td></tr>\n",
              "\t<tr><th scope=row>afro</th><td>11.12157</td></tr>\n",
              "\t<tr><th scope=row>hispanos</th><td>10.21373</td></tr>\n",
              "\t<tr><th scope=row>blancos</th><td>70.69608</td></tr>\n",
              "</tbody>\n",
              "</table>\n"
            ],
            "text/latex": [
              "A data.frame: 5 × 1\n",
              "\\begin{tabular}{r|l}\n",
              "  & colMeans.usa\\_numeric.\\\\\n",
              "  & <dbl>\\\\\n",
              "\\hline\n",
              "\tobama & 49.02569\\\\\n",
              "\tgrad\\_univ & 28.22941\\\\\n",
              "\tafro & 11.12157\\\\\n",
              "\thispanos & 10.21373\\\\\n",
              "\tblancos & 70.69608\\\\\n",
              "\\end{tabular}\n"
            ],
            "text/markdown": [
              "\n",
              "A data.frame: 5 × 1\n",
              "\n",
              "| <!--/--> | colMeans.usa_numeric. &lt;dbl&gt; |\n",
              "|---|---|\n",
              "| obama | 49.02569 |\n",
              "| grad_univ | 28.22941 |\n",
              "| afro | 11.12157 |\n",
              "| hispanos | 10.21373 |\n",
              "| blancos | 70.69608 |\n",
              "\n"
            ],
            "text/plain": [
              "          colMeans.usa_numeric.\n",
              "obama     49.02569             \n",
              "grad_univ 28.22941             \n",
              "afro      11.12157             \n",
              "hispanos  10.21373             \n",
              "blancos   70.69608             "
            ]
          },
          "metadata": {},
          "output_type": "display_data"
        }
      ],
      "source": [
        "#Obtenemos la media de cada una de las variables de nuestro dataframe\n",
        "media = data.frame(colMeans(usa_numeric))\n",
        "media"
      ]
    },
    {
      "cell_type": "code",
      "execution_count": null,
      "metadata": {
        "id": "J6eaD0OVmrCD",
        "outputId": "e360659c-0508-4ffb-e4ed-3418a30222b0"
      },
      "outputs": [
        {
          "name": "stdout",
          "output_type": "stream",
          "text": [
            "[1] \"La media de la variable 'obama' es de: 50.67\"\n",
            "[1] \"La media de la variable 'grad_univ' es de: 27.1\"\n",
            "[1] \"La media de la variable 'afro' es de: 7.4\"\n",
            "[1] \"La media de la variable 'hispanos' es de: 8.2\"\n",
            "[1] \"La media de la variable 'blancos' es de: 74.5\"\n"
          ]
        }
      ],
      "source": [
        "#Obtenemos la media de cada una de las vaariables de nuestro dataframe y las mostramos con un texto explicativo\n",
        "print(paste(\"La media de la variable 'obama' es de:\", median(usa_numeric$obama)))\n",
        "print(paste(\"La media de la variable 'grad_univ' es de:\", median(usa_numeric$grad_univ)))\n",
        "print(paste(\"La media de la variable 'afro' es de:\", median(usa_numeric$afro)))\n",
        "print(paste(\"La media de la variable 'hispanos' es de:\", median(usa_numeric$hispanos)))\n",
        "print(paste(\"La media de la variable 'blancos' es de:\", median(usa_numeric$blancos)))"
      ]
    },
    {
      "cell_type": "markdown",
      "metadata": {
        "id": "bEINM41GmrCD"
      },
      "source": [
        "**Medidas de posicion**"
      ]
    },
    {
      "cell_type": "code",
      "execution_count": null,
      "metadata": {
        "id": "X-ijy_q1mrCD",
        "outputId": "de251d68-9d1d-4b1d-b2a7-9685a38bd93a"
      },
      "outputs": [
        {
          "data": {
            "text/plain": [
              "     obama         grad_univ          afro          hispanos        blancos    \n",
              " Min.   :24.75   Min.   :17.90   Min.   : 0.40   Min.   : 1.00   Min.   :22.7  \n",
              " 1st Qu.:40.23   1st Qu.:24.70   1st Qu.: 3.10   1st Qu.: 3.05   1st Qu.:59.8  \n",
              " Median :50.67   Median :27.10   Median : 7.40   Median : 8.20   Median :74.5  \n",
              " Mean   :49.03   Mean   :28.23   Mean   :11.12   Mean   :10.21   Mean   :70.7  \n",
              " 3rd Qu.:56.22   3rd Qu.:30.95   3rd Qu.:15.65   3rd Qu.:12.05   3rd Qu.:82.6  \n",
              " Max.   :90.91   Max.   :51.20   Max.   :50.70   Max.   :46.30   Max.   :94.4  "
            ]
          },
          "metadata": {},
          "output_type": "display_data"
        }
      ],
      "source": [
        "#Obtenemos las principales medidas de posicion de nuestro dataframe\n",
        "summary(usa_numeric)"
      ]
    },
    {
      "cell_type": "markdown",
      "metadata": {
        "id": "roiL5aFAmrCD"
      },
      "source": [
        "De estas medidas podemos obtener información valiosa acerca de como se distribuye la información, por ejemplo:  \n",
        "vemos que en las variables obama, grad_univ, afro e hispanos la dispersión entre el primer y tercer cuartil es relativamente poca si vemos sus valores minimos y maximos, esto nos sugiere que podemos estar en presencia de valores atipicos y tambien nos sugiere que la mayoría de los datos se concentran al rededor de la mediana.\n",
        "\n",
        "Otra observación que podemos hacer es que aunque existen algunas diferencias entre la media y la mediana estas tienden a ser cercanas nuevamente si las comparamos con los valores que toma el modelo.\n",
        "\n",
        "Además podemos inferir que la distribucion de las variables que representan minorias como afro e hispanos tienden a agruparse mas cerca de el valór mínimo y a su vez la variable blancos tiende mucho mas hacia el valor máximo, esto lo podemos complementar con el histograma que realizamos previamente el cual confirma esta distrubucion de los elementos"
      ]
    },
    {
      "cell_type": "markdown",
      "metadata": {
        "id": "XeAvrWrUmrCE"
      },
      "source": [
        "**Medidas de dispersion**"
      ]
    },
    {
      "cell_type": "code",
      "execution_count": null,
      "metadata": {
        "id": "61xf9phWmrCE",
        "outputId": "d812d86e-a5e6-41de-ec7e-54f9c4c8d5f7"
      },
      "outputs": [
        {
          "name": "stdout",
          "output_type": "stream",
          "text": [
            "[1] \"El rango de la variable 'obama' es:' 66.16\"\n",
            "[1] \"El rango de la variable 'grad_univ' es:' 33.3\"\n",
            "[1] \"El rango de la variable 'afro' es:' 50.3\"\n",
            "[1] \"El rango de la variable 'hispano' es:' 45.3\"\n",
            "[1] \"El rango de la variable 'blancos' es:' 71.7\"\n"
          ]
        }
      ],
      "source": [
        "#Obtenemos el rango de nuestras variables\n",
        "print(paste(\"El rango de la variable 'obama' es:'\",diff(range(usa_numeric$obama))))\n",
        "print(paste(\"El rango de la variable 'grad_univ' es:'\",diff(range(usa_numeric$grad_univ))))\n",
        "print(paste(\"El rango de la variable 'afro' es:'\",diff(range(usa_numeric$afro))))\n",
        "print(paste(\"El rango de la variable 'hispano' es:'\",diff(range(usa_numeric$hispanos))))\n",
        "print(paste(\"El rango de la variable 'blancos' es:'\",diff(range(usa_numeric$blancos))))"
      ]
    },
    {
      "cell_type": "markdown",
      "metadata": {
        "id": "lBe_mKq9mrCE"
      },
      "source": [
        "Si miramos los valores anteriores notamos que todas las variables tienen una gran dispersion si las comparamos con sus valores máximos y mínimos, esto se hace mas evidente en la variable blancos la cual tiene un rango de 71.7 mientras que la menor variabilidad la vemos en grad_univ que es de 33.3, aunque esto se ve afectado por la escala de los datos."
      ]
    },
    {
      "cell_type": "code",
      "execution_count": null,
      "metadata": {
        "id": "ankT6hq7mrCE",
        "outputId": "6841d1b2-7429-43da-9ba9-73e7d906c76c"
      },
      "outputs": [
        {
          "name": "stdout",
          "output_type": "stream",
          "text": [
            "[1] \"El rango intercuartilico de la variable 'obama' es: 15.99\"\n",
            "[1] \"El rango intercuartilico de la variable 'grad_univ' es: 6.25\"\n",
            "[1] \"El rango intercuartilico de la variable 'afro' es: 12.55\"\n",
            "[1] \"El rango intercuartilico de la variable 'hispanos' es: 9\"\n",
            "[1] \"El rango intercuartilico de la variable 'blancos' es: 22.8\"\n"
          ]
        }
      ],
      "source": [
        "print(paste(\"El rango intercuartilico de la variable 'obama' es:\", IQR(usa_numeric$obama)))\n",
        "print(paste(\"El rango intercuartilico de la variable 'grad_univ' es:\", IQR(usa_numeric$grad_univ)))\n",
        "print(paste(\"El rango intercuartilico de la variable 'afro' es:\", IQR(usa_numeric$afro)))\n",
        "print(paste(\"El rango intercuartilico de la variable 'hispanos' es:\", IQR(usa_numeric$hispanos)))\n",
        "print(paste(\"El rango intercuartilico de la variable 'blancos' es:\", IQR(usa_numeric$blancos)))"
      ]
    },
    {
      "cell_type": "markdown",
      "metadata": {
        "id": "z_1KzFSOmrCE"
      },
      "source": [
        "Aquí podemos notar un poco mejor que los valores se encuentran agrupados en torno a la media y mediana puesto que el rango intercuartílico no es tan grande como el rango total, esto tambien nos deja ver que existen valores atípicos en todas las variables, aunque es interesante notar que las proporciones, por llamarlo de esa manera, se mantienen siendo la variable blancos la que presenta mayor variabilidad y la variable grad_univ la que menos"
      ]
    },
    {
      "cell_type": "code",
      "execution_count": null,
      "metadata": {
        "scrolled": true,
        "id": "6WYNrHplmrCF",
        "outputId": "7d194f0d-c6b8-4124-818e-cbb2566c70ff"
      },
      "outputs": [
        {
          "name": "stdout",
          "output_type": "stream",
          "text": [
            "[1] \"La varianza de la variable 'obama' es: 139.498209019608\"\n",
            "[1] \"La varianza de la variable 'grad_univ' es: 33.5033176470588\"\n",
            "[1] \"La varianza de la variable 'afro' es: 121.467725490196\"\n",
            "[1] \"La varianza de la variable 'hispanos' es: 101.903207843137\"\n",
            "[1] \"La varianza de la variable 'blancos' es: 261.393184313725\"\n"
          ]
        }
      ],
      "source": [
        "print(paste(\"La varianza de la variable 'obama' es:\", var(usa_numeric$obama)))\n",
        "print(paste(\"La varianza de la variable 'grad_univ' es:\", var(usa_numeric$grad_univ)))\n",
        "print(paste(\"La varianza de la variable 'afro' es:\", var(usa_numeric$afro)))\n",
        "print(paste(\"La varianza de la variable 'hispanos' es:\", var(usa_numeric$hispanos)))\n",
        "print(paste(\"La varianza de la variable 'blancos' es:\", var(usa_numeric$blancos)))"
      ]
    },
    {
      "cell_type": "markdown",
      "metadata": {
        "id": "uFL8fzZvmrCF"
      },
      "source": [
        "Confirmamos que se mantiene la variabilidad que hemos visto a través de las otras medidas de dispersión siendo la variable blancos la que tiene el mayor valor y grad_univ la que tiene el menor"
      ]
    },
    {
      "cell_type": "code",
      "execution_count": null,
      "metadata": {
        "scrolled": true,
        "id": "hmm7GrY1mrCF",
        "outputId": "366778e6-5554-401c-94bf-7e28ef3ea63e"
      },
      "outputs": [
        {
          "name": "stdout",
          "output_type": "stream",
          "text": [
            "[1] \"La desviacion estandar de la variable 'obama' es: 11.8109359925286\"\n",
            "[1] \"La desviacion estandar de la variable 'grad_univ' es: 5.78820504535377\"\n",
            "[1] \"La desviacion estandar de la variable 'afro' es: 11.0212397437945\"\n",
            "[1] \"La desviacion estandar de la variable 'hispanos' es: 10.0947118751917\"\n",
            "[1] \"La desviacion estandar de la variable 'blancos' es: 16.1676585909564\"\n"
          ]
        }
      ],
      "source": [
        "print(paste(\"La desviacion estandar de la variable 'obama' es:\", sd(usa_numeric$obama)))\n",
        "print(paste(\"La desviacion estandar de la variable 'grad_univ' es:\", sd(usa_numeric$grad_univ)))\n",
        "print(paste(\"La desviacion estandar de la variable 'afro' es:\", sd(usa_numeric$afro)))\n",
        "print(paste(\"La desviacion estandar de la variable 'hispanos' es:\", sd(usa_numeric$hispanos)))\n",
        "print(paste(\"La desviacion estandar de la variable 'blancos' es:\", sd(usa_numeric$blancos)))"
      ]
    },
    {
      "cell_type": "markdown",
      "metadata": {
        "id": "RCSqejDsmrCF"
      },
      "source": [
        "Con esto terminamos de confirmar la idea de dispersión de nuestros datos, y podemos afirmar que los que se encuentran menos dispersos son los que pertenecen a grad_univ mientras que la variable blancos es la que tiene mas variacion en cuanto a sus datos"
      ]
    },
    {
      "cell_type": "markdown",
      "metadata": {
        "id": "ICJnemPBmrCF"
      },
      "source": [
        "**Medidas de forma**"
      ]
    },
    {
      "cell_type": "code",
      "execution_count": null,
      "metadata": {
        "id": "4yRo6sC8mrCG",
        "outputId": "4e8d2976-17f2-4456-b4a9-e0fa16bad772"
      },
      "outputs": [
        {
          "name": "stdout",
          "output_type": "stream",
          "text": [
            "[1] \"El coeficiente de asimetria de la variable 'obama' es: 0.674437766197239\"\n",
            "[1] \"El coeficiente de asimetria de la variable 'grad_univ' es: 1.23207741467933\"\n",
            "[1] \"El coeficiente de asimetria de la variable 'afro' es: 1.42905572981842\"\n",
            "[1] \"El coeficiente de asimetria de la variable 'hispanos' es: 1.80500210620654\"\n",
            "[1] \"El coeficiente de asimetria de la variable 'blancos' es: -0.760854761463816\"\n"
          ]
        }
      ],
      "source": [
        "print(paste(\"El coeficiente de asimetria de la variable 'obama' es:\",skewness(usa_numeric$obama)))\n",
        "print(paste(\"El coeficiente de asimetria de la variable 'grad_univ' es:\",skewness(usa_numeric$grad_univ)))\n",
        "print(paste(\"El coeficiente de asimetria de la variable 'afro' es:\",skewness(usa_numeric$afro)))\n",
        "print(paste(\"El coeficiente de asimetria de la variable 'hispanos' es:\",skewness(usa_numeric$hispanos)))\n",
        "print(paste(\"El coeficiente de asimetria de la variable 'blancos' es:\",skewness(usa_numeric$blancos)))"
      ]
    },
    {
      "cell_type": "markdown",
      "metadata": {
        "id": "yEXme7CcmrCG"
      },
      "source": [
        "Una vez obtenidos los coeficientes de asimetría de cada una de las variables podemos ver que:  \n",
        "\n",
        "La variable obama tiene una distribucion asimetrica positiva.\n",
        "La variable grad_univ tiene una distribucion asimetrica positiva.\n",
        "La variable afro tiene una distribucion asimetrica positiva.\n",
        "La variable hispano tiene una distribucion asimetrica positiva.\n",
        "La variable blancos tiene una distribucion asimetrica negativa.\n",
        "\n",
        "Esto entonces nos quiere decir que 4 de las 5 variables (*obama,grad_univ,afro,hispano*) tienen la mayoría de sus valores agrupados a la derecha de la media, esto en terminos demográficos nos deja pensar que todos estos grupos son minorías.\n",
        "\n",
        "Por otro lado notamos que la variable blancos tiene una distribucion asimetrica negativa, es decir que la mayoría de sus valores se encuentran a la izquierda de la media, por tanto siguiendo la lógica que usamos en las anteriores variables asumimos que la poblacion blanca es mayoría en los Estados Unidos."
      ]
    },
    {
      "cell_type": "code",
      "execution_count": null,
      "metadata": {
        "scrolled": true,
        "id": "_yunyyo0mrCH",
        "outputId": "e40fec75-0f1f-42a0-8fe3-b36890885cb7"
      },
      "outputs": [
        {
          "name": "stdout",
          "output_type": "stream",
          "text": [
            "[1] \"El coeficiente de curtosis para la variable 'obama' es: 1.44019587901384\"\n",
            "[1] \"El coeficiente de curtosis para la variable 'grad_univ' es: 3.00987549846179\"\n",
            "[1] \"El coeficiente de curtosis para la variable 'afro' es: 1.85243421524955\"\n",
            "[1] \"El coeficiente de curtosis para la variable 'hispanos' es: 2.93774910053419\"\n",
            "[1] \"El coeficiente de curtosis para la variable 'blancos' es: 0.195967141644994\"\n"
          ]
        }
      ],
      "source": [
        "print(paste(\"El coeficiente de curtosis para la variable 'obama' es:\",kurtosis(usa_numeric$obama)))\n",
        "print(paste(\"El coeficiente de curtosis para la variable 'grad_univ' es:\",kurtosis(usa_numeric$grad_univ)))\n",
        "print(paste(\"El coeficiente de curtosis para la variable 'afro' es:\",kurtosis(usa_numeric$afro)))\n",
        "print(paste(\"El coeficiente de curtosis para la variable 'hispanos' es:\",kurtosis(usa_numeric$hispanos)))\n",
        "print(paste(\"El coeficiente de curtosis para la variable 'blancos' es:\",kurtosis(usa_numeric$blancos)))"
      ]
    },
    {
      "cell_type": "markdown",
      "metadata": {
        "id": "xGIOz533mrCH"
      },
      "source": [
        "Si revisamos los coeficientes de curtosis obtenidos podemos reforzar mas la asuncion de que nuestros valores están en general cerca de la media y mediana así como lo vimos con las medidas de dispersión, ya que todos los valores son superiores a 0 es decir leptocurticas, siendo esto mas notable en la variable grad_univ pero igual de notorio en el resto de las variables.\n",
        "\n",
        "Existe una de ellas que podríamos considerarla mesocurtica por su aproximación a cero, esta es la variable blancos, la cual a lo largo de esta exploracion de los datos ha probado ser una variable que tiene un comportamiento particular con respecto al resto de variables, por lo tanto y viendo las medidas anteriores confirmamos que esta variable es la que mayor dispersión tiene dentro de nuestros datos"
      ]
    },
    {
      "cell_type": "markdown",
      "metadata": {
        "id": "69pIsQKHmrCH"
      },
      "source": [
        "<div style=\"background-color:#5DADE2\"><b>Apartado 3</b></div>"
      ]
    },
    {
      "cell_type": "code",
      "execution_count": null,
      "metadata": {
        "id": "l5jV5wtYmrCH",
        "outputId": "ab7293da-3ba3-419b-fbb7-8ab2b933253a"
      },
      "outputs": [
        {
          "data": {
            "text/html": [
              "<table class=\"dataframe\">\n",
              "<caption>A data.frame: 6 × 5</caption>\n",
              "<thead>\n",
              "\t<tr><th></th><th scope=col>obama</th><th scope=col>grad_univ</th><th scope=col>afro</th><th scope=col>hispanos</th><th scope=col>blancos</th></tr>\n",
              "\t<tr><th></th><th scope=col>&lt;dbl&gt;</th><th scope=col>&lt;dbl&gt;</th><th scope=col>&lt;dbl&gt;</th><th scope=col>&lt;dbl&gt;</th><th scope=col>&lt;dbl&gt;</th></tr>\n",
              "</thead>\n",
              "<tbody>\n",
              "\t<tr><th scope=row>1</th><td>38.36</td><td>22.3</td><td>26.2</td><td> 3.9</td><td>67.0</td></tr>\n",
              "\t<tr><th scope=row>2</th><td>40.81</td><td>27.5</td><td> 3.3</td><td> 5.5</td><td>64.1</td></tr>\n",
              "\t<tr><th scope=row>3</th><td>44.59</td><td>26.6</td><td> 4.1</td><td>29.6</td><td>57.8</td></tr>\n",
              "\t<tr><th scope=row>4</th><td>36.88</td><td>19.8</td><td>15.4</td><td> 6.4</td><td>74.5</td></tr>\n",
              "\t<tr><th scope=row>5</th><td>60.24</td><td>30.5</td><td> 6.2</td><td>37.6</td><td>40.1</td></tr>\n",
              "\t<tr><th scope=row>6</th><td>51.49</td><td>36.7</td><td> 4.0</td><td>20.7</td><td>70.0</td></tr>\n",
              "</tbody>\n",
              "</table>\n"
            ],
            "text/latex": [
              "A data.frame: 6 × 5\n",
              "\\begin{tabular}{r|lllll}\n",
              "  & obama & grad\\_univ & afro & hispanos & blancos\\\\\n",
              "  & <dbl> & <dbl> & <dbl> & <dbl> & <dbl>\\\\\n",
              "\\hline\n",
              "\t1 & 38.36 & 22.3 & 26.2 &  3.9 & 67.0\\\\\n",
              "\t2 & 40.81 & 27.5 &  3.3 &  5.5 & 64.1\\\\\n",
              "\t3 & 44.59 & 26.6 &  4.1 & 29.6 & 57.8\\\\\n",
              "\t4 & 36.88 & 19.8 & 15.4 &  6.4 & 74.5\\\\\n",
              "\t5 & 60.24 & 30.5 &  6.2 & 37.6 & 40.1\\\\\n",
              "\t6 & 51.49 & 36.7 &  4.0 & 20.7 & 70.0\\\\\n",
              "\\end{tabular}\n"
            ],
            "text/markdown": [
              "\n",
              "A data.frame: 6 × 5\n",
              "\n",
              "| <!--/--> | obama &lt;dbl&gt; | grad_univ &lt;dbl&gt; | afro &lt;dbl&gt; | hispanos &lt;dbl&gt; | blancos &lt;dbl&gt; |\n",
              "|---|---|---|---|---|---|\n",
              "| 1 | 38.36 | 22.3 | 26.2 |  3.9 | 67.0 |\n",
              "| 2 | 40.81 | 27.5 |  3.3 |  5.5 | 64.1 |\n",
              "| 3 | 44.59 | 26.6 |  4.1 | 29.6 | 57.8 |\n",
              "| 4 | 36.88 | 19.8 | 15.4 |  6.4 | 74.5 |\n",
              "| 5 | 60.24 | 30.5 |  6.2 | 37.6 | 40.1 |\n",
              "| 6 | 51.49 | 36.7 |  4.0 | 20.7 | 70.0 |\n",
              "\n"
            ],
            "text/plain": [
              "  obama grad_univ afro hispanos blancos\n",
              "1 38.36 22.3      26.2  3.9     67.0   \n",
              "2 40.81 27.5       3.3  5.5     64.1   \n",
              "3 44.59 26.6       4.1 29.6     57.8   \n",
              "4 36.88 19.8      15.4  6.4     74.5   \n",
              "5 60.24 30.5       6.2 37.6     40.1   \n",
              "6 51.49 36.7       4.0 20.7     70.0   "
            ]
          },
          "metadata": {},
          "output_type": "display_data"
        }
      ],
      "source": [
        "#Volvemos a cargar nuestro dataframe para tener presente sus valores y estructura\n",
        "usa_numeric = usa[, c(\"obama\", \"grad_univ\", \"afro\", \"hispanos\", \"blancos\")]\n",
        "head(usa_numeric)"
      ]
    },
    {
      "cell_type": "code",
      "execution_count": null,
      "metadata": {
        "scrolled": false,
        "id": "2zzlCeIPmrCH",
        "outputId": "ac896021-956c-440f-c15b-8aa9468e594b"
      },
      "outputs": [
        {
          "name": "stderr",
          "output_type": "stream",
          "text": [
            "Warning message in ks.test(usa_numeric$obama, usa_numeric$grad_univ):\n",
            "\"cannot compute exact p-value with ties\"\n"
          ]
        },
        {
          "data": {
            "text/plain": [
              "\n",
              "\tTwo-sample Kolmogorov-Smirnov test\n",
              "\n",
              "data:  usa_numeric$obama and usa_numeric$grad_univ\n",
              "D = 0.86275, p-value < 2.2e-16\n",
              "alternative hypothesis: two-sided\n"
            ]
          },
          "metadata": {},
          "output_type": "display_data"
        },
        {
          "name": "stderr",
          "output_type": "stream",
          "text": [
            "Warning message in ks.test(usa_numeric$obama, usa_numeric$blancos):\n",
            "\"cannot compute exact p-value with ties\"\n"
          ]
        },
        {
          "data": {
            "text/plain": [
              "\n",
              "\tTwo-sample Kolmogorov-Smirnov test\n",
              "\n",
              "data:  usa_numeric$obama and usa_numeric$blancos\n",
              "D = 0.66667, p-value = 2.864e-10\n",
              "alternative hypothesis: two-sided\n"
            ]
          },
          "metadata": {},
          "output_type": "display_data"
        },
        {
          "name": "stderr",
          "output_type": "stream",
          "text": [
            "Warning message in ks.test(usa_numeric$obama, usa_numeric$afro):\n",
            "\"cannot compute exact p-value with ties\"\n"
          ]
        },
        {
          "data": {
            "text/plain": [
              "\n",
              "\tTwo-sample Kolmogorov-Smirnov test\n",
              "\n",
              "data:  usa_numeric$obama and usa_numeric$afro\n",
              "D = 0.92157, p-value < 2.2e-16\n",
              "alternative hypothesis: two-sided\n"
            ]
          },
          "metadata": {},
          "output_type": "display_data"
        },
        {
          "name": "stderr",
          "output_type": "stream",
          "text": [
            "Warning message in ks.test(usa_numeric$obama, usa_numeric$hispanos):\n",
            "\"cannot compute exact p-value with ties\"\n"
          ]
        },
        {
          "data": {
            "text/plain": [
              "\n",
              "\tTwo-sample Kolmogorov-Smirnov test\n",
              "\n",
              "data:  usa_numeric$obama and usa_numeric$hispanos\n",
              "D = 0.90196, p-value < 2.2e-16\n",
              "alternative hypothesis: two-sided\n"
            ]
          },
          "metadata": {},
          "output_type": "display_data"
        }
      ],
      "source": [
        "#Realizamos los test ks para conocer si nuestras variables dependiente e independiente siguen una misma distribucion de probabilidad\n",
        "ks.test(usa_numeric$obama,usa_numeric$grad_univ)\n",
        "ks.test(usa_numeric$obama,usa_numeric$blancos)\n",
        "ks.test(usa_numeric$obama,usa_numeric$afro)\n",
        "ks.test(usa_numeric$obama,usa_numeric$hispanos)"
      ]
    },
    {
      "cell_type": "markdown",
      "metadata": {
        "id": "io5fHpLpmrCI"
      },
      "source": [
        "Despues de realizar el test de Kolmogorov-Smirnov vemos que al parecer ninguna de las variables independientes siguen la misma distribucion de probabilidad, pero como hemos visto todas estas variables tienen media y desviaciones distintas por lo cual podemos estar ante un caso en el cual si tengan distribucion normal pero por esta razón nos genere un p-valor tan pequeño, para confirmar esto vamos a usar otro test que valide o anule el test ks"
      ]
    },
    {
      "cell_type": "code",
      "execution_count": null,
      "metadata": {
        "scrolled": false,
        "id": "OBeumaXOmrCI",
        "outputId": "b0c3f38d-0b95-4e7a-c71f-588bae559edb"
      },
      "outputs": [
        {
          "data": {
            "text/plain": [
              "\n",
              "\tLilliefors (Kolmogorov-Smirnov) normality test\n",
              "\n",
              "data:  usa_numeric$obama\n",
              "D = 0.07775, p-value = 0.6177\n"
            ]
          },
          "metadata": {},
          "output_type": "display_data"
        },
        {
          "data": {
            "text/plain": [
              "\n",
              "\tLilliefors (Kolmogorov-Smirnov) normality test\n",
              "\n",
              "data:  usa_numeric$grad_univ\n",
              "D = 0.10881, p-value = 0.1378\n"
            ]
          },
          "metadata": {},
          "output_type": "display_data"
        },
        {
          "data": {
            "text/plain": [
              "\n",
              "\tLilliefors (Kolmogorov-Smirnov) normality test\n",
              "\n",
              "data:  usa_numeric$afro\n",
              "D = 0.16532, p-value = 0.001322\n"
            ]
          },
          "metadata": {},
          "output_type": "display_data"
        },
        {
          "data": {
            "text/plain": [
              "\n",
              "\tLilliefors (Kolmogorov-Smirnov) normality test\n",
              "\n",
              "data:  usa_numeric$hispanos\n",
              "D = 0.21051, p-value = 5.898e-06\n"
            ]
          },
          "metadata": {},
          "output_type": "display_data"
        },
        {
          "data": {
            "text/plain": [
              "\n",
              "\tLilliefors (Kolmogorov-Smirnov) normality test\n",
              "\n",
              "data:  usa_numeric$blancos\n",
              "D = 0.10937, p-value = 0.1332\n"
            ]
          },
          "metadata": {},
          "output_type": "display_data"
        }
      ],
      "source": [
        "#Usamos el lillie tiest para confirmar lo obtenido en el test anterior.\n",
        "lillie.test(usa_numeric$obama)\n",
        "lillie.test(usa_numeric$grad_univ)\n",
        "lillie.test(usa_numeric$afro)\n",
        "lillie.test(usa_numeric$hispanos)\n",
        "lillie.test(usa_numeric$blancos)"
      ]
    },
    {
      "cell_type": "markdown",
      "metadata": {
        "id": "74GzmwPvmrCI"
      },
      "source": [
        "Ahora si que podemos contrastar los resultados del test ks con el test lillie, notamos segun nuestros p-valores lo siguiente:  \n",
        "\n",
        "Nuestra variable dependiente 'obama' si sigue una distribucion normal, al igual que las variables independientes grad_univ y blancos. Las variables afro e hispanos no siguen una distribucion normal."
      ]
    },
    {
      "cell_type": "markdown",
      "metadata": {
        "id": "kuydpkpOmrCI"
      },
      "source": [
        "**Contraste de hipotesis para la media**  \n",
        "Dado que nuestro contraste de hipótesis de bondad de ajuste nos da como resultado que dos de nuestras variables no siguen una distribución normal, no es posible aplicar test paramétricos por lo que pasamos directamente a los test no paramétricos que se aplican sobre la mediana y no sobre la media"
      ]
    },
    {
      "cell_type": "code",
      "execution_count": null,
      "metadata": {
        "scrolled": false,
        "id": "ZUFKwn-imrCJ",
        "outputId": "19bca6be-25a8-4636-c8ba-1b468c78e515"
      },
      "outputs": [
        {
          "data": {
            "text/plain": [
              "\n",
              "\tWilcoxon rank sum test with continuity correction\n",
              "\n",
              "data:  usa_numeric$obama and usa_numeric$grad_univ\n",
              "W = 2490, p-value = 1.753e-15\n",
              "alternative hypothesis: true location shift is not equal to 0\n"
            ]
          },
          "metadata": {},
          "output_type": "display_data"
        },
        {
          "data": {
            "text/plain": [
              "\n",
              "\tWilcoxon rank sum test with continuity correction\n",
              "\n",
              "data:  usa_numeric$obama and usa_numeric$afro\n",
              "W = 2560, p-value < 2.2e-16\n",
              "alternative hypothesis: true location shift is not equal to 0\n"
            ]
          },
          "metadata": {},
          "output_type": "display_data"
        },
        {
          "data": {
            "text/plain": [
              "\n",
              "\tWilcoxon rank sum test with continuity correction\n",
              "\n",
              "data:  usa_numeric$obama and usa_numeric$hispanos\n",
              "W = 2563, p-value < 2.2e-16\n",
              "alternative hypothesis: true location shift is not equal to 0\n"
            ]
          },
          "metadata": {},
          "output_type": "display_data"
        },
        {
          "data": {
            "text/plain": [
              "\n",
              "\tWilcoxon rank sum test with continuity correction\n",
              "\n",
              "data:  usa_numeric$obama and usa_numeric$blancos\n",
              "W = 353, p-value = 2.327e-10\n",
              "alternative hypothesis: true location shift is not equal to 0\n"
            ]
          },
          "metadata": {},
          "output_type": "display_data"
        }
      ],
      "source": [
        "#Usamos el test de wilcox para contrastar entre nuestras variables dependiente e independientes si su media di\n",
        "wilcox.test(usa_numeric$obama, usa_numeric$grad_univ, paired = FALSE)\n",
        "wilcox.test(usa_numeric$obama, usa_numeric$afro, paired = FALSE)\n",
        "wilcox.test(usa_numeric$obama, usa_numeric$hispanos, paired = FALSE)\n",
        "wilcox.test(usa_numeric$obama, usa_numeric$blancos, paired = FALSE)"
      ]
    },
    {
      "cell_type": "markdown",
      "metadata": {
        "id": "jTH7vi70mrCJ"
      },
      "source": [
        "Como vimos en la exploracion de datos ya logramos inferir que existe una diferencia entre las medianas de todas nuestras variables, realizando el test de Wilcoxon que aplica sobre estas mismas ya que no es posible utilizar un test paramétrico podemos utilizando este contraste **RECHAZAR** la hipótesis nula, por lo tanto como conclusion decimos que si existe una diferencia significativa entre las medianas de nuestra variable dependiente y todas las variables independientes, esto soportado en nuestro p-valor resultado de hacer la pruena con cada una de ellas, siendo todos menores que el 5%"
      ]
    },
    {
      "cell_type": "code",
      "execution_count": null,
      "metadata": {
        "scrolled": true,
        "id": "batsChDimrCJ",
        "outputId": "881cf96f-3337-4052-a1d1-ee28bd0dc8dc"
      },
      "outputs": [
        {
          "data": {
            "text/html": [
              "<table class=\"dataframe\">\n",
              "<caption>A matrix: 5 × 5 of type dbl</caption>\n",
              "<thead>\n",
              "\t<tr><th></th><th scope=col>obama</th><th scope=col>grad_univ</th><th scope=col>afro</th><th scope=col>hispanos</th><th scope=col>blancos</th></tr>\n",
              "</thead>\n",
              "<tbody>\n",
              "\t<tr><th scope=row>obama</th><td> 1.0000000</td><td> 0.6527445</td><td> 0.13634101</td><td> 0.28526817</td><td>-0.3251731</td></tr>\n",
              "\t<tr><th scope=row>grad_univ</th><td> 0.6527445</td><td> 1.0000000</td><td>-0.10738528</td><td> 0.35439486</td><td>-0.1407593</td></tr>\n",
              "\t<tr><th scope=row>afro</th><td> 0.1363410</td><td>-0.1073853</td><td> 1.00000000</td><td> 0.06361456</td><td>-0.5872477</td></tr>\n",
              "\t<tr><th scope=row>hispanos</th><td> 0.2852682</td><td> 0.3543949</td><td> 0.06361456</td><td> 1.00000000</td><td>-0.6358966</td></tr>\n",
              "\t<tr><th scope=row>blancos</th><td>-0.3251731</td><td>-0.1407593</td><td>-0.58724771</td><td>-0.63589663</td><td> 1.0000000</td></tr>\n",
              "</tbody>\n",
              "</table>\n"
            ],
            "text/latex": [
              "A matrix: 5 × 5 of type dbl\n",
              "\\begin{tabular}{r|lllll}\n",
              "  & obama & grad\\_univ & afro & hispanos & blancos\\\\\n",
              "\\hline\n",
              "\tobama &  1.0000000 &  0.6527445 &  0.13634101 &  0.28526817 & -0.3251731\\\\\n",
              "\tgrad\\_univ &  0.6527445 &  1.0000000 & -0.10738528 &  0.35439486 & -0.1407593\\\\\n",
              "\tafro &  0.1363410 & -0.1073853 &  1.00000000 &  0.06361456 & -0.5872477\\\\\n",
              "\thispanos &  0.2852682 &  0.3543949 &  0.06361456 &  1.00000000 & -0.6358966\\\\\n",
              "\tblancos & -0.3251731 & -0.1407593 & -0.58724771 & -0.63589663 &  1.0000000\\\\\n",
              "\\end{tabular}\n"
            ],
            "text/markdown": [
              "\n",
              "A matrix: 5 × 5 of type dbl\n",
              "\n",
              "| <!--/--> | obama | grad_univ | afro | hispanos | blancos |\n",
              "|---|---|---|---|---|---|\n",
              "| obama |  1.0000000 |  0.6527445 |  0.13634101 |  0.28526817 | -0.3251731 |\n",
              "| grad_univ |  0.6527445 |  1.0000000 | -0.10738528 |  0.35439486 | -0.1407593 |\n",
              "| afro |  0.1363410 | -0.1073853 |  1.00000000 |  0.06361456 | -0.5872477 |\n",
              "| hispanos |  0.2852682 |  0.3543949 |  0.06361456 |  1.00000000 | -0.6358966 |\n",
              "| blancos | -0.3251731 | -0.1407593 | -0.58724771 | -0.63589663 |  1.0000000 |\n",
              "\n"
            ],
            "text/plain": [
              "          obama      grad_univ  afro        hispanos    blancos   \n",
              "obama      1.0000000  0.6527445  0.13634101  0.28526817 -0.3251731\n",
              "grad_univ  0.6527445  1.0000000 -0.10738528  0.35439486 -0.1407593\n",
              "afro       0.1363410 -0.1073853  1.00000000  0.06361456 -0.5872477\n",
              "hispanos   0.2852682  0.3543949  0.06361456  1.00000000 -0.6358966\n",
              "blancos   -0.3251731 -0.1407593 -0.58724771 -0.63589663  1.0000000"
            ]
          },
          "metadata": {},
          "output_type": "display_data"
        }
      ],
      "source": [
        "#Aplicamos la funcion cor para obtener nuestra matriz de coeficientes de correlación\n",
        "cor(usa_numeric, method = \"spearman\")"
      ]
    },
    {
      "cell_type": "markdown",
      "metadata": {
        "id": "DNfkD1nemrCJ"
      },
      "source": [
        "Dado que nuestra variable dependiente es *obama* vamos a ver los coeficientes de correlacion que tiene con el resto de nuestras variables.\n",
        "\n",
        "Podemos observar una relacion positiva fuerte con el grado universitario, mientras que la correlacion con afro e hispanos sigue siendo positiva pero mucho mas debil. Por último notamos que la correlacion con la variable blancos es negativa esto quiere decir que para este caso específico si la población blanca de un estado aumenta, la votación para obama va a reducirse"
      ]
    },
    {
      "cell_type": "code",
      "execution_count": null,
      "metadata": {
        "scrolled": false,
        "id": "aO1sM4GMmrCK",
        "outputId": "acc9c4a8-085d-41f4-8773-daeb4cf8bff5"
      },
      "outputs": [
        {
          "name": "stderr",
          "output_type": "stream",
          "text": [
            "Warning message in cor.test.default(usa_numeric$obama, usa_numeric$grad_univ, method = \"spearman\"):\n",
            "\"Cannot compute exact p-value with ties\"\n"
          ]
        },
        {
          "data": {
            "text/plain": [
              "\n",
              "\tSpearman's rank correlation rho\n",
              "\n",
              "data:  usa_numeric$obama and usa_numeric$grad_univ\n",
              "S = 7674.3, p-value = 2.094e-07\n",
              "alternative hypothesis: true rho is not equal to 0\n",
              "sample estimates:\n",
              "      rho \n",
              "0.6527445 \n"
            ]
          },
          "metadata": {},
          "output_type": "display_data"
        },
        {
          "name": "stderr",
          "output_type": "stream",
          "text": [
            "Warning message in cor.test.default(usa_numeric$obama, usa_numeric$afro, method = \"spearman\"):\n",
            "\"Cannot compute exact p-value with ties\"\n"
          ]
        },
        {
          "data": {
            "text/plain": [
              "\n",
              "\tSpearman's rank correlation rho\n",
              "\n",
              "data:  usa_numeric$obama and usa_numeric$afro\n",
              "S = 19087, p-value = 0.3401\n",
              "alternative hypothesis: true rho is not equal to 0\n",
              "sample estimates:\n",
              "     rho \n",
              "0.136341 \n"
            ]
          },
          "metadata": {},
          "output_type": "display_data"
        },
        {
          "name": "stderr",
          "output_type": "stream",
          "text": [
            "Warning message in cor.test.default(usa_numeric$obama, usa_numeric$hispanos, method = \"spearman\"):\n",
            "\"Cannot compute exact p-value with ties\"\n"
          ]
        },
        {
          "data": {
            "text/plain": [
              "\n",
              "\tSpearman's rank correlation rho\n",
              "\n",
              "data:  usa_numeric$obama and usa_numeric$hispanos\n",
              "S = 15796, p-value = 0.04245\n",
              "alternative hypothesis: true rho is not equal to 0\n",
              "sample estimates:\n",
              "      rho \n",
              "0.2852682 \n"
            ]
          },
          "metadata": {},
          "output_type": "display_data"
        },
        {
          "name": "stderr",
          "output_type": "stream",
          "text": [
            "Warning message in cor.test.default(usa_numeric$obama, usa_numeric$blancos, method = \"spearman\"):\n",
            "\"Cannot compute exact p-value with ties\"\n"
          ]
        },
        {
          "data": {
            "text/plain": [
              "\n",
              "\tSpearman's rank correlation rho\n",
              "\n",
              "data:  usa_numeric$obama and usa_numeric$blancos\n",
              "S = 29286, p-value = 0.0199\n",
              "alternative hypothesis: true rho is not equal to 0\n",
              "sample estimates:\n",
              "       rho \n",
              "-0.3251731 \n"
            ]
          },
          "metadata": {},
          "output_type": "display_data"
        }
      ],
      "source": [
        "#Tenemos nuestros coeficientes de correlación, ahora vamos a hacer el contraste de hipótesis para verificar si tienen\n",
        "#valor estadístico\n",
        "cor.test(usa_numeric$obama, usa_numeric$grad_univ, method = \"spearman\")\n",
        "cor.test(usa_numeric$obama, usa_numeric$afro, method = \"spearman\")\n",
        "cor.test(usa_numeric$obama, usa_numeric$hispanos, method = \"spearman\")\n",
        "cor.test(usa_numeric$obama, usa_numeric$blancos, method = \"spearman\")"
      ]
    },
    {
      "cell_type": "markdown",
      "metadata": {
        "id": "WCpnV_tZmrCK"
      },
      "source": [
        "Una vez realizado nuestro test de spearman podemos concluir que aunque tenemos los coeficientes de correlacion para todas las variables, estadísticamente hablando solo podemos afirmar que existe una correlacion entre las variables independientes grad_univ, hispanos y blancos ya que todos tienen un p-valor menor al 5% lo cual nos hace rechazar la hipótesis nula en favor de la alternativa que sugiere que si existe una correlacion entre las variables independientes con la variable dependiente obama.\n",
        "\n",
        "La variable afro a pesar de que tiene un coeficiente de correlacion esta no se considera estadisticamente significativa según nuestro test de spearman"
      ]
    },
    {
      "cell_type": "markdown",
      "metadata": {
        "id": "XvallLM_mrCK"
      },
      "source": [
        "<div style=\"background-color:#5DADE2\"><b>Apartado 4</b></div>"
      ]
    },
    {
      "cell_type": "markdown",
      "metadata": {
        "id": "WhNb9yFZmrCK"
      },
      "source": [
        "**Estimación de un modelo de regresión lineal múltiple entre las variables seleccionadas**\n",
        "\n",
        "Realizados nuestros analisis anteriores y teniendo en cuenta que para aplicar un modelo de regresion uno de las principales requisitos es que la variable dependiente tenga correlacion con la variable independiente vamos a realizar nuestro modelo con las variables cuya correlación resultó estadisticamente significativa de acuerdo a nuestro contraste de correlación anterior."
      ]
    },
    {
      "cell_type": "code",
      "execution_count": null,
      "metadata": {
        "id": "wBBkpsKCmrCK",
        "outputId": "6fc0a16e-8907-407c-f524-c947e77b596e"
      },
      "outputs": [
        {
          "data": {
            "text/plain": [
              "\n",
              "Call:\n",
              "lm(formula = obama ~ grad_univ + hispanos + blancos, data = usa_numeric)\n",
              "\n",
              "Coefficients:\n",
              "(Intercept)    grad_univ     hispanos      blancos  \n",
              "    31.9948       1.3181      -0.1661      -0.2614  \n"
            ]
          },
          "metadata": {},
          "output_type": "display_data"
        }
      ],
      "source": [
        "#Aplicamos nuestro modelo de regresion lineal múltiple con las variables que resultaron estadísticamente significativas\n",
        "modelo = lm(obama ~ grad_univ + hispanos + blancos, data = usa_numeric)\n",
        "modelo"
      ]
    },
    {
      "cell_type": "markdown",
      "metadata": {
        "id": "xYx-lRG9mrCL"
      },
      "source": [
        "Obtenemos así nuestro modelo de regresión lineal múltiple con nuestras 3 variables independientes que guardan correlacion con nuestra variable dependiente"
      ]
    },
    {
      "cell_type": "markdown",
      "metadata": {
        "id": "rZeKRkp0mrCL"
      },
      "source": [
        "<div style=\"background-color:#5DADE2\"><b>Apartado 5</b></div>"
      ]
    },
    {
      "cell_type": "markdown",
      "metadata": {
        "id": "gDUrt9IDmrCL"
      },
      "source": [
        "Interpretación de las salidas de estimación del modelo de regresión lineal múltiple obtenido"
      ]
    },
    {
      "cell_type": "code",
      "execution_count": null,
      "metadata": {
        "id": "AKx1gYlymrCM",
        "outputId": "083843f0-7231-46d2-b224-a6de85270407"
      },
      "outputs": [
        {
          "name": "stdout",
          "output_type": "stream",
          "text": [
            "List of 12\n",
            " $ coefficients : Named num [1:4] 31.995 1.318 -0.166 -0.261\n",
            "  ..- attr(*, \"names\")= chr [1:4] \"(Intercept)\" \"grad_univ\" \"hispanos\" \"blancos\"\n",
            " $ residuals    : Named num [1:51] -4.865 -9.762 -2.44 -0.673 4.771 ...\n",
            "  ..- attr(*, \"names\")= chr [1:51] \"1\" \"2\" \"3\" \"4\" ...\n",
            " $ effects      : Named num [1:51] -350.11 59.75 -5.76 -23.08 5.1 ...\n",
            "  ..- attr(*, \"names\")= chr [1:51] \"(Intercept)\" \"grad_univ\" \"hispanos\" \"blancos\" ...\n",
            " $ rank         : int 4\n",
            " $ fitted.values: Named num [1:51] 43.2 50.6 47 37.6 55.5 ...\n",
            "  ..- attr(*, \"names\")= chr [1:51] \"1\" \"2\" \"3\" \"4\" ...\n",
            " $ assign       : int [1:4] 0 1 2 3\n",
            " $ qr           :List of 5\n",
            "  ..$ qr   : num [1:51, 1:4] -7.14 0.14 0.14 0.14 0.14 ...\n",
            "  .. ..- attr(*, \"dimnames\")=List of 2\n",
            "  .. .. ..$ : chr [1:51] \"1\" \"2\" \"3\" \"4\" ...\n",
            "  .. .. ..$ : chr [1:4] \"(Intercept)\" \"grad_univ\" \"hispanos\" \"blancos\"\n",
            "  .. ..- attr(*, \"assign\")= int [1:4] 0 1 2 3\n",
            "  ..$ qraux: num [1:4] 1.14 1 1.29 1\n",
            "  ..$ pivot: int [1:4] 1 2 3 4\n",
            "  ..$ tol  : num 1e-07\n",
            "  ..$ rank : int 4\n",
            "  ..- attr(*, \"class\")= chr \"qr\"\n",
            " $ df.residual  : int 47\n",
            " $ xlevels      : Named list()\n",
            " $ call         : language lm(formula = obama ~ grad_univ + hispanos + blancos, data = usa_numeric)\n",
            " $ terms        :Classes 'terms', 'formula'  language obama ~ grad_univ + hispanos + blancos\n",
            "  .. ..- attr(*, \"variables\")= language list(obama, grad_univ, hispanos, blancos)\n",
            "  .. ..- attr(*, \"factors\")= int [1:4, 1:3] 0 1 0 0 0 0 1 0 0 0 ...\n",
            "  .. .. ..- attr(*, \"dimnames\")=List of 2\n",
            "  .. .. .. ..$ : chr [1:4] \"obama\" \"grad_univ\" \"hispanos\" \"blancos\"\n",
            "  .. .. .. ..$ : chr [1:3] \"grad_univ\" \"hispanos\" \"blancos\"\n",
            "  .. ..- attr(*, \"term.labels\")= chr [1:3] \"grad_univ\" \"hispanos\" \"blancos\"\n",
            "  .. ..- attr(*, \"order\")= int [1:3] 1 1 1\n",
            "  .. ..- attr(*, \"intercept\")= int 1\n",
            "  .. ..- attr(*, \"response\")= int 1\n",
            "  .. ..- attr(*, \".Environment\")=<environment: R_GlobalEnv> \n",
            "  .. ..- attr(*, \"predvars\")= language list(obama, grad_univ, hispanos, blancos)\n",
            "  .. ..- attr(*, \"dataClasses\")= Named chr [1:4] \"numeric\" \"numeric\" \"numeric\" \"numeric\"\n",
            "  .. .. ..- attr(*, \"names\")= chr [1:4] \"obama\" \"grad_univ\" \"hispanos\" \"blancos\"\n",
            " $ model        :'data.frame':\t51 obs. of  4 variables:\n",
            "  ..$ obama    : num [1:51] 38.4 40.8 44.6 36.9 60.2 ...\n",
            "  ..$ grad_univ: num [1:51] 22.3 27.5 26.6 19.8 30.5 36.7 36.2 28.5 51.2 26.2 ...\n",
            "  ..$ hispanos : num [1:51] 3.9 5.5 29.6 6.4 37.6 20.7 13.4 8.2 9.1 22.5 ...\n",
            "  ..$ blancos  : num [1:51] 67 64.1 57.8 74.5 40.1 70 71.2 65.3 34.8 57.9 ...\n",
            "  ..- attr(*, \"terms\")=Classes 'terms', 'formula'  language obama ~ grad_univ + hispanos + blancos\n",
            "  .. .. ..- attr(*, \"variables\")= language list(obama, grad_univ, hispanos, blancos)\n",
            "  .. .. ..- attr(*, \"factors\")= int [1:4, 1:3] 0 1 0 0 0 0 1 0 0 0 ...\n",
            "  .. .. .. ..- attr(*, \"dimnames\")=List of 2\n",
            "  .. .. .. .. ..$ : chr [1:4] \"obama\" \"grad_univ\" \"hispanos\" \"blancos\"\n",
            "  .. .. .. .. ..$ : chr [1:3] \"grad_univ\" \"hispanos\" \"blancos\"\n",
            "  .. .. ..- attr(*, \"term.labels\")= chr [1:3] \"grad_univ\" \"hispanos\" \"blancos\"\n",
            "  .. .. ..- attr(*, \"order\")= int [1:3] 1 1 1\n",
            "  .. .. ..- attr(*, \"intercept\")= int 1\n",
            "  .. .. ..- attr(*, \"response\")= int 1\n",
            "  .. .. ..- attr(*, \".Environment\")=<environment: R_GlobalEnv> \n",
            "  .. .. ..- attr(*, \"predvars\")= language list(obama, grad_univ, hispanos, blancos)\n",
            "  .. .. ..- attr(*, \"dataClasses\")= Named chr [1:4] \"numeric\" \"numeric\" \"numeric\" \"numeric\"\n",
            "  .. .. .. ..- attr(*, \"names\")= chr [1:4] \"obama\" \"grad_univ\" \"hispanos\" \"blancos\"\n",
            " - attr(*, \"class\")= chr \"lm\"\n"
          ]
        }
      ],
      "source": [
        "str(modelo)"
      ]
    },
    {
      "cell_type": "markdown",
      "metadata": {
        "id": "0sS6Ru78mrCM"
      },
      "source": [
        "**Extraemos el output de nuestra regresión**"
      ]
    },
    {
      "cell_type": "code",
      "execution_count": null,
      "metadata": {
        "id": "_FllcWSjmrCM",
        "outputId": "8408b651-d0d3-4222-ab81-6cc826882741"
      },
      "outputs": [
        {
          "data": {
            "text/plain": [
              "\n",
              "Call:\n",
              "lm(formula = obama ~ grad_univ + hispanos + blancos, data = usa_numeric)\n",
              "\n",
              "Residuals:\n",
              "     Min       1Q   Median       3Q      Max \n",
              "-23.4779  -4.6450   0.1355   5.8230  14.3982 \n",
              "\n",
              "Coefficients:\n",
              "            Estimate Std. Error t value Pr(>|t|)    \n",
              "(Intercept) 31.99476    9.90541   3.230  0.00226 ** \n",
              "grad_univ    1.31815    0.19592   6.728 2.11e-08 ***\n",
              "hispanos    -0.16608    0.13780  -1.205  0.23413    \n",
              "blancos     -0.26145    0.08801  -2.971  0.00467 ** \n",
              "---\n",
              "Signif. codes:  0 '***' 0.001 '**' 0.01 '*' 0.05 '.' 0.1 ' ' 1\n",
              "\n",
              "Residual standard error: 7.771 on 47 degrees of freedom\n",
              "Multiple R-squared:  0.5931,\tAdjusted R-squared:  0.5671 \n",
              "F-statistic: 22.83 on 3 and 47 DF,  p-value: 2.89e-09\n"
            ]
          },
          "metadata": {},
          "output_type": "display_data"
        }
      ],
      "source": [
        "output = summary(modelo)\n",
        "output"
      ]
    },
    {
      "cell_type": "markdown",
      "metadata": {
        "id": "VQZbBu-omrCM"
      },
      "source": [
        "Como ya obtuvimos los valores *resumidos* de nuestro modelo siendo mas faciles de comprender podemos sacar como primeras conclusiones al respecto que:\n",
        "\n",
        "**1.** Nuestra ecuacion para la regresion integrando coeficientes y variables quedaría de la siguiente manera:    \n",
        "\n",
        "*obama=31.99476+1.31815×grad_univ−0.16608×hispanos−0.26145×blancos*  \n",
        "\n",
        "Lo que nos dice que estamos evaluando la variable dependiente \"obama\" en funcion de las variables indepentientes \"grad_univ\", \"hispanos\" y \"blancos\".\n",
        "\n",
        "**2.** Los coeficientes de nuestra fórmula, es decir los valores que acompañan a las variables y sirven para expresar cual es la variacion de buestra variable dependiente con cada unidad que se mueva la variable independiente son los siguientes:\n",
        "\n",
        "*(Intercept): 31.99476, (grad_univ): 1.31815, (hispanos): -0.16608, (blancos): -0.26145*\n",
        "\n",
        "Es importante notar el peso que tiene grad_univ de manera positiva en este modelo.\n",
        "\n",
        "**3.** La desviacion estandar es otra de las medidas que nos da nuestro modelo y hace referencia a la dispersion de los datos, en este caso tenemos una desviacion para cada una de las variables:\n",
        "\n",
        "Desviación estándar de obama (β0): 9.90541\n",
        "Desviación estándar de grad_univ β1 0.19592\n",
        "Desviación estándar de hispanos β2: 0.13780\n",
        "Desviación estándar de blancos β3: 0.08801\n",
        "\n",
        "**4.** El modelo de regresión lineal múltiple tambien calcula el estimador y nos da la pauta para saber si las variables que ingresan al modelo son estadísticamente significativas, esto lo vemos con su p-valor:\n",
        "\n",
        "Variable obama (β0): p = 0.00226 es menor a 5% por lo cual es estadísticamente significativa\n",
        "Variable grad_univ (β1): p = 2.11e-08 es menor a 5% por lo cual es estadísticamente significativa\n",
        "Variable hispanos (β2): p = 0.23413 es mayor a 5% por lo cual no es estadísticamente significativa\n",
        "Variable blancos (β3): p = 0.00467 es menor a 5% por lo cual es estadísticamente significativa\n",
        "\n",
        "Con lo cual a pesar de que hispanos tiene correlación con la variable obama, podemos ver que no tiene un grado de explicación de nuestra variable objetivo que sea reelevante en nuestro modelo.\n",
        "\n",
        "**5.** El RSE nos da una medida de la diferencia entre los valores estimados de nuestra variable dependiente, para nuestro caso es obama y los valores reales siendo de 7.771, teniendo en cuenta nuestro rango podemos decir que todavía se puede llegar a ajustar este valor ya que las diferencias parecen ser significativas.\n",
        "\n",
        "**6.** El coeficiente de determinación nos explica cuanto de nuestro modelo logra explicar los cambios en nuestra variable dependiente, según nuestra estimación el modelo solo logra explicar el 59.31% de las variaciones en la votación de obama, esto quiere decir que o bien necesitamos mas datos para nuestro cálculo o tal vez esa diferencia se encuentra explicada por otras variables que no se han incluido en el modelo\n",
        "\n",
        "**7.** Por último tenemos los grados de libertad que para nuestro caso son 47 ya que es el conteo de nuestras observaciones menos la cantidad de variables utilizadas en nuestro modelo y nuestro estadístico F que por el momento resulta significativo dado su p-valor.\n",
        "\n",
        "Veamos cada uno de ellos."
      ]
    },
    {
      "cell_type": "markdown",
      "metadata": {
        "id": "vW-S8AxQmrCM"
      },
      "source": [
        "**Extraemos nuestros coeficientes de regresión estimados**"
      ]
    },
    {
      "cell_type": "code",
      "execution_count": null,
      "metadata": {
        "scrolled": true,
        "id": "BI7n3Y3zmrCM",
        "outputId": "9e68ef12-b275-43f4-f695-5861ee187809"
      },
      "outputs": [
        {
          "data": {
            "text/html": [
              "<table class=\"dataframe\">\n",
              "<caption>A matrix: 4 × 4 of type dbl</caption>\n",
              "<thead>\n",
              "\t<tr><th></th><th scope=col>Estimate</th><th scope=col>Std. Error</th><th scope=col>t value</th><th scope=col>Pr(&gt;|t|)</th></tr>\n",
              "</thead>\n",
              "<tbody>\n",
              "\t<tr><th scope=row>(Intercept)</th><td>31.9947636</td><td>9.90541032</td><td> 3.230029</td><td>2.261463e-03</td></tr>\n",
              "\t<tr><th scope=row>grad_univ</th><td> 1.3181500</td><td>0.19591687</td><td> 6.728109</td><td>2.113953e-08</td></tr>\n",
              "\t<tr><th scope=row>hispanos</th><td>-0.1660848</td><td>0.13779863</td><td>-1.205272</td><td>2.341317e-01</td></tr>\n",
              "\t<tr><th scope=row>blancos</th><td>-0.2614478</td><td>0.08801138</td><td>-2.970613</td><td>4.670602e-03</td></tr>\n",
              "</tbody>\n",
              "</table>\n"
            ],
            "text/latex": [
              "A matrix: 4 × 4 of type dbl\n",
              "\\begin{tabular}{r|llll}\n",
              "  & Estimate & Std. Error & t value & Pr(>\\textbar{}t\\textbar{})\\\\\n",
              "\\hline\n",
              "\t(Intercept) & 31.9947636 & 9.90541032 &  3.230029 & 2.261463e-03\\\\\n",
              "\tgrad\\_univ &  1.3181500 & 0.19591687 &  6.728109 & 2.113953e-08\\\\\n",
              "\thispanos & -0.1660848 & 0.13779863 & -1.205272 & 2.341317e-01\\\\\n",
              "\tblancos & -0.2614478 & 0.08801138 & -2.970613 & 4.670602e-03\\\\\n",
              "\\end{tabular}\n"
            ],
            "text/markdown": [
              "\n",
              "A matrix: 4 × 4 of type dbl\n",
              "\n",
              "| <!--/--> | Estimate | Std. Error | t value | Pr(&gt;|t|) |\n",
              "|---|---|---|---|---|\n",
              "| (Intercept) | 31.9947636 | 9.90541032 |  3.230029 | 2.261463e-03 |\n",
              "| grad_univ |  1.3181500 | 0.19591687 |  6.728109 | 2.113953e-08 |\n",
              "| hispanos | -0.1660848 | 0.13779863 | -1.205272 | 2.341317e-01 |\n",
              "| blancos | -0.2614478 | 0.08801138 | -2.970613 | 4.670602e-03 |\n",
              "\n"
            ],
            "text/plain": [
              "            Estimate   Std. Error t value   Pr(>|t|)    \n",
              "(Intercept) 31.9947636 9.90541032  3.230029 2.261463e-03\n",
              "grad_univ    1.3181500 0.19591687  6.728109 2.113953e-08\n",
              "hispanos    -0.1660848 0.13779863 -1.205272 2.341317e-01\n",
              "blancos     -0.2614478 0.08801138 -2.970613 4.670602e-03"
            ]
          },
          "metadata": {},
          "output_type": "display_data"
        }
      ],
      "source": [
        "output$coef"
      ]
    },
    {
      "cell_type": "markdown",
      "metadata": {
        "id": "1IYED5dBmrCN"
      },
      "source": [
        "Obtenemos nuestros coeficientes de cada una de las variables, tomaremos solo la columna *Estimate* la cual nos da los coeficientes e implementandolos en nuestra fórmula tenemos que:\n",
        "\n",
        "y = β0 + β1×grad_univ + β2×hispanos + β3×blancos\n",
        "\n",
        "obama = 31.99476 + 1.31815(grad_univ) − 0.16608(hispanos) − 0.26145(blancos)"
      ]
    },
    {
      "cell_type": "markdown",
      "metadata": {
        "id": "CzNYBe_GmrCN"
      },
      "source": [
        "**Extraemos nuestros valores ajustados**"
      ]
    },
    {
      "cell_type": "code",
      "execution_count": null,
      "metadata": {
        "scrolled": true,
        "id": "LonxKOc8mrCN",
        "outputId": "b76f0784-98cc-4cb4-eb9c-000142d63cd8"
      },
      "outputs": [
        {
          "name": "stdout",
          "output_type": "stream",
          "text": [
            "       1        2        3        4        5        6 \n",
            "43.22478 50.57162 47.02976 37.55333 55.46949 58.63157 \n"
          ]
        }
      ],
      "source": [
        "print(head(modelo$fitted.values))"
      ]
    },
    {
      "cell_type": "markdown",
      "metadata": {
        "id": "E5gnFtrVmrCN"
      },
      "source": [
        "Obtenemos los valores estimados de nuestro modelo, es decir estos valores son los que nuestro modelo ha obtenido como resultado del cálculo con la fórmula vista en el punto anterior"
      ]
    },
    {
      "cell_type": "markdown",
      "metadata": {
        "id": "bg-CdmKHmrCN"
      },
      "source": [
        "**Extraemos los residuos estimados**"
      ]
    },
    {
      "cell_type": "code",
      "execution_count": null,
      "metadata": {
        "scrolled": false,
        "id": "Tadypjt6mrCO",
        "outputId": "ce7ce977-ec01-47c5-a111-84454ba69992"
      },
      "outputs": [
        {
          "name": "stdout",
          "output_type": "stream",
          "text": [
            "         1          2          3          4          5          6 \n",
            "-4.8647777 -9.7616204 -2.4397618 -0.6733324  4.7705066 -7.1415691 \n"
          ]
        }
      ],
      "source": [
        "print(head(modelo$residuals))"
      ]
    },
    {
      "cell_type": "markdown",
      "metadata": {
        "id": "Pk7MG4ubmrCO"
      },
      "source": [
        "Los valores anteriores corresponden a los residuos de nuestro modelo, que son las diferencias entre los valores estimados que vimos previamente y los valores reales de nuestro modelo"
      ]
    },
    {
      "cell_type": "code",
      "execution_count": null,
      "metadata": {
        "id": "Iv7RYe3xmrCO",
        "outputId": "ffde2078-8573-4bf3-d801-51851554107d"
      },
      "outputs": [
        {
          "name": "stdout",
          "output_type": "stream",
          "text": [
            "       1        2        3        4        5        6 \n",
            "43.22478 50.57162 47.02976 37.55333 55.46949 58.63157 \n",
            "         1          2          3          4          5          6 \n",
            "-4.8647777 -9.7616204 -2.4397618 -0.6733324  4.7705066 -7.1415691 \n",
            "    1     2     3     4     5     6 \n",
            "38.36 40.81 44.59 36.88 60.24 51.49 \n"
          ]
        }
      ],
      "source": [
        "#Realizamos la suma entre nuestros valores estimados y los residuos\n",
        "print(print(head(modelo$fitted.values))+print(head(modelo$residuals)))"
      ]
    },
    {
      "cell_type": "code",
      "execution_count": null,
      "metadata": {
        "id": "-81pr3lxmrCO",
        "outputId": "36528403-dd71-4494-c331-05374237a80c"
      },
      "outputs": [
        {
          "data": {
            "text/html": [
              "<table class=\"dataframe\">\n",
              "<caption>A data.frame: 6 × 1</caption>\n",
              "<thead>\n",
              "\t<tr><th></th><th scope=col>obama</th></tr>\n",
              "\t<tr><th></th><th scope=col>&lt;dbl&gt;</th></tr>\n",
              "</thead>\n",
              "<tbody>\n",
              "\t<tr><th scope=row>1</th><td>38.36</td></tr>\n",
              "\t<tr><th scope=row>2</th><td>40.81</td></tr>\n",
              "\t<tr><th scope=row>3</th><td>44.59</td></tr>\n",
              "\t<tr><th scope=row>4</th><td>36.88</td></tr>\n",
              "\t<tr><th scope=row>5</th><td>60.24</td></tr>\n",
              "\t<tr><th scope=row>6</th><td>51.49</td></tr>\n",
              "</tbody>\n",
              "</table>\n"
            ],
            "text/latex": [
              "A data.frame: 6 × 1\n",
              "\\begin{tabular}{r|l}\n",
              "  & obama\\\\\n",
              "  & <dbl>\\\\\n",
              "\\hline\n",
              "\t1 & 38.36\\\\\n",
              "\t2 & 40.81\\\\\n",
              "\t3 & 44.59\\\\\n",
              "\t4 & 36.88\\\\\n",
              "\t5 & 60.24\\\\\n",
              "\t6 & 51.49\\\\\n",
              "\\end{tabular}\n"
            ],
            "text/markdown": [
              "\n",
              "A data.frame: 6 × 1\n",
              "\n",
              "| <!--/--> | obama &lt;dbl&gt; |\n",
              "|---|---|\n",
              "| 1 | 38.36 |\n",
              "| 2 | 40.81 |\n",
              "| 3 | 44.59 |\n",
              "| 4 | 36.88 |\n",
              "| 5 | 60.24 |\n",
              "| 6 | 51.49 |\n",
              "\n"
            ],
            "text/plain": [
              "  obama\n",
              "1 38.36\n",
              "2 40.81\n",
              "3 44.59\n",
              "4 36.88\n",
              "5 60.24\n",
              "6 51.49"
            ]
          },
          "metadata": {},
          "output_type": "display_data"
        }
      ],
      "source": [
        "#Comparamos los valores resultado de la operación anterior y los valores reales de nuestro dataframe\n",
        "head(usa_numeric[\"obama\"])"
      ]
    },
    {
      "cell_type": "markdown",
      "metadata": {
        "id": "V2adfENFmrCP"
      },
      "source": [
        "**Extraemos los grados de libertad**"
      ]
    },
    {
      "cell_type": "code",
      "execution_count": null,
      "metadata": {
        "scrolled": false,
        "id": "Y4x6I4epmrCP",
        "outputId": "7fdbcc9e-52cf-4cf3-bc0a-25488918ebc8"
      },
      "outputs": [
        {
          "data": {
            "text/html": [
              "47"
            ],
            "text/latex": [
              "47"
            ],
            "text/markdown": [
              "47"
            ],
            "text/plain": [
              "[1] 47"
            ]
          },
          "metadata": {},
          "output_type": "display_data"
        }
      ],
      "source": [
        "head(output$df)[2]"
      ]
    },
    {
      "cell_type": "markdown",
      "metadata": {
        "id": "3Nfnn750mrCP"
      },
      "source": [
        "Los grados de libertad los podemos tomar como una medida de robustez en cuanto a nuestras observaciones, estos se calculan tomando la cantidad de observaciones y restandole el número de variables usadas en nuestro modelo.  \n",
        "Para este caso nuestros grados de libertad son 47, lo cual nos indica que posiblemente nuestra cantidad de observaciones sea insuficiente."
      ]
    },
    {
      "cell_type": "markdown",
      "metadata": {
        "id": "LsC1pwLymrCP"
      },
      "source": [
        "**Extraemos la suma de cuadrados de los residuos**"
      ]
    },
    {
      "cell_type": "code",
      "execution_count": null,
      "metadata": {
        "scrolled": true,
        "id": "7OyjCZ9LmrCP",
        "outputId": "19ddc067-7f8f-4292-ea8b-96489e692550"
      },
      "outputs": [
        {
          "data": {
            "text/html": [
              "7.77099120825946"
            ],
            "text/latex": [
              "7.77099120825946"
            ],
            "text/markdown": [
              "7.77099120825946"
            ],
            "text/plain": [
              "[1] 7.770991"
            ]
          },
          "metadata": {},
          "output_type": "display_data"
        }
      ],
      "source": [
        "output$sigma"
      ]
    },
    {
      "cell_type": "markdown",
      "metadata": {
        "id": "Hksadk50mrCQ"
      },
      "source": [
        "Esta medida la podemos entender como la desviacion estandar de los residuos de nuestros valores dependientes estimados versus el valor real de nuestros datos, para nuestro caso este valor es de 7.77 aproximadamente y nos dice la diferencia entre los valores estimados y los valores reales de nuestros datos"
      ]
    },
    {
      "cell_type": "markdown",
      "metadata": {
        "id": "seOy6lVYmrCQ"
      },
      "source": [
        "**Extraemos los errores de los coeficientes de regresión estimados**"
      ]
    },
    {
      "cell_type": "code",
      "execution_count": null,
      "metadata": {
        "id": "OQNIiHbvmrCQ",
        "outputId": "4143662c-21f3-4aa7-9c93-6b973c604143"
      },
      "outputs": [
        {
          "data": {
            "text/html": [
              "<table class=\"dataframe\">\n",
              "<caption>A matrix: 4 × 4 of type dbl</caption>\n",
              "<thead>\n",
              "\t<tr><th></th><th scope=col>Estimate</th><th scope=col>Std. Error</th><th scope=col>t value</th><th scope=col>Pr(&gt;|t|)</th></tr>\n",
              "</thead>\n",
              "<tbody>\n",
              "\t<tr><th scope=row>(Intercept)</th><td>31.9947636</td><td>9.90541032</td><td> 3.230029</td><td>2.261463e-03</td></tr>\n",
              "\t<tr><th scope=row>grad_univ</th><td> 1.3181500</td><td>0.19591687</td><td> 6.728109</td><td>2.113953e-08</td></tr>\n",
              "\t<tr><th scope=row>hispanos</th><td>-0.1660848</td><td>0.13779863</td><td>-1.205272</td><td>2.341317e-01</td></tr>\n",
              "\t<tr><th scope=row>blancos</th><td>-0.2614478</td><td>0.08801138</td><td>-2.970613</td><td>4.670602e-03</td></tr>\n",
              "</tbody>\n",
              "</table>\n"
            ],
            "text/latex": [
              "A matrix: 4 × 4 of type dbl\n",
              "\\begin{tabular}{r|llll}\n",
              "  & Estimate & Std. Error & t value & Pr(>\\textbar{}t\\textbar{})\\\\\n",
              "\\hline\n",
              "\t(Intercept) & 31.9947636 & 9.90541032 &  3.230029 & 2.261463e-03\\\\\n",
              "\tgrad\\_univ &  1.3181500 & 0.19591687 &  6.728109 & 2.113953e-08\\\\\n",
              "\thispanos & -0.1660848 & 0.13779863 & -1.205272 & 2.341317e-01\\\\\n",
              "\tblancos & -0.2614478 & 0.08801138 & -2.970613 & 4.670602e-03\\\\\n",
              "\\end{tabular}\n"
            ],
            "text/markdown": [
              "\n",
              "A matrix: 4 × 4 of type dbl\n",
              "\n",
              "| <!--/--> | Estimate | Std. Error | t value | Pr(&gt;|t|) |\n",
              "|---|---|---|---|---|\n",
              "| (Intercept) | 31.9947636 | 9.90541032 |  3.230029 | 2.261463e-03 |\n",
              "| grad_univ |  1.3181500 | 0.19591687 |  6.728109 | 2.113953e-08 |\n",
              "| hispanos | -0.1660848 | 0.13779863 | -1.205272 | 2.341317e-01 |\n",
              "| blancos | -0.2614478 | 0.08801138 | -2.970613 | 4.670602e-03 |\n",
              "\n"
            ],
            "text/plain": [
              "            Estimate   Std. Error t value   Pr(>|t|)    \n",
              "(Intercept) 31.9947636 9.90541032  3.230029 2.261463e-03\n",
              "grad_univ    1.3181500 0.19591687  6.728109 2.113953e-08\n",
              "hispanos    -0.1660848 0.13779863 -1.205272 2.341317e-01\n",
              "blancos     -0.2614478 0.08801138 -2.970613 4.670602e-03"
            ]
          },
          "metadata": {},
          "output_type": "display_data"
        }
      ],
      "source": [
        "output$coef"
      ]
    },
    {
      "cell_type": "markdown",
      "metadata": {
        "id": "aLODmI6pmrCR"
      },
      "source": [
        "Volvemos a sacar nuestra tabla de coeficientes pero esta vez nos vamos a fijar en la columna del error estandar de aquí podemos ver un comportamiento particular, todas nuestras variables independientes tienen un error estandar bajo (grad_univ = 0.19591687, hispanos = 0.13779863, blancos = 0.08801138), lo cual resulta bueno, pero nuestro intercepto tiene un error estandar muy alto lo cual nos deja ver que si bien las variables independientes se están comportando bien, es posible que estemos perdiendo informacion en ciertas variables que no incluimos en nuestro modelo"
      ]
    },
    {
      "cell_type": "markdown",
      "metadata": {
        "id": "NZz1cEwomrCR"
      },
      "source": [
        "**Extraemos los coeficientes de determinación**"
      ]
    },
    {
      "cell_type": "code",
      "execution_count": null,
      "metadata": {
        "scrolled": true,
        "id": "tlUtOzXwmrCR",
        "outputId": "910e969e-8930-4998-e8f4-4bf7f4ceeddd"
      },
      "outputs": [
        {
          "data": {
            "text/html": [
              "0.593077169260745"
            ],
            "text/latex": [
              "0.593077169260745"
            ],
            "text/markdown": [
              "0.593077169260745"
            ],
            "text/plain": [
              "[1] 0.5930772"
            ]
          },
          "metadata": {},
          "output_type": "display_data"
        }
      ],
      "source": [
        "#Primero vamos a obtener nuestro R2\n",
        "output$r.squared"
      ]
    },
    {
      "cell_type": "markdown",
      "metadata": {
        "id": "cOawIyBcmrCS"
      },
      "source": [
        "Como vimos cuando obtuvimos el resumen de nuestro modelo, nuestro valor R2 es de 0.5931, esto nos quiere decir que el modelo es capaz de explicar el 59.31% de los cambios de nuestra variable dependiente en funcion de las variables independientes, pero existe otro coeficiente que nos puede dar un valor mas preciso puesto que el R2 tiende a incrementar cuando incrementa el número de variables."
      ]
    },
    {
      "cell_type": "code",
      "execution_count": null,
      "metadata": {
        "id": "6pj2tANemrCS",
        "outputId": "2bb27c51-e583-4871-b499-620f546347e3"
      },
      "outputs": [
        {
          "data": {
            "text/html": [
              "0.567103371553984"
            ],
            "text/latex": [
              "0.567103371553984"
            ],
            "text/markdown": [
              "0.567103371553984"
            ],
            "text/plain": [
              "[1] 0.5671034"
            ]
          },
          "metadata": {},
          "output_type": "display_data"
        }
      ],
      "source": [
        "#Obtenemos nuestro R2 ajustado\n",
        "output$adj.r.squared"
      ]
    },
    {
      "cell_type": "markdown",
      "metadata": {
        "id": "UqCrHI24mrCS"
      },
      "source": [
        "Nuestro R2 ajustado tiene la particularidad de que penaliza el valor a obtener mientras la cantidad de variables independientes se incrementa, en este caso nuestro modelo pasa de explicar el 59.31% al 56.71% de los valores obtenidos en nuestras estimaciones, esto implicaría la posiblidad de que hay información relevante en las variables que no se tuvieron en cuenta"
      ]
    },
    {
      "cell_type": "markdown",
      "metadata": {
        "id": "24sINPfDmrCT"
      },
      "source": [
        "**Extraemos los intervalos de confianza**"
      ]
    },
    {
      "cell_type": "code",
      "execution_count": null,
      "metadata": {
        "id": "T1frdmOwmrCT",
        "outputId": "9df9e7db-ca07-4ba7-b2c0-d910091d84c2"
      },
      "outputs": [
        {
          "data": {
            "text/html": [
              "<table class=\"dataframe\">\n",
              "<caption>A matrix: 4 × 2 of type dbl</caption>\n",
              "<thead>\n",
              "\t<tr><th></th><th scope=col>2.5 %</th><th scope=col>97.5 %</th></tr>\n",
              "</thead>\n",
              "<tbody>\n",
              "\t<tr><th scope=row>(Intercept)</th><td>12.0676484</td><td>51.92187887</td></tr>\n",
              "\t<tr><th scope=row>grad_univ</th><td> 0.9240161</td><td> 1.71228391</td></tr>\n",
              "\t<tr><th scope=row>hispanos</th><td>-0.4432999</td><td> 0.11113024</td></tr>\n",
              "\t<tr><th scope=row>blancos</th><td>-0.4385038</td><td>-0.08439169</td></tr>\n",
              "</tbody>\n",
              "</table>\n"
            ],
            "text/latex": [
              "A matrix: 4 × 2 of type dbl\n",
              "\\begin{tabular}{r|ll}\n",
              "  & 2.5 \\% & 97.5 \\%\\\\\n",
              "\\hline\n",
              "\t(Intercept) & 12.0676484 & 51.92187887\\\\\n",
              "\tgrad\\_univ &  0.9240161 &  1.71228391\\\\\n",
              "\thispanos & -0.4432999 &  0.11113024\\\\\n",
              "\tblancos & -0.4385038 & -0.08439169\\\\\n",
              "\\end{tabular}\n"
            ],
            "text/markdown": [
              "\n",
              "A matrix: 4 × 2 of type dbl\n",
              "\n",
              "| <!--/--> | 2.5 % | 97.5 % |\n",
              "|---|---|---|\n",
              "| (Intercept) | 12.0676484 | 51.92187887 |\n",
              "| grad_univ |  0.9240161 |  1.71228391 |\n",
              "| hispanos | -0.4432999 |  0.11113024 |\n",
              "| blancos | -0.4385038 | -0.08439169 |\n",
              "\n"
            ],
            "text/plain": [
              "            2.5 %      97.5 %     \n",
              "(Intercept) 12.0676484 51.92187887\n",
              "grad_univ    0.9240161  1.71228391\n",
              "hispanos    -0.4432999  0.11113024\n",
              "blancos     -0.4385038 -0.08439169"
            ]
          },
          "metadata": {},
          "output_type": "display_data"
        }
      ],
      "source": [
        "confint(modelo)"
      ]
    },
    {
      "cell_type": "markdown",
      "metadata": {
        "id": "mEff5-XvmrCT"
      },
      "source": [
        "Nuestros intervalos de confianza al parecer siguen confirmando la idea de que si bien nuestras variables independientes no presentan una gran variacion, nuestra variable dependiente si lo hace, podemos ver que su intervalo de confianza va desde 12.06 hasta 51.92 lo que significa una gran variabilidad y nos sugiere que tal vez no sea el mejor modelo para predecir sobre nuestra variable dependiente"
      ]
    },
    {
      "cell_type": "markdown",
      "metadata": {
        "id": "F5ZWl2FImrCT"
      },
      "source": [
        "**Extraemos el estadístico F y su p-valor**"
      ]
    },
    {
      "cell_type": "code",
      "execution_count": null,
      "metadata": {
        "id": "84PIr2-emrCU",
        "outputId": "419bce50-f073-467a-fcf6-c293853aa1e4"
      },
      "outputs": [
        {
          "data": {
            "text/html": [
              "<strong>value:</strong> 22.8336716854604"
            ],
            "text/latex": [
              "\\textbf{value:} 22.8336716854604"
            ],
            "text/markdown": [
              "**value:** 22.8336716854604"
            ],
            "text/plain": [
              "   value \n",
              "22.83367 "
            ]
          },
          "metadata": {},
          "output_type": "display_data"
        }
      ],
      "source": [
        "output$fstatistic[1]"
      ]
    },
    {
      "cell_type": "code",
      "execution_count": null,
      "metadata": {
        "id": "MGzszE2XmrCU",
        "outputId": "39dd898e-b694-4adc-8aa6-a5b6cab2458f"
      },
      "outputs": [
        {
          "data": {
            "text/plain": [
              "\n",
              "Call:\n",
              "lm(formula = obama ~ grad_univ + hispanos + blancos, data = usa_numeric)\n",
              "\n",
              "Residuals:\n",
              "     Min       1Q   Median       3Q      Max \n",
              "-23.4779  -4.6450   0.1355   5.8230  14.3982 \n",
              "\n",
              "Coefficients:\n",
              "            Estimate Std. Error t value Pr(>|t|)    \n",
              "(Intercept) 31.99476    9.90541   3.230  0.00226 ** \n",
              "grad_univ    1.31815    0.19592   6.728 2.11e-08 ***\n",
              "hispanos    -0.16608    0.13780  -1.205  0.23413    \n",
              "blancos     -0.26145    0.08801  -2.971  0.00467 ** \n",
              "---\n",
              "Signif. codes:  0 '***' 0.001 '**' 0.01 '*' 0.05 '.' 0.1 ' ' 1\n",
              "\n",
              "Residual standard error: 7.771 on 47 degrees of freedom\n",
              "Multiple R-squared:  0.5931,\tAdjusted R-squared:  0.5671 \n",
              "F-statistic: 22.83 on 3 and 47 DF,  p-value: 2.89e-09\n"
            ]
          },
          "metadata": {},
          "output_type": "display_data"
        }
      ],
      "source": [
        "summary(modelo)"
      ]
    },
    {
      "cell_type": "markdown",
      "metadata": {
        "id": "5PUkcM8jmrCU"
      },
      "source": [
        "Podemos ver que nuestro p-valor es menor al 5% lo que nos permite rechazar la hipótesis nula de que los valores de los coeficientes son iguales entre si"
      ]
    },
    {
      "cell_type": "markdown",
      "metadata": {
        "id": "SubmeJammrCV"
      },
      "source": [
        "### 03 Ejercicio [2 puntos]\n",
        "\n",
        "Utilizando el dataset del ejercicio anterior encontrar de forma automática el mejor modelo de regresión lineal múltiple para explicar la variable `obama` en función del resto de variables excepto `estado`. Comparar sus métricas y realizar la diagnosis del modelo de regresión elegido. Es decir, tenéis que hacer los siguientes pasos:\n",
        "\n",
        "1. Criterios de selección del modelo en base al ajuste de los datos\n",
        "2. Proceso de automatización del proceso de selección del mejor modelo\n",
        "3. Requisitos y validación del mejor modelo seleccionado en base al ajuste de los datos"
      ]
    },
    {
      "cell_type": "markdown",
      "metadata": {
        "id": "_VRxnW-1mrCV"
      },
      "source": [
        "<div style=\"background-color:#F7DC6F\"><b>Resolución Ejercicio 03</b></div>"
      ]
    },
    {
      "cell_type": "markdown",
      "metadata": {
        "id": "8W9us-KrmrCV"
      },
      "source": [
        "<div style=\"background-color:#5DADE2\"><b>Apartado 1</b></div>"
      ]
    },
    {
      "cell_type": "code",
      "execution_count": null,
      "metadata": {
        "scrolled": false,
        "id": "-74L5OHFmrCV",
        "outputId": "cf59b746-aa9a-4154-efb6-d2d4fcbfc0d2"
      },
      "outputs": [
        {
          "name": "stdout",
          "output_type": "stream",
          "text": [
            "'data.frame':\t51 obs. of  21 variables:\n",
            " $ estado        : chr  \"Alabama\" \"Alaska\" \"Arizona\" \"Arkansas\" ...\n",
            " $ region        : int  3 4 4 3 4 4 1 3 3 3 ...\n",
            " $ densidad      : num  94.4 1.2 56.3 56 239.1 ...\n",
            " $ veteranos     : num  8.1 10.1 8.2 7.9 5 8.1 6 8.5 5.2 8.3 ...\n",
            " $ mujeres       : num  51.5 48 50.3 50.9 50.3 49.9 51.3 51.6 52.8 51.1 ...\n",
            " $ grad_instituto: num  82.6 91.6 85.4 83.3 81 89.9 89 87.7 87.5 85.8 ...\n",
            " $ grad_univ     : num  22.3 27.5 26.6 19.8 30.5 36.7 36.2 28.5 51.2 26.2 ...\n",
            " $ afro          : num  26.2 3.3 4.1 15.4 6.2 4 10.1 21.4 50.7 16 ...\n",
            " $ asia          : num  1.1 5.4 2.8 1.2 13 2.8 3.8 3.2 3.5 2.4 ...\n",
            " $ hispanos      : num  3.9 5.5 29.6 6.4 37.6 20.7 13.4 8.2 9.1 22.5 ...\n",
            " $ blancos       : num  67 64.1 57.8 74.5 40.1 70 71.2 65.3 34.8 57.9 ...\n",
            " $ evangelicos   : int  49 26 23 53 18 23 9 15 15 25 ...\n",
            " $ protestantes  : int  1 19 15 16 14 19 13 18 20 15 ...\n",
            " $ relig_afro    : int  18 2 2 10 4 2 4 14 18 8 ...\n",
            " $ catolicos     : int  6 14 25 5 31 19 43 27 18 26 ...\n",
            " $ mormones      : int  1 4 4 0 2 2 1 0 0 0 ...\n",
            " $ jubilados     : num  13.8 7.7 13.8 14.4 11.4 10.9 14.2 14.4 11.4 17.3 ...\n",
            " $ paro          : num  8 7.6 8.4 7.6 10.4 7.8 8.3 7.2 9 8.5 ...\n",
            " $ salario       : int  43464 63648 47044 39018 57020 57255 64247 48972 65246 46071 ...\n",
            " $ obama         : num  38.4 40.8 44.6 36.9 60.2 ...\n",
            " $ diputados     : int  9 3 11 6 55 9 7 3 3 29 ...\n"
          ]
        }
      ],
      "source": [
        "#Volvemos a cargar la estructura de nuestros datos simplemente para tenerlos presentes\n",
        "str(usa)"
      ]
    },
    {
      "cell_type": "code",
      "execution_count": null,
      "metadata": {
        "id": "yNConbZEmrCW"
      },
      "outputs": [],
      "source": [
        "usa_without_states = subset(usa, select = -estado)"
      ]
    },
    {
      "cell_type": "code",
      "execution_count": null,
      "metadata": {
        "id": "DR1OxnwlmrCW"
      },
      "outputs": [],
      "source": [
        "#Vamos a calcular 20 modelos con las variables que no tuvimos en cuenta en el anterior ejercicio para\n",
        "#ver si tenemos un mejor ajuste, estos se van a calcular con los pesos de cada uno y con los pesos\n",
        "#combinados y uno con todas las variables\n",
        "mod1 = lm(obama ~ salario + paro + jubilados + diputados, data = usa)\n",
        "mod11 = lm(obama ~ salario * paro * jubilados * diputados, data = usa)\n",
        "mod2 = lm(obama ~ region + densidad + veteranos + mujeres, data = usa)\n",
        "mod22 = lm(obama ~ region * densidad * veteranos * mujeres, data = usa)\n",
        "mod3 = lm(obama ~ mormones + catolicos + protestantes + relig_afro, data = usa)\n",
        "mod33 = lm(obama ~ mormones * catolicos * protestantes * relig_afro, data = usa)\n",
        "mod4 = lm(obama ~ salario + densidad + mormones + paro, data = usa)\n",
        "mod44 = lm(obama ~ salario * densidad * mormones * paro, data = usa)\n",
        "mod5 = lm(obama ~ paro + veteranos + relig_afro + salario, data = usa)\n",
        "mod55 = lm(obama ~ paro * veteranos * relig_afro * salario, data = usa)\n",
        "mod6 = lm(obama ~ jubilados + mujeres + paro + densidad, data = usa)\n",
        "mod66 = lm(obama ~ jubilados * mujeres * paro * densidad, data = usa)\n",
        "mod7 = lm(obama ~ diputados + region + catolicos, data = usa)\n",
        "mod77 = lm(obama ~ diputados * region * catolicos, data = usa)\n",
        "mod8 = lm(obama ~ veteranos + protestantes + densidad, data = usa)\n",
        "mod88 = lm(obama ~ veteranos * protestantes * densidad, data = usa)\n",
        "mod9 = lm(obama ~ relig_afro + mujeres + region, data = usa)\n",
        "mod99 = lm(obama ~ relig_afro * mujeres * region, data = usa)\n",
        "mod10 = lm(obama ~ ., data = usa_without_states)"
      ]
    },
    {
      "cell_type": "code",
      "execution_count": null,
      "metadata": {
        "id": "iMFgDBVnmrCW"
      },
      "outputs": [],
      "source": [
        "#Obtenemos los R2 de cada uno de los modelos para ver cuando pueden explicar de la variable dependiente\n",
        "R2=c(summary(mod1)$adj.r.squared, summary(mod11)$adj.r.squared,summary(mod2)$adj.r.squared,\n",
        "     summary(mod22)$adj.r.squared,summary(mod3)$adj.r.squared,summary(mod33)$adj.r.squared,\n",
        "     summary(mod4)$adj.r.squared,summary(mod44)$adj.r.squared,summary(mod5)$adj.r.squared,\n",
        "     summary(mod55)$adj.r.squared, summary(mod6)$adj.r.squared,summary(mod66)$adj.r.squared,\n",
        "     summary(mod7)$adj.r.squared,summary(mod77)$adj.r.squared,summary(mod8)$adj.r.squared,\n",
        "     summary(mod88)$adj.r.squared,summary(mod9)$adj.r.squared,summary(mod99)$adj.r.squared,\n",
        "     summary(mod10)$adj.r.squared)"
      ]
    },
    {
      "cell_type": "code",
      "execution_count": null,
      "metadata": {
        "id": "4HimHO87mrCW"
      },
      "outputs": [],
      "source": [
        "#Obtenemos los criterios de información de akaike\n",
        "AIC=c(extractAIC(mod1)[2],extractAIC(mod11)[2],extractAIC(mod2)[2],extractAIC(mod22)[2],\n",
        "      extractAIC(mod3)[2],extractAIC(mod33)[2],extractAIC(mod4)[2],extractAIC(mod44)[2],\n",
        "      extractAIC(mod5)[2],extractAIC(mod55)[2],extractAIC(mod6)[2],extractAIC(mod66)[2],\n",
        "      extractAIC(mod7)[2],extractAIC(mod77)[2],extractAIC(mod8)[2],extractAIC(mod88)[2],\n",
        "      extractAIC(mod9)[2],extractAIC(mod99)[2],extractAIC(mod10)[2])"
      ]
    },
    {
      "cell_type": "code",
      "execution_count": null,
      "metadata": {
        "id": "nM3WUBV0mrCW"
      },
      "outputs": [],
      "source": [
        "#Obtenemos los criterios de informacion bayesianos\n",
        "BIC=c(extractAIC(mod1,k=log(nrow(usa)))[2],extractAIC(mod11,k=log(nrow(usa)))[2],\n",
        "      extractAIC(mod2,k=log(nrow(usa)))[2],extractAIC(mod22,k=log(nrow(usa)))[2],\n",
        "      extractAIC(mod3,k=log(nrow(usa)))[2],extractAIC(mod33,k=log(nrow(usa)))[2],\n",
        "      extractAIC(mod4,k=log(nrow(usa)))[2],extractAIC(mod44,k=log(nrow(usa)))[2],\n",
        "      extractAIC(mod5,k=log(nrow(usa)))[2],extractAIC(mod55,k=log(nrow(usa)))[2],\n",
        "      extractAIC(mod6,k=log(nrow(usa)))[2],extractAIC(mod66,k=log(nrow(usa)))[2],\n",
        "      extractAIC(mod7,k=log(nrow(usa)))[2],extractAIC(mod77,k=log(nrow(usa)))[2],\n",
        "      extractAIC(mod8,k=log(nrow(usa)))[2],extractAIC(mod88,k=log(nrow(usa)))[2],\n",
        "      extractAIC(mod9,k=log(nrow(usa)))[2],extractAIC(mod99,k=log(nrow(usa)))[2],\n",
        "      extractAIC(mod10,k=log(nrow(usa)))[2])"
      ]
    },
    {
      "cell_type": "code",
      "execution_count": null,
      "metadata": {
        "id": "D467dCyDmrCY",
        "outputId": "c6f534e6-4280-49db-f901-ccf82f38fd67"
      },
      "outputs": [
        {
          "name": "stdout",
          "output_type": "stream",
          "text": [
            "\n",
            "  There is a binary version available but the source version is later:\n",
            "      binary source needs_compilation\n",
            "knitr   1.42   1.45             FALSE\n",
            "\n"
          ]
        },
        {
          "name": "stderr",
          "output_type": "stream",
          "text": [
            "installing the source package 'knitr'\n",
            "\n",
            "\n",
            "Loading required package: knitr\n",
            "\n"
          ]
        }
      ],
      "source": [
        "#Instalamos la libreria knitr que nos permite generar una tabla para comparar los resultados de\n",
        "#nuestros criterios de información y la cargamos\n",
        "install.packages(\"knitr\")\n",
        "require(knitr)"
      ]
    },
    {
      "cell_type": "code",
      "execution_count": null,
      "metadata": {
        "scrolled": false,
        "id": "3PS00jk-mrCY",
        "outputId": "b048d2bd-a564-433d-87f3-c21bf62eabaf"
      },
      "outputs": [
        {
          "data": {
            "text/plain": [
              "\n",
              "\n",
              "|         | Coef.R2adj|      AIC|      BIC|\n",
              "|:--------|----------:|--------:|--------:|\n",
              "|modelo1  |  0.4497293| 226.1137| 235.7728|\n",
              "|modelo11 |  0.5726913| 221.2776| 252.1868|\n",
              "|modelo2  |  0.3786798| 232.3069| 241.9660|\n",
              "|modelo22 |  0.6297483| 213.9681| 244.8773|\n",
              "|modelo3  |  0.2814127| 239.7244| 249.3835|\n",
              "|modelo33 |  0.2792208| 247.9417| 278.8509|\n",
              "|modelo4  |  0.5770596| 212.6915| 222.3507|\n",
              "|modelo44 |  0.6318092| 213.6834| 244.5926|\n",
              "|modelo5  |  0.3424318| 235.1987| 244.8578|\n",
              "|modelo55 |  0.3207772| 244.9132| 275.8224|\n",
              "|modelo6  |  0.3978244| 230.7107| 240.3699|\n",
              "|modelo66 |  0.6184544| 215.5005| 246.4097|\n",
              "|modelo7  |  0.1773923| 245.7160| 253.4433|\n",
              "|modelo77 |  0.1123922| 253.0582| 268.5129|\n",
              "|modelo8  |  0.3230873| 235.7742| 243.5015|\n",
              "|modelo88 |  0.4674887| 227.0010| 242.4556|\n",
              "|modelo9  |  0.2594858| 240.3541| 248.0814|\n",
              "|modelo99 |  0.3919013| 233.7704| 249.2250|\n",
              "|modelo10 |  0.8300783| 176.0576| 214.6941|"
            ]
          },
          "metadata": {},
          "output_type": "display_data"
        }
      ],
      "source": [
        "Medidas = data.frame(R2,AIC,BIC,row.names=c(\"modelo1\",\"modelo11\",\"modelo2\",\"modelo22\",\"modelo3\",\"modelo33\",\"modelo4\",\"modelo44\",\"modelo5\",\n",
        "                                           \"modelo55\",\"modelo6\",\"modelo66\",\"modelo7\",\"modelo77\",\"modelo8\",\"modelo88\",\"modelo9\",\"modelo99\",\"modelo10\"))\n",
        "names(Medidas) = c(\"Coef.R2adj\",\"AIC\",\"BIC\")\n",
        "knitr::kable(Medidas)"
      ]
    },
    {
      "cell_type": "markdown",
      "metadata": {
        "id": "aBsd300UmrCY"
      },
      "source": [
        "El modelo que mejor explica la variable obama es el que contiene todas las variables independientes, pero veamos cuales de estas sin estadísticamente significativas"
      ]
    },
    {
      "cell_type": "code",
      "execution_count": null,
      "metadata": {
        "scrolled": false,
        "id": "MX3L97hsmrCY",
        "outputId": "26dfe447-74f6-420e-da50-1613880d5c57"
      },
      "outputs": [
        {
          "data": {
            "text/plain": [
              "\n",
              "Call:\n",
              "lm(formula = obama ~ ., data = usa_without_states)\n",
              "\n",
              "Residuals:\n",
              "    Min      1Q  Median      3Q     Max \n",
              "-8.0109 -2.2652  0.4366  1.7794 12.4711 \n",
              "\n",
              "Coefficients:\n",
              "                 Estimate Std. Error t value Pr(>|t|)    \n",
              "(Intercept)    -1.464e+02  1.747e+02  -0.838 0.408275    \n",
              "region         -2.145e+00  1.714e+00  -1.251 0.220294    \n",
              "densidad        2.133e-03  1.155e-03   1.846 0.074472 .  \n",
              "veteranos       3.909e-01  1.259e+00   0.311 0.758220    \n",
              "mujeres         1.487e+00  3.250e+00   0.457 0.650507    \n",
              "grad_instituto  6.418e-01  5.968e-01   1.076 0.290449    \n",
              "grad_univ       8.180e-01  3.982e-01   2.054 0.048457 *  \n",
              "afro           -3.334e-02  4.630e-01  -0.072 0.943056    \n",
              "asia            1.362e+00  4.382e-01   3.107 0.004025 ** \n",
              "hispanos        5.531e-01  3.185e-01   1.737 0.092399 .  \n",
              "blancos         3.252e-01  2.590e-01   1.256 0.218547    \n",
              "evangelicos    -1.851e-01  1.186e-01  -1.561 0.128653    \n",
              "protestantes    1.957e-01  1.868e-01   1.048 0.302967    \n",
              "relig_afro      7.583e-01  6.971e-01   1.088 0.285030    \n",
              "catolicos      -6.768e-02  1.965e-01  -0.344 0.732902    \n",
              "mormones       -3.139e-01  1.652e-01  -1.900 0.066791 .  \n",
              "jubilados       2.357e-01  9.611e-01   0.245 0.807841    \n",
              "paro            2.237e+00  5.955e-01   3.757 0.000714 ***\n",
              "salario        -1.813e-04  1.766e-04  -1.027 0.312536    \n",
              "diputados      -1.425e-01  1.287e-01  -1.107 0.276850    \n",
              "---\n",
              "Signif. codes:  0 '***' 0.001 '**' 0.01 '*' 0.05 '.' 0.1 ' ' 1\n",
              "\n",
              "Residual standard error: 4.869 on 31 degrees of freedom\n",
              "Multiple R-squared:  0.8946,\tAdjusted R-squared:  0.8301 \n",
              "F-statistic: 13.86 on 19 and 31 DF,  p-value: 2.936e-10\n"
            ]
          },
          "metadata": {},
          "output_type": "display_data"
        }
      ],
      "source": [
        "summary(mod10)"
      ]
    },
    {
      "cell_type": "markdown",
      "metadata": {
        "id": "EQ5D39BimrCY"
      },
      "source": [
        "Como podemos ver solo tenemos 3 variables que son estadísticamente significativas en este modelo, vamos a tomarlas y entrenar un nuevo modelo sólo con estas variables"
      ]
    },
    {
      "cell_type": "code",
      "execution_count": null,
      "metadata": {
        "id": "ObIn8TU0mrCZ"
      },
      "outputs": [],
      "source": [
        "mod101 = lm(formula = obama ~ grad_univ + asia + paro, data = usa)"
      ]
    },
    {
      "cell_type": "code",
      "execution_count": null,
      "metadata": {
        "id": "4fyJ_iHemrCa"
      },
      "outputs": [],
      "source": [
        "R2=c(summary(mod10)$adj.r.squared, summary(mod101)$adj.r.squared)"
      ]
    },
    {
      "cell_type": "code",
      "execution_count": null,
      "metadata": {
        "id": "RzWXWOtemrCa"
      },
      "outputs": [],
      "source": [
        "AIC=c(extractAIC(mod10)[2],extractAIC(mod101)[2])"
      ]
    },
    {
      "cell_type": "code",
      "execution_count": null,
      "metadata": {
        "id": "Mi9bHnebmrCa"
      },
      "outputs": [],
      "source": [
        "BIC=c(extractAIC(mod10,k=log(nrow(usa)))[2],extractAIC(mod101,k=log(nrow(usa)))[2])"
      ]
    },
    {
      "cell_type": "code",
      "execution_count": null,
      "metadata": {
        "id": "9ojTr8bdmrCa",
        "outputId": "e47e0a96-62db-4b6c-94e4-1267a57879c6"
      },
      "outputs": [
        {
          "data": {
            "text/plain": [
              "\n",
              "\n",
              "|          | Coef.R2adj|      AIC|      BIC|\n",
              "|:---------|----------:|--------:|--------:|\n",
              "|modelo10  |  0.8300783| 176.0576| 214.6941|\n",
              "|modelo101 |  0.6786103| 197.7849| 205.5122|"
            ]
          },
          "metadata": {},
          "output_type": "display_data"
        }
      ],
      "source": [
        "Medidas = data.frame(R2,AIC,BIC,row.names=c(\"modelo10\",\"modelo101\"))\n",
        "names(Medidas) = c(\"Coef.R2adj\",\"AIC\",\"BIC\")\n",
        "knitr::kable(Medidas)"
      ]
    },
    {
      "cell_type": "markdown",
      "metadata": {
        "id": "GpNZiQ8UmrCb"
      },
      "source": [
        "Si comparamos nuestra R2 y los criterios de informacion podemos ver que si bien sólo tuvimos en cuenta nuestras variables que eran estadistivamente significativas y redujimos la carga en nuestro modelo, hemos perdido mucha capacidad explicativa de nuestra variable dependiente, esto puede suceder porque existen variables que no son estadísticamente significativas individualmente pero en su conjunto pueden hacer que el modelo se ajuste de una mejor manera, veamos si este es el caso usando automatizacion para encontrar un mejor modelo"
      ]
    },
    {
      "cell_type": "markdown",
      "metadata": {
        "id": "566AtBVcmrCb"
      },
      "source": [
        "<div style=\"background-color:#5DADE2\"><b>Apartado 2</b></div>"
      ]
    },
    {
      "cell_type": "code",
      "execution_count": null,
      "metadata": {
        "id": "d5ynrFKLmrCb",
        "outputId": "5c4b8c33-3778-49bb-8813-31705f0e1e15"
      },
      "outputs": [
        {
          "name": "stdout",
          "output_type": "stream",
          "text": [
            "'data.frame':\t51 obs. of  21 variables:\n",
            " $ estado        : chr  \"Alabama\" \"Alaska\" \"Arizona\" \"Arkansas\" ...\n",
            " $ region        : int  3 4 4 3 4 4 1 3 3 3 ...\n",
            " $ densidad      : num  94.4 1.2 56.3 56 239.1 ...\n",
            " $ veteranos     : num  8.1 10.1 8.2 7.9 5 8.1 6 8.5 5.2 8.3 ...\n",
            " $ mujeres       : num  51.5 48 50.3 50.9 50.3 49.9 51.3 51.6 52.8 51.1 ...\n",
            " $ grad_instituto: num  82.6 91.6 85.4 83.3 81 89.9 89 87.7 87.5 85.8 ...\n",
            " $ grad_univ     : num  22.3 27.5 26.6 19.8 30.5 36.7 36.2 28.5 51.2 26.2 ...\n",
            " $ afro          : num  26.2 3.3 4.1 15.4 6.2 4 10.1 21.4 50.7 16 ...\n",
            " $ asia          : num  1.1 5.4 2.8 1.2 13 2.8 3.8 3.2 3.5 2.4 ...\n",
            " $ hispanos      : num  3.9 5.5 29.6 6.4 37.6 20.7 13.4 8.2 9.1 22.5 ...\n",
            " $ blancos       : num  67 64.1 57.8 74.5 40.1 70 71.2 65.3 34.8 57.9 ...\n",
            " $ evangelicos   : int  49 26 23 53 18 23 9 15 15 25 ...\n",
            " $ protestantes  : int  1 19 15 16 14 19 13 18 20 15 ...\n",
            " $ relig_afro    : int  18 2 2 10 4 2 4 14 18 8 ...\n",
            " $ catolicos     : int  6 14 25 5 31 19 43 27 18 26 ...\n",
            " $ mormones      : int  1 4 4 0 2 2 1 0 0 0 ...\n",
            " $ jubilados     : num  13.8 7.7 13.8 14.4 11.4 10.9 14.2 14.4 11.4 17.3 ...\n",
            " $ paro          : num  8 7.6 8.4 7.6 10.4 7.8 8.3 7.2 9 8.5 ...\n",
            " $ salario       : int  43464 63648 47044 39018 57020 57255 64247 48972 65246 46071 ...\n",
            " $ obama         : num  38.4 40.8 44.6 36.9 60.2 ...\n",
            " $ diputados     : int  9 3 11 6 55 9 7 3 3 29 ...\n"
          ]
        }
      ],
      "source": [
        "#Volvemos a cargar la estructura de nuestro modelo para tener recordarlo\n",
        "str(usa)"
      ]
    },
    {
      "cell_type": "code",
      "execution_count": null,
      "metadata": {
        "id": "me97EnOamrCb"
      },
      "outputs": [],
      "source": [
        "#Entrenamos un modelo con todas las variables menos la variable estado porque tiene tipo chr y nos\n",
        "#va a generar problemas\n",
        "model_usa20 = lm(obama ~ .,usa_without_states)"
      ]
    },
    {
      "cell_type": "code",
      "execution_count": null,
      "metadata": {
        "scrolled": true,
        "id": "IuxNGhmbmrCb",
        "outputId": "75fddaae-e14e-442c-de3e-cd3ecb2f25e5"
      },
      "outputs": [
        {
          "name": "stdout",
          "output_type": "stream",
          "text": [
            "Start:  AIC=176.06\n",
            "obama ~ region + densidad + veteranos + mujeres + grad_instituto + \n",
            "    grad_univ + afro + asia + hispanos + blancos + evangelicos + \n",
            "    protestantes + relig_afro + catolicos + mormones + jubilados + \n",
            "    paro + salario + diputados\n",
            "\n",
            "                 Df Sum of Sq     RSS    AIC\n",
            "- afro            1      0.12  734.94 174.07\n",
            "- jubilados       1      1.43  736.24 174.16\n",
            "- veteranos       1      2.29  737.10 174.22\n",
            "- catolicos       1      2.81  737.63 174.25\n",
            "- mujeres         1      4.96  739.78 174.40\n",
            "- salario         1     24.98  759.80 175.76\n",
            "- protestantes    1     26.01  760.83 175.83\n",
            "- grad_instituto  1     27.42  762.24 175.93\n",
            "- relig_afro      1     28.05  762.87 175.97\n",
            "- diputados       1     29.04  763.86 176.03\n",
            "<none>                         734.82 176.06\n",
            "- region          1     37.10  771.91 176.57\n",
            "- blancos         1     37.39  772.20 176.59\n",
            "- evangelicos     1     57.77  792.58 177.92\n",
            "- hispanos        1     71.48  806.30 178.79\n",
            "- densidad        1     80.77  815.59 179.38\n",
            "- mormones        1     85.56  820.37 179.68\n",
            "- grad_univ       1    100.04  834.85 180.57\n",
            "- asia            1    228.82  963.63 187.88\n",
            "- paro            1    334.60 1069.41 193.19\n",
            "\n",
            "Step:  AIC=174.07\n",
            "obama ~ region + densidad + veteranos + mujeres + grad_instituto + \n",
            "    grad_univ + asia + hispanos + blancos + evangelicos + protestantes + \n",
            "    relig_afro + catolicos + mormones + jubilados + paro + salario + \n",
            "    diputados\n",
            "\n",
            "                 Df Sum of Sq     RSS    AIC\n",
            "- jubilados       1      1.36  736.30 172.16\n",
            "- veteranos       1      2.38  737.32 172.23\n",
            "- catolicos       1      2.78  737.72 172.26\n",
            "- mujeres         1      4.90  739.84 172.41\n",
            "- salario         1     24.93  759.87 173.77\n",
            "- protestantes    1     26.36  761.30 173.86\n",
            "- grad_instituto  1     27.93  762.87 173.97\n",
            "<none>                         734.94 174.07\n",
            "- diputados       1     30.12  765.06 174.12\n",
            "- region          1     37.20  772.14 174.58\n",
            "- blancos         1     52.74  787.68 175.60\n",
            "- evangelicos     1     57.73  792.67 175.92\n",
            "- relig_afro      1     62.42  797.36 176.22\n",
            "- mormones        1     87.23  822.17 177.79\n",
            "- hispanos        1     92.87  827.80 178.13\n",
            "- densidad        1     94.14  829.08 178.21\n",
            "- grad_univ       1    103.05  837.99 178.76\n",
            "- asia            1    292.53 1027.47 189.15\n",
            "- paro            1    350.86 1085.80 191.97\n",
            "\n",
            "Step:  AIC=172.16\n",
            "obama ~ region + densidad + veteranos + mujeres + grad_instituto + \n",
            "    grad_univ + asia + hispanos + blancos + evangelicos + protestantes + \n",
            "    relig_afro + catolicos + mormones + paro + salario + diputados\n",
            "\n",
            "                 Df Sum of Sq     RSS    AIC\n",
            "- catolicos       1      1.81  738.10 170.28\n",
            "- veteranos       1      4.79  741.09 170.49\n",
            "- mujeres         1     18.66  754.96 171.44\n",
            "- salario         1     26.97  763.27 172.00\n",
            "- protestantes    1     27.03  763.32 172.00\n",
            "- diputados       1     28.78  765.08 172.12\n",
            "<none>                         736.30 172.16\n",
            "- grad_instituto  1     33.75  770.05 172.45\n",
            "- region          1     35.91  772.21 172.59\n",
            "- blancos         1     52.88  789.18 173.70\n",
            "- evangelicos     1     56.81  793.11 173.95\n",
            "- relig_afro      1     62.74  799.04 174.33\n",
            "- mormones        1     90.02  826.32 176.04\n",
            "- hispanos        1     92.00  828.30 176.16\n",
            "- densidad        1     99.29  835.58 176.61\n",
            "- grad_univ       1    117.73  854.03 177.72\n",
            "- asia            1    296.70 1033.00 187.43\n",
            "- paro            1    357.29 1093.58 190.34\n",
            "\n",
            "Step:  AIC=170.29\n",
            "obama ~ region + densidad + veteranos + mujeres + grad_instituto + \n",
            "    grad_univ + asia + hispanos + blancos + evangelicos + protestantes + \n",
            "    relig_afro + mormones + paro + salario + diputados\n",
            "\n",
            "                 Df Sum of Sq     RSS    AIC\n",
            "- veteranos       1      8.86  746.97 168.89\n",
            "- mujeres         1     25.03  763.14 169.99\n",
            "- salario         1     25.23  763.33 170.00\n",
            "- diputados       1     27.08  765.18 170.12\n",
            "<none>                         738.10 170.28\n",
            "- protestantes    1     31.86  769.97 170.44\n",
            "- grad_instituto  1     31.94  770.05 170.45\n",
            "- region          1     37.06  775.16 170.78\n",
            "- blancos         1     52.68  790.79 171.80\n",
            "- relig_afro      1     61.82  799.92 172.39\n",
            "- evangelicos     1     68.02  806.12 172.78\n",
            "- densidad        1     98.39  836.49 174.67\n",
            "- hispanos        1    106.98  845.08 175.19\n",
            "- mormones        1    110.03  848.14 175.37\n",
            "- grad_univ       1    116.40  854.51 175.75\n",
            "- asia            1    328.27 1066.37 187.05\n",
            "- paro            1    355.92 1094.03 188.36\n",
            "\n",
            "Step:  AIC=168.89\n",
            "obama ~ region + densidad + mujeres + grad_instituto + grad_univ + \n",
            "    asia + hispanos + blancos + evangelicos + protestantes + \n",
            "    relig_afro + mormones + paro + salario + diputados\n",
            "\n",
            "                 Df Sum of Sq     RSS    AIC\n",
            "- salario         1     23.05  770.02 168.44\n",
            "- region          1     28.42  775.39 168.80\n",
            "- mujeres         1     29.00  775.97 168.84\n",
            "<none>                         746.97 168.89\n",
            "- protestantes    1     33.87  780.84 169.16\n",
            "- grad_instituto  1     41.38  788.35 169.64\n",
            "- diputados       1     51.81  798.78 170.31\n",
            "- blancos         1     51.83  798.79 170.31\n",
            "- relig_afro      1     58.39  805.36 170.73\n",
            "- evangelicos     1     69.44  816.41 171.43\n",
            "- densidad        1     89.84  836.81 172.69\n",
            "- hispanos        1    105.34  852.31 173.62\n",
            "- grad_univ       1    108.32  855.29 173.80\n",
            "- mormones        1    205.07  952.04 179.27\n",
            "- asia            1    322.86 1069.83 185.22\n",
            "- paro            1    350.98 1097.95 186.54\n",
            "\n",
            "Step:  AIC=168.44\n",
            "obama ~ region + densidad + mujeres + grad_instituto + grad_univ + \n",
            "    asia + hispanos + blancos + evangelicos + protestantes + \n",
            "    relig_afro + mormones + paro + diputados\n",
            "\n",
            "                 Df Sum of Sq     RSS    AIC\n",
            "- region          1     21.27  791.29 167.83\n",
            "<none>                         770.02 168.44\n",
            "- protestantes    1     34.40  804.42 168.67\n",
            "- grad_instituto  1     40.82  810.84 169.08\n",
            "- blancos         1     44.53  814.55 169.31\n",
            "- relig_afro      1     48.08  818.10 169.53\n",
            "- diputados       1     52.05  822.07 169.78\n",
            "- evangelicos     1     59.30  829.33 170.23\n",
            "- mujeres         1     61.94  831.96 170.39\n",
            "- grad_univ       1     91.30  861.32 172.16\n",
            "- densidad        1     97.14  867.17 172.50\n",
            "- hispanos        1    100.26  870.28 172.69\n",
            "- mormones        1    202.76  972.79 178.37\n",
            "- asia            1    304.77 1074.80 183.45\n",
            "- paro            1    350.16 1120.18 185.56\n",
            "\n",
            "Step:  AIC=167.83\n",
            "obama ~ densidad + mujeres + grad_instituto + grad_univ + asia + \n",
            "    hispanos + blancos + evangelicos + protestantes + relig_afro + \n",
            "    mormones + paro + diputados\n",
            "\n",
            "                 Df Sum of Sq     RSS    AIC\n",
            "- protestantes    1     29.27  820.56 167.69\n",
            "<none>                         791.29 167.83\n",
            "- relig_afro      1     34.64  825.93 168.02\n",
            "- diputados       1     37.99  829.28 168.22\n",
            "- grad_instituto  1     39.47  830.76 168.32\n",
            "- blancos         1     40.48  831.77 168.38\n",
            "- hispanos        1     81.36  872.65 170.82\n",
            "- densidad        1     81.54  872.83 170.84\n",
            "- grad_univ       1     97.50  888.79 171.76\n",
            "- evangelicos     1    104.90  896.19 172.18\n",
            "- mujeres         1    147.93  939.22 174.57\n",
            "- asia            1    285.33 1076.62 181.54\n",
            "- mormones        1    288.17 1079.46 181.67\n",
            "- paro            1    332.69 1123.98 183.73\n",
            "\n",
            "Step:  AIC=167.69\n",
            "obama ~ densidad + mujeres + grad_instituto + grad_univ + asia + \n",
            "    hispanos + blancos + evangelicos + relig_afro + mormones + \n",
            "    paro + diputados\n",
            "\n",
            "                 Df Sum of Sq     RSS    AIC\n",
            "- diputados       1     24.80  845.36 167.21\n",
            "- relig_afro      1     29.44  850.00 167.48\n",
            "<none>                         820.56 167.69\n",
            "- blancos         1     47.93  868.49 168.58\n",
            "- grad_instituto  1     65.43  885.99 169.60\n",
            "- hispanos        1     81.44  902.00 170.51\n",
            "- grad_univ       1     81.58  902.14 170.52\n",
            "- evangelicos     1     92.20  912.76 171.12\n",
            "- densidad        1    126.62  947.18 173.00\n",
            "- mujeres         1    144.26  964.83 173.95\n",
            "- asia            1    293.26 1113.82 181.27\n",
            "- paro            1    304.57 1125.14 181.78\n",
            "- mormones        1    542.00 1362.56 191.55\n",
            "\n",
            "Step:  AIC=167.2\n",
            "obama ~ densidad + mujeres + grad_instituto + grad_univ + asia + \n",
            "    hispanos + blancos + evangelicos + relig_afro + mormones + \n",
            "    paro\n",
            "\n",
            "                 Df Sum of Sq     RSS    AIC\n",
            "- relig_afro      1     18.06  863.42 166.28\n",
            "- blancos         1     32.44  877.80 167.12\n",
            "<none>                         845.36 167.21\n",
            "- hispanos        1     59.58  904.94 168.68\n",
            "- grad_univ       1     67.63  912.99 169.13\n",
            "- evangelicos     1     86.38  931.74 170.17\n",
            "- grad_instituto  1     88.22  933.58 170.27\n",
            "- densidad        1    135.15  980.51 172.77\n",
            "- mujeres         1    159.05 1004.41 174.00\n",
            "- asia            1    268.62 1113.98 179.28\n",
            "- paro            1    291.91 1137.27 180.33\n",
            "- mormones        1    517.47 1362.83 189.56\n",
            "\n",
            "Step:  AIC=166.28\n",
            "obama ~ densidad + mujeres + grad_instituto + grad_univ + asia + \n",
            "    hispanos + blancos + evangelicos + mormones + paro\n",
            "\n",
            "                 Df Sum of Sq     RSS    AIC\n",
            "- blancos         1     16.03  879.45 165.22\n",
            "<none>                         863.42 166.28\n",
            "- hispanos        1     52.93  916.35 167.32\n",
            "- evangelicos     1     73.35  936.77 168.44\n",
            "- grad_instituto  1     77.62  941.04 168.67\n",
            "- grad_univ       1     78.03  941.45 168.70\n",
            "- densidad        1    119.25  982.67 170.88\n",
            "- mujeres         1    278.56 1141.98 178.54\n",
            "- paro            1    307.75 1171.17 179.83\n",
            "- asia            1    465.03 1328.45 186.26\n",
            "- mormones        1    501.07 1364.49 187.62\n",
            "\n",
            "Step:  AIC=165.22\n",
            "obama ~ densidad + mujeres + grad_instituto + grad_univ + asia + \n",
            "    hispanos + evangelicos + mormones + paro\n",
            "\n",
            "                 Df Sum of Sq     RSS    AIC\n",
            "<none>                         879.45 165.22\n",
            "- hispanos        1     37.14  916.59 165.33\n",
            "- grad_univ       1     70.03  949.47 167.13\n",
            "- evangelicos     1     84.02  963.47 167.87\n",
            "- densidad        1    103.52  982.97 168.90\n",
            "- grad_instituto  1    119.32  998.77 169.71\n",
            "- mujeres         1    285.19 1164.63 177.54\n",
            "- paro            1    305.27 1184.71 178.42\n",
            "- mormones        1    492.00 1371.45 185.88\n",
            "- asia            1    775.31 1654.76 195.46\n"
          ]
        },
        {
          "data": {
            "text/plain": [
              "\n",
              "Call:\n",
              "lm(formula = obama ~ densidad + mujeres + grad_instituto + grad_univ + \n",
              "    asia + hispanos + evangelicos + mormones + paro, data = usa_without_states)\n",
              "\n",
              "Coefficients:\n",
              "   (Intercept)        densidad         mujeres  grad_instituto       grad_univ  \n",
              "    -3.263e+02       1.555e-03       5.087e+00       1.056e+00       4.207e-01  \n",
              "          asia        hispanos     evangelicos        mormones            paro  \n",
              "     7.629e-01       1.379e-01      -1.596e-01      -3.967e-01       1.854e+00  \n"
            ]
          },
          "metadata": {},
          "output_type": "display_data"
        }
      ],
      "source": [
        "#Vamos a usar la funcion step con el parámetro direction = \"backward\" para que a partir de nuestro\n",
        "#modelo vaya eliminando variables hasta que se alcance el mayor valor AIC\n",
        "step(model_usa20, direction = \"backward\")"
      ]
    },
    {
      "cell_type": "code",
      "execution_count": null,
      "metadata": {
        "id": "SyU1j6-omrCb",
        "outputId": "21a55eaf-983d-4e89-8fca-b7fb066603ae"
      },
      "outputs": [
        {
          "data": {
            "text/plain": [
              "\n",
              "Call:\n",
              "lm(formula = obama ~ 1, data = usa_without_states)\n",
              "\n",
              "Coefficients:\n",
              "(Intercept)  \n",
              "      49.03  \n"
            ]
          },
          "metadata": {},
          "output_type": "display_data"
        }
      ],
      "source": [
        "#Ahora vamos a crear un modelo que no contenga ninguna variable independiente\n",
        "model_usa0 = lm(obama ~ 1, data = usa_without_states)\n",
        "model_usa0"
      ]
    },
    {
      "cell_type": "code",
      "execution_count": null,
      "metadata": {
        "id": "_HOQNz97mrCc",
        "outputId": "2635e61e-3ea0-4706-971d-66652c05d023"
      },
      "outputs": [
        {
          "name": "stdout",
          "output_type": "stream",
          "text": [
            "Start:  AIC=252.83\n",
            "obama ~ 1\n",
            "\n",
            "                 Df Sum of Sq    RSS    AIC\n",
            "+ grad_univ       1    3570.6 3404.3 218.25\n",
            "+ densidad        1    2378.5 4596.4 233.56\n",
            "+ mujeres         1    1702.0 5272.9 240.56\n",
            "+ catolicos       1    1549.6 5425.3 242.02\n",
            "+ salario         1    1351.1 5623.8 243.85\n",
            "+ blancos         1    1285.0 5689.9 244.45\n",
            "+ asia            1    1174.4 5800.5 245.43\n",
            "+ evangelicos     1    1129.4 5845.5 245.82\n",
            "+ mormones        1     843.4 6131.5 248.26\n",
            "+ paro            1     795.7 6179.2 248.65\n",
            "+ veteranos       1     739.8 6235.1 249.11\n",
            "+ region          1     578.7 6396.2 250.41\n",
            "+ afro            1     560.3 6414.6 250.56\n",
            "<none>                        6974.9 252.83\n",
            "+ hispanos        1     178.9 6796.1 253.51\n",
            "+ diputados       1     153.4 6821.5 253.70\n",
            "+ jubilados       1     100.2 6874.7 254.09\n",
            "+ relig_afro      1      98.4 6876.5 254.11\n",
            "+ grad_instituto  1      66.3 6908.6 254.34\n",
            "+ protestantes    1       2.6 6972.3 254.81\n",
            "\n",
            "Step:  AIC=218.25\n",
            "obama ~ grad_univ\n",
            "\n",
            "                 Df Sum of Sq    RSS    AIC\n",
            "+ paro            1    796.92 2607.4 206.65\n",
            "+ mormones        1    768.88 2635.4 207.19\n",
            "+ mujeres         1    612.74 2791.6 210.13\n",
            "+ asia            1    570.04 2834.3 210.90\n",
            "+ jubilados       1    535.64 2868.7 211.52\n",
            "+ blancos         1    478.34 2926.0 212.53\n",
            "+ grad_instituto  1    278.78 3125.5 215.89\n",
            "+ salario         1    232.01 3172.3 216.65\n",
            "+ catolicos       1    224.72 3179.6 216.77\n",
            "+ densidad        1    192.46 3211.9 217.28\n",
            "+ afro            1    189.70 3214.6 217.33\n",
            "+ relig_afro      1    144.20 3260.1 218.04\n",
            "<none>                        3404.3 218.25\n",
            "+ region          1    109.94 3294.4 218.57\n",
            "+ diputados       1    102.72 3301.6 218.69\n",
            "+ hispanos        1     33.17 3371.1 219.75\n",
            "+ veteranos       1     24.68 3379.6 219.88\n",
            "+ protestantes    1      1.33 3403.0 220.23\n",
            "+ evangelicos     1      0.06 3404.3 220.25\n",
            "\n",
            "Step:  AIC=206.65\n",
            "obama ~ grad_univ + paro\n",
            "\n",
            "                 Df Sum of Sq    RSS    AIC\n",
            "+ jubilados       1    697.91 1909.5 192.76\n",
            "+ mormones        1    599.32 2008.1 195.33\n",
            "+ asia            1    500.24 2107.2 197.78\n",
            "+ protestantes    1    236.96 2370.4 203.79\n",
            "+ mujeres         1    223.82 2383.6 204.07\n",
            "+ catolicos       1    205.33 2402.1 204.47\n",
            "+ region          1    199.95 2407.4 204.58\n",
            "+ blancos         1    109.25 2498.2 206.47\n",
            "<none>                        2607.4 206.65\n",
            "+ salario         1     51.92 2555.5 207.62\n",
            "+ densidad        1     46.56 2560.8 207.73\n",
            "+ evangelicos     1     26.41 2581.0 208.13\n",
            "+ veteranos       1     21.56 2585.8 208.22\n",
            "+ hispanos        1     16.99 2590.4 208.31\n",
            "+ afro            1      5.26 2602.2 208.55\n",
            "+ relig_afro      1      1.20 2606.2 208.62\n",
            "+ grad_instituto  1      0.41 2607.0 208.64\n",
            "+ diputados       1      0.40 2607.0 208.64\n",
            "\n",
            "Step:  AIC=192.76\n",
            "obama ~ grad_univ + paro + jubilados\n",
            "\n",
            "                 Df Sum of Sq    RSS    AIC\n",
            "+ asia            1    541.43 1368.1 177.76\n",
            "+ blancos         1    358.99 1550.5 184.14\n",
            "+ mormones        1    202.84 1706.7 189.03\n",
            "<none>                        1909.5 192.76\n",
            "+ protestantes    1     51.06 1858.4 193.38\n",
            "+ densidad        1     32.19 1877.3 193.89\n",
            "+ catolicos       1     28.55 1880.9 193.99\n",
            "+ afro            1     19.86 1889.6 194.23\n",
            "+ relig_afro      1     16.25 1893.2 194.32\n",
            "+ evangelicos     1      5.58 1903.9 194.61\n",
            "+ grad_instituto  1      5.38 1904.1 194.62\n",
            "+ veteranos       1      3.43 1906.1 194.67\n",
            "+ hispanos        1      2.71 1906.8 194.69\n",
            "+ diputados       1      2.13 1907.4 194.70\n",
            "+ mujeres         1      1.22 1908.3 194.73\n",
            "+ region          1      0.76 1908.7 194.74\n",
            "+ salario         1      0.08 1909.4 194.76\n",
            "\n",
            "Step:  AIC=177.76\n",
            "obama ~ grad_univ + paro + jubilados + asia\n",
            "\n",
            "                 Df Sum of Sq    RSS    AIC\n",
            "+ mormones        1   216.485 1151.6 170.97\n",
            "+ densidad        1    86.622 1281.5 176.42\n",
            "+ protestantes    1    75.962 1292.1 176.84\n",
            "+ afro            1    75.783 1292.3 176.85\n",
            "+ region          1    70.435 1297.6 177.06\n",
            "+ relig_afro      1    66.607 1301.5 177.21\n",
            "+ mujeres         1    65.356 1302.7 177.26\n",
            "<none>                        1368.1 177.76\n",
            "+ blancos         1    37.071 1331.0 178.35\n",
            "+ catolicos       1    17.899 1350.2 179.08\n",
            "+ salario         1    16.466 1351.6 179.14\n",
            "+ grad_instituto  1     9.535 1358.5 179.40\n",
            "+ diputados       1     4.143 1363.9 179.60\n",
            "+ hispanos        1     2.982 1365.1 179.65\n",
            "+ evangelicos     1     2.290 1365.8 179.67\n",
            "+ veteranos       1     0.006 1368.1 179.76\n",
            "\n",
            "Step:  AIC=170.97\n",
            "obama ~ grad_univ + paro + jubilados + asia + mormones\n",
            "\n",
            "                 Df Sum of Sq    RSS    AIC\n",
            "+ densidad        1    76.270 1075.3 169.48\n",
            "+ evangelicos     1    53.540 1098.0 170.54\n",
            "<none>                        1151.6 170.97\n",
            "+ mujeres         1    40.976 1110.6 171.12\n",
            "+ region          1    31.021 1120.6 171.58\n",
            "+ afro            1    23.273 1128.3 171.93\n",
            "+ diputados       1    17.817 1133.8 172.18\n",
            "+ relig_afro      1    17.253 1134.3 172.20\n",
            "+ salario         1    15.844 1135.7 172.26\n",
            "+ protestantes    1    14.215 1137.4 172.34\n",
            "+ catolicos       1    11.995 1139.6 172.44\n",
            "+ veteranos       1     8.909 1142.7 172.57\n",
            "+ blancos         1     7.347 1144.2 172.64\n",
            "+ hispanos        1     0.410 1151.2 172.95\n",
            "+ grad_instituto  1     0.211 1151.4 172.96\n",
            "\n",
            "Step:  AIC=169.48\n",
            "obama ~ grad_univ + paro + jubilados + asia + mormones + densidad\n",
            "\n",
            "                 Df Sum of Sq     RSS    AIC\n",
            "+ evangelicos     1    93.303  982.01 166.85\n",
            "+ region          1    59.029 1016.28 168.60\n",
            "+ catolicos       1    53.590 1021.72 168.87\n",
            "<none>                        1075.31 169.48\n",
            "+ mujeres         1    14.991 1060.32 170.76\n",
            "+ protestantes    1    11.516 1063.80 170.93\n",
            "+ grad_instituto  1     8.393 1066.92 171.08\n",
            "+ veteranos       1     5.202 1070.11 171.23\n",
            "+ diputados       1     4.543 1070.77 171.26\n",
            "+ relig_afro      1     1.199 1074.11 171.42\n",
            "+ salario         1     1.142 1074.17 171.42\n",
            "+ hispanos        1     0.946 1074.37 171.43\n",
            "+ blancos         1     0.125 1075.19 171.47\n",
            "+ afro            1     0.079 1075.23 171.47\n",
            "\n",
            "Step:  AIC=166.85\n",
            "obama ~ grad_univ + paro + jubilados + asia + mormones + densidad + \n",
            "    evangelicos\n",
            "\n",
            "                 Df Sum of Sq    RSS    AIC\n",
            "+ mujeres         1    48.810 933.20 166.25\n",
            "<none>                        982.01 166.85\n",
            "+ region          1    32.949 949.06 167.11\n",
            "+ relig_afro      1    23.750 958.26 167.60\n",
            "+ salario         1    15.875 966.14 168.01\n",
            "+ afro            1    15.175 966.84 168.05\n",
            "+ protestantes    1     9.160 972.85 168.37\n",
            "+ diputados       1     6.407 975.60 168.51\n",
            "+ veteranos       1     2.443 979.57 168.72\n",
            "+ hispanos        1     2.345 979.67 168.72\n",
            "+ catolicos       1     1.624 980.39 168.76\n",
            "+ grad_instituto  1     0.767 981.24 168.81\n",
            "+ blancos         1     0.485 981.53 168.82\n",
            "\n",
            "Step:  AIC=166.25\n",
            "obama ~ grad_univ + paro + jubilados + asia + mormones + densidad + \n",
            "    evangelicos + mujeres\n",
            "\n",
            "                 Df Sum of Sq    RSS    AIC\n",
            "+ protestantes    1    39.804 893.40 166.02\n",
            "+ grad_instituto  1    36.193 897.01 166.23\n",
            "<none>                        933.20 166.25\n",
            "+ diputados       1    15.688 917.51 167.38\n",
            "+ region          1     8.478 924.72 167.78\n",
            "+ blancos         1     8.406 924.79 167.78\n",
            "+ veteranos       1     5.987 927.21 167.92\n",
            "+ salario         1     5.677 927.52 167.94\n",
            "+ afro            1     2.035 931.17 168.13\n",
            "+ catolicos       1     1.309 931.89 168.18\n",
            "+ hispanos        1     0.721 932.48 168.21\n",
            "+ relig_afro      1     0.072 933.13 168.24\n",
            "\n",
            "Step:  AIC=166.02\n",
            "obama ~ grad_univ + paro + jubilados + asia + mormones + densidad + \n",
            "    evangelicos + mujeres + protestantes\n",
            "\n",
            "                 Df Sum of Sq    RSS    AIC\n",
            "<none>                        893.40 166.02\n",
            "+ diputados       1   19.5553 873.84 166.90\n",
            "+ grad_instituto  1   16.7478 876.65 167.06\n",
            "+ salario         1    8.9280 884.47 167.51\n",
            "+ veteranos       1    7.3134 886.08 167.60\n",
            "+ catolicos       1    5.6097 887.79 167.70\n",
            "+ region          1    3.0928 890.30 167.85\n",
            "+ relig_afro      1    1.4461 891.95 167.94\n",
            "+ hispanos        1    0.8189 892.58 167.98\n",
            "+ afro            1    0.1707 893.23 168.01\n",
            "+ blancos         1    0.1146 893.28 168.02\n"
          ]
        },
        {
          "data": {
            "text/plain": [
              "\n",
              "Call:\n",
              "lm(formula = obama ~ grad_univ + paro + jubilados + asia + mormones + \n",
              "    densidad + evangelicos + mujeres + protestantes, data = usa_without_states)\n",
              "\n",
              "Coefficients:\n",
              " (Intercept)     grad_univ          paro     jubilados          asia  \n",
              "  -1.365e+02     8.494e-01     2.043e+00     7.263e-01     7.332e-01  \n",
              "    mormones      densidad   evangelicos       mujeres  protestantes  \n",
              "  -2.833e-01     1.134e-03    -1.956e-01     2.678e+00     1.972e-01  \n"
            ]
          },
          "metadata": {},
          "output_type": "display_data"
        }
      ],
      "source": [
        "#Usando nuevamente la función step pero esta vez con el parámetro direction = \"fordward\" vamos a\n",
        "#agregar variables a nuestro modelo hasta encontrar el modelo que minimize el AIC, tambien le\n",
        "#pasamos el parámetro scope con el modelo sin variables y el que tiene todas las variables para\n",
        "#que lo use como una lista de lo que tiene que ir agregando\n",
        "step(model_usa0, direction = \"forward\", scope = list(lower = model_usa0, upper = model_usa20))"
      ]
    },
    {
      "cell_type": "code",
      "execution_count": null,
      "metadata": {
        "id": "_a22z8P7mrCd"
      },
      "outputs": [],
      "source": [
        "#Ahora tenemos dos fórmulas para nuestros modelos, vamos a entrenarlos y veamos cual de los dos\n",
        "#nos da un mejor ajuste\n",
        "model_usab = lm(obama ~ densidad + mujeres + grad_instituto + grad_univ +\n",
        "    asia + hispanos + evangelicos + mormones + paro, data = usa_without_states)\n",
        "model_usaf = lm(obama ~ grad_univ + paro + jubilados + asia + mormones +\n",
        "    densidad + evangelicos + mujeres + protestantes, data = usa_without_states)"
      ]
    },
    {
      "cell_type": "code",
      "execution_count": null,
      "metadata": {
        "id": "SCAZsTsKmrCd"
      },
      "outputs": [],
      "source": [
        "#Extraemos nuestro R2 y los criterios AIC y BIC\n",
        "R2=c(summary(model_usab)$r.squared, summary(model_usaf)$r.squared)\n",
        "AIC=c(extractAIC(model_usab)[2],extractAIC(model_usaf)[2])\n",
        "BIC=c(extractAIC(model_usab,k=log(nrow(usa)))[2],extractAIC(model_usaf,k=log(nrow(usa)))[2])"
      ]
    },
    {
      "cell_type": "code",
      "execution_count": null,
      "metadata": {
        "id": "02xO4XkzmrCd",
        "outputId": "6b3a5c7d-c61d-4f50-d53b-b2912988e019"
      },
      "outputs": [
        {
          "data": {
            "text/plain": [
              "\n",
              "\n",
              "|                    | Coef.R2adj|      AIC|      BIC|\n",
              "|:-------------------|----------:|--------:|--------:|\n",
              "|modelo usa backward |  0.8739128| 165.2208| 184.5391|\n",
              "|modelo usa forward  |  0.8719128| 166.0235| 185.3417|"
            ]
          },
          "metadata": {},
          "output_type": "display_data"
        }
      ],
      "source": [
        "Medidas=data.frame(R2,AIC,BIC,row.names=c(\"modelo usa backward\",\"modelo usa forward\"))\n",
        "names(Medidas)=c(\"Coef.R2adj\",\"AIC\",\"BIC\")\n",
        "knitr::kable(Medidas)"
      ]
    },
    {
      "cell_type": "markdown",
      "metadata": {
        "id": "3jBXcMlgmrCe"
      },
      "source": [
        "Ambos modelos nos dan unos valores similares pero vemos que el modelo que usa el enfoque *backward* ligra explicar mejor nuestra variable obama que el que usa el enfoque *fordward*, me parece importante notar que en este modelo se incluyeron variables que según nuestro modelo que contenía a todas resultaron no ser significativas individualmente pero si resultaron serlo en su conjunto para ajustarse al modelo"
      ]
    },
    {
      "cell_type": "markdown",
      "metadata": {
        "id": "Q5wfSBHbmrCe"
      },
      "source": [
        "<div style=\"background-color:#5DADE2\"><b>Apartado 3</b></div>"
      ]
    },
    {
      "cell_type": "code",
      "execution_count": null,
      "metadata": {
        "id": "TxffuBkCmrCe",
        "outputId": "2345a105-5e42-4706-e4b4-a558fba16873"
      },
      "outputs": [
        {
          "data": {
            "text/plain": [
              "\n",
              "Call:\n",
              "lm(formula = obama ~ densidad + mujeres + grad_instituto + grad_univ + \n",
              "    asia + hispanos + evangelicos + mormones + paro, data = usa_without_states)\n",
              "\n",
              "Residuals:\n",
              "     Min       1Q   Median       3Q      Max \n",
              "-10.1779  -2.0756   0.1336   1.2912  15.6640 \n",
              "\n",
              "Coefficients:\n",
              "                 Estimate Std. Error t value Pr(>|t|)    \n",
              "(Intercept)    -3.263e+02  9.779e+01  -3.336 0.001813 ** \n",
              "densidad        1.555e-03  7.079e-04   2.197 0.033738 *  \n",
              "mujeres         5.087e+00  1.395e+00   3.646 0.000743 ***\n",
              "grad_instituto  1.056e+00  4.479e-01   2.359 0.023195 *  \n",
              "grad_univ       4.207e-01  2.328e-01   1.807 0.078131 .  \n",
              "asia            7.629e-01  1.269e-01   6.012 4.16e-07 ***\n",
              "hispanos        1.379e-01  1.048e-01   1.316 0.195527    \n",
              "evangelicos    -1.596e-01  8.063e-02  -1.979 0.054539 .  \n",
              "mormones       -3.967e-01  8.282e-02  -4.789 2.20e-05 ***\n",
              "paro            1.854e+00  4.915e-01   3.772 0.000512 ***\n",
              "---\n",
              "Signif. codes:  0 '***' 0.001 '**' 0.01 '*' 0.05 '.' 0.1 ' ' 1\n",
              "\n",
              "Residual standard error: 4.631 on 41 degrees of freedom\n",
              "Multiple R-squared:  0.8739,\tAdjusted R-squared:  0.8462 \n",
              "F-statistic: 31.57 on 9 and 41 DF,  p-value: 1.126e-15\n"
            ]
          },
          "metadata": {},
          "output_type": "display_data"
        }
      ],
      "source": [
        "summary(model_usab)"
      ]
    },
    {
      "cell_type": "code",
      "execution_count": null,
      "metadata": {
        "id": "xlvCpOK0mrCe",
        "outputId": "00d73855-008c-469c-8e4d-bfee4c8da444"
      },
      "outputs": [
        {
          "data": {
            "image/png": "[encoded data removed]",
            "text/plain": [
              "Plot with title \"\""
            ]
          },
          "metadata": {
            "image/png": {
              "height": 420,
              "width": 420
            }
          },
          "output_type": "display_data"
        }
      ],
      "source": [
        "plot(model_usab, which=1)"
      ]
    },
    {
      "cell_type": "code",
      "execution_count": null,
      "metadata": {
        "scrolled": false,
        "id": "nai1mpPdmrCe",
        "outputId": "41d1a1f5-b33f-4c60-efcb-5e5f398ccc05"
      },
      "outputs": [
        {
          "data": {
            "image/png": "[encoded data removed]",
            "text/plain": [
              "Plot with title \"\""
            ]
          },
          "metadata": {
            "image/png": {
              "height": 420,
              "width": 420
            }
          },
          "output_type": "display_data"
        }
      ],
      "source": [
        "plot(model_usab, which=2)"
      ]
    },
    {
      "cell_type": "code",
      "execution_count": null,
      "metadata": {
        "id": "0nA0lwUUmrCf",
        "outputId": "45266fb7-8adc-4693-b7e3-015dd2975acd"
      },
      "outputs": [
        {
          "data": {
            "image/png": "[encoded data removed]",
            "text/plain": [
              "Plot with title \"\""
            ]
          },
          "metadata": {
            "image/png": {
              "height": 420,
              "width": 420
            }
          },
          "output_type": "display_data"
        }
      ],
      "source": [
        "plot(model_usab, which=3)"
      ]
    },
    {
      "cell_type": "code",
      "execution_count": null,
      "metadata": {
        "id": "EmXkgbgmmrCf",
        "outputId": "7c2e56d2-3c24-4901-f2e6-9aa39bb4c48e"
      },
      "outputs": [
        {
          "name": "stderr",
          "output_type": "stream",
          "text": [
            "Warning message in sqrt(crit * p * (1 - hh)/hh):\n",
            "\"Se han producido NaNs\"\n",
            "Warning message in sqrt(crit * p * (1 - hh)/hh):\n",
            "\"Se han producido NaNs\"\n"
          ]
        },
        {
          "data": {
            "image/png": "[encoded data removed]",
            "text/plain": [
              "Plot with title \"\""
            ]
          },
          "metadata": {
            "image/png": {
              "height": 420,
              "width": 420
            }
          },
          "output_type": "display_data"
        }
      ],
      "source": [
        "plot(model_usab, which=5)"
      ]
    },
    {
      "cell_type": "code",
      "execution_count": null,
      "metadata": {
        "id": "tbrnOedCmrCf"
      },
      "outputs": [],
      "source": [
        "bdata=usa[, c(\"densidad\", \"mujeres\", \"grad_instituto\", \"grad_univ\",\n",
        "    \"asia\", \"hispanos\", \"evangelicos\", \"mormones\", \"paro\")]"
      ]
    },
    {
      "cell_type": "code",
      "execution_count": null,
      "metadata": {
        "id": "2oPFeOzcmrCf",
        "outputId": "080e3698-cb16-4e9b-d5ba-d606c1242dab"
      },
      "outputs": [
        {
          "data": {
            "text/html": [
              "<table class=\"dataframe\">\n",
              "<caption>A matrix: 9 × 9 of type dbl</caption>\n",
              "<thead>\n",
              "\t<tr><th></th><th scope=col>densidad</th><th scope=col>mujeres</th><th scope=col>grad_instituto</th><th scope=col>grad_univ</th><th scope=col>asia</th><th scope=col>hispanos</th><th scope=col>evangelicos</th><th scope=col>mormones</th><th scope=col>paro</th></tr>\n",
              "</thead>\n",
              "<tbody>\n",
              "\t<tr><th scope=row>densidad</th><td> 1.000000000</td><td> 0.46583195</td><td>-0.00383585</td><td> 0.6372451158</td><td> 0.01398511</td><td> 0.005067992</td><td>-0.18730620</td><td>-0.08036094</td><td> 0.1985266715</td></tr>\n",
              "\t<tr><th scope=row>mujeres</th><td> 0.465831947</td><td> 1.00000000</td><td>-0.39047508</td><td> 0.2945415320</td><td>-0.15143633</td><td>-0.099208396</td><td> 0.06268464</td><td>-0.33579558</td><td> 0.3712009419</td></tr>\n",
              "\t<tr><th scope=row>grad_instituto</th><td>-0.003835850</td><td>-0.39047508</td><td> 1.00000000</td><td> 0.3931829947</td><td> 0.06160028</td><td>-0.376128189</td><td>-0.49656222</td><td> 0.17862817</td><td>-0.5605433382</td></tr>\n",
              "\t<tr><th scope=row>grad_univ</th><td> 0.637245116</td><td> 0.29454153</td><td> 0.39318299</td><td> 1.0000000000</td><td> 0.18051305</td><td> 0.128221027</td><td>-0.55889734</td><td>-0.02207835</td><td>-0.0003502951</td></tr>\n",
              "\t<tr><th scope=row>asia</th><td> 0.013985112</td><td>-0.15143633</td><td> 0.06160028</td><td> 0.1805130549</td><td> 1.00000000</td><td> 0.176863909</td><td>-0.11957990</td><td> 0.02161304</td><td> 0.0536920213</td></tr>\n",
              "\t<tr><th scope=row>hispanos</th><td> 0.005067992</td><td>-0.09920840</td><td>-0.37612819</td><td> 0.1282210271</td><td> 0.17686391</td><td> 1.000000000</td><td>-0.22423503</td><td> 0.10665199</td><td> 0.3383900390</td></tr>\n",
              "\t<tr><th scope=row>evangelicos</th><td>-0.187306203</td><td> 0.06268464</td><td>-0.49656222</td><td>-0.5588973395</td><td>-0.11957990</td><td>-0.224235034</td><td> 1.00000000</td><td>-0.22799088</td><td> 0.1415075705</td></tr>\n",
              "\t<tr><th scope=row>mormones</th><td>-0.080360944</td><td>-0.33579558</td><td> 0.17862817</td><td>-0.0220783481</td><td> 0.02161304</td><td> 0.106651990</td><td>-0.22799088</td><td> 1.00000000</td><td>-0.1214247656</td></tr>\n",
              "\t<tr><th scope=row>paro</th><td> 0.198526672</td><td> 0.37120094</td><td>-0.56054334</td><td>-0.0003502951</td><td> 0.05369202</td><td> 0.338390039</td><td> 0.14150757</td><td>-0.12142477</td><td> 1.0000000000</td></tr>\n",
              "</tbody>\n",
              "</table>\n"
            ],
            "text/latex": [
              "A matrix: 9 × 9 of type dbl\n",
              "\\begin{tabular}{r|lllllllll}\n",
              "  & densidad & mujeres & grad\\_instituto & grad\\_univ & asia & hispanos & evangelicos & mormones & paro\\\\\n",
              "\\hline\n",
              "\tdensidad &  1.000000000 &  0.46583195 & -0.00383585 &  0.6372451158 &  0.01398511 &  0.005067992 & -0.18730620 & -0.08036094 &  0.1985266715\\\\\n",
              "\tmujeres &  0.465831947 &  1.00000000 & -0.39047508 &  0.2945415320 & -0.15143633 & -0.099208396 &  0.06268464 & -0.33579558 &  0.3712009419\\\\\n",
              "\tgrad\\_instituto & -0.003835850 & -0.39047508 &  1.00000000 &  0.3931829947 &  0.06160028 & -0.376128189 & -0.49656222 &  0.17862817 & -0.5605433382\\\\\n",
              "\tgrad\\_univ &  0.637245116 &  0.29454153 &  0.39318299 &  1.0000000000 &  0.18051305 &  0.128221027 & -0.55889734 & -0.02207835 & -0.0003502951\\\\\n",
              "\tasia &  0.013985112 & -0.15143633 &  0.06160028 &  0.1805130549 &  1.00000000 &  0.176863909 & -0.11957990 &  0.02161304 &  0.0536920213\\\\\n",
              "\thispanos &  0.005067992 & -0.09920840 & -0.37612819 &  0.1282210271 &  0.17686391 &  1.000000000 & -0.22423503 &  0.10665199 &  0.3383900390\\\\\n",
              "\tevangelicos & -0.187306203 &  0.06268464 & -0.49656222 & -0.5588973395 & -0.11957990 & -0.224235034 &  1.00000000 & -0.22799088 &  0.1415075705\\\\\n",
              "\tmormones & -0.080360944 & -0.33579558 &  0.17862817 & -0.0220783481 &  0.02161304 &  0.106651990 & -0.22799088 &  1.00000000 & -0.1214247656\\\\\n",
              "\tparo &  0.198526672 &  0.37120094 & -0.56054334 & -0.0003502951 &  0.05369202 &  0.338390039 &  0.14150757 & -0.12142477 &  1.0000000000\\\\\n",
              "\\end{tabular}\n"
            ],
            "text/markdown": [
              "\n",
              "A matrix: 9 × 9 of type dbl\n",
              "\n",
              "| <!--/--> | densidad | mujeres | grad_instituto | grad_univ | asia | hispanos | evangelicos | mormones | paro |\n",
              "|---|---|---|---|---|---|---|---|---|---|\n",
              "| densidad |  1.000000000 |  0.46583195 | -0.00383585 |  0.6372451158 |  0.01398511 |  0.005067992 | -0.18730620 | -0.08036094 |  0.1985266715 |\n",
              "| mujeres |  0.465831947 |  1.00000000 | -0.39047508 |  0.2945415320 | -0.15143633 | -0.099208396 |  0.06268464 | -0.33579558 |  0.3712009419 |\n",
              "| grad_instituto | -0.003835850 | -0.39047508 |  1.00000000 |  0.3931829947 |  0.06160028 | -0.376128189 | -0.49656222 |  0.17862817 | -0.5605433382 |\n",
              "| grad_univ |  0.637245116 |  0.29454153 |  0.39318299 |  1.0000000000 |  0.18051305 |  0.128221027 | -0.55889734 | -0.02207835 | -0.0003502951 |\n",
              "| asia |  0.013985112 | -0.15143633 |  0.06160028 |  0.1805130549 |  1.00000000 |  0.176863909 | -0.11957990 |  0.02161304 |  0.0536920213 |\n",
              "| hispanos |  0.005067992 | -0.09920840 | -0.37612819 |  0.1282210271 |  0.17686391 |  1.000000000 | -0.22423503 |  0.10665199 |  0.3383900390 |\n",
              "| evangelicos | -0.187306203 |  0.06268464 | -0.49656222 | -0.5588973395 | -0.11957990 | -0.224235034 |  1.00000000 | -0.22799088 |  0.1415075705 |\n",
              "| mormones | -0.080360944 | -0.33579558 |  0.17862817 | -0.0220783481 |  0.02161304 |  0.106651990 | -0.22799088 |  1.00000000 | -0.1214247656 |\n",
              "| paro |  0.198526672 |  0.37120094 | -0.56054334 | -0.0003502951 |  0.05369202 |  0.338390039 |  0.14150757 | -0.12142477 |  1.0000000000 |\n",
              "\n"
            ],
            "text/plain": [
              "               densidad     mujeres     grad_instituto grad_univ    \n",
              "densidad        1.000000000  0.46583195 -0.00383585     0.6372451158\n",
              "mujeres         0.465831947  1.00000000 -0.39047508     0.2945415320\n",
              "grad_instituto -0.003835850 -0.39047508  1.00000000     0.3931829947\n",
              "grad_univ       0.637245116  0.29454153  0.39318299     1.0000000000\n",
              "asia            0.013985112 -0.15143633  0.06160028     0.1805130549\n",
              "hispanos        0.005067992 -0.09920840 -0.37612819     0.1282210271\n",
              "evangelicos    -0.187306203  0.06268464 -0.49656222    -0.5588973395\n",
              "mormones       -0.080360944 -0.33579558  0.17862817    -0.0220783481\n",
              "paro            0.198526672  0.37120094 -0.56054334    -0.0003502951\n",
              "               asia        hispanos     evangelicos mormones    paro         \n",
              "densidad        0.01398511  0.005067992 -0.18730620 -0.08036094  0.1985266715\n",
              "mujeres        -0.15143633 -0.099208396  0.06268464 -0.33579558  0.3712009419\n",
              "grad_instituto  0.06160028 -0.376128189 -0.49656222  0.17862817 -0.5605433382\n",
              "grad_univ       0.18051305  0.128221027 -0.55889734 -0.02207835 -0.0003502951\n",
              "asia            1.00000000  0.176863909 -0.11957990  0.02161304  0.0536920213\n",
              "hispanos        0.17686391  1.000000000 -0.22423503  0.10665199  0.3383900390\n",
              "evangelicos    -0.11957990 -0.224235034  1.00000000 -0.22799088  0.1415075705\n",
              "mormones        0.02161304  0.106651990 -0.22799088  1.00000000 -0.1214247656\n",
              "paro            0.05369202  0.338390039  0.14150757 -0.12142477  1.0000000000"
            ]
          },
          "metadata": {},
          "output_type": "display_data"
        }
      ],
      "source": [
        "cor(bdata)"
      ]
    },
    {
      "cell_type": "markdown",
      "metadata": {
        "id": "1VO4xA6GmrCg"
      },
      "source": [
        "# Bloque 2: Ejercicios intermedios de la prueba <a id=\"topic3\"></a>&nbsp;&nbsp;<a href=\"#index\"><i class=\"fa fa-list-alt\" aria-hidden=\"true\"></i></a>\n"
      ]
    },
    {
      "cell_type": "markdown",
      "metadata": {
        "id": "g5q2FoOkmrCg"
      },
      "source": [
        "### 04 Ejercicio [1.5 puntos]\n",
        "\n",
        "Utilizando el archivo de datos `hatco.RData` que contiene observaciones de clientes de la compañía de distribución industrial Hatco S.L. Realizar un modelo de regresión lineal múltiple de la variable `fidedila` que representa el porcentaje de compra de los clientes de la empresa Hatco S.L. en función de las siguientes variables explicativas: `velocida` que representa la velocidad de entrega, la variable `precio` que representa el nivel de precios, la variable `flexprec` que representa la flexibilidad de precios, la variable `imgfabri` que representa la imagen del fabricante, la variable `imgfvent` que representa la imagen de fuerza de ventas y la variable `calidadp` que representa la calidad del producto. Responder a las siguientes cuestiones:\n",
        "\n",
        "1. Ajustar el mejor modelo de regresión lineal múltiple posible con ese conjunto de variables\n",
        "2. Comparar sus métricas y realizar la diagnosis del modelo de regresión lineal elegido\n",
        "3. Realizar una interpretación de los coeficientes del modelo de regresión lineal elegido\n",
        "4. Realizar la descomposición de valores ajustados y residuos del modelo de regresión lineal elegido\n",
        "5. Evaluar e interpretar la bondad de ajuste del modelo de regresión lineal elegido ($R^2$ y $R^2_{adj}$)\n",
        "6. Evaluar e interpretar la prueba de significatividad individual del modelo de regresión lineal elegido\n",
        "7. Evaluar e interpretar la prueba de significatividad global del modelo de regresión lineal elegido\n",
        "8. Evaluar e interpretar la multicolinealidad (existencia de relación lineal entre las variables independientes del modelo) usando la matriz de correlaciones"
      ]
    },
    {
      "cell_type": "markdown",
      "metadata": {
        "id": "UEz60tBvmrCg"
      },
      "source": [
        "<div style=\"background-color:#F7DC6F\"><b>Resolución Ejercicio 04</b></div>"
      ]
    },
    {
      "cell_type": "markdown",
      "metadata": {
        "id": "cBf5Hbi8mrCg"
      },
      "source": [
        "<div style=\"background-color:#5DADE2\"><b>Apartado 1</b></div>"
      ]
    },
    {
      "cell_type": "code",
      "execution_count": null,
      "metadata": {
        "id": "jKxbOveAmrCh"
      },
      "outputs": [],
      "source": [
        "#Cargamos la informacion de nuestros datos\n",
        "load(\"hatco.RData\")"
      ]
    },
    {
      "cell_type": "code",
      "execution_count": null,
      "metadata": {
        "id": "0HIJzHDxmrCh",
        "outputId": "6050a9c4-cb37-4837-9ad6-59a3f2c1dd6b"
      },
      "outputs": [
        {
          "data": {
            "text/html": [
              "<table class=\"dataframe\">\n",
              "<caption>A data.frame: 6 × 16</caption>\n",
              "<thead>\n",
              "\t<tr><th></th><th scope=col>empresa</th><th scope=col>tamano</th><th scope=col>adquisic</th><th scope=col>tindustr</th><th scope=col>tsitcomp</th><th scope=col>velocida</th><th scope=col>precio</th><th scope=col>flexprec</th><th scope=col>imgfabri</th><th scope=col>servconj</th><th scope=col>imgfvent</th><th scope=col>calidadp</th><th scope=col>fidelida</th><th scope=col>satisfac</th><th scope=col>nfidelid</th><th scope=col>nsatisfa</th></tr>\n",
              "\t<tr><th></th><th scope=col>&lt;dbl&gt;</th><th scope=col>&lt;fct&gt;</th><th scope=col>&lt;fct&gt;</th><th scope=col>&lt;fct&gt;</th><th scope=col>&lt;fct&gt;</th><th scope=col>&lt;dbl&gt;</th><th scope=col>&lt;dbl&gt;</th><th scope=col>&lt;dbl&gt;</th><th scope=col>&lt;dbl&gt;</th><th scope=col>&lt;dbl&gt;</th><th scope=col>&lt;dbl&gt;</th><th scope=col>&lt;dbl&gt;</th><th scope=col>&lt;dbl&gt;</th><th scope=col>&lt;dbl&gt;</th><th scope=col>&lt;fct&gt;</th><th scope=col>&lt;fct&gt;</th></tr>\n",
              "</thead>\n",
              "<tbody>\n",
              "\t<tr><th scope=row>1</th><td>1</td><td>pequeña</td><td>descentralizada</td><td>clase A         </td><td>nueva tarea        </td><td>4.1</td><td>0.6</td><td>6.9</td><td>4.7</td><td>2.4</td><td>2.3</td><td>5.2</td><td>32</td><td>4.2</td><td>medio</td><td>bajo</td></tr>\n",
              "\t<tr><th scope=row>2</th><td>2</td><td>grande </td><td>centralizada   </td><td>otras industrias</td><td>nueva tarea        </td><td>1.8</td><td>3.0</td><td>6.3</td><td>6.6</td><td>2.5</td><td>4.0</td><td>8.4</td><td>43</td><td>4.3</td><td>medio</td><td>bajo</td></tr>\n",
              "\t<tr><th scope=row>3</th><td>3</td><td>grande </td><td>centralizada   </td><td>clase A         </td><td>recompra modificada</td><td>3.4</td><td>5.2</td><td>5.7</td><td>6.0</td><td>4.3</td><td>2.7</td><td>8.2</td><td>48</td><td>5.2</td><td>medio</td><td>alto</td></tr>\n",
              "\t<tr><th scope=row>4</th><td>4</td><td>grande </td><td>centralizada   </td><td>clase A         </td><td>nueva tarea        </td><td>2.7</td><td>1.0</td><td>7.1</td><td>5.9</td><td>1.8</td><td>2.3</td><td>7.8</td><td>32</td><td>3.9</td><td>medio</td><td>bajo</td></tr>\n",
              "\t<tr><th scope=row>5</th><td>5</td><td>pequeña</td><td>descentralizada</td><td>clase A         </td><td>recompra directa   </td><td>6.0</td><td>0.9</td><td>9.6</td><td>7.8</td><td>3.4</td><td>4.6</td><td>4.5</td><td>58</td><td>6.8</td><td>alto </td><td>alto</td></tr>\n",
              "\t<tr><th scope=row>6</th><td>6</td><td>grande </td><td>centralizada   </td><td>clase A         </td><td>recompra modificada</td><td>1.9</td><td>3.3</td><td>7.9</td><td>4.8</td><td>2.6</td><td>1.9</td><td>9.7</td><td>45</td><td>4.4</td><td>medio</td><td>bajo</td></tr>\n",
              "</tbody>\n",
              "</table>\n"
            ],
            "text/latex": [
              "A data.frame: 6 × 16\n",
              "\\begin{tabular}{r|llllllllllllllll}\n",
              "  & empresa & tamano & adquisic & tindustr & tsitcomp & velocida & precio & flexprec & imgfabri & servconj & imgfvent & calidadp & fidelida & satisfac & nfidelid & nsatisfa\\\\\n",
              "  & <dbl> & <fct> & <fct> & <fct> & <fct> & <dbl> & <dbl> & <dbl> & <dbl> & <dbl> & <dbl> & <dbl> & <dbl> & <dbl> & <fct> & <fct>\\\\\n",
              "\\hline\n",
              "\t1 & 1 & pequeña & descentralizada & clase A          & nueva tarea         & 4.1 & 0.6 & 6.9 & 4.7 & 2.4 & 2.3 & 5.2 & 32 & 4.2 & medio & bajo\\\\\n",
              "\t2 & 2 & grande  & centralizada    & otras industrias & nueva tarea         & 1.8 & 3.0 & 6.3 & 6.6 & 2.5 & 4.0 & 8.4 & 43 & 4.3 & medio & bajo\\\\\n",
              "\t3 & 3 & grande  & centralizada    & clase A          & recompra modificada & 3.4 & 5.2 & 5.7 & 6.0 & 4.3 & 2.7 & 8.2 & 48 & 5.2 & medio & alto\\\\\n",
              "\t4 & 4 & grande  & centralizada    & clase A          & nueva tarea         & 2.7 & 1.0 & 7.1 & 5.9 & 1.8 & 2.3 & 7.8 & 32 & 3.9 & medio & bajo\\\\\n",
              "\t5 & 5 & pequeña & descentralizada & clase A          & recompra directa    & 6.0 & 0.9 & 9.6 & 7.8 & 3.4 & 4.6 & 4.5 & 58 & 6.8 & alto  & alto\\\\\n",
              "\t6 & 6 & grande  & centralizada    & clase A          & recompra modificada & 1.9 & 3.3 & 7.9 & 4.8 & 2.6 & 1.9 & 9.7 & 45 & 4.4 & medio & bajo\\\\\n",
              "\\end{tabular}\n"
            ],
            "text/markdown": [
              "\n",
              "A data.frame: 6 × 16\n",
              "\n",
              "| <!--/--> | empresa &lt;dbl&gt; | tamano &lt;fct&gt; | adquisic &lt;fct&gt; | tindustr &lt;fct&gt; | tsitcomp &lt;fct&gt; | velocida &lt;dbl&gt; | precio &lt;dbl&gt; | flexprec &lt;dbl&gt; | imgfabri &lt;dbl&gt; | servconj &lt;dbl&gt; | imgfvent &lt;dbl&gt; | calidadp &lt;dbl&gt; | fidelida &lt;dbl&gt; | satisfac &lt;dbl&gt; | nfidelid &lt;fct&gt; | nsatisfa &lt;fct&gt; |\n",
              "|---|---|---|---|---|---|---|---|---|---|---|---|---|---|---|---|---|\n",
              "| 1 | 1 | pequeña | descentralizada | clase A          | nueva tarea         | 4.1 | 0.6 | 6.9 | 4.7 | 2.4 | 2.3 | 5.2 | 32 | 4.2 | medio | bajo |\n",
              "| 2 | 2 | grande  | centralizada    | otras industrias | nueva tarea         | 1.8 | 3.0 | 6.3 | 6.6 | 2.5 | 4.0 | 8.4 | 43 | 4.3 | medio | bajo |\n",
              "| 3 | 3 | grande  | centralizada    | clase A          | recompra modificada | 3.4 | 5.2 | 5.7 | 6.0 | 4.3 | 2.7 | 8.2 | 48 | 5.2 | medio | alto |\n",
              "| 4 | 4 | grande  | centralizada    | clase A          | nueva tarea         | 2.7 | 1.0 | 7.1 | 5.9 | 1.8 | 2.3 | 7.8 | 32 | 3.9 | medio | bajo |\n",
              "| 5 | 5 | pequeña | descentralizada | clase A          | recompra directa    | 6.0 | 0.9 | 9.6 | 7.8 | 3.4 | 4.6 | 4.5 | 58 | 6.8 | alto  | alto |\n",
              "| 6 | 6 | grande  | centralizada    | clase A          | recompra modificada | 1.9 | 3.3 | 7.9 | 4.8 | 2.6 | 1.9 | 9.7 | 45 | 4.4 | medio | bajo |\n",
              "\n"
            ],
            "text/plain": [
              "  empresa tamano  adquisic        tindustr         tsitcomp            velocida\n",
              "1 1       pequeña descentralizada clase A          nueva tarea         4.1     \n",
              "2 2       grande  centralizada    otras industrias nueva tarea         1.8     \n",
              "3 3       grande  centralizada    clase A          recompra modificada 3.4     \n",
              "4 4       grande  centralizada    clase A          nueva tarea         2.7     \n",
              "5 5       pequeña descentralizada clase A          recompra directa    6.0     \n",
              "6 6       grande  centralizada    clase A          recompra modificada 1.9     \n",
              "  precio flexprec imgfabri servconj imgfvent calidadp fidelida satisfac\n",
              "1 0.6    6.9      4.7      2.4      2.3      5.2      32       4.2     \n",
              "2 3.0    6.3      6.6      2.5      4.0      8.4      43       4.3     \n",
              "3 5.2    5.7      6.0      4.3      2.7      8.2      48       5.2     \n",
              "4 1.0    7.1      5.9      1.8      2.3      7.8      32       3.9     \n",
              "5 0.9    9.6      7.8      3.4      4.6      4.5      58       6.8     \n",
              "6 3.3    7.9      4.8      2.6      1.9      9.7      45       4.4     \n",
              "  nfidelid nsatisfa\n",
              "1 medio    bajo    \n",
              "2 medio    bajo    \n",
              "3 medio    alto    \n",
              "4 medio    bajo    \n",
              "5 alto     alto    \n",
              "6 medio    bajo    "
            ]
          },
          "metadata": {},
          "output_type": "display_data"
        }
      ],
      "source": [
        "#Pasamos esta informacion a un dataframe llamado hatco2\n",
        "hatco2 = as.data.frame(hatco)\n",
        "head(hatco2)"
      ]
    },
    {
      "cell_type": "code",
      "execution_count": null,
      "metadata": {
        "id": "AksNHjQfmrCh"
      },
      "outputs": [],
      "source": [
        "#Eliminamos los posibles datos nulos\n",
        "hatco2 = na.omit(hatco2)"
      ]
    },
    {
      "cell_type": "code",
      "execution_count": null,
      "metadata": {
        "id": "iN6hELGJmrCh"
      },
      "outputs": [],
      "source": [
        "#Creamos un nuevo datframe que contenga las variables independientes solicitadas\n",
        "hatco_reg = subset(hatco2, select = c(fidelida, velocida, precio, flexprec, imgfabri, imgfvent, calidadp))"
      ]
    },
    {
      "cell_type": "code",
      "execution_count": null,
      "metadata": {
        "id": "yEmoAKiPmrCh"
      },
      "outputs": [],
      "source": [
        "#Creamos nuestros dos modelos para la automatizacion de la seleccion del mejor modelo, siendo modelo_0 el que contiene\n",
        "#todas las variables independientes y modelo_1 el que no contiene ninguna\n",
        "modelo_0 = lm(fidelida ~ velocida + precio + flexprec + imgfabri + imgfvent + calidadp, data = hatco_reg)\n",
        "modelo_1 = lm(fidelida ~ 1, data = hatco_reg)"
      ]
    },
    {
      "cell_type": "code",
      "execution_count": null,
      "metadata": {
        "id": "Tmnuxzd-mrCh",
        "outputId": "10ffd0db-eed6-4f2d-9d89-f823822dd0df"
      },
      "outputs": [
        {
          "name": "stdout",
          "output_type": "stream",
          "text": [
            "Start:  AIC=299.64\n",
            "fidelida ~ velocida + precio + flexprec + imgfabri + imgfvent + \n",
            "    calidadp\n",
            "\n",
            "           Df Sum of Sq    RSS    AIC\n",
            "- imgfabri  1      0.46 1773.3 297.66\n",
            "- calidadp  1     27.38 1800.2 299.15\n",
            "<none>                  1772.8 299.64\n",
            "- imgfvent  1     44.18 1817.0 300.07\n",
            "- precio    1   1227.44 3000.3 349.72\n",
            "- flexprec  1   1449.20 3222.0 356.78\n",
            "- velocida  1   1670.53 3443.4 363.36\n",
            "\n",
            "Step:  AIC=297.66\n",
            "fidelida ~ velocida + precio + flexprec + imgfvent + calidadp\n",
            "\n",
            "           Df Sum of Sq    RSS    AIC\n",
            "- calidadp  1     27.52 1800.8 297.19\n",
            "<none>                  1773.3 297.66\n",
            "- imgfvent  1    126.49 1899.8 302.48\n",
            "- precio    1   1267.03 3040.3 349.04\n",
            "- flexprec  1   1453.32 3226.6 354.92\n",
            "- velocida  1   1687.80 3461.1 361.87\n",
            "\n",
            "Step:  AIC=297.19\n",
            "fidelida ~ velocida + precio + flexprec + imgfvent\n",
            "\n",
            "           Df Sum of Sq    RSS    AIC\n",
            "<none>                  1800.8 297.19\n",
            "- imgfvent  1    155.01 1955.8 303.36\n",
            "- flexprec  1   1425.81 3226.6 352.92\n",
            "- precio    1   1462.22 3263.0 354.03\n",
            "- velocida  1   1745.61 3546.4 362.28\n"
          ]
        }
      ],
      "source": [
        "#Iniciamos con nuestro modelo que elimina una a una las variables hasta encontrar el mejor valor AIC\n",
        "modelo_b = step(modelo_0, direction = \"backward\")"
      ]
    },
    {
      "cell_type": "code",
      "execution_count": null,
      "metadata": {
        "id": "SXcOcidqmrCi",
        "outputId": "c6c98da7-b5d7-49a1-d04c-1522aa9400f5"
      },
      "outputs": [
        {
          "name": "stdout",
          "output_type": "stream",
          "text": [
            "Start:  AIC=434.65\n",
            "fidelida ~ 1\n",
            "\n",
            "           Df Sum of Sq    RSS    AIC\n",
            "+ velocida  1    3558.5 4268.2 376.62\n",
            "+ flexprec  1    2615.5 5211.3 396.38\n",
            "+ imgfvent  1     556.9 7269.9 429.34\n",
            "+ imgfabri  1     394.2 7432.5 431.53\n",
            "+ calidadp  1     325.8 7501.0 432.44\n",
            "<none>                  7826.8 434.65\n",
            "+ precio    1      46.2 7780.6 436.06\n",
            "\n",
            "Step:  AIC=376.62\n",
            "fidelida ~ velocida\n",
            "\n",
            "           Df Sum of Sq    RSS    AIC\n",
            "+ precio    1    892.61 3375.6 355.39\n",
            "+ flexprec  1    557.97 3710.3 364.75\n",
            "+ imgfvent  1    354.86 3913.4 370.03\n",
            "+ imgfabri  1    287.66 3980.6 371.71\n",
            "+ calidadp  1    164.23 4104.0 374.74\n",
            "<none>                  4268.2 376.62\n",
            "\n",
            "Step:  AIC=355.39\n",
            "fidelida ~ velocida + precio\n",
            "\n",
            "           Df Sum of Sq    RSS    AIC\n",
            "+ flexprec  1   1419.79 1955.8 303.36\n",
            "+ imgfvent  1    148.99 3226.6 352.92\n",
            "<none>                  3375.6 355.39\n",
            "+ imgfabri  1     65.93 3309.7 355.44\n",
            "+ calidadp  1      4.68 3370.9 357.25\n",
            "\n",
            "Step:  AIC=303.36\n",
            "fidelida ~ velocida + precio + flexprec\n",
            "\n",
            "           Df Sum of Sq    RSS    AIC\n",
            "+ imgfvent  1   155.009 1800.8 297.19\n",
            "+ imgfabri  1   103.232 1852.6 299.99\n",
            "+ calidadp  1    56.043 1899.8 302.48\n",
            "<none>                  1955.8 303.36\n",
            "\n",
            "Step:  AIC=297.19\n",
            "fidelida ~ velocida + precio + flexprec + imgfvent\n",
            "\n",
            "           Df Sum of Sq    RSS    AIC\n",
            "<none>                  1800.8 297.19\n",
            "+ calidadp  1   27.5247 1773.3 297.66\n",
            "+ imgfabri  1    0.6033 1800.2 299.15\n"
          ]
        }
      ],
      "source": [
        "#Ahora usamos la funcion step pero agregando una a una las variables hasta encontrar el mejor valor de AIC\n",
        "modelo_f = step(modelo_1, direction = \"forward\", scope = list(lower = modelo_1, upper = modelo_0))"
      ]
    },
    {
      "cell_type": "code",
      "execution_count": null,
      "metadata": {
        "id": "wjbZ7hYpmrCi",
        "outputId": "f95ed19f-850f-4120-f764-13001ccfb597"
      },
      "outputs": [
        {
          "data": {
            "text/plain": [
              "\n",
              "Call:\n",
              "lm(formula = fidelida ~ velocida + precio + flexprec + imgfvent, \n",
              "    data = hatco_reg)\n",
              "\n",
              "Residuals:\n",
              "     Min       1Q   Median       3Q      Max \n",
              "-13.1378  -2.3612  -0.0458   3.0770   7.6110 \n",
              "\n",
              "Coefficients:\n",
              "            Estimate Std. Error t value Pr(>|t|)    \n",
              "(Intercept)  -8.0066     3.6860  -2.172  0.03236 *  \n",
              "velocida      3.8082     0.3989   9.546 1.70e-15 ***\n",
              "precio        3.8046     0.4355   8.736 8.91e-14 ***\n",
              "flexprec      3.4686     0.4021   8.627 1.52e-13 ***\n",
              "imgfvent      1.6764     0.5894   2.845  0.00546 ** \n",
              "---\n",
              "Signif. codes:  0 '***' 0.001 '**' 0.01 '*' 0.05 '.' 0.1 ' ' 1\n",
              "\n",
              "Residual standard error: 4.377 on 94 degrees of freedom\n",
              "Multiple R-squared:  0.7699,\tAdjusted R-squared:  0.7601 \n",
              "F-statistic: 78.64 on 4 and 94 DF,  p-value: < 2.2e-16\n"
            ]
          },
          "metadata": {},
          "output_type": "display_data"
        }
      ],
      "source": [
        "#Tenemos por tanto 2 modelos, de los cuales a traves de la automatizacion obtuvimos dos que nos representan un mejor valor AIC\n",
        "#por lo tanto este es el modelo a utilizar.\n",
        "modelo_br = lm(fidelida ~ velocida + precio + flexprec + imgfvent, data = hatco_reg)\n",
        "output = summary(modelo_br)\n",
        "output"
      ]
    },
    {
      "cell_type": "markdown",
      "metadata": {
        "id": "v-trc2KGmrCj"
      },
      "source": [
        "Nuestro modelo a usar es el que solo toma en cuenta las variables: *velocida,precio,flexprec y imgfvent* ya que a traves de la automatizacion la funcion step encontro que las variables *imgfabri y calidadp* no reducen el valor AIC"
      ]
    },
    {
      "cell_type": "markdown",
      "metadata": {
        "id": "9UpT3Ay-mrCk"
      },
      "source": [
        "<div style=\"background-color:#5DADE2\"><b>Apartado 2</b></div>"
      ]
    },
    {
      "cell_type": "code",
      "execution_count": null,
      "metadata": {
        "id": "AAhY-zn8mrCk",
        "outputId": "4c42b7fc-a4c6-4fab-ee02-9d5ace2443d4"
      },
      "outputs": [
        {
          "data": {
            "image/png": "[encoded data removed]",
            "text/plain": [
              "plot without title"
            ]
          },
          "metadata": {
            "image/png": {
              "height": 420,
              "width": 420
            }
          },
          "output_type": "display_data"
        }
      ],
      "source": [
        "#Veamos que tambien se ajusta nuestro modelo haciendo una revision a la distriucion de los errores,\n",
        "#para esto vamos a realizar un grafico de dispersion entre nuestros valores estimados y los residuos\n",
        "disp_re = ggplot(modelo_br, aes(x = modelo_br$fitted.values, y = modelo_br$residuals)) +\n",
        "  geom_point(color = \"blue\") +\n",
        "  labs(title = \"Gráfico de Dispersión entre Valores ajustados y residuos\",\n",
        "       x = \"Valores ajustados\", y = \"Residuos\")\n",
        "\n",
        "print(disp_re)"
      ]
    },
    {
      "cell_type": "markdown",
      "metadata": {
        "id": "dApf4cb5mrCk"
      },
      "source": [
        "En el gráfico anterior podemos notar como los residuos están distribuidos de manera aleatoria esto nos quiere decir que nuestro modelo está ajustando de manera adecuada aunque podemos notar una ligera agrupación en la esquina superior derecha lo que podría darnos una idea de que estos puedan aumentar cuando los valores ajustados aumenten. Signo de una posible heterocedasticidad es decir qye la varianza de nuestros errores no sea constante."
      ]
    },
    {
      "cell_type": "code",
      "execution_count": null,
      "metadata": {
        "id": "9Fq8TcbqmrCk",
        "outputId": "51e31e75-7cd5-41b4-a55c-11093ee47648"
      },
      "outputs": [
        {
          "data": {
            "image/png": "[encoded data removed]",
            "text/plain": [
              "plot without title"
            ]
          },
          "metadata": {
            "image/png": {
              "height": 420,
              "width": 420
            }
          },
          "output_type": "display_data"
        }
      ],
      "source": [
        "#Tambien vamos a revisar si se cumple la normalidad de los residuos, para esto podemos usar el grafico QQ en el cual,\n",
        "#esperaríamos que nuestros puntos se ubiquen sobre la recta\n",
        "ggplot(data = data.frame(modelo_br$residuals), aes(sample = modelo_br$residuals)) +\n",
        "  stat_qq() +\n",
        "  geom_abline(intercept = 0, slope = 1)"
      ]
    },
    {
      "cell_type": "markdown",
      "metadata": {
        "id": "0ivFldxEmrCl"
      },
      "source": [
        "Seguimos con el grafico QQ  en el cual podemos ver que los puntos se encuentran formando una linea recta pero esta se encuentra desviada de nuestra linea dibujada, esto nos da una idea de que nuestros residuos no siguen una distribucion normal."
      ]
    },
    {
      "cell_type": "code",
      "execution_count": null,
      "metadata": {
        "id": "peXcUUjdmrCl",
        "outputId": "1d9657b8-7378-44c8-bb38-34d69600c87f"
      },
      "outputs": [
        {
          "data": {
            "image/png": "[encoded data removed]",
            "text/plain": [
              "Plot with title \"Histograma de Residuos\""
            ]
          },
          "metadata": {
            "image/png": {
              "height": 420,
              "width": 420
            }
          },
          "output_type": "display_data"
        }
      ],
      "source": [
        "#Como al parecer los residuos no siguen una distribucion normal vamos a ver su histograma para confirmarlo\n",
        "hist(residuals(modelo_br), col = \"lightblue\", main = \"Histograma de Residuos\")"
      ]
    },
    {
      "cell_type": "markdown",
      "metadata": {
        "id": "nOv98jSTmrCm"
      },
      "source": [
        "Realizamos un histograma de nuestros residuos para confirmar la normalidad de los errores y podemos ver que la distribución es asimétrica y tiene una forma acampanada. Esto nos sugiere que los errores pueden no estar distribuidos de forma normal."
      ]
    },
    {
      "cell_type": "markdown",
      "metadata": {
        "id": "oGf785B7mrCm"
      },
      "source": [
        "<div style=\"background-color:#5DADE2\"><b>Apartado 3</b></div>"
      ]
    },
    {
      "cell_type": "code",
      "execution_count": null,
      "metadata": {
        "id": "Xlxn9f-1mrCm",
        "outputId": "863cbd41-7614-4ae7-c481-43cc561cd868"
      },
      "outputs": [
        {
          "data": {
            "text/plain": [
              "\n",
              "Call:\n",
              "lm(formula = fidelida ~ velocida + precio + flexprec + imgfvent, \n",
              "    data = hatco_reg)\n",
              "\n",
              "Residuals:\n",
              "     Min       1Q   Median       3Q      Max \n",
              "-13.1378  -2.3612  -0.0458   3.0770   7.6110 \n",
              "\n",
              "Coefficients:\n",
              "            Estimate Std. Error t value Pr(>|t|)    \n",
              "(Intercept)  -8.0066     3.6860  -2.172  0.03236 *  \n",
              "velocida      3.8082     0.3989   9.546 1.70e-15 ***\n",
              "precio        3.8046     0.4355   8.736 8.91e-14 ***\n",
              "flexprec      3.4686     0.4021   8.627 1.52e-13 ***\n",
              "imgfvent      1.6764     0.5894   2.845  0.00546 ** \n",
              "---\n",
              "Signif. codes:  0 '***' 0.001 '**' 0.01 '*' 0.05 '.' 0.1 ' ' 1\n",
              "\n",
              "Residual standard error: 4.377 on 94 degrees of freedom\n",
              "Multiple R-squared:  0.7699,\tAdjusted R-squared:  0.7601 \n",
              "F-statistic: 78.64 on 4 and 94 DF,  p-value: < 2.2e-16\n"
            ]
          },
          "metadata": {},
          "output_type": "display_data"
        }
      ],
      "source": [
        "#Sacamos el resumen de nuestro modelo y lo guardamos en la variable output\n",
        "output = summary(modelo_br)\n",
        "output"
      ]
    },
    {
      "cell_type": "code",
      "execution_count": null,
      "metadata": {
        "id": "BeDdz61hmrCm",
        "outputId": "5f52f40d-d313-4c7b-ae77-317d198bd40c"
      },
      "outputs": [
        {
          "data": {
            "text/html": [
              "<table class=\"dataframe\">\n",
              "<caption>A matrix: 5 × 4 of type dbl</caption>\n",
              "<thead>\n",
              "\t<tr><th></th><th scope=col>Estimate</th><th scope=col>Std. Error</th><th scope=col>t value</th><th scope=col>Pr(&gt;|t|)</th></tr>\n",
              "</thead>\n",
              "<tbody>\n",
              "\t<tr><th scope=row>(Intercept)</th><td>-8.006609</td><td>3.6860311</td><td>-2.172149</td><td>3.236015e-02</td></tr>\n",
              "\t<tr><th scope=row>velocida</th><td> 3.808208</td><td>0.3989488</td><td> 9.545605</td><td>1.700009e-15</td></tr>\n",
              "\t<tr><th scope=row>precio</th><td> 3.804574</td><td>0.4354810</td><td> 8.736486</td><td>8.910446e-14</td></tr>\n",
              "\t<tr><th scope=row>flexprec</th><td> 3.468602</td><td>0.4020626</td><td> 8.627021</td><td>1.520074e-13</td></tr>\n",
              "\t<tr><th scope=row>imgfvent</th><td> 1.676431</td><td>0.5893556</td><td> 2.844515</td><td>5.458472e-03</td></tr>\n",
              "</tbody>\n",
              "</table>\n"
            ],
            "text/latex": [
              "A matrix: 5 × 4 of type dbl\n",
              "\\begin{tabular}{r|llll}\n",
              "  & Estimate & Std. Error & t value & Pr(>\\textbar{}t\\textbar{})\\\\\n",
              "\\hline\n",
              "\t(Intercept) & -8.006609 & 3.6860311 & -2.172149 & 3.236015e-02\\\\\n",
              "\tvelocida &  3.808208 & 0.3989488 &  9.545605 & 1.700009e-15\\\\\n",
              "\tprecio &  3.804574 & 0.4354810 &  8.736486 & 8.910446e-14\\\\\n",
              "\tflexprec &  3.468602 & 0.4020626 &  8.627021 & 1.520074e-13\\\\\n",
              "\timgfvent &  1.676431 & 0.5893556 &  2.844515 & 5.458472e-03\\\\\n",
              "\\end{tabular}\n"
            ],
            "text/markdown": [
              "\n",
              "A matrix: 5 × 4 of type dbl\n",
              "\n",
              "| <!--/--> | Estimate | Std. Error | t value | Pr(&gt;|t|) |\n",
              "|---|---|---|---|---|\n",
              "| (Intercept) | -8.006609 | 3.6860311 | -2.172149 | 3.236015e-02 |\n",
              "| velocida |  3.808208 | 0.3989488 |  9.545605 | 1.700009e-15 |\n",
              "| precio |  3.804574 | 0.4354810 |  8.736486 | 8.910446e-14 |\n",
              "| flexprec |  3.468602 | 0.4020626 |  8.627021 | 1.520074e-13 |\n",
              "| imgfvent |  1.676431 | 0.5893556 |  2.844515 | 5.458472e-03 |\n",
              "\n"
            ],
            "text/plain": [
              "            Estimate  Std. Error t value   Pr(>|t|)    \n",
              "(Intercept) -8.006609 3.6860311  -2.172149 3.236015e-02\n",
              "velocida     3.808208 0.3989488   9.545605 1.700009e-15\n",
              "precio       3.804574 0.4354810   8.736486 8.910446e-14\n",
              "flexprec     3.468602 0.4020626   8.627021 1.520074e-13\n",
              "imgfvent     1.676431 0.5893556   2.844515 5.458472e-03"
            ]
          },
          "metadata": {},
          "output_type": "display_data"
        }
      ],
      "source": [
        "#Obtenemos los coeficientes de nuestro modelo\n",
        "output$coef"
      ]
    },
    {
      "cell_type": "markdown",
      "metadata": {
        "id": "N_fTixKumrCm"
      },
      "source": [
        "Para nuestro modelo tenemos que nuestra formula adaptando los coeficientes obtenidos quedaría de la siguiente manera:\n",
        "\n",
        "**fidelida = -8.006609 + 3.808208(velocida) + 3.804574(precio) + 3.468602(flexprec) + 1.676431(imgfvent)**\n",
        "\n",
        "lo cual nos quiere decir que por cada unidad que se modifique cada una de nuestras variables independientes nuestra variable fidelida va a cambiar en proporcion al coeficiente que la acompana"
      ]
    },
    {
      "cell_type": "code",
      "execution_count": null,
      "metadata": {
        "id": "J4sENUM4mrCm",
        "outputId": "55a1af53-fe3f-430c-d541-3d2718fd83ec"
      },
      "outputs": [
        {
          "data": {
            "text/html": [
              "94"
            ],
            "text/latex": [
              "94"
            ],
            "text/markdown": [
              "94"
            ],
            "text/plain": [
              "[1] 94"
            ]
          },
          "metadata": {},
          "output_type": "display_data"
        }
      ],
      "source": [
        "#Obtenemos los grados de libertad\n",
        "head(output$df)[2]"
      ]
    },
    {
      "cell_type": "markdown",
      "metadata": {
        "id": "vUDyI_JfmrCm"
      },
      "source": [
        "Como vimos en el apartado anterior nuestros grados de libertad son 94 y se corresponden al total de observaciones menos las 5 variables usadas en la estimacion"
      ]
    },
    {
      "cell_type": "code",
      "execution_count": null,
      "metadata": {
        "id": "LEJZO1A2mrCn",
        "outputId": "2d80f599-d494-4c8d-c5ff-dbf143de8b60"
      },
      "outputs": [
        {
          "data": {
            "text/html": [
              "4.37693376250275"
            ],
            "text/latex": [
              "4.37693376250275"
            ],
            "text/markdown": [
              "4.37693376250275"
            ],
            "text/plain": [
              "[1] 4.376934"
            ]
          },
          "metadata": {},
          "output_type": "display_data"
        }
      ],
      "source": [
        "#Extraemos nuestro sigma\n",
        "head(output$sigma)"
      ]
    },
    {
      "cell_type": "code",
      "execution_count": null,
      "metadata": {
        "id": "a1r8GX_kmrCn",
        "outputId": "050a21f7-3d02-4421-8cfe-5374079bdfb6"
      },
      "outputs": [
        {
          "data": {
            "text/html": [
              "40"
            ],
            "text/latex": [
              "40"
            ],
            "text/markdown": [
              "40"
            ],
            "text/plain": [
              "[1] 40"
            ]
          },
          "metadata": {},
          "output_type": "display_data"
        }
      ],
      "source": [
        "diff(range(hatco_reg$fidelida))"
      ]
    },
    {
      "cell_type": "markdown",
      "metadata": {
        "id": "fT4jfMEymrCn"
      },
      "source": [
        "Vemos que en comparacion al rango que maneja la variable fidelida que es nuestra variable dependiente, el sigma obtenido es relativamente pequeno lo que nos da a entender que existe un buen ajuste en el modelo"
      ]
    },
    {
      "cell_type": "code",
      "execution_count": null,
      "metadata": {
        "id": "Q83zUq1fmrCn",
        "outputId": "8b21a370-956d-46cc-977c-45ffa138ffae"
      },
      "outputs": [
        {
          "data": {
            "text/html": [
              "<table class=\"dataframe\">\n",
              "<caption>A matrix: 5 × 2 of type dbl</caption>\n",
              "<thead>\n",
              "\t<tr><th></th><th scope=col>2.5 %</th><th scope=col>97.5 %</th></tr>\n",
              "</thead>\n",
              "<tbody>\n",
              "\t<tr><th scope=row>(Intercept)</th><td>-15.3253102</td><td>-0.6879077</td></tr>\n",
              "\t<tr><th scope=row>velocida</th><td>  3.0160855</td><td> 4.6003299</td></tr>\n",
              "\t<tr><th scope=row>precio</th><td>  2.9399160</td><td> 4.6692314</td></tr>\n",
              "\t<tr><th scope=row>flexprec</th><td>  2.6702976</td><td> 4.2669070</td></tr>\n",
              "\t<tr><th scope=row>imgfvent</th><td>  0.5062517</td><td> 2.8466102</td></tr>\n",
              "</tbody>\n",
              "</table>\n"
            ],
            "text/latex": [
              "A matrix: 5 × 2 of type dbl\n",
              "\\begin{tabular}{r|ll}\n",
              "  & 2.5 \\% & 97.5 \\%\\\\\n",
              "\\hline\n",
              "\t(Intercept) & -15.3253102 & -0.6879077\\\\\n",
              "\tvelocida &   3.0160855 &  4.6003299\\\\\n",
              "\tprecio &   2.9399160 &  4.6692314\\\\\n",
              "\tflexprec &   2.6702976 &  4.2669070\\\\\n",
              "\timgfvent &   0.5062517 &  2.8466102\\\\\n",
              "\\end{tabular}\n"
            ],
            "text/markdown": [
              "\n",
              "A matrix: 5 × 2 of type dbl\n",
              "\n",
              "| <!--/--> | 2.5 % | 97.5 % |\n",
              "|---|---|---|\n",
              "| (Intercept) | -15.3253102 | -0.6879077 |\n",
              "| velocida |   3.0160855 |  4.6003299 |\n",
              "| precio |   2.9399160 |  4.6692314 |\n",
              "| flexprec |   2.6702976 |  4.2669070 |\n",
              "| imgfvent |   0.5062517 |  2.8466102 |\n",
              "\n"
            ],
            "text/plain": [
              "            2.5 %       97.5 %    \n",
              "(Intercept) -15.3253102 -0.6879077\n",
              "velocida      3.0160855  4.6003299\n",
              "precio        2.9399160  4.6692314\n",
              "flexprec      2.6702976  4.2669070\n",
              "imgfvent      0.5062517  2.8466102"
            ]
          },
          "metadata": {},
          "output_type": "display_data"
        }
      ],
      "source": [
        "confint(modelo_br)"
      ]
    },
    {
      "cell_type": "code",
      "execution_count": null,
      "metadata": {
        "id": "FemmWY-RmrCo",
        "outputId": "eb696f72-adc4-4b42-857d-578f12ee36de"
      },
      "outputs": [
        {
          "data": {
            "text/html": [
              "6.1"
            ],
            "text/latex": [
              "6.1"
            ],
            "text/markdown": [
              "6.1"
            ],
            "text/plain": [
              "[1] 6.1"
            ]
          },
          "metadata": {},
          "output_type": "display_data"
        },
        {
          "data": {
            "text/html": [
              "5.2"
            ],
            "text/latex": [
              "5.2"
            ],
            "text/markdown": [
              "5.2"
            ],
            "text/plain": [
              "[1] 5.2"
            ]
          },
          "metadata": {},
          "output_type": "display_data"
        },
        {
          "data": {
            "text/html": [
              "5"
            ],
            "text/latex": [
              "5"
            ],
            "text/markdown": [
              "5"
            ],
            "text/plain": [
              "[1] 5"
            ]
          },
          "metadata": {},
          "output_type": "display_data"
        },
        {
          "data": {
            "text/html": [
              "3.5"
            ],
            "text/latex": [
              "3.5"
            ],
            "text/markdown": [
              "3.5"
            ],
            "text/plain": [
              "[1] 3.5"
            ]
          },
          "metadata": {},
          "output_type": "display_data"
        }
      ],
      "source": [
        "diff(range(hatco_reg$velocida))\n",
        "diff(range(hatco_reg$precio))\n",
        "diff(range(hatco_reg$flexprec))\n",
        "diff(range(hatco_reg$imgfvent))"
      ]
    },
    {
      "cell_type": "markdown",
      "metadata": {
        "id": "xQNoI-wzmrCo"
      },
      "source": [
        "Nuevamente podemos observar un intervalo de confianza relativamente bueno para nuestras variables independientes a excepcion de la variable imgfvent que al parecer resulta alto si llo comparamos con el grango que maneja la variable"
      ]
    },
    {
      "cell_type": "markdown",
      "metadata": {
        "id": "M9eXceUQmrCo"
      },
      "source": [
        "<div style=\"background-color:#5DADE2\"><b>Apartado 4</b></div>"
      ]
    },
    {
      "cell_type": "code",
      "execution_count": null,
      "metadata": {
        "id": "hYWChxMrmrCp",
        "outputId": "4a53bd92-a6f6-49c3-a7b2-7a822d164ec1"
      },
      "outputs": [
        {
          "data": {
            "text/html": [
              "<style>\n",
              ".dl-inline {width: auto; margin:0; padding: 0}\n",
              ".dl-inline>dt, .dl-inline>dd {float: none; width: auto; display: inline-block}\n",
              ".dl-inline>dt::after {content: \":\\0020\"; padding-right: .5ex}\n",
              ".dl-inline>dt:not(:first-of-type) {padding-left: .5ex}\n",
              "</style><dl class=dl-inline><dt>1</dt><dd>37.6789341027431</dd><dt>2</dt><dd>38.8198044096618</dd><dt>3</dt><dd>49.0224773049835</dd><dt>4</dt><dd>34.5629932065388</dd><dt>5</dt><dd>59.2769183369993</dd><dt>6</dt><dd>42.3712559814964</dd></dl>\n"
            ],
            "text/latex": [
              "\\begin{description*}\n",
              "\\item[1] 37.6789341027431\n",
              "\\item[2] 38.8198044096618\n",
              "\\item[3] 49.0224773049835\n",
              "\\item[4] 34.5629932065388\n",
              "\\item[5] 59.2769183369993\n",
              "\\item[6] 42.3712559814964\n",
              "\\end{description*}\n"
            ],
            "text/markdown": [
              "1\n",
              ":   37.67893410274312\n",
              ":   38.81980440966183\n",
              ":   49.02247730498354\n",
              ":   34.56299320653885\n",
              ":   59.27691833699936\n",
              ":   42.3712559814964\n",
              "\n"
            ],
            "text/plain": [
              "       1        2        3        4        5        6 \n",
              "37.67893 38.81980 49.02248 34.56299 59.27692 42.37126 "
            ]
          },
          "metadata": {},
          "output_type": "display_data"
        }
      ],
      "source": [
        "#Obtenemos los valores ajustados de nuestro modelo\n",
        "head(modelo_br$fitted.values)"
      ]
    },
    {
      "cell_type": "code",
      "execution_count": null,
      "metadata": {
        "id": "jgr0Pr0QmrCp",
        "outputId": "0977cb23-13b8-4a10-9971-c1117464a3d1"
      },
      "outputs": [
        {
          "data": {
            "text/html": [
              "<style>\n",
              ".dl-inline {width: auto; margin:0; padding: 0}\n",
              ".dl-inline>dt, .dl-inline>dd {float: none; width: auto; display: inline-block}\n",
              ".dl-inline>dt::after {content: \":\\0020\"; padding-right: .5ex}\n",
              ".dl-inline>dt:not(:first-of-type) {padding-left: .5ex}\n",
              "</style><dl class=dl-inline><dt>1</dt><dd>-5.67893410274312</dd><dt>2</dt><dd>4.18019559033822</dd><dt>3</dt><dd>-1.02247730498345</dd><dt>4</dt><dd>-2.56299320653878</dd><dt>5</dt><dd>-1.27691833699931</dd><dt>6</dt><dd>2.62874401850359</dd></dl>\n"
            ],
            "text/latex": [
              "\\begin{description*}\n",
              "\\item[1] -5.67893410274312\n",
              "\\item[2] 4.18019559033822\n",
              "\\item[3] -1.02247730498345\n",
              "\\item[4] -2.56299320653878\n",
              "\\item[5] -1.27691833699931\n",
              "\\item[6] 2.62874401850359\n",
              "\\end{description*}\n"
            ],
            "text/markdown": [
              "1\n",
              ":   -5.678934102743122\n",
              ":   4.180195590338223\n",
              ":   -1.022477304983454\n",
              ":   -2.562993206538785\n",
              ":   -1.276918336999316\n",
              ":   2.62874401850359\n",
              "\n"
            ],
            "text/plain": [
              "        1         2         3         4         5         6 \n",
              "-5.678934  4.180196 -1.022477 -2.562993 -1.276918  2.628744 "
            ]
          },
          "metadata": {},
          "output_type": "display_data"
        }
      ],
      "source": [
        "#Obtenemos los residuos de nuestro modelo\n",
        "head(modelo_br$residuals)"
      ]
    },
    {
      "cell_type": "code",
      "execution_count": null,
      "metadata": {
        "id": "ZzIZv6SZmrCp",
        "outputId": "38cb7d70-e51b-42fa-d275-ef4c558c7cb7"
      },
      "outputs": [
        {
          "data": {
            "text/html": [
              "<style>\n",
              ".dl-inline {width: auto; margin:0; padding: 0}\n",
              ".dl-inline>dt, .dl-inline>dd {float: none; width: auto; display: inline-block}\n",
              ".dl-inline>dt::after {content: \":\\0020\"; padding-right: .5ex}\n",
              ".dl-inline>dt:not(:first-of-type) {padding-left: .5ex}\n",
              "</style><dl class=dl-inline><dt>1</dt><dd>32</dd><dt>2</dt><dd>43</dd><dt>3</dt><dd>48</dd><dt>4</dt><dd>32</dd><dt>5</dt><dd>58</dd><dt>6</dt><dd>45</dd></dl>\n"
            ],
            "text/latex": [
              "\\begin{description*}\n",
              "\\item[1] 32\n",
              "\\item[2] 43\n",
              "\\item[3] 48\n",
              "\\item[4] 32\n",
              "\\item[5] 58\n",
              "\\item[6] 45\n",
              "\\end{description*}\n"
            ],
            "text/markdown": [
              "1\n",
              ":   322\n",
              ":   433\n",
              ":   484\n",
              ":   325\n",
              ":   586\n",
              ":   45\n",
              "\n"
            ],
            "text/plain": [
              " 1  2  3  4  5  6 \n",
              "32 43 48 32 58 45 "
            ]
          },
          "metadata": {},
          "output_type": "display_data"
        }
      ],
      "source": [
        "#Sumamos ambos valores para obtener los valores originales\n",
        "(head(modelo_br$fitted.values) + head(modelo_br$residuals))"
      ]
    },
    {
      "cell_type": "code",
      "execution_count": null,
      "metadata": {
        "id": "2sazgZ2zmrCp",
        "outputId": "5bc87651-cb97-4928-8a6c-116629eee89c"
      },
      "outputs": [
        {
          "data": {
            "text/html": [
              "<table class=\"dataframe\">\n",
              "<caption>A data.frame: 6 × 1</caption>\n",
              "<thead>\n",
              "\t<tr><th></th><th scope=col>fidelida</th></tr>\n",
              "\t<tr><th></th><th scope=col>&lt;dbl&gt;</th></tr>\n",
              "</thead>\n",
              "<tbody>\n",
              "\t<tr><th scope=row>1</th><td>32</td></tr>\n",
              "\t<tr><th scope=row>2</th><td>43</td></tr>\n",
              "\t<tr><th scope=row>3</th><td>48</td></tr>\n",
              "\t<tr><th scope=row>4</th><td>32</td></tr>\n",
              "\t<tr><th scope=row>5</th><td>58</td></tr>\n",
              "\t<tr><th scope=row>6</th><td>45</td></tr>\n",
              "</tbody>\n",
              "</table>\n"
            ],
            "text/latex": [
              "A data.frame: 6 × 1\n",
              "\\begin{tabular}{r|l}\n",
              "  & fidelida\\\\\n",
              "  & <dbl>\\\\\n",
              "\\hline\n",
              "\t1 & 32\\\\\n",
              "\t2 & 43\\\\\n",
              "\t3 & 48\\\\\n",
              "\t4 & 32\\\\\n",
              "\t5 & 58\\\\\n",
              "\t6 & 45\\\\\n",
              "\\end{tabular}\n"
            ],
            "text/markdown": [
              "\n",
              "A data.frame: 6 × 1\n",
              "\n",
              "| <!--/--> | fidelida &lt;dbl&gt; |\n",
              "|---|---|\n",
              "| 1 | 32 |\n",
              "| 2 | 43 |\n",
              "| 3 | 48 |\n",
              "| 4 | 32 |\n",
              "| 5 | 58 |\n",
              "| 6 | 45 |\n",
              "\n"
            ],
            "text/plain": [
              "  fidelida\n",
              "1 32      \n",
              "2 43      \n",
              "3 48      \n",
              "4 32      \n",
              "5 58      \n",
              "6 45      "
            ]
          },
          "metadata": {},
          "output_type": "display_data"
        }
      ],
      "source": [
        "#Comprobamos que efectivamente tenemos nuestros valores originales\n",
        "head(hatco_reg[\"fidelida\"])"
      ]
    },
    {
      "cell_type": "markdown",
      "metadata": {
        "id": "BrcwMX4pmrCp"
      },
      "source": [
        "<div style=\"background-color:#5DADE2\"><b>Apartado 5</b></div>"
      ]
    },
    {
      "cell_type": "code",
      "execution_count": null,
      "metadata": {
        "id": "J0mHUjWFmrCq",
        "outputId": "fcd573cb-ac20-44f6-ffd4-379ebfb07d48"
      },
      "outputs": [
        {
          "data": {
            "text/html": [
              "0.769916163376474"
            ],
            "text/latex": [
              "0.769916163376474"
            ],
            "text/markdown": [
              "0.769916163376474"
            ],
            "text/plain": [
              "[1] 0.7699162"
            ]
          },
          "metadata": {},
          "output_type": "display_data"
        }
      ],
      "source": [
        "#Obtenemos nuestros R2 del modelo\n",
        "output$r.squared"
      ]
    },
    {
      "cell_type": "markdown",
      "metadata": {
        "id": "17TYJOlvmrCq"
      },
      "source": [
        "Como hemos visto en ejercicios anteriores, nuestro R2 quiere decir que el modelo con las variables seleccionadas explica un 76.99% de las variaciones de la variable fidelida, de igual manera podemos entender que hay un 23.01% de informacion que estamos perdiendo y puede estar contenida en otras variables que no se han tenido en cuenta"
      ]
    },
    {
      "cell_type": "code",
      "execution_count": null,
      "metadata": {
        "id": "B_mqBaR9mrCq",
        "outputId": "98651fb1-17dc-49ee-8856-1526467a0f30"
      },
      "outputs": [
        {
          "data": {
            "text/html": [
              "0.760125361818026"
            ],
            "text/latex": [
              "0.760125361818026"
            ],
            "text/markdown": [
              "0.760125361818026"
            ],
            "text/plain": [
              "[1] 0.7601254"
            ]
          },
          "metadata": {},
          "output_type": "display_data"
        }
      ],
      "source": [
        "#Extraemos nuestro R2 ajustado\n",
        "output$adj.r.squared"
      ]
    },
    {
      "cell_type": "markdown",
      "metadata": {
        "id": "2oCx977UmrCq"
      },
      "source": [
        "En este caso es de esperar que su valor baje aunque su variacion no fue mucha ya que no se penaliza tanto el valor de R2 debido a que solo estamos trabajando con 4 variables, las cuales resultaron de la automatizacion para escoger el mejor modelo siendo su nuevo valor 76.01%"
      ]
    },
    {
      "cell_type": "markdown",
      "metadata": {
        "id": "PnlqwNGkmrCr"
      },
      "source": [
        "<div style=\"background-color:#5DADE2\"><b>Apartado 6</b></div>"
      ]
    },
    {
      "cell_type": "code",
      "execution_count": null,
      "metadata": {
        "id": "yEtJO8SOmrCr",
        "outputId": "706e2a62-f5ab-4d63-adcb-fb59c8021681"
      },
      "outputs": [
        {
          "data": {
            "text/plain": [
              "\n",
              "Call:\n",
              "lm(formula = fidelida ~ velocida + precio + flexprec + imgfvent, \n",
              "    data = hatco_reg)\n",
              "\n",
              "Residuals:\n",
              "     Min       1Q   Median       3Q      Max \n",
              "-13.1378  -2.3612  -0.0458   3.0770   7.6110 \n",
              "\n",
              "Coefficients:\n",
              "            Estimate Std. Error t value Pr(>|t|)    \n",
              "(Intercept)  -8.0066     3.6860  -2.172  0.03236 *  \n",
              "velocida      3.8082     0.3989   9.546 1.70e-15 ***\n",
              "precio        3.8046     0.4355   8.736 8.91e-14 ***\n",
              "flexprec      3.4686     0.4021   8.627 1.52e-13 ***\n",
              "imgfvent      1.6764     0.5894   2.845  0.00546 ** \n",
              "---\n",
              "Signif. codes:  0 '***' 0.001 '**' 0.01 '*' 0.05 '.' 0.1 ' ' 1\n",
              "\n",
              "Residual standard error: 4.377 on 94 degrees of freedom\n",
              "Multiple R-squared:  0.7699,\tAdjusted R-squared:  0.7601 \n",
              "F-statistic: 78.64 on 4 and 94 DF,  p-value: < 2.2e-16\n"
            ]
          },
          "metadata": {},
          "output_type": "display_data"
        }
      ],
      "source": [
        "#Para poder obtener la significatividad individual de nuestro modelo volvemos a obtener el resumen y lo guardamos en output\n",
        "output = summary(modelo_br)\n",
        "output"
      ]
    },
    {
      "cell_type": "markdown",
      "metadata": {
        "id": "QocY8KH1mrCr"
      },
      "source": [
        "Vemos que las variables usadas son estadisticamente significativas de acuerdo a su Pr(>|t|) siendo todos menores a 0.05 lo cual nos permite rechazar la hipotesis nula y afirmar que cada una de las variables si tiene un efecto en los cambios de la variable dependiente"
      ]
    },
    {
      "cell_type": "markdown",
      "metadata": {
        "id": "yyIKLoRYmrCs"
      },
      "source": [
        "<div style=\"background-color:#5DADE2\"><b>Apartado 7</b></div>"
      ]
    },
    {
      "cell_type": "code",
      "execution_count": null,
      "metadata": {
        "id": "fIQP9o0BmrCs",
        "outputId": "41fa3567-4aa8-479a-ccf2-1b8c14b56130"
      },
      "outputs": [
        {
          "data": {
            "text/html": [
              "<strong>value:</strong> 78.6366835013789"
            ],
            "text/latex": [
              "\\textbf{value:} 78.6366835013789"
            ],
            "text/markdown": [
              "**value:** 78.6366835013789"
            ],
            "text/plain": [
              "   value \n",
              "78.63668 "
            ]
          },
          "metadata": {},
          "output_type": "display_data"
        }
      ],
      "source": [
        "#De igual manera para ver su significativiada global obtenemos el estadistico f\n",
        "output$fstatistic[1]"
      ]
    },
    {
      "cell_type": "code",
      "execution_count": null,
      "metadata": {
        "id": "OF689QQLmrCs",
        "outputId": "bbcd9aff-45ab-4a06-de97-f1024474af9e"
      },
      "outputs": [
        {
          "data": {
            "text/plain": [
              "\n",
              "Call:\n",
              "lm(formula = fidelida ~ velocida + precio + flexprec + imgfvent, \n",
              "    data = hatco_reg)\n",
              "\n",
              "Residuals:\n",
              "     Min       1Q   Median       3Q      Max \n",
              "-13.1378  -2.3612  -0.0458   3.0770   7.6110 \n",
              "\n",
              "Coefficients:\n",
              "            Estimate Std. Error t value Pr(>|t|)    \n",
              "(Intercept)  -8.0066     3.6860  -2.172  0.03236 *  \n",
              "velocida      3.8082     0.3989   9.546 1.70e-15 ***\n",
              "precio        3.8046     0.4355   8.736 8.91e-14 ***\n",
              "flexprec      3.4686     0.4021   8.627 1.52e-13 ***\n",
              "imgfvent      1.6764     0.5894   2.845  0.00546 ** \n",
              "---\n",
              "Signif. codes:  0 '***' 0.001 '**' 0.01 '*' 0.05 '.' 0.1 ' ' 1\n",
              "\n",
              "Residual standard error: 4.377 on 94 degrees of freedom\n",
              "Multiple R-squared:  0.7699,\tAdjusted R-squared:  0.7601 \n",
              "F-statistic: 78.64 on 4 and 94 DF,  p-value: < 2.2e-16\n"
            ]
          },
          "metadata": {},
          "output_type": "display_data"
        }
      ],
      "source": [
        "#Nuevamente revisamos nuestro resumen comparando el estdistico f obtenido y su p-valor\n",
        "output"
      ]
    },
    {
      "cell_type": "markdown",
      "metadata": {
        "id": "03O77XMbmrCs"
      },
      "source": [
        "Podemos ver que en ambos casos el estadistico F tienen el mismo valor y ademas su p-valor es mucho menor al 5% lo cual nos quiere decir que podemos rechazar la hipotesis nula y popr lo tanto afirmar que todas sus"
      ]
    },
    {
      "cell_type": "markdown",
      "metadata": {
        "id": "j3Yx0TNImrCs"
      },
      "source": [
        "<div style=\"background-color:#5DADE2\"><b>Apartado 8</b></div>"
      ]
    },
    {
      "cell_type": "code",
      "execution_count": null,
      "metadata": {
        "id": "8JcYroFBmrCt",
        "outputId": "7061949e-ec5c-42c1-b0ef-ca7234ff5acc"
      },
      "outputs": [
        {
          "data": {
            "text/html": [
              "<table class=\"dataframe\">\n",
              "<caption>A matrix: 4 × 4 of type dbl</caption>\n",
              "<thead>\n",
              "\t<tr><th></th><th scope=col>velocida</th><th scope=col>precio</th><th scope=col>flexprec</th><th scope=col>imgfvent</th></tr>\n",
              "</thead>\n",
              "<tbody>\n",
              "\t<tr><th scope=row>velocida</th><td> 1.00000000</td><td>-0.3543946</td><td> 0.51879732</td><td> 0.08084452</td></tr>\n",
              "\t<tr><th scope=row>precio</th><td>-0.35439461</td><td> 1.0000000</td><td>-0.48550163</td><td> 0.18873090</td></tr>\n",
              "\t<tr><th scope=row>flexprec</th><td> 0.51879732</td><td>-0.4855016</td><td> 1.00000000</td><td>-0.03801323</td></tr>\n",
              "\t<tr><th scope=row>imgfvent</th><td> 0.08084452</td><td> 0.1887309</td><td>-0.03801323</td><td> 1.00000000</td></tr>\n",
              "</tbody>\n",
              "</table>\n"
            ],
            "text/latex": [
              "A matrix: 4 × 4 of type dbl\n",
              "\\begin{tabular}{r|llll}\n",
              "  & velocida & precio & flexprec & imgfvent\\\\\n",
              "\\hline\n",
              "\tvelocida &  1.00000000 & -0.3543946 &  0.51879732 &  0.08084452\\\\\n",
              "\tprecio & -0.35439461 &  1.0000000 & -0.48550163 &  0.18873090\\\\\n",
              "\tflexprec &  0.51879732 & -0.4855016 &  1.00000000 & -0.03801323\\\\\n",
              "\timgfvent &  0.08084452 &  0.1887309 & -0.03801323 &  1.00000000\\\\\n",
              "\\end{tabular}\n"
            ],
            "text/markdown": [
              "\n",
              "A matrix: 4 × 4 of type dbl\n",
              "\n",
              "| <!--/--> | velocida | precio | flexprec | imgfvent |\n",
              "|---|---|---|---|---|\n",
              "| velocida |  1.00000000 | -0.3543946 |  0.51879732 |  0.08084452 |\n",
              "| precio | -0.35439461 |  1.0000000 | -0.48550163 |  0.18873090 |\n",
              "| flexprec |  0.51879732 | -0.4855016 |  1.00000000 | -0.03801323 |\n",
              "| imgfvent |  0.08084452 |  0.1887309 | -0.03801323 |  1.00000000 |\n",
              "\n"
            ],
            "text/plain": [
              "         velocida    precio     flexprec    imgfvent   \n",
              "velocida  1.00000000 -0.3543946  0.51879732  0.08084452\n",
              "precio   -0.35439461  1.0000000 -0.48550163  0.18873090\n",
              "flexprec  0.51879732 -0.4855016  1.00000000 -0.03801323\n",
              "imgfvent  0.08084452  0.1887309 -0.03801323  1.00000000"
            ]
          },
          "metadata": {},
          "output_type": "display_data"
        }
      ],
      "source": [
        "#Sacamos nuestra tabla de correlacion de la variables independientes\n",
        "cor(hatco_reg[, c(\"velocida\", \"precio\", \"flexprec\", \"imgfvent\")])"
      ]
    },
    {
      "cell_type": "markdown",
      "metadata": {
        "id": "XG30RbSJmrCt"
      },
      "source": [
        "Vemos que no existe ningun valor que nos haga sospechar una posible correlacion entre las variables independientes usadas en nuestro modelo ya que todas estan por debajo de 0.7 que si bien no es un valor determinado para declarar que existe o no una multicolinealidad es un punto de referencia, podriamos sospechar de la correlacion entre velocida y flexprec que es la mas alta que tenemos pero aunn asi no se considera que exista multicolienalidad en nuestro modelo"
      ]
    },
    {
      "cell_type": "markdown",
      "metadata": {
        "id": "KqW2dwp4mrCt"
      },
      "source": [
        "### 05 Ejercicio [1.5 puntos]\n",
        "\n",
        "En este ejercicio deberéis de <u>crear vuestra propia función de R</u> con el objetivo de automatizar el proceso de ajuste de un modelo de regresión lineal múltiple a un conjunto de datos de sección cruzada dado. Es decir, tenéis que replicar la función `lm` de la librería $\\tt stats$. Una vez creada, comparar los resultados obtenidos con la propia función `lm` utilizando alguna de las bases de datos propias de las librerías de R teniendo en cuenta los principales objetos de la salida de los modelos: output de la regresión, coeficientes de regresión estimados, residuos estimados, grados de libertad, etc.\n",
        "\n",
        "Para aplicar a un ejemplo la función que diseñéis podéis utilizar cualquier base de datos disponible en las precargadas de R."
      ]
    },
    {
      "cell_type": "code",
      "execution_count": null,
      "metadata": {
        "id": "iujjhvkhmrCt"
      },
      "outputs": [],
      "source": [
        "data(package = .packages(all.available = TRUE))"
      ]
    },
    {
      "cell_type": "markdown",
      "metadata": {
        "id": "KM3gPseYmrCt"
      },
      "source": [
        "<div style=\"background-color:#F7DC6F\"><b>Resolución Ejercicio 05</b></div>"
      ]
    },
    {
      "cell_type": "markdown",
      "metadata": {
        "id": "KegrDWGdmrCt"
      },
      "source": [
        "<div style=\"background-color:#5DADE2\"><b>Apartado 1</b></div>"
      ]
    },
    {
      "cell_type": "code",
      "execution_count": null,
      "metadata": {
        "id": "Iccr_0OxmrCt"
      },
      "outputs": [],
      "source": [
        "#Declaramos nuestra funcion de regresion que va a recibir como parametros la formula y los datos\n",
        "funcion_reg = function(formula, data) {\n",
        "\n",
        "#Para poder calcular una regresion lineal primero necesitamos obtener las matrices a partir de nuestros datos y poder hacer las\n",
        "#operaciones pertinentes\n",
        "    #Primero vamos a obtenes nuestra matriz de diseño X la cual va a contener todos las columnas que se indiquen en la fórmula\n",
        "    #excepto la variable dependiente que se encuentra antes del signo ~ para este caso va a generar un vector de unos para\n",
        "    #representar el intercepto.\n",
        "    X = model.matrix(formula, data)\n",
        "\n",
        "    #Ya que tenemos nuestra matriz con las variables independientes debemos obtener el vector que contiene la variable\n",
        "    #dependiente que se llamará Y, para esto usamos model.response que toma la columna que se encuentra antes del signo ~\n",
        "    #y la convierte en un vector.\n",
        "    Y = model.response(model.frame(formula, data))\n",
        "\n",
        "\n",
        "#Una vez que tenemos nuestras matrices para calcular la regresion lineal, vamos a usar el método de Mínimos Cuadrados\n",
        "#Ordinarios para calcular los coeficientes, este método intenta minimizar la suma de los cuadrados de las diferencias\n",
        "#entre los valores observados y los valores estimados por el modelo, esto con el fin de poder encontrar la recta que\n",
        "#se adapte mejor al modelo.\n",
        "\n",
        "    #Para poder calcular esto necesitamos realizar algunas operaciones con matrices\n",
        "    #Primero obtenemos la transpuesta de nuestra matriz X\n",
        "    X_transpuesta = t(X)\n",
        "\n",
        "    #Ya que tenemos la transpuesta de X vamos a multiplicarla por X PERO CON LA MULTIPLICACION MATRICIAL %*%\n",
        "    XTX = X_transpuesta %*% X\n",
        "\n",
        "    #A nuestra matriz resultante le calculamos su inversa, usando la funcion solve()\n",
        "    IX = solve(XTX)\n",
        "\n",
        "    #Tambien tenemos que multiplicar la transpuesta de X por el vector Y\n",
        "    XTY = X_transpuesta %*% Y\n",
        "\n",
        "    #Una vez que tenemos nuestras matrices calculadas vamos a multiplicar la inversa de X por el resultado de\n",
        "    #X_transpuesta por Y\n",
        "    coef = IX %*% XTY\n",
        "\n",
        "    #Con lo aanterior ya tenemos calculados nuestros coeficientes ahora vamos a calcular los residuos\n",
        "    #Para esto vamos a restar el resultado de nuestras matriz X por los coeficientes de nuestro vector Y\n",
        "    residuos = Y - X%*%coef\n",
        "\n",
        "    #Por ultimo vamos a establecer la salida de nuestra funcion la cual nos va a devolver una lista con los resultados\n",
        "    #de nuestros coeficientes y nuestros residuos\n",
        "    output = list(coeficientes = coef, residuos = residuos)\n",
        "\n",
        "    #Ya que tenemos nuestra funcion calculada tambien podemos asignarle una clase, con el fin de que podamos usar las\n",
        "    #funciones asignadas a esta clase en un futuro\n",
        "    #class(output) = \"lm\"\n",
        "    return(output)\n",
        "}\n"
      ]
    },
    {
      "cell_type": "code",
      "execution_count": null,
      "metadata": {
        "id": "onxHYYWZmrCu",
        "outputId": "3a1d252f-026e-47dc-d7e4-be3429e6787b"
      },
      "outputs": [
        {
          "name": "stderr",
          "output_type": "stream",
          "text": [
            "Loading required package: MASS\n",
            "\n"
          ]
        },
        {
          "name": "stdout",
          "output_type": "stream",
          "text": [
            "'data.frame':\t47 obs. of  16 variables:\n",
            " $ M   : int  151 143 142 136 141 121 127 131 157 140 ...\n",
            " $ So  : int  1 0 1 0 0 0 1 1 1 0 ...\n",
            " $ Ed  : int  91 113 89 121 121 110 111 109 90 118 ...\n",
            " $ Po1 : int  58 103 45 149 109 118 82 115 65 71 ...\n",
            " $ Po2 : int  56 95 44 141 101 115 79 109 62 68 ...\n",
            " $ LF  : int  510 583 533 577 591 547 519 542 553 632 ...\n",
            " $ M.F : int  950 1012 969 994 985 964 982 969 955 1029 ...\n",
            " $ Pop : int  33 13 18 157 18 25 4 50 39 7 ...\n",
            " $ NW  : int  301 102 219 80 30 44 139 179 286 15 ...\n",
            " $ U1  : int  108 96 94 102 91 84 97 79 81 100 ...\n",
            " $ U2  : int  41 36 33 39 20 29 38 35 28 24 ...\n",
            " $ GDP : int  394 557 318 673 578 689 620 472 421 526 ...\n",
            " $ Ineq: int  261 194 250 167 174 126 168 206 239 174 ...\n",
            " $ Prob: num  0.0846 0.0296 0.0834 0.0158 0.0414 ...\n",
            " $ Time: num  26.2 25.3 24.3 29.9 21.3 ...\n",
            " $ y   : int  791 1635 578 1969 1234 682 963 1555 856 705 ...\n"
          ]
        }
      ],
      "source": [
        "#Vamos a usar la base de datos UScrime que viene cargada en la libreria MASS\n",
        "#Primero cargamos la libreria MASS\n",
        "require(MASS)\n",
        "#Veamos la estuctura de la base de datos\n",
        "str(UScrime)"
      ]
    },
    {
      "cell_type": "code",
      "execution_count": null,
      "metadata": {
        "id": "AL1tRoiKmrCu"
      },
      "outputs": [],
      "source": [
        "help(UScrime)"
      ]
    },
    {
      "cell_type": "code",
      "execution_count": null,
      "metadata": {
        "id": "-hYOtNowmrCu",
        "outputId": "e2f2eca2-8e37-4b88-f769-1b93a99db9b3"
      },
      "outputs": [
        {
          "data": {
            "text/html": [
              "<table class=\"dataframe\">\n",
              "<caption>A data.frame: 6 × 16</caption>\n",
              "<thead>\n",
              "\t<tr><th></th><th scope=col>M</th><th scope=col>So</th><th scope=col>Ed</th><th scope=col>Po1</th><th scope=col>Po2</th><th scope=col>LF</th><th scope=col>M.F</th><th scope=col>Pop</th><th scope=col>NW</th><th scope=col>U1</th><th scope=col>U2</th><th scope=col>GDP</th><th scope=col>Ineq</th><th scope=col>Prob</th><th scope=col>Time</th><th scope=col>y</th></tr>\n",
              "\t<tr><th></th><th scope=col>&lt;int&gt;</th><th scope=col>&lt;int&gt;</th><th scope=col>&lt;int&gt;</th><th scope=col>&lt;int&gt;</th><th scope=col>&lt;int&gt;</th><th scope=col>&lt;int&gt;</th><th scope=col>&lt;int&gt;</th><th scope=col>&lt;int&gt;</th><th scope=col>&lt;int&gt;</th><th scope=col>&lt;int&gt;</th><th scope=col>&lt;int&gt;</th><th scope=col>&lt;int&gt;</th><th scope=col>&lt;int&gt;</th><th scope=col>&lt;dbl&gt;</th><th scope=col>&lt;dbl&gt;</th><th scope=col>&lt;int&gt;</th></tr>\n",
              "</thead>\n",
              "<tbody>\n",
              "\t<tr><th scope=row>1</th><td>151</td><td>1</td><td> 91</td><td> 58</td><td> 56</td><td>510</td><td> 950</td><td> 33</td><td>301</td><td>108</td><td>41</td><td>394</td><td>261</td><td>0.084602</td><td>26.2011</td><td> 791</td></tr>\n",
              "\t<tr><th scope=row>2</th><td>143</td><td>0</td><td>113</td><td>103</td><td> 95</td><td>583</td><td>1012</td><td> 13</td><td>102</td><td> 96</td><td>36</td><td>557</td><td>194</td><td>0.029599</td><td>25.2999</td><td>1635</td></tr>\n",
              "\t<tr><th scope=row>3</th><td>142</td><td>1</td><td> 89</td><td> 45</td><td> 44</td><td>533</td><td> 969</td><td> 18</td><td>219</td><td> 94</td><td>33</td><td>318</td><td>250</td><td>0.083401</td><td>24.3006</td><td> 578</td></tr>\n",
              "\t<tr><th scope=row>4</th><td>136</td><td>0</td><td>121</td><td>149</td><td>141</td><td>577</td><td> 994</td><td>157</td><td> 80</td><td>102</td><td>39</td><td>673</td><td>167</td><td>0.015801</td><td>29.9012</td><td>1969</td></tr>\n",
              "\t<tr><th scope=row>5</th><td>141</td><td>0</td><td>121</td><td>109</td><td>101</td><td>591</td><td> 985</td><td> 18</td><td> 30</td><td> 91</td><td>20</td><td>578</td><td>174</td><td>0.041399</td><td>21.2998</td><td>1234</td></tr>\n",
              "\t<tr><th scope=row>6</th><td>121</td><td>0</td><td>110</td><td>118</td><td>115</td><td>547</td><td> 964</td><td> 25</td><td> 44</td><td> 84</td><td>29</td><td>689</td><td>126</td><td>0.034201</td><td>20.9995</td><td> 682</td></tr>\n",
              "</tbody>\n",
              "</table>\n"
            ],
            "text/latex": [
              "A data.frame: 6 × 16\n",
              "\\begin{tabular}{r|llllllllllllllll}\n",
              "  & M & So & Ed & Po1 & Po2 & LF & M.F & Pop & NW & U1 & U2 & GDP & Ineq & Prob & Time & y\\\\\n",
              "  & <int> & <int> & <int> & <int> & <int> & <int> & <int> & <int> & <int> & <int> & <int> & <int> & <int> & <dbl> & <dbl> & <int>\\\\\n",
              "\\hline\n",
              "\t1 & 151 & 1 &  91 &  58 &  56 & 510 &  950 &  33 & 301 & 108 & 41 & 394 & 261 & 0.084602 & 26.2011 &  791\\\\\n",
              "\t2 & 143 & 0 & 113 & 103 &  95 & 583 & 1012 &  13 & 102 &  96 & 36 & 557 & 194 & 0.029599 & 25.2999 & 1635\\\\\n",
              "\t3 & 142 & 1 &  89 &  45 &  44 & 533 &  969 &  18 & 219 &  94 & 33 & 318 & 250 & 0.083401 & 24.3006 &  578\\\\\n",
              "\t4 & 136 & 0 & 121 & 149 & 141 & 577 &  994 & 157 &  80 & 102 & 39 & 673 & 167 & 0.015801 & 29.9012 & 1969\\\\\n",
              "\t5 & 141 & 0 & 121 & 109 & 101 & 591 &  985 &  18 &  30 &  91 & 20 & 578 & 174 & 0.041399 & 21.2998 & 1234\\\\\n",
              "\t6 & 121 & 0 & 110 & 118 & 115 & 547 &  964 &  25 &  44 &  84 & 29 & 689 & 126 & 0.034201 & 20.9995 &  682\\\\\n",
              "\\end{tabular}\n"
            ],
            "text/markdown": [
              "\n",
              "A data.frame: 6 × 16\n",
              "\n",
              "| <!--/--> | M &lt;int&gt; | So &lt;int&gt; | Ed &lt;int&gt; | Po1 &lt;int&gt; | Po2 &lt;int&gt; | LF &lt;int&gt; | M.F &lt;int&gt; | Pop &lt;int&gt; | NW &lt;int&gt; | U1 &lt;int&gt; | U2 &lt;int&gt; | GDP &lt;int&gt; | Ineq &lt;int&gt; | Prob &lt;dbl&gt; | Time &lt;dbl&gt; | y &lt;int&gt; |\n",
              "|---|---|---|---|---|---|---|---|---|---|---|---|---|---|---|---|---|\n",
              "| 1 | 151 | 1 |  91 |  58 |  56 | 510 |  950 |  33 | 301 | 108 | 41 | 394 | 261 | 0.084602 | 26.2011 |  791 |\n",
              "| 2 | 143 | 0 | 113 | 103 |  95 | 583 | 1012 |  13 | 102 |  96 | 36 | 557 | 194 | 0.029599 | 25.2999 | 1635 |\n",
              "| 3 | 142 | 1 |  89 |  45 |  44 | 533 |  969 |  18 | 219 |  94 | 33 | 318 | 250 | 0.083401 | 24.3006 |  578 |\n",
              "| 4 | 136 | 0 | 121 | 149 | 141 | 577 |  994 | 157 |  80 | 102 | 39 | 673 | 167 | 0.015801 | 29.9012 | 1969 |\n",
              "| 5 | 141 | 0 | 121 | 109 | 101 | 591 |  985 |  18 |  30 |  91 | 20 | 578 | 174 | 0.041399 | 21.2998 | 1234 |\n",
              "| 6 | 121 | 0 | 110 | 118 | 115 | 547 |  964 |  25 |  44 |  84 | 29 | 689 | 126 | 0.034201 | 20.9995 |  682 |\n",
              "\n"
            ],
            "text/plain": [
              "  M   So Ed  Po1 Po2 LF  M.F  Pop NW  U1  U2 GDP Ineq Prob     Time    y   \n",
              "1 151 1   91  58  56 510  950  33 301 108 41 394 261  0.084602 26.2011  791\n",
              "2 143 0  113 103  95 583 1012  13 102  96 36 557 194  0.029599 25.2999 1635\n",
              "3 142 1   89  45  44 533  969  18 219  94 33 318 250  0.083401 24.3006  578\n",
              "4 136 0  121 149 141 577  994 157  80 102 39 673 167  0.015801 29.9012 1969\n",
              "5 141 0  121 109 101 591  985  18  30  91 20 578 174  0.041399 21.2998 1234\n",
              "6 121 0  110 118 115 547  964  25  44  84 29 689 126  0.034201 20.9995  682"
            ]
          },
          "metadata": {},
          "output_type": "display_data"
        }
      ],
      "source": [
        "#Guardamos nuestra base de datos en la variable crime y mostamos sus primeros valores\n",
        "crime = UScrime\n",
        "head(crime)"
      ]
    },
    {
      "cell_type": "code",
      "execution_count": null,
      "metadata": {
        "id": "7Qr6nE2CmrCu"
      },
      "outputs": [],
      "source": [
        "#Vamos a usar la funcion creada manualmente para evaluar la variable dependiente Prob que mide la probabilidad de entrar a\n",
        "#prision, y como variables independientes usaremos\n",
        "#Ed que son los años de escolaridad\n",
        "#M.F que es el numero de hombres por cada 1000 mujeres\n",
        "#Pop que es la poblacion del estado\n",
        "#NW que es la poblacion no blanca\n",
        "#U1 es la tasa de desempleo urbana de hombres entre 14 y 24 años\n",
        "#Ineq que es la desigualdad en el  ingreso\n",
        "mi_regresion = funcion_reg(Prob ~ Ed + M.F + Pop + NW + U1 + Ineq, data = crime)\n",
        "funcion_regresion = lm(Prob ~ Ed + M.F + Pop + NW + U1 + Ineq, data = crime)"
      ]
    },
    {
      "cell_type": "markdown",
      "metadata": {
        "id": "Dq835DRMmrCw"
      },
      "source": [
        "**Evaluacion de coeficientes**"
      ]
    },
    {
      "cell_type": "code",
      "execution_count": null,
      "metadata": {
        "scrolled": true,
        "id": "9wmcTljemrCw",
        "outputId": "2e144a05-7bdf-4f9b-ab73-d7988978c0bc"
      },
      "outputs": [
        {
          "name": "stdout",
          "output_type": "stream",
          "text": [
            "                     [,1]\n",
            "(Intercept)  9.734438e-02\n",
            "Ed           1.982152e-05\n",
            "M.F         -8.317264e-05\n",
            "Pop         -2.351768e-04\n",
            "NW           6.990505e-05\n",
            "U1           9.741011e-05\n",
            "Ineq         1.116296e-04\n"
          ]
        }
      ],
      "source": [
        "#Vemos los valores de los coeficientes obtenidos por nuestro modelo hecho a mano\n",
        "print(mi_regresion$coeficientes)"
      ]
    },
    {
      "cell_type": "code",
      "execution_count": null,
      "metadata": {
        "id": "tYaiRYcwmrCw",
        "outputId": "4f4aa6dd-d952-4025-b155-900a81b88771"
      },
      "outputs": [
        {
          "name": "stdout",
          "output_type": "stream",
          "text": [
            "  (Intercept)            Ed           M.F           Pop            NW \n",
            " 9.734438e-02  1.982152e-05 -8.317264e-05 -2.351768e-04  6.990505e-05 \n",
            "           U1          Ineq \n",
            " 9.741011e-05  1.116296e-04 \n"
          ]
        }
      ],
      "source": [
        "#Obtenemos los coeficientes resultado de la funcion lm()\n",
        "print(funcion_regresion$coef)"
      ]
    },
    {
      "cell_type": "code",
      "execution_count": null,
      "metadata": {
        "id": "49XJ-HvdmrCw",
        "outputId": "58590a2d-0408-4f2c-a897-77e787a7ae8e"
      },
      "outputs": [
        {
          "data": {
            "text/html": [
              "<table class=\"dataframe\">\n",
              "<caption>A matrix: 7 × 1 of type dbl</caption>\n",
              "<tbody>\n",
              "\t<tr><th scope=row>(Intercept)</th><td>-5.129230e-14</td></tr>\n",
              "\t<tr><th scope=row>Ed</th><td>-1.059469e-17</td></tr>\n",
              "\t<tr><th scope=row>M.F</th><td> 5.215012e-17</td></tr>\n",
              "\t<tr><th scope=row>Pop</th><td> 1.707618e-17</td></tr>\n",
              "\t<tr><th scope=row>NW</th><td> 2.114194e-18</td></tr>\n",
              "\t<tr><th scope=row>U1</th><td>-2.400153e-17</td></tr>\n",
              "\t<tr><th scope=row>Ineq</th><td> 4.323256e-18</td></tr>\n",
              "</tbody>\n",
              "</table>\n"
            ],
            "text/latex": [
              "A matrix: 7 × 1 of type dbl\n",
              "\\begin{tabular}{r|l}\n",
              "\t(Intercept) & -5.129230e-14\\\\\n",
              "\tEd & -1.059469e-17\\\\\n",
              "\tM.F &  5.215012e-17\\\\\n",
              "\tPop &  1.707618e-17\\\\\n",
              "\tNW &  2.114194e-18\\\\\n",
              "\tU1 & -2.400153e-17\\\\\n",
              "\tIneq &  4.323256e-18\\\\\n",
              "\\end{tabular}\n"
            ],
            "text/markdown": [
              "\n",
              "A matrix: 7 × 1 of type dbl\n",
              "\n",
              "| (Intercept) | -5.129230e-14 |\n",
              "| Ed | -1.059469e-17 |\n",
              "| M.F |  5.215012e-17 |\n",
              "| Pop |  1.707618e-17 |\n",
              "| NW |  2.114194e-18 |\n",
              "| U1 | -2.400153e-17 |\n",
              "| Ineq |  4.323256e-18 |\n",
              "\n"
            ],
            "text/plain": [
              "            [,1]         \n",
              "(Intercept) -5.129230e-14\n",
              "Ed          -1.059469e-17\n",
              "M.F          5.215012e-17\n",
              "Pop          1.707618e-17\n",
              "NW           2.114194e-18\n",
              "U1          -2.400153e-17\n",
              "Ineq         4.323256e-18"
            ]
          },
          "metadata": {},
          "output_type": "display_data"
        }
      ],
      "source": [
        "#Realizamos una resta entre ambos coeficientes obtenidos\n",
        "mi_regresion$coeficientes-funcion_regresion$coef"
      ]
    },
    {
      "cell_type": "markdown",
      "metadata": {
        "id": "H3as9KtGmrCw"
      },
      "source": [
        "Podemos comprobar que nuestra funcion obtiene los mismos valores que la funcion lm para los coeficientes del los dos modelos"
      ]
    },
    {
      "cell_type": "markdown",
      "metadata": {
        "id": "5tqcCzEJmrCx"
      },
      "source": [
        "**Evaluacion de valores estimados**"
      ]
    },
    {
      "cell_type": "code",
      "execution_count": null,
      "metadata": {
        "id": "UXvUBh0smrCx",
        "outputId": "de2ab245-4cd7-4d2a-e63f-12d4f8ed254b"
      },
      "outputs": [
        {
          "data": {
            "text/html": [
              "<style>\n",
              ".list-inline {list-style: none; margin:0; padding: 0}\n",
              ".list-inline>li {display: inline-block}\n",
              ".list-inline>li:not(:last-child)::after {content: \"\\00b7\"; padding: 0 .5ex}\n",
              "</style>\n",
              "<ol class=list-inline><li>0.0730703422024348</li><li>0.0504940360933173</li><li>0.066654188967095</li><li>0.0143168091899094</li><li>0.0439695788938953</li><li>0.0387905081186259</li></ol>\n"
            ],
            "text/latex": [
              "\\begin{enumerate*}\n",
              "\\item 0.0730703422024348\n",
              "\\item 0.0504940360933173\n",
              "\\item 0.066654188967095\n",
              "\\item 0.0143168091899094\n",
              "\\item 0.0439695788938953\n",
              "\\item 0.0387905081186259\n",
              "\\end{enumerate*}\n"
            ],
            "text/markdown": [
              "1. 0.0730703422024348\n",
              "2. 0.0504940360933173\n",
              "3. 0.066654188967095\n",
              "4. 0.0143168091899094\n",
              "5. 0.0439695788938953\n",
              "6. 0.0387905081186259\n",
              "\n",
              "\n"
            ],
            "text/plain": [
              "[1] 0.07307034 0.05049404 0.06665419 0.01431681 0.04396958 0.03879051"
            ]
          },
          "metadata": {},
          "output_type": "display_data"
        }
      ],
      "source": [
        "#Guardamos nuestros coeficientes en una variable para operar mas facilmente\n",
        "coeficientes = mi_regresion$coeficientes\n",
        "#Obtenemos nuestros valores ajustados aplicando la formula con los coeficientes obtenidos de la regresion\n",
        "yajustado = coeficientes[1]+coeficientes[2]*crime$Ed+coeficientes[3]*crime$M.F+coeficientes[4]*crime$Pop+\n",
        "            coeficientes[5]*crime$NW+coeficientes[6]*crime$U1+coeficientes[7]*crime$Ineq\n",
        "head(yajustado)"
      ]
    },
    {
      "cell_type": "code",
      "execution_count": null,
      "metadata": {
        "id": "2-wjgxoUmrCx",
        "outputId": "b5dd6721-c7d7-43fa-edd3-8d4d12d6e5cd"
      },
      "outputs": [
        {
          "data": {
            "text/html": [
              "<style>\n",
              ".dl-inline {width: auto; margin:0; padding: 0}\n",
              ".dl-inline>dt, .dl-inline>dd {float: none; width: auto; display: inline-block}\n",
              ".dl-inline>dt::after {content: \":\\0020\"; padding-right: .5ex}\n",
              ".dl-inline>dt:not(:first-of-type) {padding-left: .5ex}\n",
              "</style><dl class=dl-inline><dt>1</dt><dd>0.0730703422024378</dd><dt>2</dt><dd>0.0504940360933181</dd><dt>3</dt><dd>0.0666541889670971</dd><dt>4</dt><dd>0.014316809189909</dd><dt>5</dt><dd>0.0439695788938975</dd><dt>6</dt><dd>0.038790508118629</dd></dl>\n"
            ],
            "text/latex": [
              "\\begin{description*}\n",
              "\\item[1] 0.0730703422024378\n",
              "\\item[2] 0.0504940360933181\n",
              "\\item[3] 0.0666541889670971\n",
              "\\item[4] 0.014316809189909\n",
              "\\item[5] 0.0439695788938975\n",
              "\\item[6] 0.038790508118629\n",
              "\\end{description*}\n"
            ],
            "text/markdown": [
              "1\n",
              ":   0.07307034220243782\n",
              ":   0.05049403609331813\n",
              ":   0.06665418896709714\n",
              ":   0.0143168091899095\n",
              ":   0.04396957889389756\n",
              ":   0.038790508118629\n",
              "\n"
            ],
            "text/plain": [
              "         1          2          3          4          5          6 \n",
              "0.07307034 0.05049404 0.06665419 0.01431681 0.04396958 0.03879051 "
            ]
          },
          "metadata": {},
          "output_type": "display_data"
        }
      ],
      "source": [
        "#Obtenemos los coeficientes del modelo usado con la funcion lm\n",
        "head(funcion_regresion$fitted.values)"
      ]
    },
    {
      "cell_type": "code",
      "execution_count": null,
      "metadata": {
        "id": "hRCq_iIpmrCx",
        "outputId": "fa68b7ce-96d1-40d1-c31c-78c79d45133b"
      },
      "outputs": [
        {
          "data": {
            "text/html": [
              "<style>\n",
              ".dl-inline {width: auto; margin:0; padding: 0}\n",
              ".dl-inline>dt, .dl-inline>dd {float: none; width: auto; display: inline-block}\n",
              ".dl-inline>dt::after {content: \":\\0020\"; padding-right: .5ex}\n",
              ".dl-inline>dt:not(:first-of-type) {padding-left: .5ex}\n",
              "</style><dl class=dl-inline><dt>1</dt><dd>-2.96984659087229e-15</dd><dt>2</dt><dd>-7.42461647718073e-16</dd><dt>3</dt><dd>-2.1094237467878e-15</dd><dt>4</dt><dd>3.95516952522712e-16</dd><dt>5</dt><dd>-2.25514051876985e-15</dd><dt>6</dt><dd>-3.14331893846997e-15</dd></dl>\n"
            ],
            "text/latex": [
              "\\begin{description*}\n",
              "\\item[1] -2.96984659087229e-15\n",
              "\\item[2] -7.42461647718073e-16\n",
              "\\item[3] -2.1094237467878e-15\n",
              "\\item[4] 3.95516952522712e-16\n",
              "\\item[5] -2.25514051876985e-15\n",
              "\\item[6] -3.14331893846997e-15\n",
              "\\end{description*}\n"
            ],
            "text/markdown": [
              "1\n",
              ":   -2.96984659087229e-152\n",
              ":   -7.42461647718073e-163\n",
              ":   -2.1094237467878e-154\n",
              ":   3.95516952522712e-165\n",
              ":   -2.25514051876985e-156\n",
              ":   -3.14331893846997e-15\n",
              "\n"
            ],
            "text/plain": [
              "            1             2             3             4             5 \n",
              "-2.969847e-15 -7.424616e-16 -2.109424e-15  3.955170e-16 -2.255141e-15 \n",
              "            6 \n",
              "-3.143319e-15 "
            ]
          },
          "metadata": {},
          "output_type": "display_data"
        }
      ],
      "source": [
        "#Realizamos una resta de los valores obtenidos por nuestra funcion y por el modelo\n",
        "head(yajustado-funcion_regresion$fitted.values)"
      ]
    },
    {
      "cell_type": "markdown",
      "metadata": {
        "id": "zh7BDjJ2mrCx"
      },
      "source": [
        "Podemos comprobar que para las estimaciones tambien logramos obtener valores iguales entre nuestra funcion y la funcion lm"
      ]
    },
    {
      "cell_type": "markdown",
      "metadata": {
        "id": "q366U31GmrCx"
      },
      "source": [
        "**Evaluacion de Residuos**"
      ]
    },
    {
      "cell_type": "code",
      "execution_count": null,
      "metadata": {
        "id": "Am7VfEHImrCy",
        "outputId": "c2ff129e-d214-4e7c-9657-60ad48124719"
      },
      "outputs": [
        {
          "name": "stdout",
          "output_type": "stream",
          "text": [
            "          [,1]\n",
            "1  0.011531658\n",
            "2 -0.020895036\n",
            "3  0.016746811\n",
            "4  0.001484191\n",
            "5 -0.002570579\n",
            "6 -0.004589508\n"
          ]
        }
      ],
      "source": [
        "#Obtenemos los residuos de nuestra funcion\n",
        "print(head(mi_regresion$residuos))"
      ]
    },
    {
      "cell_type": "code",
      "execution_count": null,
      "metadata": {
        "id": "z81ZicqMmrCy",
        "outputId": "f5cbdcab-b5f8-4d76-8c53-f405a4552d58"
      },
      "outputs": [
        {
          "name": "stdout",
          "output_type": "stream",
          "text": [
            "           1            2            3            4            5            6 \n",
            " 0.011531658 -0.020895036  0.016746811  0.001484191 -0.002570579 -0.004589508 \n"
          ]
        }
      ],
      "source": [
        "#Obtenemos los residuos de la funcion lm\n",
        "print(head(funcion_regresion$residuals))"
      ]
    },
    {
      "cell_type": "code",
      "execution_count": null,
      "metadata": {
        "id": "9UKz_REQmrCy",
        "outputId": "d153db30-f997-4230-c323-5f5e467b6b0d"
      },
      "outputs": [
        {
          "data": {
            "text/html": [
              "<table class=\"dataframe\">\n",
              "<caption>A matrix: 6 × 1 of type dbl</caption>\n",
              "<tbody>\n",
              "\t<tr><th scope=row>1</th><td> 2.966377e-15</td></tr>\n",
              "\t<tr><th scope=row>2</th><td> 7.424616e-16</td></tr>\n",
              "\t<tr><th scope=row>3</th><td> 2.105954e-15</td></tr>\n",
              "\t<tr><th scope=row>4</th><td>-4.024558e-16</td></tr>\n",
              "\t<tr><th scope=row>5</th><td> 2.264681e-15</td></tr>\n",
              "\t<tr><th scope=row>6</th><td> 3.141584e-15</td></tr>\n",
              "</tbody>\n",
              "</table>\n"
            ],
            "text/latex": [
              "A matrix: 6 × 1 of type dbl\n",
              "\\begin{tabular}{r|l}\n",
              "\t1 &  2.966377e-15\\\\\n",
              "\t2 &  7.424616e-16\\\\\n",
              "\t3 &  2.105954e-15\\\\\n",
              "\t4 & -4.024558e-16\\\\\n",
              "\t5 &  2.264681e-15\\\\\n",
              "\t6 &  3.141584e-15\\\\\n",
              "\\end{tabular}\n"
            ],
            "text/markdown": [
              "\n",
              "A matrix: 6 × 1 of type dbl\n",
              "\n",
              "| 1 |  2.966377e-15 |\n",
              "| 2 |  7.424616e-16 |\n",
              "| 3 |  2.105954e-15 |\n",
              "| 4 | -4.024558e-16 |\n",
              "| 5 |  2.264681e-15 |\n",
              "| 6 |  3.141584e-15 |\n",
              "\n"
            ],
            "text/plain": [
              "  [,1]         \n",
              "1  2.966377e-15\n",
              "2  7.424616e-16\n",
              "3  2.105954e-15\n",
              "4 -4.024558e-16\n",
              "5  2.264681e-15\n",
              "6  3.141584e-15"
            ]
          },
          "metadata": {},
          "output_type": "display_data"
        }
      ],
      "source": [
        "#Hacemos una resta entre los residuos de nuestra regresion y los residuos de la funcion lm\n",
        "head(mi_regresion$residuos-funcion_regresion$residuals)"
      ]
    },
    {
      "cell_type": "markdown",
      "metadata": {
        "id": "RTMyx0FHmrCy"
      },
      "source": [
        "Podemos ver que nuevamente nuestra funcion logra obtener valores iguales que la funcion lm"
      ]
    },
    {
      "cell_type": "markdown",
      "metadata": {
        "id": "YSP85x6lmrCy"
      },
      "source": [
        "**Evaluacion de grados de libertad**"
      ]
    },
    {
      "cell_type": "code",
      "execution_count": null,
      "metadata": {
        "id": "-d-sRw50mrCz",
        "outputId": "b141f4db-5430-4c8d-c607-9c28921bf12e"
      },
      "outputs": [
        {
          "data": {
            "text/html": [
              "40"
            ],
            "text/latex": [
              "40"
            ],
            "text/markdown": [
              "40"
            ],
            "text/plain": [
              "[1] 40"
            ]
          },
          "metadata": {},
          "output_type": "display_data"
        }
      ],
      "source": [
        "#Calculamos los grados de libertad de nuestra funcion restando el total de columnas de nuestros datos y la cantidad de variables\n",
        "#usadas\n",
        "gdl = nrow(crime)- length(coeficientes)\n",
        "gdl"
      ]
    },
    {
      "cell_type": "code",
      "execution_count": null,
      "metadata": {
        "id": "VtGFnfCfmrDA",
        "outputId": "5648f79a-5bfa-49a1-92b5-d2338e1ac628"
      },
      "outputs": [
        {
          "data": {
            "text/html": [
              "40"
            ],
            "text/latex": [
              "40"
            ],
            "text/markdown": [
              "40"
            ],
            "text/plain": [
              "[1] 40"
            ]
          },
          "metadata": {},
          "output_type": "display_data"
        }
      ],
      "source": [
        "#Obtenemos los grados de libertad de del modelo calculado con la funcion lm\n",
        "output = summary(funcion_regresion)\n",
        "head(output$df[2])"
      ]
    },
    {
      "cell_type": "code",
      "execution_count": null,
      "metadata": {
        "id": "Bi1q9JmHmrDA",
        "outputId": "fbe32829-50bc-4d40-8694-ba22a000f1ac"
      },
      "outputs": [
        {
          "data": {
            "text/html": [
              "0"
            ],
            "text/latex": [
              "0"
            ],
            "text/markdown": [
              "0"
            ],
            "text/plain": [
              "[1] 0"
            ]
          },
          "metadata": {},
          "output_type": "display_data"
        }
      ],
      "source": [
        "#Restamos los grados de libertad calculados por nosotros y los obtenidos de la funcion lm\n",
        "gdl-head(output$df[2])"
      ]
    },
    {
      "cell_type": "markdown",
      "metadata": {
        "id": "jZBouY3QmrDA"
      },
      "source": [
        "Observamos que tenemos como resultado los mismos grados de libertad en ambos modelos"
      ]
    },
    {
      "cell_type": "markdown",
      "metadata": {
        "id": "vEEEd8iKmrDB"
      },
      "source": [
        "**Evaluacion de sigma**"
      ]
    },
    {
      "cell_type": "code",
      "execution_count": null,
      "metadata": {
        "id": "xY8ZtvkKmrDB",
        "outputId": "1d0e1451-52c8-4ae0-e752-f91d2197afe5"
      },
      "outputs": [
        {
          "data": {
            "text/html": [
              "0.0194399892816772"
            ],
            "text/latex": [
              "0.0194399892816772"
            ],
            "text/markdown": [
              "0.0194399892816772"
            ],
            "text/plain": [
              "[1] 0.01943999"
            ]
          },
          "metadata": {},
          "output_type": "display_data"
        }
      ],
      "source": [
        "#Calculamos el sigma de nuestro modelo de forma manual\n",
        "sigma = sqrt(sum(((mi_regresion$residuos)^2)/gdl))\n",
        "sigma"
      ]
    },
    {
      "cell_type": "code",
      "execution_count": null,
      "metadata": {
        "id": "LkXpTiCImrDC",
        "outputId": "bcff3237-1bc0-4dde-be9a-2cf1045642b9"
      },
      "outputs": [
        {
          "data": {
            "text/html": [
              "0.0194399892816772"
            ],
            "text/latex": [
              "0.0194399892816772"
            ],
            "text/markdown": [
              "0.0194399892816772"
            ],
            "text/plain": [
              "[1] 0.01943999"
            ]
          },
          "metadata": {},
          "output_type": "display_data"
        }
      ],
      "source": [
        "#Obtenemos el sigma de calculado por la funcion lm\n",
        "output$sigma"
      ]
    },
    {
      "cell_type": "code",
      "execution_count": null,
      "metadata": {
        "id": "PshmD4X9mrDC",
        "outputId": "ca83c650-7f3a-40e0-bf15-eff59238e47d"
      },
      "outputs": [
        {
          "data": {
            "text/html": [
              "3.46944695195361e-18"
            ],
            "text/latex": [
              "3.46944695195361e-18"
            ],
            "text/markdown": [
              "3.46944695195361e-18"
            ],
            "text/plain": [
              "[1] 3.469447e-18"
            ]
          },
          "metadata": {},
          "output_type": "display_data"
        }
      ],
      "source": [
        "#Restamos nuestro sigma calculado manualmente y el sigma obtenido por la funcion lm\n",
        "sigma-output$sigma"
      ]
    },
    {
      "cell_type": "markdown",
      "metadata": {
        "id": "vHWBr5FsmrDC"
      },
      "source": [
        "Nuevamente vemos que los sigmas de nuestra funcion y la funcion lm no difieren uno del otro"
      ]
    },
    {
      "cell_type": "markdown",
      "metadata": {
        "id": "EzoDP4MsmrDC"
      },
      "source": [
        "**Evaluacion de los errores de los parametros estimados**"
      ]
    },
    {
      "cell_type": "code",
      "execution_count": null,
      "metadata": {
        "id": "_jKk8F3EmrDC",
        "outputId": "02c33e9b-3924-4c61-f4d6-f2c6eb03a4d1"
      },
      "outputs": [
        {
          "name": "stdout",
          "output_type": "stream",
          "text": [
            "         cte           Ed          M.F          Pop           NW           U1 \n",
            "1.177359e-01 4.917463e-04 1.384316e-04 8.679951e-05 4.129223e-05 1.798689e-04 \n",
            "        Ineq \n",
            "1.297386e-04 \n"
          ]
        }
      ],
      "source": [
        "#Sacamos la matriz varianza-covarianza\n",
        "crime1 = subset(crime, select = c(Ed,M.F,Pop,NW,U1,Ineq))\n",
        "y = crime[,1]\n",
        "X = as.matrix(cbind(cte=1,crime1))\n",
        "\n",
        "varcov = sigma^2 * solve(t(X) %*% X)\n",
        "\n",
        "se2 = sqrt(diag(varcov))\n",
        "print(se2)"
      ]
    },
    {
      "cell_type": "code",
      "execution_count": null,
      "metadata": {
        "id": "JKmLiLDlmrDD",
        "outputId": "4a7e8b7c-d06c-49d7-bafe-6ea7c174d272"
      },
      "outputs": [
        {
          "data": {
            "text/html": [
              "<table class=\"dataframe\">\n",
              "<caption>A matrix: 7 × 4 of type dbl</caption>\n",
              "<thead>\n",
              "\t<tr><th></th><th scope=col>Estimate</th><th scope=col>Std. Error</th><th scope=col>t value</th><th scope=col>Pr(&gt;|t|)</th></tr>\n",
              "</thead>\n",
              "<tbody>\n",
              "\t<tr><th scope=row>(Intercept)</th><td> 9.734438e-02</td><td>1.177359e-01</td><td> 0.82680262</td><td>0.413254032</td></tr>\n",
              "\t<tr><th scope=row>Ed</th><td> 1.982152e-05</td><td>4.917463e-04</td><td> 0.04030843</td><td>0.968047755</td></tr>\n",
              "\t<tr><th scope=row>M.F</th><td>-8.317264e-05</td><td>1.384316e-04</td><td>-0.60082102</td><td>0.551348767</td></tr>\n",
              "\t<tr><th scope=row>Pop</th><td>-2.351768e-04</td><td>8.679951e-05</td><td>-2.70942517</td><td>0.009874795</td></tr>\n",
              "\t<tr><th scope=row>NW</th><td> 6.990505e-05</td><td>4.129223e-05</td><td> 1.69293473</td><td>0.098243732</td></tr>\n",
              "\t<tr><th scope=row>U1</th><td> 9.741011e-05</td><td>1.798689e-04</td><td> 0.54156163</td><td>0.591124490</td></tr>\n",
              "\t<tr><th scope=row>Ineq</th><td> 1.116296e-04</td><td>1.297386e-04</td><td> 0.86041962</td><td>0.394685833</td></tr>\n",
              "</tbody>\n",
              "</table>\n"
            ],
            "text/latex": [
              "A matrix: 7 × 4 of type dbl\n",
              "\\begin{tabular}{r|llll}\n",
              "  & Estimate & Std. Error & t value & Pr(>\\textbar{}t\\textbar{})\\\\\n",
              "\\hline\n",
              "\t(Intercept) &  9.734438e-02 & 1.177359e-01 &  0.82680262 & 0.413254032\\\\\n",
              "\tEd &  1.982152e-05 & 4.917463e-04 &  0.04030843 & 0.968047755\\\\\n",
              "\tM.F & -8.317264e-05 & 1.384316e-04 & -0.60082102 & 0.551348767\\\\\n",
              "\tPop & -2.351768e-04 & 8.679951e-05 & -2.70942517 & 0.009874795\\\\\n",
              "\tNW &  6.990505e-05 & 4.129223e-05 &  1.69293473 & 0.098243732\\\\\n",
              "\tU1 &  9.741011e-05 & 1.798689e-04 &  0.54156163 & 0.591124490\\\\\n",
              "\tIneq &  1.116296e-04 & 1.297386e-04 &  0.86041962 & 0.394685833\\\\\n",
              "\\end{tabular}\n"
            ],
            "text/markdown": [
              "\n",
              "A matrix: 7 × 4 of type dbl\n",
              "\n",
              "| <!--/--> | Estimate | Std. Error | t value | Pr(&gt;|t|) |\n",
              "|---|---|---|---|---|\n",
              "| (Intercept) |  9.734438e-02 | 1.177359e-01 |  0.82680262 | 0.413254032 |\n",
              "| Ed |  1.982152e-05 | 4.917463e-04 |  0.04030843 | 0.968047755 |\n",
              "| M.F | -8.317264e-05 | 1.384316e-04 | -0.60082102 | 0.551348767 |\n",
              "| Pop | -2.351768e-04 | 8.679951e-05 | -2.70942517 | 0.009874795 |\n",
              "| NW |  6.990505e-05 | 4.129223e-05 |  1.69293473 | 0.098243732 |\n",
              "| U1 |  9.741011e-05 | 1.798689e-04 |  0.54156163 | 0.591124490 |\n",
              "| Ineq |  1.116296e-04 | 1.297386e-04 |  0.86041962 | 0.394685833 |\n",
              "\n"
            ],
            "text/plain": [
              "            Estimate      Std. Error   t value     Pr(>|t|)   \n",
              "(Intercept)  9.734438e-02 1.177359e-01  0.82680262 0.413254032\n",
              "Ed           1.982152e-05 4.917463e-04  0.04030843 0.968047755\n",
              "M.F         -8.317264e-05 1.384316e-04 -0.60082102 0.551348767\n",
              "Pop         -2.351768e-04 8.679951e-05 -2.70942517 0.009874795\n",
              "NW           6.990505e-05 4.129223e-05  1.69293473 0.098243732\n",
              "U1           9.741011e-05 1.798689e-04  0.54156163 0.591124490\n",
              "Ineq         1.116296e-04 1.297386e-04  0.86041962 0.394685833"
            ]
          },
          "metadata": {},
          "output_type": "display_data"
        }
      ],
      "source": [
        "output$coef"
      ]
    },
    {
      "cell_type": "code",
      "execution_count": null,
      "metadata": {
        "id": "RMSIG8AamrDD",
        "outputId": "667a5d5a-b6fb-4573-9954-717f8e4a2c14"
      },
      "outputs": [
        {
          "data": {
            "text/html": [
              "<style>\n",
              ".dl-inline {width: auto; margin:0; padding: 0}\n",
              ".dl-inline>dt, .dl-inline>dd {float: none; width: auto; display: inline-block}\n",
              ".dl-inline>dt::after {content: \":\\0020\"; padding-right: .5ex}\n",
              ".dl-inline>dt:not(:first-of-type) {padding-left: .5ex}\n",
              "</style><dl class=dl-inline><dt>cte</dt><dd>-9.36750677027476e-15</dd><dt>Ed</dt><dd>2.27682456221956e-18</dd><dt>M.F</dt><dd>-6.96599895821937e-18</dd><dt>Pop</dt><dd>-1.30104260698261e-18</dd><dt>NW</dt><dd>-6.7762635780344e-20</dd><dt>U1</dt><dd>3.52365706057789e-19</dd><dt>Ineq</dt><dd>5.6920614055489e-19</dd></dl>\n"
            ],
            "text/latex": [
              "\\begin{description*}\n",
              "\\item[cte] -9.36750677027476e-15\n",
              "\\item[Ed] 2.27682456221956e-18\n",
              "\\item[M.F] -6.96599895821937e-18\n",
              "\\item[Pop] -1.30104260698261e-18\n",
              "\\item[NW] -6.7762635780344e-20\n",
              "\\item[U1] 3.52365706057789e-19\n",
              "\\item[Ineq] 5.6920614055489e-19\n",
              "\\end{description*}\n"
            ],
            "text/markdown": [
              "cte\n",
              ":   -9.36750677027476e-15Ed\n",
              ":   2.27682456221956e-18M.F\n",
              ":   -6.96599895821937e-18Pop\n",
              ":   -1.30104260698261e-18NW\n",
              ":   -6.7762635780344e-20U1\n",
              ":   3.52365706057789e-19Ineq\n",
              ":   5.6920614055489e-19\n",
              "\n"
            ],
            "text/plain": [
              "          cte            Ed           M.F           Pop            NW \n",
              "-9.367507e-15  2.276825e-18 -6.965999e-18 -1.301043e-18 -6.776264e-20 \n",
              "           U1          Ineq \n",
              " 3.523657e-19  5.692061e-19 "
            ]
          },
          "metadata": {},
          "output_type": "display_data"
        }
      ],
      "source": [
        "se2-output$coef[,2]"
      ]
    },
    {
      "cell_type": "markdown",
      "metadata": {
        "id": "TtF24vqjmrDD"
      },
      "source": [
        "Como vemos la diferencia de nuestros errores de los parámetros estimados del modelo lm versus el de nuestra función es prácticamente cero"
      ]
    },
    {
      "cell_type": "markdown",
      "metadata": {
        "id": "HbpwmNVUmrDD"
      },
      "source": [
        "**Evaluacion de los coeficientes de determinación**"
      ]
    },
    {
      "cell_type": "code",
      "execution_count": null,
      "metadata": {
        "id": "7hr46DZdmrDD",
        "outputId": "a9214a39-5bee-41eb-a524-78c5643f8f97"
      },
      "outputs": [
        {
          "data": {
            "text/html": [
              "0.364334062548281"
            ],
            "text/latex": [
              "0.364334062548281"
            ],
            "text/markdown": [
              "0.364334062548281"
            ],
            "text/plain": [
              "[1] 0.3643341"
            ]
          },
          "metadata": {},
          "output_type": "display_data"
        }
      ],
      "source": [
        "#Vamos a calcular el coeficiente de determinacion de nuestra funcion creada\n",
        "#Primero vamos a calcular la suma de los cuadrados de los residuos\n",
        "SCRc = sum(mi_regresion$residuos^2)\n",
        "#Despues calculamos la suma de los cuadrados de los valores totales es decir cada valor de los datos originales menos la media\n",
        "SCTc = sum((crime$Prob - mean(crime$Prob))^2)\n",
        "#Por ultimo dividimos la suma del cuadrado de los residuos entre la suma de los cuadrados de los valores totales y ese resultado\n",
        "#lo restamos de 1\n",
        "R2c = 1 - (SCRc / SCTc)\n",
        "R2c"
      ]
    },
    {
      "cell_type": "code",
      "execution_count": null,
      "metadata": {
        "id": "yV6z67hrmrDE",
        "outputId": "27c986d7-5bbf-4efc-c646-cc0e27607dfe"
      },
      "outputs": [
        {
          "data": {
            "text/html": [
              "0.364334062548281"
            ],
            "text/latex": [
              "0.364334062548281"
            ],
            "text/markdown": [
              "0.364334062548281"
            ],
            "text/plain": [
              "[1] 0.3643341"
            ]
          },
          "metadata": {},
          "output_type": "display_data"
        }
      ],
      "source": [
        "#Extraemos el coeficiente de determinacion calculado por la funcion lm\n",
        "output$r.squared"
      ]
    },
    {
      "cell_type": "code",
      "execution_count": null,
      "metadata": {
        "id": "DiScJgzumrDE",
        "outputId": "6c98e251-6171-46c4-f0f6-b6cf1c24dbac"
      },
      "outputs": [
        {
          "data": {
            "text/html": [
              "0"
            ],
            "text/latex": [
              "0"
            ],
            "text/markdown": [
              "0"
            ],
            "text/plain": [
              "[1] 0"
            ]
          },
          "metadata": {},
          "output_type": "display_data"
        }
      ],
      "source": [
        "#Restamos nuestro R2 calculado del resultado de nuestra función menos el extraido de lm\n",
        "R2c-output$r.squared"
      ]
    },
    {
      "cell_type": "markdown",
      "metadata": {
        "id": "xEOdOUD3mrDE"
      },
      "source": [
        "Nuevamente obtenemos cero como diferencia entre los dos valores"
      ]
    },
    {
      "cell_type": "markdown",
      "metadata": {
        "id": "kublBx8imrDF"
      },
      "source": [
        "**Evaluacion de los coeficientes de determinacion ajustados**"
      ]
    },
    {
      "cell_type": "code",
      "execution_count": null,
      "metadata": {
        "id": "xF1YT-TymrDF",
        "outputId": "f396ed98-ddb3-43dd-ff73-3b2861544a04"
      },
      "outputs": [
        {
          "data": {
            "text/html": [
              "<style>\n",
              ".list-inline {list-style: none; margin:0; padding: 0}\n",
              ".list-inline>li {display: inline-block}\n",
              ".list-inline>li:not(:last-child)::after {content: \"\\00b7\"; padding: 0 .5ex}\n",
              "</style>\n",
              "<ol class=list-inline><li>0.854999748607972</li><li>0.852699671418862</li></ol>\n"
            ],
            "text/latex": [
              "\\begin{enumerate*}\n",
              "\\item 0.854999748607972\n",
              "\\item 0.852699671418862\n",
              "\\end{enumerate*}\n"
            ],
            "text/markdown": [
              "1. 0.854999748607972\n",
              "2. 0.852699671418862\n",
              "\n",
              "\n"
            ],
            "text/plain": [
              "[1] 0.8549997 0.8526997"
            ]
          },
          "metadata": {},
          "output_type": "display_data"
        }
      ],
      "source": [
        "# Vamos a calcular nuestro R2 ajustado de nuestra funcion creada\n",
        "#Primero tenemos que obtener el numero de filas que se usaron en el modelo y lo nombramos n\n",
        "n = nrow(crime)\n",
        "#Despues tomamos el numero de coeficientes usados en el modelo\n",
        "k = length(coeficientes) - 1\n",
        "#Calculamos el R2 ajustado usando su funcion\n",
        "R2_ajustado = 1 - ((1 - R2) * ((n - 1) / (n - k - 1)))\n",
        "R2_ajustado"
      ]
    },
    {
      "cell_type": "code",
      "execution_count": null,
      "metadata": {
        "id": "p4Poz3i6mrDF",
        "outputId": "87af64ab-7af2-420c-af95-633d2ed3ce14"
      },
      "outputs": [
        {
          "data": {
            "text/html": [
              "0.268984171930523"
            ],
            "text/latex": [
              "0.268984171930523"
            ],
            "text/markdown": [
              "0.268984171930523"
            ],
            "text/plain": [
              "[1] 0.2689842"
            ]
          },
          "metadata": {},
          "output_type": "display_data"
        }
      ],
      "source": [
        "#Extraemos el R2 ajustado de la funcion lm\n",
        "output$adj.r.squared"
      ]
    },
    {
      "cell_type": "code",
      "execution_count": null,
      "metadata": {
        "id": "cCqUFtALmrDF",
        "outputId": "cfaa4703-f268-4f77-c22e-7c7dc3de3b02"
      },
      "outputs": [
        {
          "data": {
            "text/html": [
              "<style>\n",
              ".list-inline {list-style: none; margin:0; padding: 0}\n",
              ".list-inline>li {display: inline-block}\n",
              ".list-inline>li:not(:last-child)::after {content: \"\\00b7\"; padding: 0 .5ex}\n",
              "</style>\n",
              "<ol class=list-inline><li>0.586015576677448</li><li>0.583715499488339</li></ol>\n"
            ],
            "text/latex": [
              "\\begin{enumerate*}\n",
              "\\item 0.586015576677448\n",
              "\\item 0.583715499488339\n",
              "\\end{enumerate*}\n"
            ],
            "text/markdown": [
              "1. 0.586015576677448\n",
              "2. 0.583715499488339\n",
              "\n",
              "\n"
            ],
            "text/plain": [
              "[1] 0.5860156 0.5837155"
            ]
          },
          "metadata": {},
          "output_type": "display_data"
        }
      ],
      "source": [
        "R2_ajustado-output$adj.r.squared"
      ]
    },
    {
      "cell_type": "markdown",
      "metadata": {
        "id": "i2gy_krzmrDG"
      },
      "source": [
        "Por último encontramos que la diferencia entre ambos coeficientes es cero"
      ]
    },
    {
      "cell_type": "markdown",
      "metadata": {
        "id": "viAFLe6dmrDG"
      },
      "source": [
        "**CONCLUSIONES**  \n",
        "Podemos concluir entonces que se ha logrado en cierta forma replicar el funcionamiento de la función *lm* de la libreria *stats*, haciendo la comparación entre valores estimados y tambien el cálculo de los principales coeficientes obtuvimos como diferencia cero o valores que se pueden considerar practicamente cero, esto como ejercicio está bien para comprender el funcionamiento de la función, pero en la práctica lm contiene muchas ventajas que simplifican el trabajo con funciones lineales."
      ]
    },
    {
      "cell_type": "markdown",
      "metadata": {
        "id": "GwWj8uoVmrDG"
      },
      "source": [
        "# Bloque 3: Ejercicio avanzado de la prueba <a id=\"topic4\"></a>&nbsp;&nbsp;<a href=\"#index\"><i class=\"fa fa-list-alt\" aria-hidden=\"true\"></i></a>\n"
      ]
    },
    {
      "cell_type": "markdown",
      "metadata": {
        "id": "e_5Obo7mmrDH"
      },
      "source": [
        "### 06 Ejercicio [2 puntos]\n",
        "\n",
        "En este ejercicio deberéis de realizar paso a paso las diferentes etapas que aparecen en el R Notebook `Script 4.3 Estimación de los modelos de regresión espacial`. Es decir, tenéis que realizar los siguientes apartados.\n",
        "\n",
        "1. Cargar las librerías necesarias.\n",
        "2. Cargar las cartografías de los municipios españoles del Notebook '$4.2$ Estimación modelos de regresión datos espaciales' (`Munic04_ESP`).\n",
        "3. Realizar los mapas descriptivos oportunos.\n",
        "4. Contruir la matriz de pesos espaciales (al menos, por estos dos criterios).\n",
        "- Por contigüidad de la reina\n",
        "- Por k-vecinos cercanos\n",
        "\n",
        "5. Contruir los retardos espaciales.\n",
        "6. Realizar el proceso de correlación entre una variable y su retardo espacial.\n",
        "- Coeficiente de correlación espacial global\n",
        "- Coeficiente de correlación espacial local\n",
        "\n",
        "7. Estimar el modelo de regresión lineal SIN tener en cuenta el efecto espacial.\n",
        "8. Estimar dos modelos de regresión CON dependencia espacial: Spatial Lag Model (SLM) y Spatial Error Model (SEM).\n",
        "\n",
        "**Nota.** El dataset `Munic04_ESP` lo podéis encontrar en la carpeta del tema $4$ y, como sabéis, contiene información sobre diferentes variables socioeconómicas que tenéis que considerar para poder realizar dichos pasos y validar los resultados. La variable dependiente es la tasa de paro `TASA_PARO`, las independientes son el resto de variables numéricas. Ustedes elegís cuántas consideráis teniendo siempre en cuenta que debe de existir una correlación entre las variables explicativas y la explicada para poder aplicar los modelos de regresión."
      ]
    },
    {
      "cell_type": "markdown",
      "metadata": {
        "id": "m6R_ctBSmrDH"
      },
      "source": [
        "<div style=\"background-color:#F7DC6F\"><b>Resolución Ejercicio 06</b></div>"
      ]
    },
    {
      "cell_type": "markdown",
      "metadata": {
        "id": "6lUJHqeSmrDH"
      },
      "source": [
        "<div style=\"background-color:#5DADE2\"><b>Apartado 1</b></div>"
      ]
    },
    {
      "cell_type": "markdown",
      "metadata": {
        "id": "p1nUBJqTmrDH"
      },
      "source": [
        "<div style=\"background-color:#5DADE2\"><b>Apartado 2</b></div>"
      ]
    },
    {
      "cell_type": "markdown",
      "metadata": {
        "id": "YOtb-Pn6mrDH"
      },
      "source": [
        "<div style=\"background-color:#5DADE2\"><b>Apartado 3</b></div>"
      ]
    },
    {
      "cell_type": "markdown",
      "metadata": {
        "id": "yq0gsMmFmrDH"
      },
      "source": [
        "<div style=\"background-color:#5DADE2\"><b>Apartado 4</b></div>"
      ]
    },
    {
      "cell_type": "markdown",
      "metadata": {
        "id": "wwkHbhxImrDI"
      },
      "source": [
        "<div style=\"background-color:#5DADE2\"><b>Apartado 5</b></div>"
      ]
    },
    {
      "cell_type": "markdown",
      "metadata": {
        "id": "b1JpiQTMmrDI"
      },
      "source": [
        "<div style=\"background-color:#5DADE2\"><b>Apartado 6</b></div>"
      ]
    },
    {
      "cell_type": "markdown",
      "metadata": {
        "id": "bee_QvfVmrDI"
      },
      "source": [
        "<div style=\"background-color:#5DADE2\"><b>Apartado 7</b></div>"
      ]
    },
    {
      "cell_type": "markdown",
      "metadata": {
        "id": "sbIoRR0JmrDI"
      },
      "source": [
        "<div style=\"background-color:#5DADE2\"><b>Apartado 8</b></div>"
      ]
    },
    {
      "cell_type": "markdown",
      "metadata": {
        "id": "ouJhItjzmrDI"
      },
      "source": [
        "<div style = \"float:right\"><a style=\"text-decoration:none\" href = \"#inicio\">Inicio</a></div>"
      ]
    }
  ],
  "metadata": {
    "kernelspec": {
      "display_name": "R",
      "language": "R",
      "name": "ir"
    },
    "language_info": {
      "codemirror_mode": "r",
      "file_extension": ".r",
      "mimetype": "text/x-r-source",
      "name": "R",
      "pygments_lexer": "r",
      "version": "4.1.3"
    },
    "colab": {
      "provenance": [],
      "include_colab_link": true
    }
  },
  "nbformat": 4,
  "nbformat_minor": 0
}