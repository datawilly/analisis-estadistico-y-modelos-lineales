{
  "cells": [
    {
      "cell_type": "markdown",
      "metadata": {
        "colab_type": "text",
        "id": "view-in-github"
      },
      "source": [
        "<a href=\"https://colab.research.google.com/github/datawilly/analisis-estadistico-y-modelos-lineales/blob/main/PEC1_ROSALES_RAMIREZ.ipynb\" target=\"_parent\"><img src=\"https://colab.research.google.com/assets/colab-badge.svg\" alt=\"Open In Colab\"/></a>"
      ]
    },
    {
      "cell_type": "markdown",
      "metadata": {
        "id": "gUcfo07emcHz"
      },
      "source": [
        "# Bloque 1: Ejercicios básicos <a id=\"topic2\"></a>&nbsp;&nbsp;<a href=\"#index\"><i class=\"fa fa-list-alt\" aria-hidden=\"true\"></i></a>"
      ]
    },
    {
      "cell_type": "markdown",
      "metadata": {
        "id": "bR8LrfUTmcH0"
      },
      "source": [
        "### 01 Ejercicio\n",
        "\n",
        "Contestar a las siguientes cuestiones utilizando para ello las funciones necesarias.\n",
        "\n",
        "1. Crear un vector que represente las ventas totales mensuales (en miles de euros) de una tienda durante un año ($12$ meses) utilizando la función $\\tt seq$. Las ventas deben variar de $50$ a $150$ mil euros. Calcular la venta promedio mensual.\n",
        "\n",
        "\n",
        "2. Determinar cuál fue la venta mínima en el año y en cuántos meses se registró esa cifra.\n",
        "\n",
        "\n",
        "3. Calcular cuántos meses tuvieron ventas superiores a $100$ mil euros. ¿Qué porcentaje representan del año?\n",
        "\n",
        "\n",
        "4. Comparar cuál fue más común: meses con ventas entre $60$ y $80$ mil euros o entre $90$ y $110$ mil euros.\n",
        "\n",
        "\n",
        "5. Definir el vector `c(120, -30, 90, 110, -50)`, que representa ajustes mensuales en las ventas. Calcular el valor absoluto de estos ajustes y determinar cuáles superan los $50$ mil euros.\n",
        "\n",
        "\n",
        "6. Crear un vector con los primeros $10$ porcentajes de descuento ofrecidos por la tienda (desde $5\\%$ hasta $50\\%$, en incrementos de $5\\%$). Extraer los descuentos ofrecidos en los meses $2$, $5$ y $8$. Luego, eliminar el descuento ofrecido en el tercer mes."
      ]
    },
    {
      "cell_type": "markdown",
      "metadata": {
        "id": "0DjmlrlNmcH1"
      },
      "source": [
        "<div style=\"background-color:#F7DC6F\"><b>Resolución Ejercicio 01</b></div>"
      ]
    },
    {
      "cell_type": "markdown",
      "metadata": {
        "id": "rfZo_81-mcH2"
      },
      "source": [
        "<div style=\"background-color:#5DADE2\"><b>Apartado 1</b></div>"
      ]
    },
    {
      "cell_type": "markdown",
      "metadata": {
        "id": "Ko-aI2AomcH3"
      },
      "source": [
        "**Linea 1:** Usamos la funcion **seq()** que nos genera un vector con una secuencia numérica de acuerdo a los parametros indicados, para este caso queremos que vaya desde 50mil hasta 150mil y su longitud va a ser 12 representando cada mes del año y lo guardamos en el vector **ventas**.  \n",
        "**Linea 2:** Una vez enemos nuestro vector y para aportar un poco mas de claridad al vector le asignamos los nombres de cada mes, para esto usamos **c()** con el cual le pasamos los nombres que queremos que asigne al vector usando **names**.  \n",
        "**Linea 3:** Presentamos nuestro array de ventas."
      ]
    },
    {
      "cell_type": "code",
      "execution_count": null,
      "metadata": {
        "id": "LCqVjaJGmcH4",
        "outputId": "fb407c85-f670-4a3e-93b5-2f815f712c66",
        "scrolled": true,
        "vscode": {
          "languageId": "r"
        }
      },
      "outputs": [
        {
          "data": {
            "text/html": [
              "<style>\n",
              ".dl-inline {width: auto; margin:0; padding: 0}\n",
              ".dl-inline>dt, .dl-inline>dd {float: none; width: auto; display: inline-block}\n",
              ".dl-inline>dt::after {content: \":\\0020\"; padding-right: .5ex}\n",
              ".dl-inline>dt:not(:first-of-type) {padding-left: .5ex}\n",
              "</style><dl class=dl-inline><dt>ene</dt><dd>50000</dd><dt>feb</dt><dd>59090.9090909091</dd><dt>mar</dt><dd>68181.8181818182</dd><dt>abr</dt><dd>77272.7272727273</dd><dt>may</dt><dd>86363.6363636364</dd><dt>jun</dt><dd>95454.5454545454</dd><dt>jul</dt><dd>104545.454545455</dd><dt>ago</dt><dd>113636.363636364</dd><dt>sep</dt><dd>122727.272727273</dd><dt>oct</dt><dd>131818.181818182</dd><dt>nov</dt><dd>140909.090909091</dd><dt>dic</dt><dd>150000</dd></dl>\n"
            ],
            "text/latex": [
              "\\begin{description*}\n",
              "\\item[ene] 50000\n",
              "\\item[feb] 59090.9090909091\n",
              "\\item[mar] 68181.8181818182\n",
              "\\item[abr] 77272.7272727273\n",
              "\\item[may] 86363.6363636364\n",
              "\\item[jun] 95454.5454545454\n",
              "\\item[jul] 104545.454545455\n",
              "\\item[ago] 113636.363636364\n",
              "\\item[sep] 122727.272727273\n",
              "\\item[oct] 131818.181818182\n",
              "\\item[nov] 140909.090909091\n",
              "\\item[dic] 150000\n",
              "\\end{description*}\n"
            ],
            "text/markdown": [
              "ene\n",
              ":   50000feb\n",
              ":   59090.9090909091mar\n",
              ":   68181.8181818182abr\n",
              ":   77272.7272727273may\n",
              ":   86363.6363636364jun\n",
              ":   95454.5454545454jul\n",
              ":   104545.454545455ago\n",
              ":   113636.363636364sep\n",
              ":   122727.272727273oct\n",
              ":   131818.181818182nov\n",
              ":   140909.090909091dic\n",
              ":   150000\n",
              "\n"
            ],
            "text/plain": [
              "      ene       feb       mar       abr       may       jun       jul       ago \n",
              " 50000.00  59090.91  68181.82  77272.73  86363.64  95454.55 104545.45 113636.36 \n",
              "      sep       oct       nov       dic \n",
              "122727.27 131818.18 140909.09 150000.00 "
            ]
          },
          "metadata": {},
          "output_type": "display_data"
        }
      ],
      "source": [
        "ventas = seq(50000,150000, length = 12)\n",
        "names(ventas) = c(\"ene\",\"feb\",\"mar\",\"abr\",\"may\",\"jun\",\"jul\",\"ago\",\"sep\",\"oct\",\"nov\",\"dic\")\n",
        "ventas"
      ]
    },
    {
      "cell_type": "markdown",
      "metadata": {
        "id": "WKvOCqMqmcH7"
      },
      "source": [
        "**Linea 1:** Procedemos a sacar la media de nuestro vector de ventas a traves de **mean()**, para este caso en específico tenemos el problema de que nuestro resultado va a salir en notacion cientifica, para poder solucionar esto usamos **format()**, esto nos permite \"desactivar\" la notacion cientifica a traves del parametro *scientific = F*"
      ]
    },
    {
      "cell_type": "code",
      "execution_count": null,
      "metadata": {
        "id": "JNxABCkBmcH8",
        "outputId": "b918222e-7ea5-43ca-9706-b2e928c2fc14",
        "scrolled": true,
        "vscode": {
          "languageId": "r"
        }
      },
      "outputs": [
        {
          "data": {
            "text/html": [
              "'100000'"
            ],
            "text/latex": [
              "'100000'"
            ],
            "text/markdown": [
              "'100000'"
            ],
            "text/plain": [
              "[1] \"100000\""
            ]
          },
          "metadata": {},
          "output_type": "display_data"
        }
      ],
      "source": [
        "format(mean(ventas),scientific = F)"
      ]
    },
    {
      "cell_type": "markdown",
      "metadata": {
        "id": "ksGjg1mKmcH8"
      },
      "source": [
        "**Respuesta:** Podemos observar que la venta promedio mensual para el año fue de 100.000 euros"
      ]
    },
    {
      "cell_type": "markdown",
      "metadata": {
        "id": "JoFOGH_HmcH8"
      },
      "source": [
        "<div style=\"background-color:#5DADE2\"><b>Apartado 2</b></div>"
      ]
    },
    {
      "cell_type": "markdown",
      "metadata": {
        "id": "tLyY55XYmcH8"
      },
      "source": [
        "**Linea 1:** Tomando como parametro el vector creado en el ejercicio anterior usamos **min()** para obtener el valor minimo del mismo y lo guardamos en el vector **min_ventas()**.  \n",
        "**Linea 2:** Mostramos en pantalla nuestro vector resultante."
      ]
    },
    {
      "cell_type": "code",
      "execution_count": null,
      "metadata": {
        "id": "7VdbUEnOmcH8",
        "outputId": "a02bc22f-8735-45d3-cd2e-186733281140",
        "scrolled": true,
        "vscode": {
          "languageId": "r"
        }
      },
      "outputs": [
        {
          "data": {
            "text/html": [
              "50000"
            ],
            "text/latex": [
              "50000"
            ],
            "text/markdown": [
              "50000"
            ],
            "text/plain": [
              "[1] 50000"
            ]
          },
          "metadata": {},
          "output_type": "display_data"
        }
      ],
      "source": [
        "min_ventas = min(ventas)\n",
        "min_ventas"
      ]
    },
    {
      "cell_type": "markdown",
      "metadata": {
        "id": "mkbS0VLUmcH9"
      },
      "source": [
        "**Linea 1:** Una vez tenemos nuestro valor minimo de ventas vamos a compararlo con el vector de ventas para saber cuantas veces esta presente, para esto vamos a usar **sum()** que nos permite sumar la cantidad de veces que se encuentra el valor de *min_ventas* en *ventas*."
      ]
    },
    {
      "cell_type": "code",
      "execution_count": null,
      "metadata": {
        "id": "7JlYuaG9mcH9",
        "outputId": "6270ead8-3972-4b6d-92b9-fe57f3a94c41",
        "scrolled": true,
        "vscode": {
          "languageId": "r"
        }
      },
      "outputs": [
        {
          "data": {
            "text/html": [
              "1"
            ],
            "text/latex": [
              "1"
            ],
            "text/markdown": [
              "1"
            ],
            "text/plain": [
              "[1] 1"
            ]
          },
          "metadata": {},
          "output_type": "display_data"
        }
      ],
      "source": [
        "meses_min_ventas = sum(ventas == min_ventas)\n",
        "meses_min_ventas"
      ]
    },
    {
      "cell_type": "markdown",
      "metadata": {
        "id": "RBX_dV3ymcH_"
      },
      "source": [
        "**Respuesta:** El valor minimo de ventas anuales es de 50.000 euros y se presenta solo en un mes."
      ]
    },
    {
      "cell_type": "markdown",
      "metadata": {
        "id": "MG1CMf3TmcH_"
      },
      "source": [
        "<div style=\"background-color:#5DADE2\"><b>Apartado 3</b></div>"
      ]
    },
    {
      "cell_type": "markdown",
      "metadata": {
        "id": "EjYfEsd-mcH_"
      },
      "source": [
        "**Linea 1:** Seguimos haciendo uso de nuestro vector ventas, en este caso vamos a poner la condicion de que sea mayor a 100.000 y esto lo guardamos en un nuevo vector llamado *val_ventas*.  \n",
        "**Linea 2:** Una vez tenemos nuestro vector *val_ventas* el cual por ahora es un vector de booleanos que guarda *\"False\"* en los valores que no cumplan la condicion y *\"True\"* en aquellos que si lo hagan y lo vamos a pasar a nuestro vector principal *ventas* ya que esto nos va a dar como resultado solo los valores que cumplan la condicion y lo guardamos en un nuevo vector *parc_ventas*.  \n",
        "**Linea 3:** Mostramos en pantalla nuestro vector resultante."
      ]
    },
    {
      "cell_type": "code",
      "execution_count": null,
      "metadata": {
        "id": "Je1Ie2pLmcH_",
        "outputId": "fd374198-5b8a-45f1-e94c-c05f58ab0bb4",
        "scrolled": true,
        "vscode": {
          "languageId": "r"
        }
      },
      "outputs": [
        {
          "data": {
            "text/html": [
              "<style>\n",
              ".dl-inline {width: auto; margin:0; padding: 0}\n",
              ".dl-inline>dt, .dl-inline>dd {float: none; width: auto; display: inline-block}\n",
              ".dl-inline>dt::after {content: \":\\0020\"; padding-right: .5ex}\n",
              ".dl-inline>dt:not(:first-of-type) {padding-left: .5ex}\n",
              "</style><dl class=dl-inline><dt>jul</dt><dd>104545.454545455</dd><dt>ago</dt><dd>113636.363636364</dd><dt>sep</dt><dd>122727.272727273</dd><dt>oct</dt><dd>131818.181818182</dd><dt>nov</dt><dd>140909.090909091</dd><dt>dic</dt><dd>150000</dd></dl>\n"
            ],
            "text/latex": [
              "\\begin{description*}\n",
              "\\item[jul] 104545.454545455\n",
              "\\item[ago] 113636.363636364\n",
              "\\item[sep] 122727.272727273\n",
              "\\item[oct] 131818.181818182\n",
              "\\item[nov] 140909.090909091\n",
              "\\item[dic] 150000\n",
              "\\end{description*}\n"
            ],
            "text/markdown": [
              "jul\n",
              ":   104545.454545455ago\n",
              ":   113636.363636364sep\n",
              ":   122727.272727273oct\n",
              ":   131818.181818182nov\n",
              ":   140909.090909091dic\n",
              ":   150000\n",
              "\n"
            ],
            "text/plain": [
              "     jul      ago      sep      oct      nov      dic \n",
              "104545.5 113636.4 122727.3 131818.2 140909.1 150000.0 "
            ]
          },
          "metadata": {},
          "output_type": "display_data"
        }
      ],
      "source": [
        "val_ventas = ventas > 100000\n",
        "parc_ventas = ventas[val_ventas]\n",
        "parc_ventas"
      ]
    },
    {
      "cell_type": "markdown",
      "metadata": {
        "id": "ynhihKShmcIA"
      },
      "source": [
        "**Linea 1:** Para poder obtener la proporcion de meses que superaron los 100.000 en el año vamos a realizar con los operadores basicos de R una division entre la longitud de *parc_ventas* y *ventas* con la funcion **len()**, de esta manera vamos a estar operando sobre la cantidad de elementos y no sobre los valores, lo multiplicamos por 100 para que nos de un valor mas facil de expresar en porcentaje.  \n",
        "**Linea 2:** Usamos **paste()** para sobreescribir el valor resultante de porcentaje añadiendole el simbolo *%* y eliminando un espacio.  \n",
        "**Linea 3:** Mostramos en pantalla el contenido del vector *porcentaje*."
      ]
    },
    {
      "cell_type": "code",
      "execution_count": null,
      "metadata": {
        "id": "Nd9ptDGlmcIA",
        "outputId": "5fcccec5-29ba-4bf8-cc1e-66d5f2e585dd",
        "scrolled": true,
        "vscode": {
          "languageId": "r"
        }
      },
      "outputs": [
        {
          "data": {
            "text/html": [
              "'50%'"
            ],
            "text/latex": [
              "'50\\%'"
            ],
            "text/markdown": [
              "'50%'"
            ],
            "text/plain": [
              "[1] \"50%\""
            ]
          },
          "metadata": {},
          "output_type": "display_data"
        }
      ],
      "source": [
        "porcentaje = (length(parc_ventas)/length(ventas))*100\n",
        "porcentaje = paste(porcentaje, \"%\", sep = '')\n",
        "porcentaje"
      ]
    },
    {
      "cell_type": "markdown",
      "metadata": {
        "id": "VGj6j0yomcIB"
      },
      "source": [
        "**Respuesta:** Entre julio y diciembre del año estudiado se registraron ventas mayores a 100.000 resultando en un 50% de las ventas anuales."
      ]
    },
    {
      "cell_type": "markdown",
      "metadata": {
        "id": "IiPln5QQmcIB"
      },
      "source": [
        "<div style=\"background-color:#5DADE2\"><b>Apartado 4</b></div>"
      ]
    },
    {
      "cell_type": "markdown",
      "metadata": {
        "id": "h82BIwIBmcIB"
      },
      "source": [
        "**Linea 1:** Iniciamos generando un nuevo vector con valores booleanos que nos indique como *True* aquellos que esten sobre 60.000 pero menos de 80.000, para hacer que estas dos condiciones se cumplan usamos el simbolo *&*.  \n",
        "**Linea 2:** Dado que no vamos a usar nuevamente el vector de booleanos podemos reescribirlo para que guarde los valores de nuestros meses con ventas entre 60.000 y 80.000.  \n",
        "**Linea 3:** Presentamos el valor en pantalla."
      ]
    },
    {
      "cell_type": "code",
      "execution_count": null,
      "metadata": {
        "id": "17gw_Tv6mcIB",
        "outputId": "6812e230-24cf-4afa-addb-d3fc6fdef476",
        "scrolled": true,
        "vscode": {
          "languageId": "r"
        }
      },
      "outputs": [
        {
          "data": {
            "text/html": [
              "<style>\n",
              ".dl-inline {width: auto; margin:0; padding: 0}\n",
              ".dl-inline>dt, .dl-inline>dd {float: none; width: auto; display: inline-block}\n",
              ".dl-inline>dt::after {content: \":\\0020\"; padding-right: .5ex}\n",
              ".dl-inline>dt:not(:first-of-type) {padding-left: .5ex}\n",
              "</style><dl class=dl-inline><dt>mar</dt><dd>68181.8181818182</dd><dt>abr</dt><dd>77272.7272727273</dd></dl>\n"
            ],
            "text/latex": [
              "\\begin{description*}\n",
              "\\item[mar] 68181.8181818182\n",
              "\\item[abr] 77272.7272727273\n",
              "\\end{description*}\n"
            ],
            "text/markdown": [
              "mar\n",
              ":   68181.8181818182abr\n",
              ":   77272.7272727273\n",
              "\n"
            ],
            "text/plain": [
              "     mar      abr \n",
              "68181.82 77272.73 "
            ]
          },
          "metadata": {},
          "output_type": "display_data"
        }
      ],
      "source": [
        "condicion_inferior = (ventas > 60000) & (ventas < 80000)\n",
        "condicion_inferior = ventas[condicion_inferior]\n",
        "condicion_inferior"
      ]
    },
    {
      "cell_type": "markdown",
      "metadata": {
        "id": "u91Dz7KimcIB"
      },
      "source": [
        "**Linea 1:** Procedemos a realizar lo mismo que en el punto anterior pero esta vez para valores entre 90.000 y 110.000 lo que nos genera otro vector con valores booleanos y nuevamente para hacer que estas dos condiciones se cumplan usamos el simbolo *&*.  \n",
        "**Linea 2:** Tambien reescribimos el vector de booleanos para que guarde los valores de nuestros meses con ventas entre 90.000 y 110.000.  \n",
        "**Linea 3:** Presentamos el valor en pantalla."
      ]
    },
    {
      "cell_type": "code",
      "execution_count": null,
      "metadata": {
        "id": "JTBLjHgvmcIB",
        "outputId": "48c9b849-5f51-4427-a63b-7c13301e4750",
        "scrolled": true,
        "vscode": {
          "languageId": "r"
        }
      },
      "outputs": [
        {
          "data": {
            "text/html": [
              "<style>\n",
              ".dl-inline {width: auto; margin:0; padding: 0}\n",
              ".dl-inline>dt, .dl-inline>dd {float: none; width: auto; display: inline-block}\n",
              ".dl-inline>dt::after {content: \":\\0020\"; padding-right: .5ex}\n",
              ".dl-inline>dt:not(:first-of-type) {padding-left: .5ex}\n",
              "</style><dl class=dl-inline><dt>jun</dt><dd>95454.5454545454</dd><dt>jul</dt><dd>104545.454545455</dd></dl>\n"
            ],
            "text/latex": [
              "\\begin{description*}\n",
              "\\item[jun] 95454.5454545454\n",
              "\\item[jul] 104545.454545455\n",
              "\\end{description*}\n"
            ],
            "text/markdown": [
              "jun\n",
              ":   95454.5454545454jul\n",
              ":   104545.454545455\n",
              "\n"
            ],
            "text/plain": [
              "      jun       jul \n",
              " 95454.55 104545.45 "
            ]
          },
          "metadata": {},
          "output_type": "display_data"
        }
      ],
      "source": [
        "condicion_superior = (ventas > 90000) & (ventas < 110000)\n",
        "condicion_superior = ventas[condicion_superior]\n",
        "condicion_superior"
      ]
    },
    {
      "cell_type": "markdown",
      "metadata": {
        "id": "lS38d07tmcIC"
      },
      "source": [
        "**Linea 1:** Para comparar cual de los dos fue mas comun podemos ver cual de los dos tiene mas elementos, en este caso vamos a sacar la diferencia entre ambos para ver cual de los dos tiene mas elementos.  \n",
        "**Linea 2:** Presentamos el resultado en pantalla"
      ]
    },
    {
      "cell_type": "code",
      "execution_count": null,
      "metadata": {
        "id": "DUerP0mqmcIC",
        "outputId": "634d2f2c-a28a-44ea-d4ad-a12895dc5db1",
        "scrolled": true,
        "vscode": {
          "languageId": "r"
        }
      },
      "outputs": [
        {
          "data": {
            "text/html": [
              "0"
            ],
            "text/latex": [
              "0"
            ],
            "text/markdown": [
              "0"
            ],
            "text/plain": [
              "[1] 0"
            ]
          },
          "metadata": {},
          "output_type": "display_data"
        }
      ],
      "source": [
        "comparacion_ventas = length(condicion_inferior)-length(condicion_superior)\n",
        "comparacion_ventas"
      ]
    },
    {
      "cell_type": "markdown",
      "metadata": {
        "id": "Doyj3m9qmcIC"
      },
      "source": [
        "**Respuesta:** Fueron 2 los meses en los cuales se tuvo ventas entre 60.000 y 80.000 euros (marzo y abril) al igual que entre 90.000 y 110.000 euros (junio y julio), por lo cual ambos fueron igual de frecuentes en el mismo año."
      ]
    },
    {
      "cell_type": "markdown",
      "metadata": {
        "id": "IcLkpkY0mcIC"
      },
      "source": [
        "<div style=\"background-color:#5DADE2\"><b>Apartado 5</b></div>"
      ]
    },
    {
      "cell_type": "markdown",
      "metadata": {
        "id": "2rsTeM1rmcID"
      },
      "source": [
        "**Linea 1:** Generamos el nuevo vector de los ajustes en las ventas mensuales y lo guardamos como *ajustes_ventas*.  \n",
        "**Linea 2:** Usamos **abs()** para obtener el valor absoluto del vector *ajustes_ventas* y sobreescribimos el vector.  \n",
        "**Linea 3:** Presentamos el resultado en pantalla."
      ]
    },
    {
      "cell_type": "code",
      "execution_count": null,
      "metadata": {
        "id": "G4j0nwdtmcID",
        "outputId": "3cd84e7b-a4fa-4b0c-d405-9c17dd689303",
        "vscode": {
          "languageId": "r"
        }
      },
      "outputs": [
        {
          "data": {
            "text/html": [
              "<style>\n",
              ".list-inline {list-style: none; margin:0; padding: 0}\n",
              ".list-inline>li {display: inline-block}\n",
              ".list-inline>li:not(:last-child)::after {content: \"\\00b7\"; padding: 0 .5ex}\n",
              "</style>\n",
              "<ol class=list-inline><li>120</li><li>30</li><li>90</li><li>110</li><li>50</li></ol>\n"
            ],
            "text/latex": [
              "\\begin{enumerate*}\n",
              "\\item 120\n",
              "\\item 30\n",
              "\\item 90\n",
              "\\item 110\n",
              "\\item 50\n",
              "\\end{enumerate*}\n"
            ],
            "text/markdown": [
              "1. 120\n",
              "2. 30\n",
              "3. 90\n",
              "4. 110\n",
              "5. 50\n",
              "\n",
              "\n"
            ],
            "text/plain": [
              "[1] 120  30  90 110  50"
            ]
          },
          "metadata": {},
          "output_type": "display_data"
        }
      ],
      "source": [
        "ajustes_ventas = c(120, -30, 90, 110, -50)\n",
        "ajustes_ventas = abs(ajustes_ventas)\n",
        "ajustes_ventas"
      ]
    },
    {
      "cell_type": "markdown",
      "metadata": {
        "id": "YJqjIDk4mcID"
      },
      "source": [
        "**Linea 1:** Ya que tenemos nuestro vector con los valores absolutos vamos a seleccionar aquellos que sean mayores a 50.000 euros"
      ]
    },
    {
      "cell_type": "code",
      "execution_count": null,
      "metadata": {
        "id": "nPd0BEMCmcID",
        "outputId": "0a8843b2-abd3-4edf-f193-5d6fb4e1f303",
        "scrolled": true,
        "vscode": {
          "languageId": "r"
        }
      },
      "outputs": [
        {
          "data": {
            "text/html": [
              "<style>\n",
              ".list-inline {list-style: none; margin:0; padding: 0}\n",
              ".list-inline>li {display: inline-block}\n",
              ".list-inline>li:not(:last-child)::after {content: \"\\00b7\"; padding: 0 .5ex}\n",
              "</style>\n",
              "<ol class=list-inline><li>120</li><li>90</li><li>110</li></ol>\n"
            ],
            "text/latex": [
              "\\begin{enumerate*}\n",
              "\\item 120\n",
              "\\item 90\n",
              "\\item 110\n",
              "\\end{enumerate*}\n"
            ],
            "text/markdown": [
              "1. 120\n",
              "2. 90\n",
              "3. 110\n",
              "\n",
              "\n"
            ],
            "text/plain": [
              "[1] 120  90 110"
            ]
          },
          "metadata": {},
          "output_type": "display_data"
        }
      ],
      "source": [
        "ajustes_ventas[ajustes_ventas > 50]"
      ]
    },
    {
      "cell_type": "markdown",
      "metadata": {
        "id": "gzMPggzFmcIE"
      },
      "source": [
        "**Respuesta:** Del total de ajustes de ventas en **valor absoluto** tres superan los 50.000 euros"
      ]
    },
    {
      "cell_type": "markdown",
      "metadata": {
        "id": "RJugx1ibmcIE"
      },
      "source": [
        "<div style=\"background-color:#5DADE2\"><b>Apartado 6</b></div>"
      ]
    },
    {
      "cell_type": "markdown",
      "metadata": {
        "id": "jqZrAiITmcIG"
      },
      "source": [
        "**Linea 1:** Creamos un nuevo vector llamado *descuentos* usando **seq()**, estos van a ir desde el 5% hasta el 50% y van a tener un incremento del 5%.  \n",
        "**Linea 2:** Mostramos en pantalla nuestro vector *descuentos*"
      ]
    },
    {
      "cell_type": "code",
      "execution_count": null,
      "metadata": {
        "id": "HrK9gkC6mcIG",
        "outputId": "d5b8f329-817a-4f42-ef2c-6ac6f4cea447",
        "vscode": {
          "languageId": "r"
        }
      },
      "outputs": [
        {
          "data": {
            "text/html": [
              "<style>\n",
              ".list-inline {list-style: none; margin:0; padding: 0}\n",
              ".list-inline>li {display: inline-block}\n",
              ".list-inline>li:not(:last-child)::after {content: \"\\00b7\"; padding: 0 .5ex}\n",
              "</style>\n",
              "<ol class=list-inline><li>0.05</li><li>0.1</li><li>0.15</li><li>0.2</li><li>0.25</li><li>0.3</li><li>0.35</li><li>0.4</li><li>0.45</li><li>0.5</li></ol>\n"
            ],
            "text/latex": [
              "\\begin{enumerate*}\n",
              "\\item 0.05\n",
              "\\item 0.1\n",
              "\\item 0.15\n",
              "\\item 0.2\n",
              "\\item 0.25\n",
              "\\item 0.3\n",
              "\\item 0.35\n",
              "\\item 0.4\n",
              "\\item 0.45\n",
              "\\item 0.5\n",
              "\\end{enumerate*}\n"
            ],
            "text/markdown": [
              "1. 0.05\n",
              "2. 0.1\n",
              "3. 0.15\n",
              "4. 0.2\n",
              "5. 0.25\n",
              "6. 0.3\n",
              "7. 0.35\n",
              "8. 0.4\n",
              "9. 0.45\n",
              "10. 0.5\n",
              "\n",
              "\n"
            ],
            "text/plain": [
              " [1] 0.05 0.10 0.15 0.20 0.25 0.30 0.35 0.40 0.45 0.50"
            ]
          },
          "metadata": {},
          "output_type": "display_data"
        }
      ],
      "source": [
        "descuentos = seq(0.05,0.5,0.05)\n",
        "descuentos"
      ]
    },
    {
      "cell_type": "markdown",
      "metadata": {
        "id": "2JjzcffomcIG"
      },
      "source": [
        "**Linea 1:** Creamos un nuevo vector que nos permita extraer los valores de descuento de las posiciones 2, 5 y 8 y lo guardamos con el nombre *posiciones_descuento*\n",
        "**Linea 2:** Reescribimos nuestro nuevo vector *posiciones_descuento* para guardar los datos extraidos\n",
        "**Linea 3:** Mostramos en pantalla nuestro vector"
      ]
    },
    {
      "cell_type": "code",
      "execution_count": null,
      "metadata": {
        "id": "HViaWNkCmcIH",
        "outputId": "abe05620-ec1f-450c-d4d4-07449563f17c",
        "vscode": {
          "languageId": "r"
        }
      },
      "outputs": [
        {
          "data": {
            "text/html": [
              "<style>\n",
              ".list-inline {list-style: none; margin:0; padding: 0}\n",
              ".list-inline>li {display: inline-block}\n",
              ".list-inline>li:not(:last-child)::after {content: \"\\00b7\"; padding: 0 .5ex}\n",
              "</style>\n",
              "<ol class=list-inline><li>0.1</li><li>0.25</li><li>0.4</li></ol>\n"
            ],
            "text/latex": [
              "\\begin{enumerate*}\n",
              "\\item 0.1\n",
              "\\item 0.25\n",
              "\\item 0.4\n",
              "\\end{enumerate*}\n"
            ],
            "text/markdown": [
              "1. 0.1\n",
              "2. 0.25\n",
              "3. 0.4\n",
              "\n",
              "\n"
            ],
            "text/plain": [
              "[1] 0.10 0.25 0.40"
            ]
          },
          "metadata": {},
          "output_type": "display_data"
        }
      ],
      "source": [
        "posiciones_descuento = c(2,5,8)\n",
        "posiciones_descuento = descuentos[posiciones_descuento]\n",
        "posiciones_descuento"
      ]
    },
    {
      "cell_type": "markdown",
      "metadata": {
        "id": "_xu84f3pmcIJ"
      },
      "source": [
        "**Linea 1:** Vamos a crear un nuevo vector llamado *eliminar_descuento* el cual va a tener un valor con signo negativo pasado con **c()** el cual indicara el indice que se desea eliminar.  \n",
        "**Linea 2:** Al vector *descuentos* vamos a pasarle el nuevo vector creado en la linea anterior, esto elimina ese valor y reescribimos el vector *descuentos* para que el cambio sea definitivo.  \n",
        "**Linea 3:** Mostramos en pantalla el resultado de nuestro vector esta vez con 9 elementos."
      ]
    },
    {
      "cell_type": "code",
      "execution_count": null,
      "metadata": {
        "id": "H5fhybtNmcIJ",
        "outputId": "d6096d9e-784c-4341-dbf5-c8d7703f51a7",
        "scrolled": false,
        "vscode": {
          "languageId": "r"
        }
      },
      "outputs": [
        {
          "data": {
            "text/html": [
              "<style>\n",
              ".list-inline {list-style: none; margin:0; padding: 0}\n",
              ".list-inline>li {display: inline-block}\n",
              ".list-inline>li:not(:last-child)::after {content: \"\\00b7\"; padding: 0 .5ex}\n",
              "</style>\n",
              "<ol class=list-inline><li>0.05</li><li>0.1</li><li>0.2</li><li>0.25</li><li>0.3</li><li>0.35</li><li>0.4</li><li>0.45</li><li>0.5</li></ol>\n"
            ],
            "text/latex": [
              "\\begin{enumerate*}\n",
              "\\item 0.05\n",
              "\\item 0.1\n",
              "\\item 0.2\n",
              "\\item 0.25\n",
              "\\item 0.3\n",
              "\\item 0.35\n",
              "\\item 0.4\n",
              "\\item 0.45\n",
              "\\item 0.5\n",
              "\\end{enumerate*}\n"
            ],
            "text/markdown": [
              "1. 0.05\n",
              "2. 0.1\n",
              "3. 0.2\n",
              "4. 0.25\n",
              "5. 0.3\n",
              "6. 0.35\n",
              "7. 0.4\n",
              "8. 0.45\n",
              "9. 0.5\n",
              "\n",
              "\n"
            ],
            "text/plain": [
              "[1] 0.05 0.10 0.20 0.25 0.30 0.35 0.40 0.45 0.50"
            ]
          },
          "metadata": {},
          "output_type": "display_data"
        }
      ],
      "source": [
        "eliminar_descuento = c(-3)\n",
        "descuentos = descuentos[eliminar_descuento]\n",
        "descuentos"
      ]
    },
    {
      "cell_type": "markdown",
      "metadata": {
        "id": "eX695RhumcIK"
      },
      "source": [
        "**Respuesta:** Podemos ver que los descuentos ofrecidos el segundo, quinto y octavo mes son 10%, 25% y 40% respectivamente, adicional se elimino el descuento de 15% correspondiente al tercer mes."
      ]
    },
    {
      "cell_type": "markdown",
      "metadata": {
        "id": "hTbeYy8TmcIK"
      },
      "source": [
        "### 02 Ejercicio\n",
        "\n",
        "Considerar dos conjunto de datos que se ajustan a las siguientes distribuciones normales, $X_1∼N(μ_1,σ_1)$ y $X_2∼N(μ_2,σ_2)$. Supongamos que $x_1=(10, 12, 15, 14, 11, 13, 12)$ y $x_2=(14, 15, 16, 17, 13, 14, 16, 15)$ son muestras de los tiempos de respuesta (en días) a dos tratamientos médicos diferentes, $X_1$ y $X_2$, respectivamente. Se solicita:\n",
        "\n",
        "\n",
        "1. Calcular el p-valor del contraste $H_0:μ_1=μ_2$ contra $H_1:μ_1<μ_2$ y justificar si podemos rechazar la hipótesis nula en favor de la alternativa para un nivel de significación de $\\alpha=0,05$.\n",
        "\n",
        "\n",
        "2. Identificar, definir y explicar para este caso los principales elementos de un contraste de hipótesis.\n",
        "\n",
        "\n",
        "3. Determinar si el contraste es paramétrico o no paramétrico y justificar la respuesta. Considerar los análisis previos oportunos para cada caso (normalidad, varianza, etc.) para seleccionar el test adecuado."
      ]
    },
    {
      "cell_type": "markdown",
      "metadata": {
        "id": "2CGPNuCcmcIK"
      },
      "source": [
        "<div style=\"background-color:#F7DC6F\"><b>Resolución Ejercicio 02</b></div>"
      ]
    },
    {
      "cell_type": "markdown",
      "metadata": {
        "id": "TrtEdc_ymcIL"
      },
      "source": [
        "<div style=\"background-color:#5DADE2\"><b>Apartado 1</b></div>"
      ]
    },
    {
      "cell_type": "markdown",
      "metadata": {
        "id": "7lSv9E8umcIL"
      },
      "source": [
        "**Linea 1:** Generamos el vector *x1* de acuerdo a lo solicitad por el ejercicio.  \n",
        "**Linea 2:** Generamos el vector *x2* de acuerdo a lo solicitad por el ejercicio.\n"
      ]
    },
    {
      "cell_type": "code",
      "execution_count": null,
      "metadata": {
        "id": "TwM0MYLKmcIM",
        "scrolled": true,
        "vscode": {
          "languageId": "r"
        }
      },
      "outputs": [],
      "source": [
        "x1 = c(10,12,15,14,11,13,12)\n",
        "x2 = c(14,15,16,17,13,14,16,15)"
      ]
    },
    {
      "cell_type": "markdown",
      "metadata": {
        "id": "qjvLYGtcmcIM"
      },
      "source": [
        "**Linea 1:** Instalamos la libreria nortest.  \n",
        "**Linea 2:** Una vez instalada la libreria procedemos con su carga.  \n",
        "**Linea 3:** Usamos la funcion **lillie.test()** para verificar que se cumpla la condicion de normalidad entre nuestras dos muestras pasandole *x1*.  \n",
        "**Linea 4:** Realizamos el mismo proceso para *x2*"
      ]
    },
    {
      "cell_type": "code",
      "execution_count": null,
      "metadata": {
        "id": "P4hQK17imcIN",
        "outputId": "ac11ebde-daf8-4d08-e2cf-e73393d1eaa4",
        "vscode": {
          "languageId": "r"
        }
      },
      "outputs": [
        {
          "name": "stdout",
          "output_type": "stream",
          "text": [
            "package 'nortest' successfully unpacked and MD5 sums checked\n",
            "\n",
            "The downloaded binary packages are in\n",
            "\tC:\\Users\\William\\AppData\\Local\\Temp\\RtmpiMPY4P\\downloaded_packages\n"
          ]
        },
        {
          "data": {
            "text/plain": [
              "\n",
              "\tLilliefors (Kolmogorov-Smirnov) normality test\n",
              "\n",
              "data:  x1\n",
              "D = 0.16991, p-value = 0.783\n"
            ]
          },
          "metadata": {},
          "output_type": "display_data"
        },
        {
          "data": {
            "text/plain": [
              "\n",
              "\tLilliefors (Kolmogorov-Smirnov) normality test\n",
              "\n",
              "data:  x2\n",
              "D = 0.1525, p-value = 0.8438\n"
            ]
          },
          "metadata": {},
          "output_type": "display_data"
        }
      ],
      "source": [
        "install.packages(\"nortest\")\n",
        "library(nortest)\n",
        "lillie.test(x1)\n",
        "lillie.test(x2)"
      ]
    },
    {
      "cell_type": "markdown",
      "metadata": {
        "id": "Vd2gWayNmcIN"
      },
      "source": [
        "**Interpretacion:** Realizado el test KSL podemos concluir en base a el **p-valor** obtenido (*x1 = 78.3%, x2 = 84.38%*), siendo mayor a 0.05, que nuestras muestras proceden de una distribucion normal."
      ]
    },
    {
      "cell_type": "markdown",
      "metadata": {
        "id": "EhgYFVkcmcIO"
      },
      "source": [
        "**Linea 1:** Aplicamos el test de Barlett usando **barlett.test()** y le pasamos como lista nuestros dos vectores, esto nos sirve para asegurarnos que las varianzas de ambas muestras no difieren significativamente"
      ]
    },
    {
      "cell_type": "code",
      "execution_count": null,
      "metadata": {
        "id": "7AaQN76qmcIO",
        "outputId": "278a9bde-9835-42bf-b1bd-95b262e2e67b",
        "vscode": {
          "languageId": "r"
        }
      },
      "outputs": [
        {
          "data": {
            "text/plain": [
              "\n",
              "\tBartlett test of homogeneity of variances\n",
              "\n",
              "data:  list(x1, x2)\n",
              "Bartlett's K-squared = 0.44377, df = 1, p-value = 0.5053\n"
            ]
          },
          "metadata": {},
          "output_type": "display_data"
        }
      ],
      "source": [
        "bartlett.test(list(x1,x2))"
      ]
    },
    {
      "cell_type": "markdown",
      "metadata": {
        "id": "qM_sNZz9mcIO"
      },
      "source": [
        "**Interpretacion:** Según la aplicacion del test de Barlett tenemos como resultado ***p-value = 0.5053*** el cual es superior al 5% por lo cual no podemos rechazar la hipotesis nula y concluimos que ambas varianzas son iguales"
      ]
    },
    {
      "cell_type": "markdown",
      "metadata": {
        "id": "wqDBwZckmcIO"
      },
      "source": [
        "**Linea 1:** Una vez confirmado que cumplimos con el requisito para poder aplicar un test parametrico procedemos hacer el *test T* con aplicando **t.test()** en este caso en particular podemos presumir que son independientes pues no existe ninguna evidencia de lo contrario según como se nos plantea el ejercicio, todo esto con un nivel de confianza del 95% (1-alpha)."
      ]
    },
    {
      "cell_type": "code",
      "execution_count": null,
      "metadata": {
        "id": "Y_H91b5DmcIP",
        "outputId": "7ba5b3a7-ee46-40d9-f2bf-f83e2cf2c4ec",
        "scrolled": true,
        "vscode": {
          "languageId": "r"
        }
      },
      "outputs": [
        {
          "data": {
            "text/plain": [
              "\n",
              "\tWelch Two Sample t-test\n",
              "\n",
              "data:  x1 and x2\n",
              "t = -3.2242, df = 11.173, p-value = 0.003973\n",
              "alternative hypothesis: true difference in means is less than 0\n",
              "95 percent confidence interval:\n",
              "      -Inf -1.141187\n",
              "sample estimates:\n",
              "mean of x mean of y \n",
              " 12.42857  15.00000 \n"
            ]
          },
          "metadata": {},
          "output_type": "display_data"
        }
      ],
      "source": [
        "t.test(x1,x2, alternative = \"less\", paired = F, conf.level = 0.95 )"
      ]
    },
    {
      "cell_type": "markdown",
      "metadata": {
        "id": "5DISbkbhmcIP"
      },
      "source": [
        "**Interpretacion:** Realizado el Test T obtenemos un ***p-value = 0.003973*** con lo cual podemos concluir que rechazamos la hipótesis nula en favor de la alternativa lo cual significa que en promedio los pacientes de la muestra *x1* tienen menores tiempos de respuesta al tratamiento versus los pacientes de la muestra *x2*"
      ]
    },
    {
      "cell_type": "markdown",
      "metadata": {
        "id": "1z-PKBbzmcIP"
      },
      "source": [
        "<div style=\"background-color:#5DADE2\"><b>Apartado 2</b></div>"
      ]
    },
    {
      "cell_type": "markdown",
      "metadata": {
        "id": "4w5zfMhDmcIP"
      },
      "source": [
        "**PRINCIPALES ELEMENTOS DEL CONTRASTE DE HIPOTESIS**.\n",
        "Para este caso en específico podemos identificar los siguientes elementos en el proceso de contraste de hipotesis.  \n",
        "\n",
        "**Hipotesis nula:** Es la hipótesis que deseamos contrastar, para este caso en particular se desea saber si el promedio de respuesta en dias de dos muestras de pacientes es igual.  \n",
        "**Hipotesis alternativa:** Esta hipótesis se confirma en cuando se deshecha la hipotesis nula, para este caso perticular nuestra hipotesis alternativa es que el promedio de respuesta en dias la tratamiento de la primera muestra de pacientes es menor que la de los segundos.  \n",
        "**Tipo de contraste de hipótesis:** Tenemos dos tipos de contraste de hipotesis siendo bilateral y unilateral, para este caso tendremos en cuenta el contraste unilateral puesto que nuestra hipotesis alternativa es que *media(x1) < media(x2)*.  \n",
        "**Regla de decision:** Determina si debemos o no rechazar la hipótesis nula, para nuestro caso en particular establecemos un nivel de confianza de 95%.  \n",
        "**Nivel de significacion:** Nuestra probabilidad de rechazar la hipotesis nula siendo verdadera, para este caso es de 5%, la cual sumana a nuestra regla de decision 95% siempre tiene que dar 1 o 100%.  \n",
        "**p-valor:** Lo obtenemos como resultado de nuestros test, en este caso nuestro ***p-value = 0.003973*** lo cual nos obliga a rechazar la hipotesis nula en favor de la alternativa.\n"
      ]
    },
    {
      "cell_type": "markdown",
      "metadata": {
        "id": "loRoqmxwmcIQ"
      },
      "source": [
        "<div style=\"background-color:#5DADE2\"><b>Apartado 3</b></div>"
      ]
    },
    {
      "cell_type": "markdown",
      "metadata": {
        "id": "WQB0ifdVmcIQ"
      },
      "source": [
        "**Respuesta**\n",
        "\n",
        "Si se trata de un ***contraste parametrico*** de acuerdo a los siguientes criterios que ya se han mencionado previamente:  \n",
        "\n",
        "**Normalidad:** Dada como resultado de nuestro test KSL el cual fue mayor a 0.05 para ambas muestras.  \n",
        "**Varianza:** Una vez realizado el test de Bartlett podemos asumir que no existe una diferencia significativa entre las varianzas de ambas muestras.  \n",
        "**Independencia:** En este caso solo podemos asumirlo de acuerdo al planteamiento de la muestra, en la cual no hay nada que indique un tipo de relacion entre ambos grupos de pacientes en este caso, por lo que se asumen independientes.\n",
        "\n",
        "Tomando en cuenta los puntos anter mencionados procedemos a aplicar un contraste de hipotesis paramétrico con el Test T"
      ]
    },
    {
      "cell_type": "markdown",
      "metadata": {
        "id": "PCwPKWzpmcIQ"
      },
      "source": [
        "### 03 Ejercicio\n",
        "\n",
        "Supongamos que una empresa ha recopilado datos de $30$ clientes, que incluyen: Ingreso Mensual (en miles de euros), Gasto en productos de la empresa (en cientos de euros), Nivel de satisfacción con el servicio (en una escala de $1$ a $5$) y el Tiempo de permanencia como cliente (en años). Los datos son los siguientes:"
      ]
    },
    {
      "cell_type": "code",
      "execution_count": null,
      "metadata": {
        "id": "ABUfyqekmcIQ",
        "vscode": {
          "languageId": "r"
        }
      },
      "outputs": [],
      "source": [
        "# Variables y datos que tenéis que utilizar\n",
        "IngresoMensual = c(3.2, 4.5, 2.8, 3.5, 5.0, 4.2, 3.6, 4.1, 3.9, 2.7, 3.3, 4.8, 3.7, 2.9, 4.4, 3.1, 3.8, 5.1, 3.4, 4.3, 2.6, 3.0, 4.7, 3.2, 4.0, 3.3, 2.8, 4.6, 3.5, 4.1)\n",
        "Gasto = c(2.5, 3.0, 1.8, 2.6, 3.5, 3.2, 2.7, 3.1, 2.9, 1.7, 2.4, 3.4, 2.8, 1.9, 3.3, 2.2, 2.8, 3.6, 2.5, 3.2, 1.6, 2.1, 3.3, 2.4, 2.9, 2.3, 1.8, 3.2, 2.6, 3.0)\n",
        "Satisfaccion = c(4, 5, 3, 4, 5, 4, 3, 5, 4, 3, 4, 5, 3, 3, 5, 4, 4, 5, 4, 5, 3, 4, 5, 4, 4, 3, 3, 5, 4, 4)\n",
        "TiempoCliente = c(5, 7, 3, 4, 8, 6, 4, 7, 5, 3, 4, 7, 5, 3, 6, 4, 5, 8, 4, 6, 2, 3, 7, 5, 6, 4, 3, 7, 5, 6)"
      ]
    },
    {
      "cell_type": "markdown",
      "metadata": {
        "id": "18P87Z7emcIR"
      },
      "source": [
        "1. Crear un dataframe que incluya la información proporcionada y asignar los nombres adecuados a las columnas.\n",
        "\n",
        "\n",
        "2. Realizar una tabla de frecuencias absolutas y otra de frecuencias relativas para la variable `Satisfaccion`. Almacenar las tablas anteriores en dos variables y llamadlas absolutas y relativas.\n",
        "\n",
        "\n",
        "3. Realizar la misma operación que en el apartado anterior pero teniendo en cuenta el resto de variables: `Ingreso Mensual`, `Gasto` y `Tiempo Cliente`.\n",
        "\n",
        "\n",
        "4. Representar la variable `Satisfaccion` mediante un diagrama de barras y un diagrama de sectores. Incluir un título adecuado para cada gráfico y poner nombre a los ejes.\n",
        "\n",
        "\n",
        "5. Realizar un histograma y un diagrama de caja para la variable `Tiempo Cliente`. Analizar la presencia de valores atípicos. Incluir un título apropiado para cada gráfico.\n",
        "\n",
        "\n",
        "6. Realizar un resumen de los principales estadísticos mediante la función $\\tt summary$ sobre la variable `Gasto`. Comprobar que las medidas que proporciona la función $\\tt summary$ coinciden con las medidas calculadas de forma individual usando su función específica (ejemplo, para la media, la función $\\tt mean$).\n",
        "\n",
        "\n",
        "7. Calcular la media y, al menos, dos medidas de dispersión para las variables `Ingreso Mensual` y compararlas con `Tiempo Cliente` para determinar cuál es más homogénea."
      ]
    },
    {
      "cell_type": "markdown",
      "metadata": {
        "id": "eVlF3B9HmcIS"
      },
      "source": [
        "<div style=\"background-color:#F7DC6F\"><b>Resolución Ejercicio 03</b></div>"
      ]
    },
    {
      "cell_type": "markdown",
      "metadata": {
        "id": "Cl2x7bobmcIS"
      },
      "source": [
        "<div style=\"background-color:#5DADE2\"><b>Apartado 1</b></div>"
      ]
    },
    {
      "cell_type": "markdown",
      "metadata": {
        "id": "Ebx3k9OWmcIS"
      },
      "source": [
        "**Linea 1:** Generamos el vector \"IngresoMensual\" con los valores proporcionados.  \n",
        "**Linea 2:** Generamos el vector \"Gasto\" con los valores proporcionados.  \n",
        "**Linea 3:** Generamos el vector \"Satisfaccion\" con los valores proporcionados.  \n",
        "**Linea 4:** Generamos el vector \"TiempoCli\" con los valores proporcionados.  \n",
        "**Linea 5:** Cargamos nuestros vectores con **data.frame()** y lo guardamos con el nombre *clientes*.  \n",
        "**Linea 6:** Verificamos mostrando clientes en pantalla con **head()**"
      ]
    },
    {
      "cell_type": "code",
      "execution_count": null,
      "metadata": {
        "id": "dN4lNd8FmcIT",
        "outputId": "243e2df4-199d-457d-ad9d-eb109cf83e70",
        "scrolled": true,
        "vscode": {
          "languageId": "r"
        }
      },
      "outputs": [
        {
          "data": {
            "text/html": [
              "<table class=\"dataframe\">\n",
              "<caption>A data.frame: 6 × 4</caption>\n",
              "<thead>\n",
              "\t<tr><th></th><th scope=col>IngresoMensual</th><th scope=col>Gasto</th><th scope=col>Satisfaccion</th><th scope=col>TiempoCliente</th></tr>\n",
              "\t<tr><th></th><th scope=col>&lt;dbl&gt;</th><th scope=col>&lt;dbl&gt;</th><th scope=col>&lt;dbl&gt;</th><th scope=col>&lt;dbl&gt;</th></tr>\n",
              "</thead>\n",
              "<tbody>\n",
              "\t<tr><th scope=row>1</th><td>3.2</td><td>2.5</td><td>4</td><td>5</td></tr>\n",
              "\t<tr><th scope=row>2</th><td>4.5</td><td>3.0</td><td>5</td><td>7</td></tr>\n",
              "\t<tr><th scope=row>3</th><td>2.8</td><td>1.8</td><td>3</td><td>3</td></tr>\n",
              "\t<tr><th scope=row>4</th><td>3.5</td><td>2.6</td><td>4</td><td>4</td></tr>\n",
              "\t<tr><th scope=row>5</th><td>5.0</td><td>3.5</td><td>5</td><td>8</td></tr>\n",
              "\t<tr><th scope=row>6</th><td>4.2</td><td>3.2</td><td>4</td><td>6</td></tr>\n",
              "</tbody>\n",
              "</table>\n"
            ],
            "text/latex": [
              "A data.frame: 6 × 4\n",
              "\\begin{tabular}{r|llll}\n",
              "  & IngresoMensual & Gasto & Satisfaccion & TiempoCliente\\\\\n",
              "  & <dbl> & <dbl> & <dbl> & <dbl>\\\\\n",
              "\\hline\n",
              "\t1 & 3.2 & 2.5 & 4 & 5\\\\\n",
              "\t2 & 4.5 & 3.0 & 5 & 7\\\\\n",
              "\t3 & 2.8 & 1.8 & 3 & 3\\\\\n",
              "\t4 & 3.5 & 2.6 & 4 & 4\\\\\n",
              "\t5 & 5.0 & 3.5 & 5 & 8\\\\\n",
              "\t6 & 4.2 & 3.2 & 4 & 6\\\\\n",
              "\\end{tabular}\n"
            ],
            "text/markdown": [
              "\n",
              "A data.frame: 6 × 4\n",
              "\n",
              "| <!--/--> | IngresoMensual &lt;dbl&gt; | Gasto &lt;dbl&gt; | Satisfaccion &lt;dbl&gt; | TiempoCliente &lt;dbl&gt; |\n",
              "|---|---|---|---|---|\n",
              "| 1 | 3.2 | 2.5 | 4 | 5 |\n",
              "| 2 | 4.5 | 3.0 | 5 | 7 |\n",
              "| 3 | 2.8 | 1.8 | 3 | 3 |\n",
              "| 4 | 3.5 | 2.6 | 4 | 4 |\n",
              "| 5 | 5.0 | 3.5 | 5 | 8 |\n",
              "| 6 | 4.2 | 3.2 | 4 | 6 |\n",
              "\n"
            ],
            "text/plain": [
              "  IngresoMensual Gasto Satisfaccion TiempoCliente\n",
              "1 3.2            2.5   4            5            \n",
              "2 4.5            3.0   5            7            \n",
              "3 2.8            1.8   3            3            \n",
              "4 3.5            2.6   4            4            \n",
              "5 5.0            3.5   5            8            \n",
              "6 4.2            3.2   4            6            "
            ]
          },
          "metadata": {},
          "output_type": "display_data"
        }
      ],
      "source": [
        "IngresoMensual = c(3.2, 4.5, 2.8, 3.5, 5.0, 4.2, 3.6, 4.1, 3.9, 2.7, 3.3, 4.8, 3.7, 2.9, 4.4, 3.1, 3.8, 5.1, 3.4, 4.3, 2.6, 3.0, 4.7, 3.2, 4.0, 3.3, 2.8, 4.6, 3.5, 4.1)\n",
        "Gasto = c(2.5, 3.0, 1.8, 2.6, 3.5, 3.2, 2.7, 3.1, 2.9, 1.7, 2.4, 3.4, 2.8, 1.9, 3.3, 2.2, 2.8, 3.6, 2.5, 3.2, 1.6, 2.1, 3.3, 2.4, 2.9, 2.3, 1.8, 3.2, 2.6, 3.0)\n",
        "Satisfaccion = c(4, 5, 3, 4, 5, 4, 3, 5, 4, 3, 4, 5, 3, 3, 5, 4, 4, 5, 4, 5, 3, 4, 5, 4, 4, 3, 3, 5, 4, 4)\n",
        "TiempoCliente = c(5, 7, 3, 4, 8, 6, 4, 7, 5, 3, 4, 7, 5, 3, 6, 4, 5, 8, 4, 6, 2, 3, 7, 5, 6, 4, 3, 7, 5, 6)\n",
        "clientes = data.frame(IngresoMensual,Gasto,Satisfaccion,TiempoCliente)\n",
        "head(clientes)"
      ]
    },
    {
      "cell_type": "markdown",
      "metadata": {
        "id": "eDXSrljXmcIc"
      },
      "source": [
        "**Linea 1:** Creamos un nuevo vector que nos permita cambiar los indices de nuestro dataframe, para esto usamos **paste()** a la cual le indicamos como parametros la palabra a usar y una secuencia de 30 números y lo guardamos con el nombre *index*.  \n",
        "**Linea 2:** Con nuestro vector de indices creados lo pasamos al dataframe usando **rownames()**.  \n",
        "**Linea 3:** Visualizamos los cambios en el dataframe"
      ]
    },
    {
      "cell_type": "code",
      "execution_count": null,
      "metadata": {
        "id": "j6aMZZDfmcIc",
        "outputId": "3cfe3272-71ac-4cbc-c2a4-dcd5b623317d",
        "vscode": {
          "languageId": "r"
        }
      },
      "outputs": [
        {
          "data": {
            "text/html": [
              "<table class=\"dataframe\">\n",
              "<caption>A data.frame: 6 × 4</caption>\n",
              "<thead>\n",
              "\t<tr><th></th><th scope=col>IngresoMensual</th><th scope=col>Gasto</th><th scope=col>Satisfaccion</th><th scope=col>TiempoCliente</th></tr>\n",
              "\t<tr><th></th><th scope=col>&lt;dbl&gt;</th><th scope=col>&lt;dbl&gt;</th><th scope=col>&lt;dbl&gt;</th><th scope=col>&lt;dbl&gt;</th></tr>\n",
              "</thead>\n",
              "<tbody>\n",
              "\t<tr><th scope=row>Cliente 1</th><td>3.2</td><td>2.5</td><td>4</td><td>5</td></tr>\n",
              "\t<tr><th scope=row>Cliente 2</th><td>4.5</td><td>3.0</td><td>5</td><td>7</td></tr>\n",
              "\t<tr><th scope=row>Cliente 3</th><td>2.8</td><td>1.8</td><td>3</td><td>3</td></tr>\n",
              "\t<tr><th scope=row>Cliente 4</th><td>3.5</td><td>2.6</td><td>4</td><td>4</td></tr>\n",
              "\t<tr><th scope=row>Cliente 5</th><td>5.0</td><td>3.5</td><td>5</td><td>8</td></tr>\n",
              "\t<tr><th scope=row>Cliente 6</th><td>4.2</td><td>3.2</td><td>4</td><td>6</td></tr>\n",
              "</tbody>\n",
              "</table>\n"
            ],
            "text/latex": [
              "A data.frame: 6 × 4\n",
              "\\begin{tabular}{r|llll}\n",
              "  & IngresoMensual & Gasto & Satisfaccion & TiempoCliente\\\\\n",
              "  & <dbl> & <dbl> & <dbl> & <dbl>\\\\\n",
              "\\hline\n",
              "\tCliente 1 & 3.2 & 2.5 & 4 & 5\\\\\n",
              "\tCliente 2 & 4.5 & 3.0 & 5 & 7\\\\\n",
              "\tCliente 3 & 2.8 & 1.8 & 3 & 3\\\\\n",
              "\tCliente 4 & 3.5 & 2.6 & 4 & 4\\\\\n",
              "\tCliente 5 & 5.0 & 3.5 & 5 & 8\\\\\n",
              "\tCliente 6 & 4.2 & 3.2 & 4 & 6\\\\\n",
              "\\end{tabular}\n"
            ],
            "text/markdown": [
              "\n",
              "A data.frame: 6 × 4\n",
              "\n",
              "| <!--/--> | IngresoMensual &lt;dbl&gt; | Gasto &lt;dbl&gt; | Satisfaccion &lt;dbl&gt; | TiempoCliente &lt;dbl&gt; |\n",
              "|---|---|---|---|---|\n",
              "| Cliente 1 | 3.2 | 2.5 | 4 | 5 |\n",
              "| Cliente 2 | 4.5 | 3.0 | 5 | 7 |\n",
              "| Cliente 3 | 2.8 | 1.8 | 3 | 3 |\n",
              "| Cliente 4 | 3.5 | 2.6 | 4 | 4 |\n",
              "| Cliente 5 | 5.0 | 3.5 | 5 | 8 |\n",
              "| Cliente 6 | 4.2 | 3.2 | 4 | 6 |\n",
              "\n"
            ],
            "text/plain": [
              "          IngresoMensual Gasto Satisfaccion TiempoCliente\n",
              "Cliente 1 3.2            2.5   4            5            \n",
              "Cliente 2 4.5            3.0   5            7            \n",
              "Cliente 3 2.8            1.8   3            3            \n",
              "Cliente 4 3.5            2.6   4            4            \n",
              "Cliente 5 5.0            3.5   5            8            \n",
              "Cliente 6 4.2            3.2   4            6            "
            ]
          },
          "metadata": {},
          "output_type": "display_data"
        }
      ],
      "source": [
        "index = paste('Cliente', seq(1,30), sep = \" \")\n",
        "rownames(clientes) = index\n",
        "head(clientes)"
      ]
    },
    {
      "cell_type": "markdown",
      "metadata": {
        "id": "aKUAywU9mcId"
      },
      "source": [
        "<div style=\"background-color:#5DADE2\"><b>Apartado 2</b></div>"
      ]
    },
    {
      "cell_type": "markdown",
      "metadata": {
        "id": "7bnoJBGRmcId"
      },
      "source": [
        "**Linea 1:** Creamos la variable absolutas y le asignamos mediante **table()** que nos entrega la tabla de frecuencias absolutas, en este caso para la columna Satisfaccion.  \n",
        "**Linea 2:** Mostramos nuestra tabla de frecuencias absolutas"
      ]
    },
    {
      "cell_type": "code",
      "execution_count": null,
      "metadata": {
        "id": "YRhFAxjEmcIe",
        "outputId": "4ec62fbf-3ef4-48e4-e042-50465ad783fe",
        "scrolled": false,
        "vscode": {
          "languageId": "r"
        }
      },
      "outputs": [
        {
          "data": {
            "text/plain": [
              "\n",
              " 3  4  5 \n",
              " 8 13  9 "
            ]
          },
          "metadata": {},
          "output_type": "display_data"
        }
      ],
      "source": [
        "absolutas = table(clientes$Satisfaccion)\n",
        "absolutas"
      ]
    },
    {
      "cell_type": "markdown",
      "metadata": {
        "id": "LvsneZX-mcIe"
      },
      "source": [
        "**Interpretacion:** Podemos observar en la tabla que este indicador se concentra en torno a 3 valores siendo 4 el mas comun con 13 observaciones y 3 el menos comun con 8 observaciones."
      ]
    },
    {
      "cell_type": "markdown",
      "metadata": {
        "id": "CJikVMXumcIe"
      },
      "source": [
        "**Linea 1:** Creamos la variable relativas y le asignamos mediante **prop.table()** esta devuelve la tabla de frecuencias relativas, en este caso para la columna Satisfaccion.  \n",
        "**Linea 2:** Mostramos nuestra tabla de frecuencias relativas."
      ]
    },
    {
      "cell_type": "code",
      "execution_count": null,
      "metadata": {
        "id": "rgED3a1vmcIe",
        "outputId": "fedb51cd-a10d-4cad-ea6d-37e48ee03b58",
        "scrolled": false,
        "vscode": {
          "languageId": "r"
        }
      },
      "outputs": [
        {
          "data": {
            "text/plain": [
              "\n",
              "        3         4         5 \n",
              "0.2666667 0.4333333 0.3000000 "
            ]
          },
          "metadata": {},
          "output_type": "display_data"
        }
      ],
      "source": [
        "relativas = prop.table(table(clientes$Satisfaccion))\n",
        "relativas"
      ]
    },
    {
      "cell_type": "markdown",
      "metadata": {
        "id": "8fzVeeM2mcIf"
      },
      "source": [
        "**Interpretacion:** Con esta tabla confirmamos lo visto en la tabla anterior sumando que el valor 4 ocupa el *43.33%* de las observaciones mientras que el valor 3 solo lo hace con el *26.67%* haciendo mas evidente la diferencia entre ambos"
      ]
    },
    {
      "cell_type": "markdown",
      "metadata": {
        "id": "BWNohG7pmcIf"
      },
      "source": [
        "<div style=\"background-color:#5DADE2\"><b>Apartado 3</b></div>"
      ]
    },
    {
      "cell_type": "markdown",
      "metadata": {
        "id": "qlS5QbrhmcIf"
      },
      "source": [
        "**Linea 1:** Procedemos a generar nuestra tabla de frecuencias absolutas con las tres columnas restantes y la asignamos a la variable *frecuencias_relativas* para esto usamos la funcion **ftable()** y le pasamos como argumentos las columnas a usar. ***Resultando en una tabla bastante dificil de entender***"
      ]
    },
    {
      "cell_type": "code",
      "execution_count": null,
      "metadata": {
        "id": "efcdolDUmcIf",
        "outputId": "355db2e2-ecfa-42cd-8e4b-de444c2d408f",
        "vscode": {
          "languageId": "r"
        }
      },
      "outputs": [
        {
          "data": {
            "text/plain": [
              "                             Gasto 1.6 1.7 1.8 1.9 2.1 2.2 2.3 2.4 2.5 2.6 2.7 2.8 2.9 3 3.1 3.2 3.3 3.4 3.5 3.6\n",
              "TiempoCliente IngresoMensual                                                                                    \n",
              "2             2.6                    1   0   0   0   0   0   0   0   0   0   0   0   0 0   0   0   0   0   0   0\n",
              "              2.7                    0   0   0   0   0   0   0   0   0   0   0   0   0 0   0   0   0   0   0   0\n",
              "              2.8                    0   0   0   0   0   0   0   0   0   0   0   0   0 0   0   0   0   0   0   0\n",
              "              2.9                    0   0   0   0   0   0   0   0   0   0   0   0   0 0   0   0   0   0   0   0\n",
              "              3                      0   0   0   0   0   0   0   0   0   0   0   0   0 0   0   0   0   0   0   0\n",
              "              3.1                    0   0   0   0   0   0   0   0   0   0   0   0   0 0   0   0   0   0   0   0\n",
              "              3.2                    0   0   0   0   0   0   0   0   0   0   0   0   0 0   0   0   0   0   0   0\n",
              "              3.3                    0   0   0   0   0   0   0   0   0   0   0   0   0 0   0   0   0   0   0   0\n",
              "              3.4                    0   0   0   0   0   0   0   0   0   0   0   0   0 0   0   0   0   0   0   0\n",
              "              3.5                    0   0   0   0   0   0   0   0   0   0   0   0   0 0   0   0   0   0   0   0\n",
              "              3.6                    0   0   0   0   0   0   0   0   0   0   0   0   0 0   0   0   0   0   0   0\n",
              "              3.7                    0   0   0   0   0   0   0   0   0   0   0   0   0 0   0   0   0   0   0   0\n",
              "              3.8                    0   0   0   0   0   0   0   0   0   0   0   0   0 0   0   0   0   0   0   0\n",
              "              3.9                    0   0   0   0   0   0   0   0   0   0   0   0   0 0   0   0   0   0   0   0\n",
              "              4                      0   0   0   0   0   0   0   0   0   0   0   0   0 0   0   0   0   0   0   0\n",
              "              4.1                    0   0   0   0   0   0   0   0   0   0   0   0   0 0   0   0   0   0   0   0\n",
              "              4.2                    0   0   0   0   0   0   0   0   0   0   0   0   0 0   0   0   0   0   0   0\n",
              "              4.3                    0   0   0   0   0   0   0   0   0   0   0   0   0 0   0   0   0   0   0   0\n",
              "              4.4                    0   0   0   0   0   0   0   0   0   0   0   0   0 0   0   0   0   0   0   0\n",
              "              4.5                    0   0   0   0   0   0   0   0   0   0   0   0   0 0   0   0   0   0   0   0\n",
              "              4.6                    0   0   0   0   0   0   0   0   0   0   0   0   0 0   0   0   0   0   0   0\n",
              "              4.7                    0   0   0   0   0   0   0   0   0   0   0   0   0 0   0   0   0   0   0   0\n",
              "              4.8                    0   0   0   0   0   0   0   0   0   0   0   0   0 0   0   0   0   0   0   0\n",
              "              5                      0   0   0   0   0   0   0   0   0   0   0   0   0 0   0   0   0   0   0   0\n",
              "              5.1                    0   0   0   0   0   0   0   0   0   0   0   0   0 0   0   0   0   0   0   0\n",
              "3             2.6                    0   0   0   0   0   0   0   0   0   0   0   0   0 0   0   0   0   0   0   0\n",
              "              2.7                    0   1   0   0   0   0   0   0   0   0   0   0   0 0   0   0   0   0   0   0\n",
              "              2.8                    0   0   2   0   0   0   0   0   0   0   0   0   0 0   0   0   0   0   0   0\n",
              "              2.9                    0   0   0   1   0   0   0   0   0   0   0   0   0 0   0   0   0   0   0   0\n",
              "              3                      0   0   0   0   1   0   0   0   0   0   0   0   0 0   0   0   0   0   0   0\n",
              "              3.1                    0   0   0   0   0   0   0   0   0   0   0   0   0 0   0   0   0   0   0   0\n",
              "              3.2                    0   0   0   0   0   0   0   0   0   0   0   0   0 0   0   0   0   0   0   0\n",
              "              3.3                    0   0   0   0   0   0   0   0   0   0   0   0   0 0   0   0   0   0   0   0\n",
              "              3.4                    0   0   0   0   0   0   0   0   0   0   0   0   0 0   0   0   0   0   0   0\n",
              "              3.5                    0   0   0   0   0   0   0   0   0   0   0   0   0 0   0   0   0   0   0   0\n",
              "              3.6                    0   0   0   0   0   0   0   0   0   0   0   0   0 0   0   0   0   0   0   0\n",
              "              3.7                    0   0   0   0   0   0   0   0   0   0   0   0   0 0   0   0   0   0   0   0\n",
              "              3.8                    0   0   0   0   0   0   0   0   0   0   0   0   0 0   0   0   0   0   0   0\n",
              "              3.9                    0   0   0   0   0   0   0   0   0   0   0   0   0 0   0   0   0   0   0   0\n",
              "              4                      0   0   0   0   0   0   0   0   0   0   0   0   0 0   0   0   0   0   0   0\n",
              "              4.1                    0   0   0   0   0   0   0   0   0   0   0   0   0 0   0   0   0   0   0   0\n",
              "              4.2                    0   0   0   0   0   0   0   0   0   0   0   0   0 0   0   0   0   0   0   0\n",
              "              4.3                    0   0   0   0   0   0   0   0   0   0   0   0   0 0   0   0   0   0   0   0\n",
              "              4.4                    0   0   0   0   0   0   0   0   0   0   0   0   0 0   0   0   0   0   0   0\n",
              "              4.5                    0   0   0   0   0   0   0   0   0   0   0   0   0 0   0   0   0   0   0   0\n",
              "              4.6                    0   0   0   0   0   0   0   0   0   0   0   0   0 0   0   0   0   0   0   0\n",
              "              4.7                    0   0   0   0   0   0   0   0   0   0   0   0   0 0   0   0   0   0   0   0\n",
              "              4.8                    0   0   0   0   0   0   0   0   0   0   0   0   0 0   0   0   0   0   0   0\n",
              "              5                      0   0   0   0   0   0   0   0   0   0   0   0   0 0   0   0   0   0   0   0\n",
              "              5.1                    0   0   0   0   0   0   0   0   0   0   0   0   0 0   0   0   0   0   0   0\n",
              "4             2.6                    0   0   0   0   0   0   0   0   0   0   0   0   0 0   0   0   0   0   0   0\n",
              "              2.7                    0   0   0   0   0   0   0   0   0   0   0   0   0 0   0   0   0   0   0   0\n",
              "              2.8                    0   0   0   0   0   0   0   0   0   0   0   0   0 0   0   0   0   0   0   0\n",
              "              2.9                    0   0   0   0   0   0   0   0   0   0   0   0   0 0   0   0   0   0   0   0\n",
              "              3                      0   0   0   0   0   0   0   0   0   0   0   0   0 0   0   0   0   0   0   0\n",
              "              3.1                    0   0   0   0   0   1   0   0   0   0   0   0   0 0   0   0   0   0   0   0\n",
              "              3.2                    0   0   0   0   0   0   0   0   0   0   0   0   0 0   0   0   0   0   0   0\n",
              "              3.3                    0   0   0   0   0   0   1   1   0   0   0   0   0 0   0   0   0   0   0   0\n",
              "              3.4                    0   0   0   0   0   0   0   0   1   0   0   0   0 0   0   0   0   0   0   0\n",
              "              3.5                    0   0   0   0   0   0   0   0   0   1   0   0   0 0   0   0   0   0   0   0\n",
              "              3.6                    0   0   0   0   0   0   0   0   0   0   1   0   0 0   0   0   0   0   0   0\n",
              "              3.7                    0   0   0   0   0   0   0   0   0   0   0   0   0 0   0   0   0   0   0   0\n",
              "              3.8                    0   0   0   0   0   0   0   0   0   0   0   0   0 0   0   0   0   0   0   0\n",
              "              3.9                    0   0   0   0   0   0   0   0   0   0   0   0   0 0   0   0   0   0   0   0\n",
              "              4                      0   0   0   0   0   0   0   0   0   0   0   0   0 0   0   0   0   0   0   0\n",
              "              4.1                    0   0   0   0   0   0   0   0   0   0   0   0   0 0   0   0   0   0   0   0\n",
              "              4.2                    0   0   0   0   0   0   0   0   0   0   0   0   0 0   0   0   0   0   0   0\n",
              "              4.3                    0   0   0   0   0   0   0   0   0   0   0   0   0 0   0   0   0   0   0   0\n",
              "              4.4                    0   0   0   0   0   0   0   0   0   0   0   0   0 0   0   0   0   0   0   0\n",
              "              4.5                    0   0   0   0   0   0   0   0   0   0   0   0   0 0   0   0   0   0   0   0\n",
              "              4.6                    0   0   0   0   0   0   0   0   0   0   0   0   0 0   0   0   0   0   0   0\n",
              "              4.7                    0   0   0   0   0   0   0   0   0   0   0   0   0 0   0   0   0   0   0   0\n",
              "              4.8                    0   0   0   0   0   0   0   0   0   0   0   0   0 0   0   0   0   0   0   0\n",
              "              5                      0   0   0   0   0   0   0   0   0   0   0   0   0 0   0   0   0   0   0   0\n",
              "              5.1                    0   0   0   0   0   0   0   0   0   0   0   0   0 0   0   0   0   0   0   0\n",
              "5             2.6                    0   0   0   0   0   0   0   0   0   0   0   0   0 0   0   0   0   0   0   0\n",
              "              2.7                    0   0   0   0   0   0   0   0   0   0   0   0   0 0   0   0   0   0   0   0\n",
              "              2.8                    0   0   0   0   0   0   0   0   0   0   0   0   0 0   0   0   0   0   0   0\n",
              "              2.9                    0   0   0   0   0   0   0   0   0   0   0   0   0 0   0   0   0   0   0   0\n",
              "              3                      0   0   0   0   0   0   0   0   0   0   0   0   0 0   0   0   0   0   0   0\n",
              "              3.1                    0   0   0   0   0   0   0   0   0   0   0   0   0 0   0   0   0   0   0   0\n",
              "              3.2                    0   0   0   0   0   0   0   1   1   0   0   0   0 0   0   0   0   0   0   0\n",
              "              3.3                    0   0   0   0   0   0   0   0   0   0   0   0   0 0   0   0   0   0   0   0\n",
              "              3.4                    0   0   0   0   0   0   0   0   0   0   0   0   0 0   0   0   0   0   0   0\n",
              "              3.5                    0   0   0   0   0   0   0   0   0   1   0   0   0 0   0   0   0   0   0   0\n",
              "              3.6                    0   0   0   0   0   0   0   0   0   0   0   0   0 0   0   0   0   0   0   0\n",
              "              3.7                    0   0   0   0   0   0   0   0   0   0   0   1   0 0   0   0   0   0   0   0\n",
              "              3.8                    0   0   0   0   0   0   0   0   0   0   0   1   0 0   0   0   0   0   0   0\n",
              "              3.9                    0   0   0   0   0   0   0   0   0   0   0   0   1 0   0   0   0   0   0   0\n",
              "              4                      0   0   0   0   0   0   0   0   0   0   0   0   0 0   0   0   0   0   0   0\n",
              "              4.1                    0   0   0   0   0   0   0   0   0   0   0   0   0 0   0   0   0   0   0   0\n",
              "              4.2                    0   0   0   0   0   0   0   0   0   0   0   0   0 0   0   0   0   0   0   0\n",
              "              4.3                    0   0   0   0   0   0   0   0   0   0   0   0   0 0   0   0   0   0   0   0\n",
              "              4.4                    0   0   0   0   0   0   0   0   0   0   0   0   0 0   0   0   0   0   0   0\n",
              "              4.5                    0   0   0   0   0   0   0   0   0   0   0   0   0 0   0   0   0   0   0   0\n",
              "              4.6                    0   0   0   0   0   0   0   0   0   0   0   0   0 0   0   0   0   0   0   0\n",
              "              4.7                    0   0   0   0   0   0   0   0   0   0   0   0   0 0   0   0   0   0   0   0\n",
              "              4.8                    0   0   0   0   0   0   0   0   0   0   0   0   0 0   0   0   0   0   0   0\n",
              "              5                      0   0   0   0   0   0   0   0   0   0   0   0   0 0   0   0   0   0   0   0\n",
              "              5.1                    0   0   0   0   0   0   0   0   0   0   0   0   0 0   0   0   0   0   0   0\n",
              "6             2.6                    0   0   0   0   0   0   0   0   0   0   0   0   0 0   0   0   0   0   0   0\n",
              "              2.7                    0   0   0   0   0   0   0   0   0   0   0   0   0 0   0   0   0   0   0   0\n",
              "              2.8                    0   0   0   0   0   0   0   0   0   0   0   0   0 0   0   0   0   0   0   0\n",
              "              2.9                    0   0   0   0   0   0   0   0   0   0   0   0   0 0   0   0   0   0   0   0\n",
              "              3                      0   0   0   0   0   0   0   0   0   0   0   0   0 0   0   0   0   0   0   0\n",
              "              3.1                    0   0   0   0   0   0   0   0   0   0   0   0   0 0   0   0   0   0   0   0\n",
              "              3.2                    0   0   0   0   0   0   0   0   0   0   0   0   0 0   0   0   0   0   0   0\n",
              "              3.3                    0   0   0   0   0   0   0   0   0   0   0   0   0 0   0   0   0   0   0   0\n",
              "              3.4                    0   0   0   0   0   0   0   0   0   0   0   0   0 0   0   0   0   0   0   0\n",
              "              3.5                    0   0   0   0   0   0   0   0   0   0   0   0   0 0   0   0   0   0   0   0\n",
              "              3.6                    0   0   0   0   0   0   0   0   0   0   0   0   0 0   0   0   0   0   0   0\n",
              "              3.7                    0   0   0   0   0   0   0   0   0   0   0   0   0 0   0   0   0   0   0   0\n",
              "              3.8                    0   0   0   0   0   0   0   0   0   0   0   0   0 0   0   0   0   0   0   0\n",
              "              3.9                    0   0   0   0   0   0   0   0   0   0   0   0   0 0   0   0   0   0   0   0\n",
              "              4                      0   0   0   0   0   0   0   0   0   0   0   0   1 0   0   0   0   0   0   0\n",
              "              4.1                    0   0   0   0   0   0   0   0   0   0   0   0   0 1   0   0   0   0   0   0\n",
              "              4.2                    0   0   0   0   0   0   0   0   0   0   0   0   0 0   0   1   0   0   0   0\n",
              "              4.3                    0   0   0   0   0   0   0   0   0   0   0   0   0 0   0   1   0   0   0   0\n",
              "              4.4                    0   0   0   0   0   0   0   0   0   0   0   0   0 0   0   0   1   0   0   0\n",
              "              4.5                    0   0   0   0   0   0   0   0   0   0   0   0   0 0   0   0   0   0   0   0\n",
              "              4.6                    0   0   0   0   0   0   0   0   0   0   0   0   0 0   0   0   0   0   0   0\n",
              "              4.7                    0   0   0   0   0   0   0   0   0   0   0   0   0 0   0   0   0   0   0   0\n",
              "              4.8                    0   0   0   0   0   0   0   0   0   0   0   0   0 0   0   0   0   0   0   0\n",
              "              5                      0   0   0   0   0   0   0   0   0   0   0   0   0 0   0   0   0   0   0   0\n",
              "              5.1                    0   0   0   0   0   0   0   0   0   0   0   0   0 0   0   0   0   0   0   0\n",
              "7             2.6                    0   0   0   0   0   0   0   0   0   0   0   0   0 0   0   0   0   0   0   0\n",
              "              2.7                    0   0   0   0   0   0   0   0   0   0   0   0   0 0   0   0   0   0   0   0\n",
              "              2.8                    0   0   0   0   0   0   0   0   0   0   0   0   0 0   0   0   0   0   0   0\n",
              "              2.9                    0   0   0   0   0   0   0   0   0   0   0   0   0 0   0   0   0   0   0   0\n",
              "              3                      0   0   0   0   0   0   0   0   0   0   0   0   0 0   0   0   0   0   0   0\n",
              "              3.1                    0   0   0   0   0   0   0   0   0   0   0   0   0 0   0   0   0   0   0   0\n",
              "              3.2                    0   0   0   0   0   0   0   0   0   0   0   0   0 0   0   0   0   0   0   0\n",
              "              3.3                    0   0   0   0   0   0   0   0   0   0   0   0   0 0   0   0   0   0   0   0\n",
              "              3.4                    0   0   0   0   0   0   0   0   0   0   0   0   0 0   0   0   0   0   0   0\n",
              "              3.5                    0   0   0   0   0   0   0   0   0   0   0   0   0 0   0   0   0   0   0   0\n",
              "              3.6                    0   0   0   0   0   0   0   0   0   0   0   0   0 0   0   0   0   0   0   0\n",
              "              3.7                    0   0   0   0   0   0   0   0   0   0   0   0   0 0   0   0   0   0   0   0\n",
              "              3.8                    0   0   0   0   0   0   0   0   0   0   0   0   0 0   0   0   0   0   0   0\n",
              "              3.9                    0   0   0   0   0   0   0   0   0   0   0   0   0 0   0   0   0   0   0   0\n",
              "              4                      0   0   0   0   0   0   0   0   0   0   0   0   0 0   0   0   0   0   0   0\n",
              "              4.1                    0   0   0   0   0   0   0   0   0   0   0   0   0 0   1   0   0   0   0   0\n",
              "              4.2                    0   0   0   0   0   0   0   0   0   0   0   0   0 0   0   0   0   0   0   0\n",
              "              4.3                    0   0   0   0   0   0   0   0   0   0   0   0   0 0   0   0   0   0   0   0\n",
              "              4.4                    0   0   0   0   0   0   0   0   0   0   0   0   0 0   0   0   0   0   0   0\n",
              "              4.5                    0   0   0   0   0   0   0   0   0   0   0   0   0 1   0   0   0   0   0   0\n",
              "              4.6                    0   0   0   0   0   0   0   0   0   0   0   0   0 0   0   1   0   0   0   0\n",
              "              4.7                    0   0   0   0   0   0   0   0   0   0   0   0   0 0   0   0   1   0   0   0\n",
              "              4.8                    0   0   0   0   0   0   0   0   0   0   0   0   0 0   0   0   0   1   0   0\n",
              "              5                      0   0   0   0   0   0   0   0   0   0   0   0   0 0   0   0   0   0   0   0\n",
              "              5.1                    0   0   0   0   0   0   0   0   0   0   0   0   0 0   0   0   0   0   0   0\n",
              "8             2.6                    0   0   0   0   0   0   0   0   0   0   0   0   0 0   0   0   0   0   0   0\n",
              "              2.7                    0   0   0   0   0   0   0   0   0   0   0   0   0 0   0   0   0   0   0   0\n",
              "              2.8                    0   0   0   0   0   0   0   0   0   0   0   0   0 0   0   0   0   0   0   0\n",
              "              2.9                    0   0   0   0   0   0   0   0   0   0   0   0   0 0   0   0   0   0   0   0\n",
              "              3                      0   0   0   0   0   0   0   0   0   0   0   0   0 0   0   0   0   0   0   0\n",
              "              3.1                    0   0   0   0   0   0   0   0   0   0   0   0   0 0   0   0   0   0   0   0\n",
              "              3.2                    0   0   0   0   0   0   0   0   0   0   0   0   0 0   0   0   0   0   0   0\n",
              "              3.3                    0   0   0   0   0   0   0   0   0   0   0   0   0 0   0   0   0   0   0   0\n",
              "              3.4                    0   0   0   0   0   0   0   0   0   0   0   0   0 0   0   0   0   0   0   0\n",
              "              3.5                    0   0   0   0   0   0   0   0   0   0   0   0   0 0   0   0   0   0   0   0\n",
              "              3.6                    0   0   0   0   0   0   0   0   0   0   0   0   0 0   0   0   0   0   0   0\n",
              "              3.7                    0   0   0   0   0   0   0   0   0   0   0   0   0 0   0   0   0   0   0   0\n",
              "              3.8                    0   0   0   0   0   0   0   0   0   0   0   0   0 0   0   0   0   0   0   0\n",
              "              3.9                    0   0   0   0   0   0   0   0   0   0   0   0   0 0   0   0   0   0   0   0\n",
              "              4                      0   0   0   0   0   0   0   0   0   0   0   0   0 0   0   0   0   0   0   0\n",
              "              4.1                    0   0   0   0   0   0   0   0   0   0   0   0   0 0   0   0   0   0   0   0\n",
              "              4.2                    0   0   0   0   0   0   0   0   0   0   0   0   0 0   0   0   0   0   0   0\n",
              "              4.3                    0   0   0   0   0   0   0   0   0   0   0   0   0 0   0   0   0   0   0   0\n",
              "              4.4                    0   0   0   0   0   0   0   0   0   0   0   0   0 0   0   0   0   0   0   0\n",
              "              4.5                    0   0   0   0   0   0   0   0   0   0   0   0   0 0   0   0   0   0   0   0\n",
              "              4.6                    0   0   0   0   0   0   0   0   0   0   0   0   0 0   0   0   0   0   0   0\n",
              "              4.7                    0   0   0   0   0   0   0   0   0   0   0   0   0 0   0   0   0   0   0   0\n",
              "              4.8                    0   0   0   0   0   0   0   0   0   0   0   0   0 0   0   0   0   0   0   0\n",
              "              5                      0   0   0   0   0   0   0   0   0   0   0   0   0 0   0   0   0   0   1   0\n",
              "              5.1                    0   0   0   0   0   0   0   0   0   0   0   0   0 0   0   0   0   0   0   1"
            ]
          },
          "metadata": {},
          "output_type": "display_data"
        }
      ],
      "source": [
        "ftable(TiempoCliente,IngresoMensual,Gasto)"
      ]
    },
    {
      "cell_type": "markdown",
      "metadata": {
        "id": "6jQ6NCb4mcIf"
      },
      "source": [
        "**Linea 1:** De igual manera que en el ejercicio anterior usamos las columnas restantes para obtener en este caso una tabla de frecuencias relativas con la funcion **prop.table()** a la cual le pasamos como argumento la tabla de frecuencias relativas, de igual manera resulta una tabla bastante complicada de entender."
      ]
    },
    {
      "cell_type": "code",
      "execution_count": null,
      "metadata": {
        "id": "-GRba_K-mcIg",
        "outputId": "282b5871-7c30-42ac-d132-0a56d563a169",
        "vscode": {
          "languageId": "r"
        }
      },
      "outputs": [
        {
          "data": {
            "text/plain": [
              "                     TiempoCliente          2          3          4          5          6          7          8\n",
              "IngresoMensual Gasto                                                                                           \n",
              "2.6            1.6                 0.03333333 0.00000000 0.00000000 0.00000000 0.00000000 0.00000000 0.00000000\n",
              "               1.7                 0.00000000 0.00000000 0.00000000 0.00000000 0.00000000 0.00000000 0.00000000\n",
              "               1.8                 0.00000000 0.00000000 0.00000000 0.00000000 0.00000000 0.00000000 0.00000000\n",
              "               1.9                 0.00000000 0.00000000 0.00000000 0.00000000 0.00000000 0.00000000 0.00000000\n",
              "               2.1                 0.00000000 0.00000000 0.00000000 0.00000000 0.00000000 0.00000000 0.00000000\n",
              "               2.2                 0.00000000 0.00000000 0.00000000 0.00000000 0.00000000 0.00000000 0.00000000\n",
              "               2.3                 0.00000000 0.00000000 0.00000000 0.00000000 0.00000000 0.00000000 0.00000000\n",
              "               2.4                 0.00000000 0.00000000 0.00000000 0.00000000 0.00000000 0.00000000 0.00000000\n",
              "               2.5                 0.00000000 0.00000000 0.00000000 0.00000000 0.00000000 0.00000000 0.00000000\n",
              "               2.6                 0.00000000 0.00000000 0.00000000 0.00000000 0.00000000 0.00000000 0.00000000\n",
              "               2.7                 0.00000000 0.00000000 0.00000000 0.00000000 0.00000000 0.00000000 0.00000000\n",
              "               2.8                 0.00000000 0.00000000 0.00000000 0.00000000 0.00000000 0.00000000 0.00000000\n",
              "               2.9                 0.00000000 0.00000000 0.00000000 0.00000000 0.00000000 0.00000000 0.00000000\n",
              "               3                   0.00000000 0.00000000 0.00000000 0.00000000 0.00000000 0.00000000 0.00000000\n",
              "               3.1                 0.00000000 0.00000000 0.00000000 0.00000000 0.00000000 0.00000000 0.00000000\n",
              "               3.2                 0.00000000 0.00000000 0.00000000 0.00000000 0.00000000 0.00000000 0.00000000\n",
              "               3.3                 0.00000000 0.00000000 0.00000000 0.00000000 0.00000000 0.00000000 0.00000000\n",
              "               3.4                 0.00000000 0.00000000 0.00000000 0.00000000 0.00000000 0.00000000 0.00000000\n",
              "               3.5                 0.00000000 0.00000000 0.00000000 0.00000000 0.00000000 0.00000000 0.00000000\n",
              "               3.6                 0.00000000 0.00000000 0.00000000 0.00000000 0.00000000 0.00000000 0.00000000\n",
              "2.7            1.6                 0.00000000 0.00000000 0.00000000 0.00000000 0.00000000 0.00000000 0.00000000\n",
              "               1.7                 0.00000000 0.03333333 0.00000000 0.00000000 0.00000000 0.00000000 0.00000000\n",
              "               1.8                 0.00000000 0.00000000 0.00000000 0.00000000 0.00000000 0.00000000 0.00000000\n",
              "               1.9                 0.00000000 0.00000000 0.00000000 0.00000000 0.00000000 0.00000000 0.00000000\n",
              "               2.1                 0.00000000 0.00000000 0.00000000 0.00000000 0.00000000 0.00000000 0.00000000\n",
              "               2.2                 0.00000000 0.00000000 0.00000000 0.00000000 0.00000000 0.00000000 0.00000000\n",
              "               2.3                 0.00000000 0.00000000 0.00000000 0.00000000 0.00000000 0.00000000 0.00000000\n",
              "               2.4                 0.00000000 0.00000000 0.00000000 0.00000000 0.00000000 0.00000000 0.00000000\n",
              "               2.5                 0.00000000 0.00000000 0.00000000 0.00000000 0.00000000 0.00000000 0.00000000\n",
              "               2.6                 0.00000000 0.00000000 0.00000000 0.00000000 0.00000000 0.00000000 0.00000000\n",
              "               2.7                 0.00000000 0.00000000 0.00000000 0.00000000 0.00000000 0.00000000 0.00000000\n",
              "               2.8                 0.00000000 0.00000000 0.00000000 0.00000000 0.00000000 0.00000000 0.00000000\n",
              "               2.9                 0.00000000 0.00000000 0.00000000 0.00000000 0.00000000 0.00000000 0.00000000\n",
              "               3                   0.00000000 0.00000000 0.00000000 0.00000000 0.00000000 0.00000000 0.00000000\n",
              "               3.1                 0.00000000 0.00000000 0.00000000 0.00000000 0.00000000 0.00000000 0.00000000\n",
              "               3.2                 0.00000000 0.00000000 0.00000000 0.00000000 0.00000000 0.00000000 0.00000000\n",
              "               3.3                 0.00000000 0.00000000 0.00000000 0.00000000 0.00000000 0.00000000 0.00000000\n",
              "               3.4                 0.00000000 0.00000000 0.00000000 0.00000000 0.00000000 0.00000000 0.00000000\n",
              "               3.5                 0.00000000 0.00000000 0.00000000 0.00000000 0.00000000 0.00000000 0.00000000\n",
              "               3.6                 0.00000000 0.00000000 0.00000000 0.00000000 0.00000000 0.00000000 0.00000000\n",
              "2.8            1.6                 0.00000000 0.00000000 0.00000000 0.00000000 0.00000000 0.00000000 0.00000000\n",
              "               1.7                 0.00000000 0.00000000 0.00000000 0.00000000 0.00000000 0.00000000 0.00000000\n",
              "               1.8                 0.00000000 0.06666667 0.00000000 0.00000000 0.00000000 0.00000000 0.00000000\n",
              "               1.9                 0.00000000 0.00000000 0.00000000 0.00000000 0.00000000 0.00000000 0.00000000\n",
              "               2.1                 0.00000000 0.00000000 0.00000000 0.00000000 0.00000000 0.00000000 0.00000000\n",
              "               2.2                 0.00000000 0.00000000 0.00000000 0.00000000 0.00000000 0.00000000 0.00000000\n",
              "               2.3                 0.00000000 0.00000000 0.00000000 0.00000000 0.00000000 0.00000000 0.00000000\n",
              "               2.4                 0.00000000 0.00000000 0.00000000 0.00000000 0.00000000 0.00000000 0.00000000\n",
              "               2.5                 0.00000000 0.00000000 0.00000000 0.00000000 0.00000000 0.00000000 0.00000000\n",
              "               2.6                 0.00000000 0.00000000 0.00000000 0.00000000 0.00000000 0.00000000 0.00000000\n",
              "               2.7                 0.00000000 0.00000000 0.00000000 0.00000000 0.00000000 0.00000000 0.00000000\n",
              "               2.8                 0.00000000 0.00000000 0.00000000 0.00000000 0.00000000 0.00000000 0.00000000\n",
              "               2.9                 0.00000000 0.00000000 0.00000000 0.00000000 0.00000000 0.00000000 0.00000000\n",
              "               3                   0.00000000 0.00000000 0.00000000 0.00000000 0.00000000 0.00000000 0.00000000\n",
              "               3.1                 0.00000000 0.00000000 0.00000000 0.00000000 0.00000000 0.00000000 0.00000000\n",
              "               3.2                 0.00000000 0.00000000 0.00000000 0.00000000 0.00000000 0.00000000 0.00000000\n",
              "               3.3                 0.00000000 0.00000000 0.00000000 0.00000000 0.00000000 0.00000000 0.00000000\n",
              "               3.4                 0.00000000 0.00000000 0.00000000 0.00000000 0.00000000 0.00000000 0.00000000\n",
              "               3.5                 0.00000000 0.00000000 0.00000000 0.00000000 0.00000000 0.00000000 0.00000000\n",
              "               3.6                 0.00000000 0.00000000 0.00000000 0.00000000 0.00000000 0.00000000 0.00000000\n",
              "2.9            1.6                 0.00000000 0.00000000 0.00000000 0.00000000 0.00000000 0.00000000 0.00000000\n",
              "               1.7                 0.00000000 0.00000000 0.00000000 0.00000000 0.00000000 0.00000000 0.00000000\n",
              "               1.8                 0.00000000 0.00000000 0.00000000 0.00000000 0.00000000 0.00000000 0.00000000\n",
              "               1.9                 0.00000000 0.03333333 0.00000000 0.00000000 0.00000000 0.00000000 0.00000000\n",
              "               2.1                 0.00000000 0.00000000 0.00000000 0.00000000 0.00000000 0.00000000 0.00000000\n",
              "               2.2                 0.00000000 0.00000000 0.00000000 0.00000000 0.00000000 0.00000000 0.00000000\n",
              "               2.3                 0.00000000 0.00000000 0.00000000 0.00000000 0.00000000 0.00000000 0.00000000\n",
              "               2.4                 0.00000000 0.00000000 0.00000000 0.00000000 0.00000000 0.00000000 0.00000000\n",
              "               2.5                 0.00000000 0.00000000 0.00000000 0.00000000 0.00000000 0.00000000 0.00000000\n",
              "               2.6                 0.00000000 0.00000000 0.00000000 0.00000000 0.00000000 0.00000000 0.00000000\n",
              "               2.7                 0.00000000 0.00000000 0.00000000 0.00000000 0.00000000 0.00000000 0.00000000\n",
              "               2.8                 0.00000000 0.00000000 0.00000000 0.00000000 0.00000000 0.00000000 0.00000000\n",
              "               2.9                 0.00000000 0.00000000 0.00000000 0.00000000 0.00000000 0.00000000 0.00000000\n",
              "               3                   0.00000000 0.00000000 0.00000000 0.00000000 0.00000000 0.00000000 0.00000000\n",
              "               3.1                 0.00000000 0.00000000 0.00000000 0.00000000 0.00000000 0.00000000 0.00000000\n",
              "               3.2                 0.00000000 0.00000000 0.00000000 0.00000000 0.00000000 0.00000000 0.00000000\n",
              "               3.3                 0.00000000 0.00000000 0.00000000 0.00000000 0.00000000 0.00000000 0.00000000\n",
              "               3.4                 0.00000000 0.00000000 0.00000000 0.00000000 0.00000000 0.00000000 0.00000000\n",
              "               3.5                 0.00000000 0.00000000 0.00000000 0.00000000 0.00000000 0.00000000 0.00000000\n",
              "               3.6                 0.00000000 0.00000000 0.00000000 0.00000000 0.00000000 0.00000000 0.00000000\n",
              "3              1.6                 0.00000000 0.00000000 0.00000000 0.00000000 0.00000000 0.00000000 0.00000000\n",
              "               1.7                 0.00000000 0.00000000 0.00000000 0.00000000 0.00000000 0.00000000 0.00000000\n",
              "               1.8                 0.00000000 0.00000000 0.00000000 0.00000000 0.00000000 0.00000000 0.00000000\n",
              "               1.9                 0.00000000 0.00000000 0.00000000 0.00000000 0.00000000 0.00000000 0.00000000\n",
              "               2.1                 0.00000000 0.03333333 0.00000000 0.00000000 0.00000000 0.00000000 0.00000000\n",
              "               2.2                 0.00000000 0.00000000 0.00000000 0.00000000 0.00000000 0.00000000 0.00000000\n",
              "               2.3                 0.00000000 0.00000000 0.00000000 0.00000000 0.00000000 0.00000000 0.00000000\n",
              "               2.4                 0.00000000 0.00000000 0.00000000 0.00000000 0.00000000 0.00000000 0.00000000\n",
              "               2.5                 0.00000000 0.00000000 0.00000000 0.00000000 0.00000000 0.00000000 0.00000000\n",
              "               2.6                 0.00000000 0.00000000 0.00000000 0.00000000 0.00000000 0.00000000 0.00000000\n",
              "               2.7                 0.00000000 0.00000000 0.00000000 0.00000000 0.00000000 0.00000000 0.00000000\n",
              "               2.8                 0.00000000 0.00000000 0.00000000 0.00000000 0.00000000 0.00000000 0.00000000\n",
              "               2.9                 0.00000000 0.00000000 0.00000000 0.00000000 0.00000000 0.00000000 0.00000000\n",
              "               3                   0.00000000 0.00000000 0.00000000 0.00000000 0.00000000 0.00000000 0.00000000\n",
              "               3.1                 0.00000000 0.00000000 0.00000000 0.00000000 0.00000000 0.00000000 0.00000000\n",
              "               3.2                 0.00000000 0.00000000 0.00000000 0.00000000 0.00000000 0.00000000 0.00000000\n",
              "               3.3                 0.00000000 0.00000000 0.00000000 0.00000000 0.00000000 0.00000000 0.00000000\n",
              "               3.4                 0.00000000 0.00000000 0.00000000 0.00000000 0.00000000 0.00000000 0.00000000\n",
              "               3.5                 0.00000000 0.00000000 0.00000000 0.00000000 0.00000000 0.00000000 0.00000000\n",
              "               3.6                 0.00000000 0.00000000 0.00000000 0.00000000 0.00000000 0.00000000 0.00000000\n",
              "3.1            1.6                 0.00000000 0.00000000 0.00000000 0.00000000 0.00000000 0.00000000 0.00000000\n",
              "               1.7                 0.00000000 0.00000000 0.00000000 0.00000000 0.00000000 0.00000000 0.00000000\n",
              "               1.8                 0.00000000 0.00000000 0.00000000 0.00000000 0.00000000 0.00000000 0.00000000\n",
              "               1.9                 0.00000000 0.00000000 0.00000000 0.00000000 0.00000000 0.00000000 0.00000000\n",
              "               2.1                 0.00000000 0.00000000 0.00000000 0.00000000 0.00000000 0.00000000 0.00000000\n",
              "               2.2                 0.00000000 0.00000000 0.03333333 0.00000000 0.00000000 0.00000000 0.00000000\n",
              "               2.3                 0.00000000 0.00000000 0.00000000 0.00000000 0.00000000 0.00000000 0.00000000\n",
              "               2.4                 0.00000000 0.00000000 0.00000000 0.00000000 0.00000000 0.00000000 0.00000000\n",
              "               2.5                 0.00000000 0.00000000 0.00000000 0.00000000 0.00000000 0.00000000 0.00000000\n",
              "               2.6                 0.00000000 0.00000000 0.00000000 0.00000000 0.00000000 0.00000000 0.00000000\n",
              "               2.7                 0.00000000 0.00000000 0.00000000 0.00000000 0.00000000 0.00000000 0.00000000\n",
              "               2.8                 0.00000000 0.00000000 0.00000000 0.00000000 0.00000000 0.00000000 0.00000000\n",
              "               2.9                 0.00000000 0.00000000 0.00000000 0.00000000 0.00000000 0.00000000 0.00000000\n",
              "               3                   0.00000000 0.00000000 0.00000000 0.00000000 0.00000000 0.00000000 0.00000000\n",
              "               3.1                 0.00000000 0.00000000 0.00000000 0.00000000 0.00000000 0.00000000 0.00000000\n",
              "               3.2                 0.00000000 0.00000000 0.00000000 0.00000000 0.00000000 0.00000000 0.00000000\n",
              "               3.3                 0.00000000 0.00000000 0.00000000 0.00000000 0.00000000 0.00000000 0.00000000\n",
              "               3.4                 0.00000000 0.00000000 0.00000000 0.00000000 0.00000000 0.00000000 0.00000000\n",
              "               3.5                 0.00000000 0.00000000 0.00000000 0.00000000 0.00000000 0.00000000 0.00000000\n",
              "               3.6                 0.00000000 0.00000000 0.00000000 0.00000000 0.00000000 0.00000000 0.00000000\n",
              "3.2            1.6                 0.00000000 0.00000000 0.00000000 0.00000000 0.00000000 0.00000000 0.00000000\n",
              "               1.7                 0.00000000 0.00000000 0.00000000 0.00000000 0.00000000 0.00000000 0.00000000\n",
              "               1.8                 0.00000000 0.00000000 0.00000000 0.00000000 0.00000000 0.00000000 0.00000000\n",
              "               1.9                 0.00000000 0.00000000 0.00000000 0.00000000 0.00000000 0.00000000 0.00000000\n",
              "               2.1                 0.00000000 0.00000000 0.00000000 0.00000000 0.00000000 0.00000000 0.00000000\n",
              "               2.2                 0.00000000 0.00000000 0.00000000 0.00000000 0.00000000 0.00000000 0.00000000\n",
              "               2.3                 0.00000000 0.00000000 0.00000000 0.00000000 0.00000000 0.00000000 0.00000000\n",
              "               2.4                 0.00000000 0.00000000 0.00000000 0.03333333 0.00000000 0.00000000 0.00000000\n",
              "               2.5                 0.00000000 0.00000000 0.00000000 0.03333333 0.00000000 0.00000000 0.00000000\n",
              "               2.6                 0.00000000 0.00000000 0.00000000 0.00000000 0.00000000 0.00000000 0.00000000\n",
              "               2.7                 0.00000000 0.00000000 0.00000000 0.00000000 0.00000000 0.00000000 0.00000000\n",
              "               2.8                 0.00000000 0.00000000 0.00000000 0.00000000 0.00000000 0.00000000 0.00000000\n",
              "               2.9                 0.00000000 0.00000000 0.00000000 0.00000000 0.00000000 0.00000000 0.00000000\n",
              "               3                   0.00000000 0.00000000 0.00000000 0.00000000 0.00000000 0.00000000 0.00000000\n",
              "               3.1                 0.00000000 0.00000000 0.00000000 0.00000000 0.00000000 0.00000000 0.00000000\n",
              "               3.2                 0.00000000 0.00000000 0.00000000 0.00000000 0.00000000 0.00000000 0.00000000\n",
              "               3.3                 0.00000000 0.00000000 0.00000000 0.00000000 0.00000000 0.00000000 0.00000000\n",
              "               3.4                 0.00000000 0.00000000 0.00000000 0.00000000 0.00000000 0.00000000 0.00000000\n",
              "               3.5                 0.00000000 0.00000000 0.00000000 0.00000000 0.00000000 0.00000000 0.00000000\n",
              "               3.6                 0.00000000 0.00000000 0.00000000 0.00000000 0.00000000 0.00000000 0.00000000\n",
              "3.3            1.6                 0.00000000 0.00000000 0.00000000 0.00000000 0.00000000 0.00000000 0.00000000\n",
              "               1.7                 0.00000000 0.00000000 0.00000000 0.00000000 0.00000000 0.00000000 0.00000000\n",
              "               1.8                 0.00000000 0.00000000 0.00000000 0.00000000 0.00000000 0.00000000 0.00000000\n",
              "               1.9                 0.00000000 0.00000000 0.00000000 0.00000000 0.00000000 0.00000000 0.00000000\n",
              "               2.1                 0.00000000 0.00000000 0.00000000 0.00000000 0.00000000 0.00000000 0.00000000\n",
              "               2.2                 0.00000000 0.00000000 0.00000000 0.00000000 0.00000000 0.00000000 0.00000000\n",
              "               2.3                 0.00000000 0.00000000 0.03333333 0.00000000 0.00000000 0.00000000 0.00000000\n",
              "               2.4                 0.00000000 0.00000000 0.03333333 0.00000000 0.00000000 0.00000000 0.00000000\n",
              "               2.5                 0.00000000 0.00000000 0.00000000 0.00000000 0.00000000 0.00000000 0.00000000\n",
              "               2.6                 0.00000000 0.00000000 0.00000000 0.00000000 0.00000000 0.00000000 0.00000000\n",
              "               2.7                 0.00000000 0.00000000 0.00000000 0.00000000 0.00000000 0.00000000 0.00000000\n",
              "               2.8                 0.00000000 0.00000000 0.00000000 0.00000000 0.00000000 0.00000000 0.00000000\n",
              "               2.9                 0.00000000 0.00000000 0.00000000 0.00000000 0.00000000 0.00000000 0.00000000\n",
              "               3                   0.00000000 0.00000000 0.00000000 0.00000000 0.00000000 0.00000000 0.00000000\n",
              "               3.1                 0.00000000 0.00000000 0.00000000 0.00000000 0.00000000 0.00000000 0.00000000\n",
              "               3.2                 0.00000000 0.00000000 0.00000000 0.00000000 0.00000000 0.00000000 0.00000000\n",
              "               3.3                 0.00000000 0.00000000 0.00000000 0.00000000 0.00000000 0.00000000 0.00000000\n",
              "               3.4                 0.00000000 0.00000000 0.00000000 0.00000000 0.00000000 0.00000000 0.00000000\n",
              "               3.5                 0.00000000 0.00000000 0.00000000 0.00000000 0.00000000 0.00000000 0.00000000\n",
              "               3.6                 0.00000000 0.00000000 0.00000000 0.00000000 0.00000000 0.00000000 0.00000000\n",
              "3.4            1.6                 0.00000000 0.00000000 0.00000000 0.00000000 0.00000000 0.00000000 0.00000000\n",
              "               1.7                 0.00000000 0.00000000 0.00000000 0.00000000 0.00000000 0.00000000 0.00000000\n",
              "               1.8                 0.00000000 0.00000000 0.00000000 0.00000000 0.00000000 0.00000000 0.00000000\n",
              "               1.9                 0.00000000 0.00000000 0.00000000 0.00000000 0.00000000 0.00000000 0.00000000\n",
              "               2.1                 0.00000000 0.00000000 0.00000000 0.00000000 0.00000000 0.00000000 0.00000000\n",
              "               2.2                 0.00000000 0.00000000 0.00000000 0.00000000 0.00000000 0.00000000 0.00000000\n",
              "               2.3                 0.00000000 0.00000000 0.00000000 0.00000000 0.00000000 0.00000000 0.00000000\n",
              "               2.4                 0.00000000 0.00000000 0.00000000 0.00000000 0.00000000 0.00000000 0.00000000\n",
              "               2.5                 0.00000000 0.00000000 0.03333333 0.00000000 0.00000000 0.00000000 0.00000000\n",
              "               2.6                 0.00000000 0.00000000 0.00000000 0.00000000 0.00000000 0.00000000 0.00000000\n",
              "               2.7                 0.00000000 0.00000000 0.00000000 0.00000000 0.00000000 0.00000000 0.00000000\n",
              "               2.8                 0.00000000 0.00000000 0.00000000 0.00000000 0.00000000 0.00000000 0.00000000\n",
              "               2.9                 0.00000000 0.00000000 0.00000000 0.00000000 0.00000000 0.00000000 0.00000000\n",
              "               3                   0.00000000 0.00000000 0.00000000 0.00000000 0.00000000 0.00000000 0.00000000\n",
              "               3.1                 0.00000000 0.00000000 0.00000000 0.00000000 0.00000000 0.00000000 0.00000000\n",
              "               3.2                 0.00000000 0.00000000 0.00000000 0.00000000 0.00000000 0.00000000 0.00000000\n",
              "               3.3                 0.00000000 0.00000000 0.00000000 0.00000000 0.00000000 0.00000000 0.00000000\n",
              "               3.4                 0.00000000 0.00000000 0.00000000 0.00000000 0.00000000 0.00000000 0.00000000\n",
              "               3.5                 0.00000000 0.00000000 0.00000000 0.00000000 0.00000000 0.00000000 0.00000000\n",
              "               3.6                 0.00000000 0.00000000 0.00000000 0.00000000 0.00000000 0.00000000 0.00000000\n",
              "3.5            1.6                 0.00000000 0.00000000 0.00000000 0.00000000 0.00000000 0.00000000 0.00000000\n",
              "               1.7                 0.00000000 0.00000000 0.00000000 0.00000000 0.00000000 0.00000000 0.00000000\n",
              "               1.8                 0.00000000 0.00000000 0.00000000 0.00000000 0.00000000 0.00000000 0.00000000\n",
              "               1.9                 0.00000000 0.00000000 0.00000000 0.00000000 0.00000000 0.00000000 0.00000000\n",
              "               2.1                 0.00000000 0.00000000 0.00000000 0.00000000 0.00000000 0.00000000 0.00000000\n",
              "               2.2                 0.00000000 0.00000000 0.00000000 0.00000000 0.00000000 0.00000000 0.00000000\n",
              "               2.3                 0.00000000 0.00000000 0.00000000 0.00000000 0.00000000 0.00000000 0.00000000\n",
              "               2.4                 0.00000000 0.00000000 0.00000000 0.00000000 0.00000000 0.00000000 0.00000000\n",
              "               2.5                 0.00000000 0.00000000 0.00000000 0.00000000 0.00000000 0.00000000 0.00000000\n",
              "               2.6                 0.00000000 0.00000000 0.03333333 0.03333333 0.00000000 0.00000000 0.00000000\n",
              "               2.7                 0.00000000 0.00000000 0.00000000 0.00000000 0.00000000 0.00000000 0.00000000\n",
              "               2.8                 0.00000000 0.00000000 0.00000000 0.00000000 0.00000000 0.00000000 0.00000000\n",
              "               2.9                 0.00000000 0.00000000 0.00000000 0.00000000 0.00000000 0.00000000 0.00000000\n",
              "               3                   0.00000000 0.00000000 0.00000000 0.00000000 0.00000000 0.00000000 0.00000000\n",
              "               3.1                 0.00000000 0.00000000 0.00000000 0.00000000 0.00000000 0.00000000 0.00000000\n",
              "               3.2                 0.00000000 0.00000000 0.00000000 0.00000000 0.00000000 0.00000000 0.00000000\n",
              "               3.3                 0.00000000 0.00000000 0.00000000 0.00000000 0.00000000 0.00000000 0.00000000\n",
              "               3.4                 0.00000000 0.00000000 0.00000000 0.00000000 0.00000000 0.00000000 0.00000000\n",
              "               3.5                 0.00000000 0.00000000 0.00000000 0.00000000 0.00000000 0.00000000 0.00000000\n",
              "               3.6                 0.00000000 0.00000000 0.00000000 0.00000000 0.00000000 0.00000000 0.00000000\n",
              "3.6            1.6                 0.00000000 0.00000000 0.00000000 0.00000000 0.00000000 0.00000000 0.00000000\n",
              "               1.7                 0.00000000 0.00000000 0.00000000 0.00000000 0.00000000 0.00000000 0.00000000\n",
              "               1.8                 0.00000000 0.00000000 0.00000000 0.00000000 0.00000000 0.00000000 0.00000000\n",
              "               1.9                 0.00000000 0.00000000 0.00000000 0.00000000 0.00000000 0.00000000 0.00000000\n",
              "               2.1                 0.00000000 0.00000000 0.00000000 0.00000000 0.00000000 0.00000000 0.00000000\n",
              "               2.2                 0.00000000 0.00000000 0.00000000 0.00000000 0.00000000 0.00000000 0.00000000\n",
              "               2.3                 0.00000000 0.00000000 0.00000000 0.00000000 0.00000000 0.00000000 0.00000000\n",
              "               2.4                 0.00000000 0.00000000 0.00000000 0.00000000 0.00000000 0.00000000 0.00000000\n",
              "               2.5                 0.00000000 0.00000000 0.00000000 0.00000000 0.00000000 0.00000000 0.00000000\n",
              "               2.6                 0.00000000 0.00000000 0.00000000 0.00000000 0.00000000 0.00000000 0.00000000\n",
              "               2.7                 0.00000000 0.00000000 0.03333333 0.00000000 0.00000000 0.00000000 0.00000000\n",
              "               2.8                 0.00000000 0.00000000 0.00000000 0.00000000 0.00000000 0.00000000 0.00000000\n",
              "               2.9                 0.00000000 0.00000000 0.00000000 0.00000000 0.00000000 0.00000000 0.00000000\n",
              "               3                   0.00000000 0.00000000 0.00000000 0.00000000 0.00000000 0.00000000 0.00000000\n",
              "               3.1                 0.00000000 0.00000000 0.00000000 0.00000000 0.00000000 0.00000000 0.00000000\n",
              "               3.2                 0.00000000 0.00000000 0.00000000 0.00000000 0.00000000 0.00000000 0.00000000\n",
              "               3.3                 0.00000000 0.00000000 0.00000000 0.00000000 0.00000000 0.00000000 0.00000000\n",
              "               3.4                 0.00000000 0.00000000 0.00000000 0.00000000 0.00000000 0.00000000 0.00000000\n",
              "               3.5                 0.00000000 0.00000000 0.00000000 0.00000000 0.00000000 0.00000000 0.00000000\n",
              "               3.6                 0.00000000 0.00000000 0.00000000 0.00000000 0.00000000 0.00000000 0.00000000\n",
              "3.7            1.6                 0.00000000 0.00000000 0.00000000 0.00000000 0.00000000 0.00000000 0.00000000\n",
              "               1.7                 0.00000000 0.00000000 0.00000000 0.00000000 0.00000000 0.00000000 0.00000000\n",
              "               1.8                 0.00000000 0.00000000 0.00000000 0.00000000 0.00000000 0.00000000 0.00000000\n",
              "               1.9                 0.00000000 0.00000000 0.00000000 0.00000000 0.00000000 0.00000000 0.00000000\n",
              "               2.1                 0.00000000 0.00000000 0.00000000 0.00000000 0.00000000 0.00000000 0.00000000\n",
              "               2.2                 0.00000000 0.00000000 0.00000000 0.00000000 0.00000000 0.00000000 0.00000000\n",
              "               2.3                 0.00000000 0.00000000 0.00000000 0.00000000 0.00000000 0.00000000 0.00000000\n",
              "               2.4                 0.00000000 0.00000000 0.00000000 0.00000000 0.00000000 0.00000000 0.00000000\n",
              "               2.5                 0.00000000 0.00000000 0.00000000 0.00000000 0.00000000 0.00000000 0.00000000\n",
              "               2.6                 0.00000000 0.00000000 0.00000000 0.00000000 0.00000000 0.00000000 0.00000000\n",
              "               2.7                 0.00000000 0.00000000 0.00000000 0.00000000 0.00000000 0.00000000 0.00000000\n",
              "               2.8                 0.00000000 0.00000000 0.00000000 0.03333333 0.00000000 0.00000000 0.00000000\n",
              "               2.9                 0.00000000 0.00000000 0.00000000 0.00000000 0.00000000 0.00000000 0.00000000\n",
              "               3                   0.00000000 0.00000000 0.00000000 0.00000000 0.00000000 0.00000000 0.00000000\n",
              "               3.1                 0.00000000 0.00000000 0.00000000 0.00000000 0.00000000 0.00000000 0.00000000\n",
              "               3.2                 0.00000000 0.00000000 0.00000000 0.00000000 0.00000000 0.00000000 0.00000000\n",
              "               3.3                 0.00000000 0.00000000 0.00000000 0.00000000 0.00000000 0.00000000 0.00000000\n",
              "               3.4                 0.00000000 0.00000000 0.00000000 0.00000000 0.00000000 0.00000000 0.00000000\n",
              "               3.5                 0.00000000 0.00000000 0.00000000 0.00000000 0.00000000 0.00000000 0.00000000\n",
              "               3.6                 0.00000000 0.00000000 0.00000000 0.00000000 0.00000000 0.00000000 0.00000000\n",
              "3.8            1.6                 0.00000000 0.00000000 0.00000000 0.00000000 0.00000000 0.00000000 0.00000000\n",
              "               1.7                 0.00000000 0.00000000 0.00000000 0.00000000 0.00000000 0.00000000 0.00000000\n",
              "               1.8                 0.00000000 0.00000000 0.00000000 0.00000000 0.00000000 0.00000000 0.00000000\n",
              "               1.9                 0.00000000 0.00000000 0.00000000 0.00000000 0.00000000 0.00000000 0.00000000\n",
              "               2.1                 0.00000000 0.00000000 0.00000000 0.00000000 0.00000000 0.00000000 0.00000000\n",
              "               2.2                 0.00000000 0.00000000 0.00000000 0.00000000 0.00000000 0.00000000 0.00000000\n",
              "               2.3                 0.00000000 0.00000000 0.00000000 0.00000000 0.00000000 0.00000000 0.00000000\n",
              "               2.4                 0.00000000 0.00000000 0.00000000 0.00000000 0.00000000 0.00000000 0.00000000\n",
              "               2.5                 0.00000000 0.00000000 0.00000000 0.00000000 0.00000000 0.00000000 0.00000000\n",
              "               2.6                 0.00000000 0.00000000 0.00000000 0.00000000 0.00000000 0.00000000 0.00000000\n",
              "               2.7                 0.00000000 0.00000000 0.00000000 0.00000000 0.00000000 0.00000000 0.00000000\n",
              "               2.8                 0.00000000 0.00000000 0.00000000 0.03333333 0.00000000 0.00000000 0.00000000\n",
              "               2.9                 0.00000000 0.00000000 0.00000000 0.00000000 0.00000000 0.00000000 0.00000000\n",
              "               3                   0.00000000 0.00000000 0.00000000 0.00000000 0.00000000 0.00000000 0.00000000\n",
              "               3.1                 0.00000000 0.00000000 0.00000000 0.00000000 0.00000000 0.00000000 0.00000000\n",
              "               3.2                 0.00000000 0.00000000 0.00000000 0.00000000 0.00000000 0.00000000 0.00000000\n",
              "               3.3                 0.00000000 0.00000000 0.00000000 0.00000000 0.00000000 0.00000000 0.00000000\n",
              "               3.4                 0.00000000 0.00000000 0.00000000 0.00000000 0.00000000 0.00000000 0.00000000\n",
              "               3.5                 0.00000000 0.00000000 0.00000000 0.00000000 0.00000000 0.00000000 0.00000000\n",
              "               3.6                 0.00000000 0.00000000 0.00000000 0.00000000 0.00000000 0.00000000 0.00000000\n",
              "3.9            1.6                 0.00000000 0.00000000 0.00000000 0.00000000 0.00000000 0.00000000 0.00000000\n",
              "               1.7                 0.00000000 0.00000000 0.00000000 0.00000000 0.00000000 0.00000000 0.00000000\n",
              "               1.8                 0.00000000 0.00000000 0.00000000 0.00000000 0.00000000 0.00000000 0.00000000\n",
              "               1.9                 0.00000000 0.00000000 0.00000000 0.00000000 0.00000000 0.00000000 0.00000000\n",
              "               2.1                 0.00000000 0.00000000 0.00000000 0.00000000 0.00000000 0.00000000 0.00000000\n",
              "               2.2                 0.00000000 0.00000000 0.00000000 0.00000000 0.00000000 0.00000000 0.00000000\n",
              "               2.3                 0.00000000 0.00000000 0.00000000 0.00000000 0.00000000 0.00000000 0.00000000\n",
              "               2.4                 0.00000000 0.00000000 0.00000000 0.00000000 0.00000000 0.00000000 0.00000000\n",
              "               2.5                 0.00000000 0.00000000 0.00000000 0.00000000 0.00000000 0.00000000 0.00000000\n",
              "               2.6                 0.00000000 0.00000000 0.00000000 0.00000000 0.00000000 0.00000000 0.00000000\n",
              "               2.7                 0.00000000 0.00000000 0.00000000 0.00000000 0.00000000 0.00000000 0.00000000\n",
              "               2.8                 0.00000000 0.00000000 0.00000000 0.00000000 0.00000000 0.00000000 0.00000000\n",
              "               2.9                 0.00000000 0.00000000 0.00000000 0.03333333 0.00000000 0.00000000 0.00000000\n",
              "               3                   0.00000000 0.00000000 0.00000000 0.00000000 0.00000000 0.00000000 0.00000000\n",
              "               3.1                 0.00000000 0.00000000 0.00000000 0.00000000 0.00000000 0.00000000 0.00000000\n",
              "               3.2                 0.00000000 0.00000000 0.00000000 0.00000000 0.00000000 0.00000000 0.00000000\n",
              "               3.3                 0.00000000 0.00000000 0.00000000 0.00000000 0.00000000 0.00000000 0.00000000\n",
              "               3.4                 0.00000000 0.00000000 0.00000000 0.00000000 0.00000000 0.00000000 0.00000000\n",
              "               3.5                 0.00000000 0.00000000 0.00000000 0.00000000 0.00000000 0.00000000 0.00000000\n",
              "               3.6                 0.00000000 0.00000000 0.00000000 0.00000000 0.00000000 0.00000000 0.00000000\n",
              "4              1.6                 0.00000000 0.00000000 0.00000000 0.00000000 0.00000000 0.00000000 0.00000000\n",
              "               1.7                 0.00000000 0.00000000 0.00000000 0.00000000 0.00000000 0.00000000 0.00000000\n",
              "               1.8                 0.00000000 0.00000000 0.00000000 0.00000000 0.00000000 0.00000000 0.00000000\n",
              "               1.9                 0.00000000 0.00000000 0.00000000 0.00000000 0.00000000 0.00000000 0.00000000\n",
              "               2.1                 0.00000000 0.00000000 0.00000000 0.00000000 0.00000000 0.00000000 0.00000000\n",
              "               2.2                 0.00000000 0.00000000 0.00000000 0.00000000 0.00000000 0.00000000 0.00000000\n",
              "               2.3                 0.00000000 0.00000000 0.00000000 0.00000000 0.00000000 0.00000000 0.00000000\n",
              "               2.4                 0.00000000 0.00000000 0.00000000 0.00000000 0.00000000 0.00000000 0.00000000\n",
              "               2.5                 0.00000000 0.00000000 0.00000000 0.00000000 0.00000000 0.00000000 0.00000000\n",
              "               2.6                 0.00000000 0.00000000 0.00000000 0.00000000 0.00000000 0.00000000 0.00000000\n",
              "               2.7                 0.00000000 0.00000000 0.00000000 0.00000000 0.00000000 0.00000000 0.00000000\n",
              "               2.8                 0.00000000 0.00000000 0.00000000 0.00000000 0.00000000 0.00000000 0.00000000\n",
              "               2.9                 0.00000000 0.00000000 0.00000000 0.00000000 0.03333333 0.00000000 0.00000000\n",
              "               3                   0.00000000 0.00000000 0.00000000 0.00000000 0.00000000 0.00000000 0.00000000\n",
              "               3.1                 0.00000000 0.00000000 0.00000000 0.00000000 0.00000000 0.00000000 0.00000000\n",
              "               3.2                 0.00000000 0.00000000 0.00000000 0.00000000 0.00000000 0.00000000 0.00000000\n",
              "               3.3                 0.00000000 0.00000000 0.00000000 0.00000000 0.00000000 0.00000000 0.00000000\n",
              "               3.4                 0.00000000 0.00000000 0.00000000 0.00000000 0.00000000 0.00000000 0.00000000\n",
              "               3.5                 0.00000000 0.00000000 0.00000000 0.00000000 0.00000000 0.00000000 0.00000000\n",
              "               3.6                 0.00000000 0.00000000 0.00000000 0.00000000 0.00000000 0.00000000 0.00000000\n",
              "4.1            1.6                 0.00000000 0.00000000 0.00000000 0.00000000 0.00000000 0.00000000 0.00000000\n",
              "               1.7                 0.00000000 0.00000000 0.00000000 0.00000000 0.00000000 0.00000000 0.00000000\n",
              "               1.8                 0.00000000 0.00000000 0.00000000 0.00000000 0.00000000 0.00000000 0.00000000\n",
              "               1.9                 0.00000000 0.00000000 0.00000000 0.00000000 0.00000000 0.00000000 0.00000000\n",
              "               2.1                 0.00000000 0.00000000 0.00000000 0.00000000 0.00000000 0.00000000 0.00000000\n",
              "               2.2                 0.00000000 0.00000000 0.00000000 0.00000000 0.00000000 0.00000000 0.00000000\n",
              "               2.3                 0.00000000 0.00000000 0.00000000 0.00000000 0.00000000 0.00000000 0.00000000\n",
              "               2.4                 0.00000000 0.00000000 0.00000000 0.00000000 0.00000000 0.00000000 0.00000000\n",
              "               2.5                 0.00000000 0.00000000 0.00000000 0.00000000 0.00000000 0.00000000 0.00000000\n",
              "               2.6                 0.00000000 0.00000000 0.00000000 0.00000000 0.00000000 0.00000000 0.00000000\n",
              "               2.7                 0.00000000 0.00000000 0.00000000 0.00000000 0.00000000 0.00000000 0.00000000\n",
              "               2.8                 0.00000000 0.00000000 0.00000000 0.00000000 0.00000000 0.00000000 0.00000000\n",
              "               2.9                 0.00000000 0.00000000 0.00000000 0.00000000 0.00000000 0.00000000 0.00000000\n",
              "               3                   0.00000000 0.00000000 0.00000000 0.00000000 0.03333333 0.00000000 0.00000000\n",
              "               3.1                 0.00000000 0.00000000 0.00000000 0.00000000 0.00000000 0.03333333 0.00000000\n",
              "               3.2                 0.00000000 0.00000000 0.00000000 0.00000000 0.00000000 0.00000000 0.00000000\n",
              "               3.3                 0.00000000 0.00000000 0.00000000 0.00000000 0.00000000 0.00000000 0.00000000\n",
              "               3.4                 0.00000000 0.00000000 0.00000000 0.00000000 0.00000000 0.00000000 0.00000000\n",
              "               3.5                 0.00000000 0.00000000 0.00000000 0.00000000 0.00000000 0.00000000 0.00000000\n",
              "               3.6                 0.00000000 0.00000000 0.00000000 0.00000000 0.00000000 0.00000000 0.00000000\n",
              "4.2            1.6                 0.00000000 0.00000000 0.00000000 0.00000000 0.00000000 0.00000000 0.00000000\n",
              "               1.7                 0.00000000 0.00000000 0.00000000 0.00000000 0.00000000 0.00000000 0.00000000\n",
              "               1.8                 0.00000000 0.00000000 0.00000000 0.00000000 0.00000000 0.00000000 0.00000000\n",
              "               1.9                 0.00000000 0.00000000 0.00000000 0.00000000 0.00000000 0.00000000 0.00000000\n",
              "               2.1                 0.00000000 0.00000000 0.00000000 0.00000000 0.00000000 0.00000000 0.00000000\n",
              "               2.2                 0.00000000 0.00000000 0.00000000 0.00000000 0.00000000 0.00000000 0.00000000\n",
              "               2.3                 0.00000000 0.00000000 0.00000000 0.00000000 0.00000000 0.00000000 0.00000000\n",
              "               2.4                 0.00000000 0.00000000 0.00000000 0.00000000 0.00000000 0.00000000 0.00000000\n",
              "               2.5                 0.00000000 0.00000000 0.00000000 0.00000000 0.00000000 0.00000000 0.00000000\n",
              "               2.6                 0.00000000 0.00000000 0.00000000 0.00000000 0.00000000 0.00000000 0.00000000\n",
              "               2.7                 0.00000000 0.00000000 0.00000000 0.00000000 0.00000000 0.00000000 0.00000000\n",
              "               2.8                 0.00000000 0.00000000 0.00000000 0.00000000 0.00000000 0.00000000 0.00000000\n",
              "               2.9                 0.00000000 0.00000000 0.00000000 0.00000000 0.00000000 0.00000000 0.00000000\n",
              "               3                   0.00000000 0.00000000 0.00000000 0.00000000 0.00000000 0.00000000 0.00000000\n",
              "               3.1                 0.00000000 0.00000000 0.00000000 0.00000000 0.00000000 0.00000000 0.00000000\n",
              "               3.2                 0.00000000 0.00000000 0.00000000 0.00000000 0.03333333 0.00000000 0.00000000\n",
              "               3.3                 0.00000000 0.00000000 0.00000000 0.00000000 0.00000000 0.00000000 0.00000000\n",
              "               3.4                 0.00000000 0.00000000 0.00000000 0.00000000 0.00000000 0.00000000 0.00000000\n",
              "               3.5                 0.00000000 0.00000000 0.00000000 0.00000000 0.00000000 0.00000000 0.00000000\n",
              "               3.6                 0.00000000 0.00000000 0.00000000 0.00000000 0.00000000 0.00000000 0.00000000\n",
              "4.3            1.6                 0.00000000 0.00000000 0.00000000 0.00000000 0.00000000 0.00000000 0.00000000\n",
              "               1.7                 0.00000000 0.00000000 0.00000000 0.00000000 0.00000000 0.00000000 0.00000000\n",
              "               1.8                 0.00000000 0.00000000 0.00000000 0.00000000 0.00000000 0.00000000 0.00000000\n",
              "               1.9                 0.00000000 0.00000000 0.00000000 0.00000000 0.00000000 0.00000000 0.00000000\n",
              "               2.1                 0.00000000 0.00000000 0.00000000 0.00000000 0.00000000 0.00000000 0.00000000\n",
              "               2.2                 0.00000000 0.00000000 0.00000000 0.00000000 0.00000000 0.00000000 0.00000000\n",
              "               2.3                 0.00000000 0.00000000 0.00000000 0.00000000 0.00000000 0.00000000 0.00000000\n",
              "               2.4                 0.00000000 0.00000000 0.00000000 0.00000000 0.00000000 0.00000000 0.00000000\n",
              "               2.5                 0.00000000 0.00000000 0.00000000 0.00000000 0.00000000 0.00000000 0.00000000\n",
              "               2.6                 0.00000000 0.00000000 0.00000000 0.00000000 0.00000000 0.00000000 0.00000000\n",
              "               2.7                 0.00000000 0.00000000 0.00000000 0.00000000 0.00000000 0.00000000 0.00000000\n",
              "               2.8                 0.00000000 0.00000000 0.00000000 0.00000000 0.00000000 0.00000000 0.00000000\n",
              "               2.9                 0.00000000 0.00000000 0.00000000 0.00000000 0.00000000 0.00000000 0.00000000\n",
              "               3                   0.00000000 0.00000000 0.00000000 0.00000000 0.00000000 0.00000000 0.00000000\n",
              "               3.1                 0.00000000 0.00000000 0.00000000 0.00000000 0.00000000 0.00000000 0.00000000\n",
              "               3.2                 0.00000000 0.00000000 0.00000000 0.00000000 0.03333333 0.00000000 0.00000000\n",
              "               3.3                 0.00000000 0.00000000 0.00000000 0.00000000 0.00000000 0.00000000 0.00000000\n",
              "               3.4                 0.00000000 0.00000000 0.00000000 0.00000000 0.00000000 0.00000000 0.00000000\n",
              "               3.5                 0.00000000 0.00000000 0.00000000 0.00000000 0.00000000 0.00000000 0.00000000\n",
              "               3.6                 0.00000000 0.00000000 0.00000000 0.00000000 0.00000000 0.00000000 0.00000000\n",
              "4.4            1.6                 0.00000000 0.00000000 0.00000000 0.00000000 0.00000000 0.00000000 0.00000000\n",
              "               1.7                 0.00000000 0.00000000 0.00000000 0.00000000 0.00000000 0.00000000 0.00000000\n",
              "               1.8                 0.00000000 0.00000000 0.00000000 0.00000000 0.00000000 0.00000000 0.00000000\n",
              "               1.9                 0.00000000 0.00000000 0.00000000 0.00000000 0.00000000 0.00000000 0.00000000\n",
              "               2.1                 0.00000000 0.00000000 0.00000000 0.00000000 0.00000000 0.00000000 0.00000000\n",
              "               2.2                 0.00000000 0.00000000 0.00000000 0.00000000 0.00000000 0.00000000 0.00000000\n",
              "               2.3                 0.00000000 0.00000000 0.00000000 0.00000000 0.00000000 0.00000000 0.00000000\n",
              "               2.4                 0.00000000 0.00000000 0.00000000 0.00000000 0.00000000 0.00000000 0.00000000\n",
              "               2.5                 0.00000000 0.00000000 0.00000000 0.00000000 0.00000000 0.00000000 0.00000000\n",
              "               2.6                 0.00000000 0.00000000 0.00000000 0.00000000 0.00000000 0.00000000 0.00000000\n",
              "               2.7                 0.00000000 0.00000000 0.00000000 0.00000000 0.00000000 0.00000000 0.00000000\n",
              "               2.8                 0.00000000 0.00000000 0.00000000 0.00000000 0.00000000 0.00000000 0.00000000\n",
              "               2.9                 0.00000000 0.00000000 0.00000000 0.00000000 0.00000000 0.00000000 0.00000000\n",
              "               3                   0.00000000 0.00000000 0.00000000 0.00000000 0.00000000 0.00000000 0.00000000\n",
              "               3.1                 0.00000000 0.00000000 0.00000000 0.00000000 0.00000000 0.00000000 0.00000000\n",
              "               3.2                 0.00000000 0.00000000 0.00000000 0.00000000 0.00000000 0.00000000 0.00000000\n",
              "               3.3                 0.00000000 0.00000000 0.00000000 0.00000000 0.03333333 0.00000000 0.00000000\n",
              "               3.4                 0.00000000 0.00000000 0.00000000 0.00000000 0.00000000 0.00000000 0.00000000\n",
              "               3.5                 0.00000000 0.00000000 0.00000000 0.00000000 0.00000000 0.00000000 0.00000000\n",
              "               3.6                 0.00000000 0.00000000 0.00000000 0.00000000 0.00000000 0.00000000 0.00000000\n",
              "4.5            1.6                 0.00000000 0.00000000 0.00000000 0.00000000 0.00000000 0.00000000 0.00000000\n",
              "               1.7                 0.00000000 0.00000000 0.00000000 0.00000000 0.00000000 0.00000000 0.00000000\n",
              "               1.8                 0.00000000 0.00000000 0.00000000 0.00000000 0.00000000 0.00000000 0.00000000\n",
              "               1.9                 0.00000000 0.00000000 0.00000000 0.00000000 0.00000000 0.00000000 0.00000000\n",
              "               2.1                 0.00000000 0.00000000 0.00000000 0.00000000 0.00000000 0.00000000 0.00000000\n",
              "               2.2                 0.00000000 0.00000000 0.00000000 0.00000000 0.00000000 0.00000000 0.00000000\n",
              "               2.3                 0.00000000 0.00000000 0.00000000 0.00000000 0.00000000 0.00000000 0.00000000\n",
              "               2.4                 0.00000000 0.00000000 0.00000000 0.00000000 0.00000000 0.00000000 0.00000000\n",
              "               2.5                 0.00000000 0.00000000 0.00000000 0.00000000 0.00000000 0.00000000 0.00000000\n",
              "               2.6                 0.00000000 0.00000000 0.00000000 0.00000000 0.00000000 0.00000000 0.00000000\n",
              "               2.7                 0.00000000 0.00000000 0.00000000 0.00000000 0.00000000 0.00000000 0.00000000\n",
              "               2.8                 0.00000000 0.00000000 0.00000000 0.00000000 0.00000000 0.00000000 0.00000000\n",
              "               2.9                 0.00000000 0.00000000 0.00000000 0.00000000 0.00000000 0.00000000 0.00000000\n",
              "               3                   0.00000000 0.00000000 0.00000000 0.00000000 0.00000000 0.03333333 0.00000000\n",
              "               3.1                 0.00000000 0.00000000 0.00000000 0.00000000 0.00000000 0.00000000 0.00000000\n",
              "               3.2                 0.00000000 0.00000000 0.00000000 0.00000000 0.00000000 0.00000000 0.00000000\n",
              "               3.3                 0.00000000 0.00000000 0.00000000 0.00000000 0.00000000 0.00000000 0.00000000\n",
              "               3.4                 0.00000000 0.00000000 0.00000000 0.00000000 0.00000000 0.00000000 0.00000000\n",
              "               3.5                 0.00000000 0.00000000 0.00000000 0.00000000 0.00000000 0.00000000 0.00000000\n",
              "               3.6                 0.00000000 0.00000000 0.00000000 0.00000000 0.00000000 0.00000000 0.00000000\n",
              "4.6            1.6                 0.00000000 0.00000000 0.00000000 0.00000000 0.00000000 0.00000000 0.00000000\n",
              "               1.7                 0.00000000 0.00000000 0.00000000 0.00000000 0.00000000 0.00000000 0.00000000\n",
              "               1.8                 0.00000000 0.00000000 0.00000000 0.00000000 0.00000000 0.00000000 0.00000000\n",
              "               1.9                 0.00000000 0.00000000 0.00000000 0.00000000 0.00000000 0.00000000 0.00000000\n",
              "               2.1                 0.00000000 0.00000000 0.00000000 0.00000000 0.00000000 0.00000000 0.00000000\n",
              "               2.2                 0.00000000 0.00000000 0.00000000 0.00000000 0.00000000 0.00000000 0.00000000\n",
              "               2.3                 0.00000000 0.00000000 0.00000000 0.00000000 0.00000000 0.00000000 0.00000000\n",
              "               2.4                 0.00000000 0.00000000 0.00000000 0.00000000 0.00000000 0.00000000 0.00000000\n",
              "               2.5                 0.00000000 0.00000000 0.00000000 0.00000000 0.00000000 0.00000000 0.00000000\n",
              "               2.6                 0.00000000 0.00000000 0.00000000 0.00000000 0.00000000 0.00000000 0.00000000\n",
              "               2.7                 0.00000000 0.00000000 0.00000000 0.00000000 0.00000000 0.00000000 0.00000000\n",
              "               2.8                 0.00000000 0.00000000 0.00000000 0.00000000 0.00000000 0.00000000 0.00000000\n",
              "               2.9                 0.00000000 0.00000000 0.00000000 0.00000000 0.00000000 0.00000000 0.00000000\n",
              "               3                   0.00000000 0.00000000 0.00000000 0.00000000 0.00000000 0.00000000 0.00000000\n",
              "               3.1                 0.00000000 0.00000000 0.00000000 0.00000000 0.00000000 0.00000000 0.00000000\n",
              "               3.2                 0.00000000 0.00000000 0.00000000 0.00000000 0.00000000 0.03333333 0.00000000\n",
              "               3.3                 0.00000000 0.00000000 0.00000000 0.00000000 0.00000000 0.00000000 0.00000000\n",
              "               3.4                 0.00000000 0.00000000 0.00000000 0.00000000 0.00000000 0.00000000 0.00000000\n",
              "               3.5                 0.00000000 0.00000000 0.00000000 0.00000000 0.00000000 0.00000000 0.00000000\n",
              "               3.6                 0.00000000 0.00000000 0.00000000 0.00000000 0.00000000 0.00000000 0.00000000\n",
              "4.7            1.6                 0.00000000 0.00000000 0.00000000 0.00000000 0.00000000 0.00000000 0.00000000\n",
              "               1.7                 0.00000000 0.00000000 0.00000000 0.00000000 0.00000000 0.00000000 0.00000000\n",
              "               1.8                 0.00000000 0.00000000 0.00000000 0.00000000 0.00000000 0.00000000 0.00000000\n",
              "               1.9                 0.00000000 0.00000000 0.00000000 0.00000000 0.00000000 0.00000000 0.00000000\n",
              "               2.1                 0.00000000 0.00000000 0.00000000 0.00000000 0.00000000 0.00000000 0.00000000\n",
              "               2.2                 0.00000000 0.00000000 0.00000000 0.00000000 0.00000000 0.00000000 0.00000000\n",
              "               2.3                 0.00000000 0.00000000 0.00000000 0.00000000 0.00000000 0.00000000 0.00000000\n",
              "               2.4                 0.00000000 0.00000000 0.00000000 0.00000000 0.00000000 0.00000000 0.00000000\n",
              "               2.5                 0.00000000 0.00000000 0.00000000 0.00000000 0.00000000 0.00000000 0.00000000\n",
              "               2.6                 0.00000000 0.00000000 0.00000000 0.00000000 0.00000000 0.00000000 0.00000000\n",
              "               2.7                 0.00000000 0.00000000 0.00000000 0.00000000 0.00000000 0.00000000 0.00000000\n",
              "               2.8                 0.00000000 0.00000000 0.00000000 0.00000000 0.00000000 0.00000000 0.00000000\n",
              "               2.9                 0.00000000 0.00000000 0.00000000 0.00000000 0.00000000 0.00000000 0.00000000\n",
              "               3                   0.00000000 0.00000000 0.00000000 0.00000000 0.00000000 0.00000000 0.00000000\n",
              "               3.1                 0.00000000 0.00000000 0.00000000 0.00000000 0.00000000 0.00000000 0.00000000\n",
              "               3.2                 0.00000000 0.00000000 0.00000000 0.00000000 0.00000000 0.00000000 0.00000000\n",
              "               3.3                 0.00000000 0.00000000 0.00000000 0.00000000 0.00000000 0.03333333 0.00000000\n",
              "               3.4                 0.00000000 0.00000000 0.00000000 0.00000000 0.00000000 0.00000000 0.00000000\n",
              "               3.5                 0.00000000 0.00000000 0.00000000 0.00000000 0.00000000 0.00000000 0.00000000\n",
              "               3.6                 0.00000000 0.00000000 0.00000000 0.00000000 0.00000000 0.00000000 0.00000000\n",
              "4.8            1.6                 0.00000000 0.00000000 0.00000000 0.00000000 0.00000000 0.00000000 0.00000000\n",
              "               1.7                 0.00000000 0.00000000 0.00000000 0.00000000 0.00000000 0.00000000 0.00000000\n",
              "               1.8                 0.00000000 0.00000000 0.00000000 0.00000000 0.00000000 0.00000000 0.00000000\n",
              "               1.9                 0.00000000 0.00000000 0.00000000 0.00000000 0.00000000 0.00000000 0.00000000\n",
              "               2.1                 0.00000000 0.00000000 0.00000000 0.00000000 0.00000000 0.00000000 0.00000000\n",
              "               2.2                 0.00000000 0.00000000 0.00000000 0.00000000 0.00000000 0.00000000 0.00000000\n",
              "               2.3                 0.00000000 0.00000000 0.00000000 0.00000000 0.00000000 0.00000000 0.00000000\n",
              "               2.4                 0.00000000 0.00000000 0.00000000 0.00000000 0.00000000 0.00000000 0.00000000\n",
              "               2.5                 0.00000000 0.00000000 0.00000000 0.00000000 0.00000000 0.00000000 0.00000000\n",
              "               2.6                 0.00000000 0.00000000 0.00000000 0.00000000 0.00000000 0.00000000 0.00000000\n",
              "               2.7                 0.00000000 0.00000000 0.00000000 0.00000000 0.00000000 0.00000000 0.00000000\n",
              "               2.8                 0.00000000 0.00000000 0.00000000 0.00000000 0.00000000 0.00000000 0.00000000\n",
              "               2.9                 0.00000000 0.00000000 0.00000000 0.00000000 0.00000000 0.00000000 0.00000000\n",
              "               3                   0.00000000 0.00000000 0.00000000 0.00000000 0.00000000 0.00000000 0.00000000\n",
              "               3.1                 0.00000000 0.00000000 0.00000000 0.00000000 0.00000000 0.00000000 0.00000000\n",
              "               3.2                 0.00000000 0.00000000 0.00000000 0.00000000 0.00000000 0.00000000 0.00000000\n",
              "               3.3                 0.00000000 0.00000000 0.00000000 0.00000000 0.00000000 0.00000000 0.00000000\n",
              "               3.4                 0.00000000 0.00000000 0.00000000 0.00000000 0.00000000 0.03333333 0.00000000\n",
              "               3.5                 0.00000000 0.00000000 0.00000000 0.00000000 0.00000000 0.00000000 0.00000000\n",
              "               3.6                 0.00000000 0.00000000 0.00000000 0.00000000 0.00000000 0.00000000 0.00000000\n",
              "5              1.6                 0.00000000 0.00000000 0.00000000 0.00000000 0.00000000 0.00000000 0.00000000\n",
              "               1.7                 0.00000000 0.00000000 0.00000000 0.00000000 0.00000000 0.00000000 0.00000000\n",
              "               1.8                 0.00000000 0.00000000 0.00000000 0.00000000 0.00000000 0.00000000 0.00000000\n",
              "               1.9                 0.00000000 0.00000000 0.00000000 0.00000000 0.00000000 0.00000000 0.00000000\n",
              "               2.1                 0.00000000 0.00000000 0.00000000 0.00000000 0.00000000 0.00000000 0.00000000\n",
              "               2.2                 0.00000000 0.00000000 0.00000000 0.00000000 0.00000000 0.00000000 0.00000000\n",
              "               2.3                 0.00000000 0.00000000 0.00000000 0.00000000 0.00000000 0.00000000 0.00000000\n",
              "               2.4                 0.00000000 0.00000000 0.00000000 0.00000000 0.00000000 0.00000000 0.00000000\n",
              "               2.5                 0.00000000 0.00000000 0.00000000 0.00000000 0.00000000 0.00000000 0.00000000\n",
              "               2.6                 0.00000000 0.00000000 0.00000000 0.00000000 0.00000000 0.00000000 0.00000000\n",
              "               2.7                 0.00000000 0.00000000 0.00000000 0.00000000 0.00000000 0.00000000 0.00000000\n",
              "               2.8                 0.00000000 0.00000000 0.00000000 0.00000000 0.00000000 0.00000000 0.00000000\n",
              "               2.9                 0.00000000 0.00000000 0.00000000 0.00000000 0.00000000 0.00000000 0.00000000\n",
              "               3                   0.00000000 0.00000000 0.00000000 0.00000000 0.00000000 0.00000000 0.00000000\n",
              "               3.1                 0.00000000 0.00000000 0.00000000 0.00000000 0.00000000 0.00000000 0.00000000\n",
              "               3.2                 0.00000000 0.00000000 0.00000000 0.00000000 0.00000000 0.00000000 0.00000000\n",
              "               3.3                 0.00000000 0.00000000 0.00000000 0.00000000 0.00000000 0.00000000 0.00000000\n",
              "               3.4                 0.00000000 0.00000000 0.00000000 0.00000000 0.00000000 0.00000000 0.00000000\n",
              "               3.5                 0.00000000 0.00000000 0.00000000 0.00000000 0.00000000 0.00000000 0.03333333\n",
              "               3.6                 0.00000000 0.00000000 0.00000000 0.00000000 0.00000000 0.00000000 0.00000000\n",
              "5.1            1.6                 0.00000000 0.00000000 0.00000000 0.00000000 0.00000000 0.00000000 0.00000000\n",
              "               1.7                 0.00000000 0.00000000 0.00000000 0.00000000 0.00000000 0.00000000 0.00000000\n",
              "               1.8                 0.00000000 0.00000000 0.00000000 0.00000000 0.00000000 0.00000000 0.00000000\n",
              "               1.9                 0.00000000 0.00000000 0.00000000 0.00000000 0.00000000 0.00000000 0.00000000\n",
              "               2.1                 0.00000000 0.00000000 0.00000000 0.00000000 0.00000000 0.00000000 0.00000000\n",
              "               2.2                 0.00000000 0.00000000 0.00000000 0.00000000 0.00000000 0.00000000 0.00000000\n",
              "               2.3                 0.00000000 0.00000000 0.00000000 0.00000000 0.00000000 0.00000000 0.00000000\n",
              "               2.4                 0.00000000 0.00000000 0.00000000 0.00000000 0.00000000 0.00000000 0.00000000\n",
              "               2.5                 0.00000000 0.00000000 0.00000000 0.00000000 0.00000000 0.00000000 0.00000000\n",
              "               2.6                 0.00000000 0.00000000 0.00000000 0.00000000 0.00000000 0.00000000 0.00000000\n",
              "               2.7                 0.00000000 0.00000000 0.00000000 0.00000000 0.00000000 0.00000000 0.00000000\n",
              "               2.8                 0.00000000 0.00000000 0.00000000 0.00000000 0.00000000 0.00000000 0.00000000\n",
              "               2.9                 0.00000000 0.00000000 0.00000000 0.00000000 0.00000000 0.00000000 0.00000000\n",
              "               3                   0.00000000 0.00000000 0.00000000 0.00000000 0.00000000 0.00000000 0.00000000\n",
              "               3.1                 0.00000000 0.00000000 0.00000000 0.00000000 0.00000000 0.00000000 0.00000000\n",
              "               3.2                 0.00000000 0.00000000 0.00000000 0.00000000 0.00000000 0.00000000 0.00000000\n",
              "               3.3                 0.00000000 0.00000000 0.00000000 0.00000000 0.00000000 0.00000000 0.00000000\n",
              "               3.4                 0.00000000 0.00000000 0.00000000 0.00000000 0.00000000 0.00000000 0.00000000\n",
              "               3.5                 0.00000000 0.00000000 0.00000000 0.00000000 0.00000000 0.00000000 0.00000000\n",
              "               3.6                 0.00000000 0.00000000 0.00000000 0.00000000 0.00000000 0.00000000 0.03333333"
            ]
          },
          "metadata": {},
          "output_type": "display_data"
        }
      ],
      "source": [
        "prop.table(ftable(IngresoMensual,Gasto,TiempoCliente))"
      ]
    },
    {
      "cell_type": "markdown",
      "metadata": {
        "id": "49Wkvh7dmcIg"
      },
      "source": [
        "<div style=\"background-color:#5DADE2\"><b>Apartado 4</b></div>"
      ]
    },
    {
      "cell_type": "markdown",
      "metadata": {
        "id": "Uz4WaS4smcIg"
      },
      "source": [
        "**Linea 1:** Generamos el grafico de barras solo con la variable *Satisfaccion*"
      ]
    },
    {
      "cell_type": "code",
      "execution_count": null,
      "metadata": {
        "id": "pWhvqG7fmcIh",
        "outputId": "40153e92-19cf-405b-c429-9e44c39dbb55",
        "scrolled": false,
        "vscode": {
          "languageId": "r"
        }
      },
      "outputs": [
        {
          "data": {
            "image/png": "[encoded data removed]",
            "text/plain": [
              "Plot with title \"Satisfaccion Clientes\""
            ]
          },
          "metadata": {
            "image/png": {
              "height": 420,
              "width": 420
            }
          },
          "output_type": "display_data"
        }
      ],
      "source": [
        "barplot(Satisfaccion, main = \"Satisfaccion Clientes\", xlab = \"Clientes\", ylab = \"Calificacion\")"
      ]
    },
    {
      "cell_type": "markdown",
      "metadata": {
        "id": "VZuGMl1NmcIh"
      },
      "source": [
        "**Interpretacion:** En el grafico anterior podemos ver la distribucion de la variable satisfaccion segun la calificacion que los 30 clientes dieron, a primera vista podemos observar que no existe ninguna calificacion inferior a 3, mientras que la mayoria de ellas se encuentran ubicadas en 4, este grafico es util porque sugiere una aceptacion positiva por parte de los clientes, sin embargo puede resultar confusa, por esta razon propongo presentar el grafico de barras pero esta vez con la tabla de frecuencias absolutas"
      ]
    },
    {
      "cell_type": "markdown",
      "metadata": {
        "id": "lPIHA7JLmcIh"
      },
      "source": [
        "**Linea 1:** Generamos nuevamente el grafico de barras pero esta vez usamos la tabla de frecuencias absolutas de la satisfaccion del cliente, agregamos colores con el metodo *col* y un titulo para el grafico con *main*, por ultimo usamos *xlab* para darle nombre al eje x y *ylab* para nombrar al eje y"
      ]
    },
    {
      "cell_type": "code",
      "execution_count": null,
      "metadata": {
        "id": "QFGwldZwmcIh",
        "outputId": "c11cd035-155c-49c6-a6d9-b1229ad4dff3",
        "vscode": {
          "languageId": "r"
        }
      },
      "outputs": [
        {
          "data": {
            "image/png": "[encoded data removed]",
            "text/plain": [
              "Plot with title \"Satisfaccion Clientes\""
            ]
          },
          "metadata": {
            "image/png": {
              "height": 420,
              "width": 420
            }
          },
          "output_type": "display_data"
        }
      ],
      "source": [
        "barplot(table(clientes$Satisfaccion), col = c(\"#ff6666\",\"#99ccff\",\"#99ff99\"), main = \"Satisfaccion Clientes\", xlab = \"Calificacion de clientes\", ylab = \"Numero de calificaciones\" )"
      ]
    },
    {
      "cell_type": "markdown",
      "metadata": {
        "id": "DFjuPueRmcIh"
      },
      "source": [
        "**Interpretacion:** Acabamos de generar un grafico de barras mucho mas entendible en el cual si bien no podemos ver la calificacion individual por cliente, si podemos tener de manera mucho mas eficiente una idea de la tendencia de la calificacion en esta muestra agrupando las calificaciones por la cantidad de clientes confirmando que existe una tendencia hacia el numero 4."
      ]
    },
    {
      "cell_type": "markdown",
      "metadata": {
        "id": "CQwpty8SmcIh"
      },
      "source": [
        "**Linea 1:** Realizamos el grafico de sectores con la variable satisfaccion, ponemos su titulo y nombres a los ejes."
      ]
    },
    {
      "cell_type": "code",
      "execution_count": null,
      "metadata": {
        "id": "ojfqN5QDmcIi",
        "outputId": "04383773-c232-4df9-b27b-37f57f2a2d5d",
        "scrolled": true,
        "vscode": {
          "languageId": "r"
        }
      },
      "outputs": [
        {
          "data": {
            "image/png": "[encoded data removed]",
            "text/plain": [
              "Plot with title \"Satisfaccion Clientes\""
            ]
          },
          "metadata": {
            "image/png": {
              "height": 420,
              "width": 420
            }
          },
          "output_type": "display_data"
        }
      ],
      "source": [
        "pie(Satisfaccion, main = \"Satisfaccion Clientes\", xlab = \"Clientes\", ylab = \"Calificaciones\" )"
      ]
    },
    {
      "cell_type": "markdown",
      "metadata": {
        "id": "Yw-EuMw-mcIi"
      },
      "source": [
        "**Interpretacion:** El grafico anterior no nos dice nada mas que existen 30 clientes que han dado una calificacion pero no tenemos informacion de cual fue ni cuantos lo hicieron, para este caso es util volver a hacer el grafico de sectores pero en base a las frecuencias absolutas"
      ]
    },
    {
      "cell_type": "markdown",
      "metadata": {
        "id": "gtGb6WJsmcIj"
      },
      "source": [
        "**Linea 1:** Generamos nuevamente el grafico de sectores pero esta vez con las frecuencias absolutas, asignamos colores para cada grupo de calificaciones, ponemos el titulo correspondiente y damos nombre a los ejes, adicionalmente como en este grafico no se muestran los ejes una forma para hacerlo mas informativo es poner en las estiquetas de cada sector la calificacion dada por cada uno y la cantidad de clientes que otorgo dicha calificacion"
      ]
    },
    {
      "cell_type": "code",
      "execution_count": null,
      "metadata": {
        "id": "phmFVFx5mcIk",
        "outputId": "e398dfe0-f7d3-4b8d-9473-43772d725ac2",
        "scrolled": true,
        "vscode": {
          "languageId": "r"
        }
      },
      "outputs": [
        {
          "data": {
            "image/png": "[encoded data removed]",
            "text/plain": [
              "Plot with title \"Satisfaccion Clientes\""
            ]
          },
          "metadata": {
            "image/png": {
              "height": 420,
              "width": 420
            }
          },
          "output_type": "display_data"
        }
      ],
      "source": [
        "pie(table(clientes$Satisfaccion), col =c(\"#F39F18\",\"#E6D690\",\"#256D7B\"), main = \"Satisfaccion Clientes\", xlab = \"Calificacion de clientes\", ylab = \"Numero de calificaciones\", labels = paste(\"Cal: \", names(table(Satisfaccion)), \"-\", \"Clientes \", table(Satisfaccion), sep = \"\"))"
      ]
    },
    {
      "cell_type": "markdown",
      "metadata": {
        "id": "EEe0ij2dmcIk"
      },
      "source": [
        "**Interpretacion:** Este nuevo grafico de sectores es mucho mas explicito que el anterior, aqui podemos ver claramente como se distribuyen las calificaciones entre los clientes y el puntaje que cada uno de los 30 otorgo."
      ]
    },
    {
      "cell_type": "markdown",
      "metadata": {
        "id": "x3cWcQ4MmcIl"
      },
      "source": [
        "<div style=\"background-color:#5DADE2\"><b>Apartado 5</b></div>"
      ]
    },
    {
      "cell_type": "code",
      "execution_count": null,
      "metadata": {
        "id": "43QYSdXJmcIl",
        "outputId": "57d1f512-f47c-45b0-f632-6b1672ad2353",
        "vscode": {
          "languageId": "r"
        }
      },
      "outputs": [
        {
          "data": {
            "text/plain": [
              "\n",
              "2 3 4 5 6 7 8 \n",
              "1 5 6 6 5 5 2 "
            ]
          },
          "metadata": {},
          "output_type": "display_data"
        }
      ],
      "source": [
        "table(clientes$TiempoCliente)"
      ]
    },
    {
      "cell_type": "markdown",
      "metadata": {
        "id": "P7JGtEYYmcIm"
      },
      "source": [
        "**Linea 1:** Generamos nuestro histograma, para este caso especifico y con la intencion de hacerlo mas evidente se incluyo el parametro *breaks* para poder dividir el histograma en mas columnas y poder apreciar mejor las barras, se agrego en la parte superior una etiqueta con el numero de elementos por barra, los nombres a los ejes *x* y *y*, por ultimo un cambio de colores y margenes."
      ]
    },
    {
      "cell_type": "code",
      "execution_count": null,
      "metadata": {
        "id": "XmJYIDdUmcIm",
        "outputId": "7f144d6e-010b-4db2-995d-37e830329029",
        "vscode": {
          "languageId": "r"
        }
      },
      "outputs": [
        {
          "data": {
            "image/png": "[encoded data removed]",
            "text/plain": [
              "Plot with title \"Tiempo por cliente\""
            ]
          },
          "metadata": {
            "image/png": {
              "height": 420,
              "width": 420
            }
          },
          "output_type": "display_data"
        }
      ],
      "source": [
        "hist(TiempoCliente, breaks = 9, labels = T, main = \"Tiempo por cliente\", xlab = \"Tiempo cliente (min)\", ylab = \"Clientes\", col = \"skyblue\", border = \"lightgray\")"
      ]
    },
    {
      "cell_type": "markdown",
      "metadata": {
        "id": "D7P7EaaumcIm"
      },
      "source": [
        "**Interpretacion:** En el histograma podemos observar la distribucion del tiempo que cada cliente se toma en minutos en el eje x, y la cantidad de clientes que se toman dicho tiempo en el eje y, es interesante notar que tiende a ajustarse a una curva normal, en la cual la mayoria de los clientes (12 en total) se toman de 4 a 5 minutos mientras que en los extremos vemos que solo 1 se toma 2 minutos y dos se tomaron 8 minutos."
      ]
    },
    {
      "cell_type": "code",
      "execution_count": null,
      "metadata": {
        "id": "NG4w1CPbmcIn",
        "outputId": "49da5f54-6d78-45b0-d4f4-f5f7ade37efa",
        "scrolled": true,
        "vscode": {
          "languageId": "r"
        }
      },
      "outputs": [
        {
          "data": {
            "text/plain": [
              "   Min. 1st Qu.  Median    Mean 3rd Qu.    Max. \n",
              "  2.000   4.000   5.000   5.067   6.000   8.000 "
            ]
          },
          "metadata": {},
          "output_type": "display_data"
        }
      ],
      "source": [
        "summary(TiempoCliente)"
      ]
    },
    {
      "cell_type": "code",
      "execution_count": null,
      "metadata": {
        "id": "kvZ6Br7JmcIn",
        "outputId": "aa8bcbf2-7ce7-42b4-8ebe-143a6585a34a",
        "vscode": {
          "languageId": "r"
        }
      },
      "outputs": [
        {
          "data": {
            "text/html": [
              "2"
            ],
            "text/latex": [
              "2"
            ],
            "text/markdown": [
              "2"
            ],
            "text/plain": [
              "[1] 2"
            ]
          },
          "metadata": {},
          "output_type": "display_data"
        }
      ],
      "source": [
        "IQR(TiempoCliente)"
      ]
    },
    {
      "cell_type": "code",
      "execution_count": null,
      "metadata": {
        "id": "Veyma4ghmcIn",
        "outputId": "69771dcc-4c7f-42f5-bbbc-e6e9446ed91d",
        "scrolled": false,
        "vscode": {
          "languageId": "r"
        }
      },
      "outputs": [
        {
          "data": {
            "image/png": "[encoded data removed]",
            "text/plain": [
              "Plot with title \"Tiempo por cliente\""
            ]
          },
          "metadata": {
            "image/png": {
              "height": 420,
              "width": 420
            }
          },
          "output_type": "display_data"
        }
      ],
      "source": [
        "boxplot(TiempoCliente, main = \"Tiempo por cliente\", xlab = \"Clientes\", ylab = \"Tiempo cliente (min)\", col = \"skyblue\")"
      ]
    },
    {
      "cell_type": "markdown",
      "metadata": {
        "id": "G2eRlEPimcIn"
      },
      "source": [
        "**Interpretacion:** En el anterior grafico podemos ver nuevamente la distribucion del tiempo empleado por cada cliente, en este caso representado en el eje *y*, y los clientes en el eje x, tambien nos apoyamos con la funcion **summary()** para ver la estructura de la variable. Particularmente notamos que no existen valores atipicos, esto lo podemos explicar debido a que el rango intercuartilico es 2 que multiplicado por 1.5 y sumado al tercer cuartil nos da como resultado 9, es decir mas alto que nuestro mayor valor, de igual manera para nuestro valor mas bajo"
      ]
    },
    {
      "cell_type": "markdown",
      "metadata": {
        "id": "pAMx-XgAmcIo"
      },
      "source": [
        "<div style=\"background-color:#5DADE2\"><b>Apartado 6</b></div>"
      ]
    },
    {
      "cell_type": "markdown",
      "metadata": {
        "id": "51VhKwpfmcIo"
      },
      "source": [
        "**Linea 1:** Usamos la funcion **summary()** para conocer las principales caracteristicas de la columna Gasto"
      ]
    },
    {
      "cell_type": "code",
      "execution_count": null,
      "metadata": {
        "id": "kugomcRQmcIo",
        "outputId": "5ad3f476-e215-4f75-a984-ec572d91a91b",
        "scrolled": true,
        "vscode": {
          "languageId": "r"
        }
      },
      "outputs": [
        {
          "data": {
            "text/plain": [
              "   Min. 1st Qu.  Median    Mean 3rd Qu.    Max. \n",
              "  1.600   2.325   2.750   2.677   3.175   3.600 "
            ]
          },
          "metadata": {},
          "output_type": "display_data"
        }
      ],
      "source": [
        "summary(clientes$Gasto)"
      ]
    },
    {
      "cell_type": "markdown",
      "metadata": {
        "id": "rDjiEEvpmcIo"
      },
      "source": [
        "**Linea 1:** Obtenemos el valor minimo de la columna Gasto"
      ]
    },
    {
      "cell_type": "code",
      "execution_count": null,
      "metadata": {
        "id": "m7WGolnOmcIp",
        "outputId": "be6292de-7e1d-4c39-c888-02aac0a30c5e",
        "scrolled": true,
        "vscode": {
          "languageId": "r"
        }
      },
      "outputs": [
        {
          "data": {
            "text/html": [
              "1.6"
            ],
            "text/latex": [
              "1.6"
            ],
            "text/markdown": [
              "1.6"
            ],
            "text/plain": [
              "[1] 1.6"
            ]
          },
          "metadata": {},
          "output_type": "display_data"
        }
      ],
      "source": [
        "min(clientes$Gasto)"
      ]
    },
    {
      "cell_type": "markdown",
      "metadata": {
        "id": "Qy-JMy7umcIp"
      },
      "source": [
        "**Linea 1:** Obtenemos el primer cuartil de la columna Gasto"
      ]
    },
    {
      "cell_type": "code",
      "execution_count": null,
      "metadata": {
        "id": "8-AbDjeHmcIp",
        "outputId": "3a68731f-8f11-449e-df84-0ddb6348a649",
        "vscode": {
          "languageId": "r"
        }
      },
      "outputs": [
        {
          "data": {
            "text/html": [
              "<strong>25%:</strong> 2.325"
            ],
            "text/latex": [
              "\\textbf{25\\textbackslash{}\\%:} 2.325"
            ],
            "text/markdown": [
              "**25%:** 2.325"
            ],
            "text/plain": [
              "  25% \n",
              "2.325 "
            ]
          },
          "metadata": {},
          "output_type": "display_data"
        }
      ],
      "source": [
        "quantile(clientes$Gasto,0.25)"
      ]
    },
    {
      "cell_type": "markdown",
      "metadata": {
        "id": "0YRBeUVzmcIp"
      },
      "source": [
        "**Linea 1:** Obtenemos la mediana de la columna Gasto"
      ]
    },
    {
      "cell_type": "code",
      "execution_count": null,
      "metadata": {
        "id": "JJOHapv2mcIq",
        "outputId": "dc6cf66f-8a2f-454d-ac67-b74078a54331",
        "scrolled": true,
        "vscode": {
          "languageId": "r"
        }
      },
      "outputs": [
        {
          "data": {
            "text/html": [
              "2.75"
            ],
            "text/latex": [
              "2.75"
            ],
            "text/markdown": [
              "2.75"
            ],
            "text/plain": [
              "[1] 2.75"
            ]
          },
          "metadata": {},
          "output_type": "display_data"
        }
      ],
      "source": [
        "median(clientes$Gasto)"
      ]
    },
    {
      "cell_type": "markdown",
      "metadata": {
        "id": "ZHE0KekSmcIq"
      },
      "source": [
        "**Linea 1:** Obtenemos la media de la columna Gasto"
      ]
    },
    {
      "cell_type": "code",
      "execution_count": null,
      "metadata": {
        "id": "CSnuM_zYmcIq",
        "outputId": "c7540241-6831-4906-cf55-935483d60057",
        "vscode": {
          "languageId": "r"
        }
      },
      "outputs": [
        {
          "data": {
            "text/html": [
              "2.67666666666667"
            ],
            "text/latex": [
              "2.67666666666667"
            ],
            "text/markdown": [
              "2.67666666666667"
            ],
            "text/plain": [
              "[1] 2.676667"
            ]
          },
          "metadata": {},
          "output_type": "display_data"
        }
      ],
      "source": [
        "mean(clientes$Gasto)"
      ]
    },
    {
      "cell_type": "markdown",
      "metadata": {
        "id": "DmUTrC16mcIq"
      },
      "source": [
        "**Linea 1:** Obtenemos el tercer cuartil de la columna Gasto"
      ]
    },
    {
      "cell_type": "code",
      "execution_count": null,
      "metadata": {
        "id": "DTKX1vg2mcIr",
        "outputId": "2d1584f9-5483-430d-92bc-85e1c769e01d",
        "vscode": {
          "languageId": "r"
        }
      },
      "outputs": [
        {
          "data": {
            "text/html": [
              "<strong>75%:</strong> 3.175"
            ],
            "text/latex": [
              "\\textbf{75\\textbackslash{}\\%:} 3.175"
            ],
            "text/markdown": [
              "**75%:** 3.175"
            ],
            "text/plain": [
              "  75% \n",
              "3.175 "
            ]
          },
          "metadata": {},
          "output_type": "display_data"
        }
      ],
      "source": [
        "quantile(clientes$Gasto, 0.75)"
      ]
    },
    {
      "cell_type": "markdown",
      "metadata": {
        "id": "xY3gRtCRmcIr"
      },
      "source": [
        "**Linea 1:** Obtenemos el valor maximo de la columna Gasto"
      ]
    },
    {
      "cell_type": "code",
      "execution_count": null,
      "metadata": {
        "id": "o7ERd5f3mcIr",
        "outputId": "35cb191c-68bf-4306-ab3c-3bb56f5a775b",
        "scrolled": false,
        "vscode": {
          "languageId": "r"
        }
      },
      "outputs": [
        {
          "data": {
            "text/html": [
              "3.6"
            ],
            "text/latex": [
              "3.6"
            ],
            "text/markdown": [
              "3.6"
            ],
            "text/plain": [
              "[1] 3.6"
            ]
          },
          "metadata": {},
          "output_type": "display_data"
        }
      ],
      "source": [
        "max(clientes$Gasto)"
      ]
    },
    {
      "cell_type": "markdown",
      "metadata": {
        "id": "ueW-G9D_mcIr"
      },
      "source": [
        "**Interpretacion:** Podemos ver que si obtenemos individualmente los principales estadisticos para la columna *Gasto*, obtenemos los mismos valores que con la funcion **sumary()**  "
      ]
    },
    {
      "cell_type": "markdown",
      "metadata": {
        "id": "UVHSSkFymcIr"
      },
      "source": [
        "<div style=\"background-color:#5DADE2\"><b>Apartado 7</b></div>"
      ]
    },
    {
      "cell_type": "markdown",
      "metadata": {
        "id": "0Mt9s2M0mcIr"
      },
      "source": [
        "**Linea 1:** Obtenemos la media de la variable *IngresoMensual* y usamos **paste()** para darle un formato al resultado.  \n",
        "**Linea 2:** Obtenemos el rango intercuartilico de la variable *IngresoMensual* y usamos **paste()** para darle un formato al resultado.  \n",
        "**Linea 3:** Obtenemos la varianza de la variable *IngresoMensual* y usamos **paste()** para darle un formato al resultado.  "
      ]
    },
    {
      "cell_type": "code",
      "execution_count": null,
      "metadata": {
        "id": "zLVFgXLpmcIs",
        "outputId": "2631fc49-c234-4f7a-ea45-d22933193fc9",
        "scrolled": true,
        "vscode": {
          "languageId": "r"
        }
      },
      "outputs": [
        {
          "data": {
            "text/html": [
              "'Media = 3.73666666666667'"
            ],
            "text/latex": [
              "'Media = 3.73666666666667'"
            ],
            "text/markdown": [
              "'Media = 3.73666666666667'"
            ],
            "text/plain": [
              "[1] \"Media = 3.73666666666667\""
            ]
          },
          "metadata": {},
          "output_type": "display_data"
        },
        {
          "data": {
            "text/html": [
              "'Rango Intercuartilico = 1.075'"
            ],
            "text/latex": [
              "'Rango Intercuartilico = 1.075'"
            ],
            "text/markdown": [
              "'Rango Intercuartilico = 1.075'"
            ],
            "text/plain": [
              "[1] \"Rango Intercuartilico = 1.075\""
            ]
          },
          "metadata": {},
          "output_type": "display_data"
        },
        {
          "data": {
            "text/html": [
              "'Varianza = 0.522402298850575'"
            ],
            "text/latex": [
              "'Varianza = 0.522402298850575'"
            ],
            "text/markdown": [
              "'Varianza = 0.522402298850575'"
            ],
            "text/plain": [
              "[1] \"Varianza = 0.522402298850575\""
            ]
          },
          "metadata": {},
          "output_type": "display_data"
        }
      ],
      "source": [
        "paste(\"Media\", mean(IngresoMensual), sep = \" = \")\n",
        "paste(\"Rango Intercuartilico\", IQR(IngresoMensual), sep = \" = \")\n",
        "paste(\"Varianza\", var(IngresoMensual), sep = \" = \")"
      ]
    },
    {
      "cell_type": "markdown",
      "metadata": {
        "id": "Me1g1MZ5mcIs"
      },
      "source": [
        "**Linea 1:** Obtenemos la media de la variable *TiempoCliente* y usamos **paste()** para darle un formato al resultado.  \n",
        "**Linea 2:** Obtenemos el rango intercuartilico de la variable *TiempoCliente* y usamos **paste()** para darle un formato al resultado.  \n",
        "**Linea 3:** Obtenemos la varianza de la variable *TiempoCliente* y usamos **paste()** para darle un formato al resultado."
      ]
    },
    {
      "cell_type": "code",
      "execution_count": null,
      "metadata": {
        "id": "4H2_j50KmcIs",
        "outputId": "13e8e7ba-9d2e-4693-b88c-579035a832ac",
        "scrolled": false,
        "vscode": {
          "languageId": "r"
        }
      },
      "outputs": [
        {
          "data": {
            "text/html": [
              "'Media = 5.06666666666667'"
            ],
            "text/latex": [
              "'Media = 5.06666666666667'"
            ],
            "text/markdown": [
              "'Media = 5.06666666666667'"
            ],
            "text/plain": [
              "[1] \"Media = 5.06666666666667\""
            ]
          },
          "metadata": {},
          "output_type": "display_data"
        },
        {
          "data": {
            "text/html": [
              "'Rango Intercuartilico = 2'"
            ],
            "text/latex": [
              "'Rango Intercuartilico = 2'"
            ],
            "text/markdown": [
              "'Rango Intercuartilico = 2'"
            ],
            "text/plain": [
              "[1] \"Rango Intercuartilico = 2\""
            ]
          },
          "metadata": {},
          "output_type": "display_data"
        },
        {
          "data": {
            "text/html": [
              "'Varianza = 2.68505747126437'"
            ],
            "text/latex": [
              "'Varianza = 2.68505747126437'"
            ],
            "text/markdown": [
              "'Varianza = 2.68505747126437'"
            ],
            "text/plain": [
              "[1] \"Varianza = 2.68505747126437\""
            ]
          },
          "metadata": {},
          "output_type": "display_data"
        }
      ],
      "source": [
        "paste(\"Media\", mean(TiempoCliente), sep = \" = \")\n",
        "paste(\"Rango Intercuartilico\", IQR(TiempoCliente), sep = \" = \")\n",
        "paste(\"Varianza\", var(TiempoCliente), sep = \" = \")"
      ]
    },
    {
      "cell_type": "markdown",
      "metadata": {
        "id": "q7NQqEgxmcIt"
      },
      "source": [
        "**Interpretacion** Realizando una comparacion entre el Ingreso mensual y el Tiempo del cliente podemos notar que la variable *TiempoCliente* es la que presenta mayor variacion de las dos puesto que su rango intercuartilico es mayor y su varianza tambien, lo que no sugiere que sus datos estan mas dispersos."
      ]
    },
    {
      "cell_type": "markdown",
      "metadata": {
        "id": "Zx7NJQzRmcIt"
      },
      "source": [
        "### 04 Ejercicio\n",
        "\n",
        "Supongamos que una empresa envía un email promocional a $1000$ de sus clientes. Históricamente, el $10\\%$ de los clientes que reciben un email promocional responden a él.\n",
        "\n",
        "1. Justificar el tipo de distribución y sus parámetros para la variable aleatoria $y$ (número de respuestas al email). Ayuda: Podemos asumir que la variable aleatoria $y$ (número de respuestas) sigue una distribución binomial, ya que hay un número fijo de ensayos ($1000$ clientes), cada ensayo es independiente, y cada ensayo resulta en éxito (respuesta) con una probabilidad del $10\\%$.\n",
        "\n",
        "\n",
        "2. Calcular la probabilidad de tener exactamente $150$ respuestas, dado que se enviaron emails a $1000$ clientes y justificar qué función tenéis que utilizar.\n",
        "\n",
        "\n",
        "3. Determinar la probabilidad de tener más de $150$ respuestas y justificar qué función tenéis que utilizar.\n",
        "\n",
        "\n",
        "4. Calcular la probabilidad de tener menos de $150$ respuestas y justificar qué función tenéis que utilizar.\n",
        "\n",
        "\n",
        "5. Representar gráficamente la función de masa de la variable aleatoria $y$ e interpretar los resultados.\n",
        "\n",
        "\n",
        "6. Representar gráficamente la función de distribución de la variable aleatoria $y$ e interpretar los resultados."
      ]
    },
    {
      "cell_type": "markdown",
      "metadata": {
        "id": "Yd2ZRXC0mcIt"
      },
      "source": [
        "<div style=\"background-color:#F7DC6F\"><b>Resolución Ejercicio 04</b></div>"
      ]
    },
    {
      "cell_type": "markdown",
      "metadata": {
        "id": "urMq0Ae4mcIt"
      },
      "source": [
        "<div style=\"background-color:#5DADE2\"><b>Apartado 1</b></div>"
      ]
    },
    {
      "cell_type": "markdown",
      "metadata": {
        "id": "w1PQWR2dmcIt"
      },
      "source": [
        "**Respuesta:** Se trata de una **distribucion binomial**, esto lo justificamos de acuerdo al enunciado recibido en este podemos identificar que tenemos una ***respuesta binaria*** *(responder o no respoder)* y tambien esta asociada a una ***probabilidad de ocurrencia***, el ultimo factor que nos hace justificar esta distribucion como binomial es que hecho de que tenemos una ***serie de intentos*** que no se encuentran relacionados entre si (1000 correos enviados a los clientes)."
      ]
    },
    {
      "cell_type": "markdown",
      "metadata": {
        "id": "yE70UC61mcIu"
      },
      "source": [
        "<div style=\"background-color:#5DADE2\"><b>Apartado 2</b></div>"
      ]
    },
    {
      "cell_type": "markdown",
      "metadata": {
        "id": "L5q0mMWcmcIu"
      },
      "source": [
        "**Linea 1:** Para calcular la probabilidad de que exactamente 150 correos sean respondidos usamos la funcion **dbinom()** pasandole como parametros el numero de respuestas que queremos, la cantidad de correos enviados y la probabilidad de respuesta."
      ]
    },
    {
      "cell_type": "code",
      "execution_count": null,
      "metadata": {
        "id": "a_wktH0DmcIv",
        "outputId": "5374cbba-ea84-4bc9-e6cc-ef21d4326d45",
        "scrolled": false,
        "vscode": {
          "languageId": "r"
        }
      },
      "outputs": [
        {
          "data": {
            "text/html": [
              "'0.0000001715002'"
            ],
            "text/latex": [
              "'0.0000001715002'"
            ],
            "text/markdown": [
              "'0.0000001715002'"
            ],
            "text/plain": [
              "[1] \"0.0000001715002\""
            ]
          },
          "metadata": {},
          "output_type": "display_data"
        }
      ],
      "source": [
        "format(dbinom(x = 150, size = 1000, prob = 0.10),scientific = F)"
      ]
    },
    {
      "cell_type": "markdown",
      "metadata": {
        "id": "_bnetcjBmcIv"
      },
      "source": [
        "**Interpretacion** Usando la funcion de masa para *k=150*. La probabilidad de que de los 1000 correos enviados sean respondidos exactamente 150 es de 0.00001715002% lo que es practicamente cero, esto con teniendo una probabilidad de respuesta del 10% en cada correo enviado"
      ]
    },
    {
      "cell_type": "markdown",
      "metadata": {
        "id": "DBoZcXVYmcIv"
      },
      "source": [
        "<div style=\"background-color:#5DADE2\"><b>Apartado 3</b></div>"
      ]
    },
    {
      "cell_type": "markdown",
      "metadata": {
        "id": "v_GL_cS7mcIw"
      },
      "source": [
        "**Linea 1:** En este caso queremos calcular sobre los mismos datos la probabilidad de obtener mas de 150 respuestas, para esto vamos a obtener el complemento de la distribucion acumulada **pbinom()** para obtener las probabilidades mayores a 150 correos respondidos."
      ]
    },
    {
      "cell_type": "code",
      "execution_count": null,
      "metadata": {
        "id": "vEPdYmaamcIw",
        "outputId": "50be21be-c2af-4b8e-c87a-e2f19e8ec23d",
        "scrolled": true,
        "vscode": {
          "languageId": "r"
        }
      },
      "outputs": [
        {
          "data": {
            "text/html": [
              "'0.0000002774441'"
            ],
            "text/latex": [
              "'0.0000002774441'"
            ],
            "text/markdown": [
              "'0.0000002774441'"
            ],
            "text/plain": [
              "[1] \"0.0000002774441\""
            ]
          },
          "metadata": {},
          "output_type": "display_data"
        }
      ],
      "source": [
        "format((1-pbinom(q = 150, size = 1000, prob = 0.10)), scientific = F)"
      ]
    },
    {
      "cell_type": "markdown",
      "metadata": {
        "id": "TZyvP4ZTmcIw"
      },
      "source": [
        "**Interpretacion** Usando el complemento de la funcion de distribucion acumulada *1-pbinom()* observamos que la probabilidad de que de los 1000 correos enviados sean respondidos mas de 150 es de 0.00002774441% lo que en la practica es cero, esto con teniendo una probabilidad de respuesta del 10% en cada correo enviado."
      ]
    },
    {
      "cell_type": "markdown",
      "metadata": {
        "id": "ZrXIOUwQmcIx"
      },
      "source": [
        "<div style=\"background-color:#5DADE2\"><b>Apartado 4</b></div>"
      ]
    },
    {
      "cell_type": "markdown",
      "metadata": {
        "id": "YbGvkxf8mcIx"
      },
      "source": [
        "**Linea 1:** PAra obtener la probabilidad de tener menos de 150 respuestas a los correos enviados debemos calcular la funcion de distribucion acumulada para *k=150* y a esta restarle la funcion de masa para *k=150* esto nos va a dar como resultado la probabilidad de que hasta 149 correos sean respondidos."
      ]
    },
    {
      "cell_type": "code",
      "execution_count": null,
      "metadata": {
        "id": "d1PWNvjFmcIx",
        "outputId": "ef850c96-3364-4658-bf27-3aecec52b5a9",
        "scrolled": false,
        "vscode": {
          "languageId": "r"
        }
      },
      "outputs": [
        {
          "data": {
            "text/html": [
              "99.9999551055714"
            ],
            "text/latex": [
              "99.9999551055714"
            ],
            "text/markdown": [
              "99.9999551055714"
            ],
            "text/plain": [
              "[1] 99.99996"
            ]
          },
          "metadata": {},
          "output_type": "display_data"
        }
      ],
      "source": [
        "(pbinom(q = 150, size = 1000, prob = 0.10)-dbinom(x = 150, size = 1000, prob = 0.10))*100"
      ]
    },
    {
      "cell_type": "markdown",
      "metadata": {
        "id": "NsH2FalhmcIy"
      },
      "source": [
        "**Interpretacion:** Calculando la diferencia entre la funcion de distribucion acumulada y la funcion de masa podemos concluir que, con una de respuesta historica de 10% a los correos recibidos por los clientes de 1000 correos enviados existe una probabilidad de 99.99% de obtener 149 o menos respuestas de clientes"
      ]
    },
    {
      "cell_type": "markdown",
      "metadata": {
        "id": "L3xqBaUqmcIy"
      },
      "source": [
        "<div style=\"background-color:#5DADE2\"><b>Apartado 5</b></div>"
      ]
    },
    {
      "cell_type": "markdown",
      "metadata": {
        "id": "IP5d7MS2mcIy"
      },
      "source": [
        "**Linea 1:** Para realizar el grafico de la funcion de masa usamos **plot()**, y le pasamos como parametros, el numero de correos enviados, la funcion de masa calculada con segun lo solicitado por el ejercicio, el tipo de grafico siendo en este caso histograma y procedemos a darles nombres a los ejes x, y y al titulo"
      ]
    },
    {
      "cell_type": "code",
      "execution_count": null,
      "metadata": {
        "id": "XHSYuEKvmcIy",
        "outputId": "a94b0787-a0ce-4990-8736-ccc036fb3555",
        "scrolled": false,
        "vscode": {
          "languageId": "r"
        }
      },
      "outputs": [
        {
          "data": {
            "image/png": "[encoded data removed]",
            "text/plain": [
              "Plot with title \"Probabilidad de respuesta a correos\""
            ]
          },
          "metadata": {
            "image/png": {
              "height": 420,
              "width": 420
            }
          },
          "output_type": "display_data"
        }
      ],
      "source": [
        "plot(x = 0:1000, y = dbinom(x = 0:1000, size = 1000, prob = 0.10), type = 'h', xlab = \"Correos respondidos\", ylab = \"Probabilidad de respuesta\", main = \"Probabilidad de respuesta a correos\")"
      ]
    },
    {
      "cell_type": "markdown",
      "metadata": {
        "id": "mPfsN5jtmcIy"
      },
      "source": [
        "**Interpretacion:** En el grafico tenemos en el eje *x* el numero de respuestas obtenidas a los correos enviados a los clientes y en el eje *y* la probabilidad de respuesta para cada numero de correos. Podemos concluir entonces que es muy probable que obtengamos respuesta al rededor de 100 correos de los 1000 enviados con una probabilidad aproximada del 42%"
      ]
    },
    {
      "cell_type": "markdown",
      "metadata": {
        "id": "Dw4XiPvQmcIy"
      },
      "source": [
        "<div style=\"background-color:#5DADE2\"><b>Apartado 6</b></div>"
      ]
    },
    {
      "cell_type": "markdown",
      "metadata": {
        "id": "OeimIzcZmcIy"
      },
      "source": [
        "**Linea 1:** Generamos el grafico de la funcion de distribucion usando **plot()** pero ademas le pasamos la funcion **stepfun()** y dentro de esta pasamos como parametro la funcion de densidad y el numero de correos enviados"
      ]
    },
    {
      "cell_type": "code",
      "execution_count": null,
      "metadata": {
        "id": "eKaWutGymcIy",
        "outputId": "9a0bf354-7918-487f-8013-71c298ed8d4a",
        "scrolled": false,
        "vscode": {
          "languageId": "r"
        }
      },
      "outputs": [
        {
          "data": {
            "image/png": "[encoded data removed]",
            "text/plain": [
              "Plot with title \"Probabilidad acumulada de respuesta\""
            ]
          },
          "metadata": {
            "image/png": {
              "height": 420,
              "width": 420
            }
          },
          "output_type": "display_data"
        }
      ],
      "source": [
        "plot(stepfun(0:1000, pbinom(q = 0:1001, size = 1000, prob = 0.10)), main = \"Probabilidad acumulada de respuesta\", xlab = \"Correos respondidos\", ylab = \"Probabilidad acumulada\")"
      ]
    },
    {
      "cell_type": "markdown",
      "metadata": {
        "id": "QmU3xj_2mcI0"
      },
      "source": [
        "**Interpretacion:** De acuerdo al grafico anterior donde observamos en el eje horizontal el numero de correos respondidos y en el eje vertical la probabilidad acumulada de que obtengamos una respuesta concluimos que la probabilidad de obtener una respuesta sube dramaticamente cerca de los 75 correos hasta llegar aproximadamente a los 100 correos respondidos, luego de esto la probabilidad que obtengamos respuesta de mas de 100 correos es practicamente cero"
      ]
    },
    {
      "cell_type": "markdown",
      "metadata": {
        "id": "Z7tlgsc_mcI0"
      },
      "source": [
        "# Bloque 2: Ejercicios intermedios <a id=\"topic3\"></a>&nbsp;&nbsp;<a href=\"#index\"><i class=\"fa fa-list-alt\" aria-hidden=\"true\"></i></a>\n"
      ]
    },
    {
      "cell_type": "markdown",
      "metadata": {
        "id": "_EJU8C0xmcI0"
      },
      "source": [
        "### 05 Ejercicio\n",
        "\n",
        "Contestar a las siguientes cuestiones considerando para ello las funciones necesarias.\n",
        "\n",
        "1. Utilizar un bucle $\\tt for$ para almacenar los códigos de los últimos $40$ productos vendidos por la empresa, en orden inverso, comenzando por el producto más recientemente vendido ($40$) y terminando en el primero ($1$).\n",
        "\n",
        "\n",
        "2. Realizar un bucle $\\tt while$ para mostrar las ventas semanales de productos tecnológicos, comenzando con $10$ ventas en la primera semana y aumentando en un $10\\%$ cada semana, hasta que se alcancen o superen las $100$ ventas.\n",
        "\n",
        "\n",
        "3. Con un bucle $\\tt for$, imprimir los números de identificación de los empleados que están en posiciones impares de un vector `idEmpleados = c(1001, 1002, 1003, 1004, 1005, 1006, 1007, 1008)`.\n",
        "\n",
        "\n",
        "4. Crear un bucle $\\tt for$ con $120$ iteraciones para simular $120$ semanas. Empezar con un balance inicial de $5000$ euros, añadiendo $500$ euros cada semana par y restando $300$ euros cada semana impar.\n",
        "\n",
        "\n",
        "5. Escribir un bucle $\\tt while$ para calcular de manera iterativa el incremento semanal en el número de clientes, empezando con $50$ clientes y aumentando en un $5\\%$ cada semana. Detener el bucle cuando se superen los $1000$ clientes."
      ]
    },
    {
      "cell_type": "markdown",
      "metadata": {
        "id": "rT6s1DIQmcI1"
      },
      "source": [
        "<div style=\"background-color:#F7DC6F\"><b>Resolución Ejercicio 05</b></div>"
      ]
    },
    {
      "cell_type": "markdown",
      "metadata": {
        "id": "RljpqcFGmcI1"
      },
      "source": [
        "<div style=\"background-color:#5DADE2\"><b>Apartado 1</b></div>"
      ]
    },
    {
      "cell_type": "markdown",
      "metadata": {
        "id": "yhTIo99gmcI1"
      },
      "source": [
        "**Linea 1:** Generamos la variable *producto* con valores entre 0 y 40.  \n",
        "**Linea 2:** Generamos la variable *producto_r* donde vamos a almacenar el resultado de nuestro bucle.  \n",
        "**Linea 3:** Iniciamos nuestro bucle con **for()** y le pedimos que haga una accion para todos los valores entre 1 y 40.  \n",
        "**Linea 4:** Le pedimos que de nuestra variable *producto* tome el valor que se encuentra en la posicion 41 menos el indice en el cual se encuentre y lo almacene en *producto_r*.  \n",
        "**Linea 5:** Mostramos en pantalla nuestra variable *producto_r* con los valores solicitados"
      ]
    },
    {
      "cell_type": "code",
      "execution_count": null,
      "metadata": {
        "id": "8UR8_5FTmcI1",
        "outputId": "0c947948-8599-460b-94e9-399553add3ae",
        "vscode": {
          "languageId": "r"
        }
      },
      "outputs": [
        {
          "data": {
            "text/html": [
              "<style>\n",
              ".list-inline {list-style: none; margin:0; padding: 0}\n",
              ".list-inline>li {display: inline-block}\n",
              ".list-inline>li:not(:last-child)::after {content: \"\\00b7\"; padding: 0 .5ex}\n",
              "</style>\n",
              "<ol class=list-inline><li>40</li><li>39</li><li>38</li><li>37</li><li>36</li><li>35</li><li>34</li><li>33</li><li>32</li><li>31</li><li>30</li><li>29</li><li>28</li><li>27</li><li>26</li><li>25</li><li>24</li><li>23</li><li>22</li><li>21</li><li>20</li><li>19</li><li>18</li><li>17</li><li>16</li><li>15</li><li>14</li><li>13</li><li>12</li><li>11</li><li>10</li><li>9</li><li>8</li><li>7</li><li>6</li><li>5</li><li>4</li><li>3</li><li>2</li><li>1</li></ol>\n"
            ],
            "text/latex": [
              "\\begin{enumerate*}\n",
              "\\item 40\n",
              "\\item 39\n",
              "\\item 38\n",
              "\\item 37\n",
              "\\item 36\n",
              "\\item 35\n",
              "\\item 34\n",
              "\\item 33\n",
              "\\item 32\n",
              "\\item 31\n",
              "\\item 30\n",
              "\\item 29\n",
              "\\item 28\n",
              "\\item 27\n",
              "\\item 26\n",
              "\\item 25\n",
              "\\item 24\n",
              "\\item 23\n",
              "\\item 22\n",
              "\\item 21\n",
              "\\item 20\n",
              "\\item 19\n",
              "\\item 18\n",
              "\\item 17\n",
              "\\item 16\n",
              "\\item 15\n",
              "\\item 14\n",
              "\\item 13\n",
              "\\item 12\n",
              "\\item 11\n",
              "\\item 10\n",
              "\\item 9\n",
              "\\item 8\n",
              "\\item 7\n",
              "\\item 6\n",
              "\\item 5\n",
              "\\item 4\n",
              "\\item 3\n",
              "\\item 2\n",
              "\\item 1\n",
              "\\end{enumerate*}\n"
            ],
            "text/markdown": [
              "1. 40\n",
              "2. 39\n",
              "3. 38\n",
              "4. 37\n",
              "5. 36\n",
              "6. 35\n",
              "7. 34\n",
              "8. 33\n",
              "9. 32\n",
              "10. 31\n",
              "11. 30\n",
              "12. 29\n",
              "13. 28\n",
              "14. 27\n",
              "15. 26\n",
              "16. 25\n",
              "17. 24\n",
              "18. 23\n",
              "19. 22\n",
              "20. 21\n",
              "21. 20\n",
              "22. 19\n",
              "23. 18\n",
              "24. 17\n",
              "25. 16\n",
              "26. 15\n",
              "27. 14\n",
              "28. 13\n",
              "29. 12\n",
              "30. 11\n",
              "31. 10\n",
              "32. 9\n",
              "33. 8\n",
              "34. 7\n",
              "35. 6\n",
              "36. 5\n",
              "37. 4\n",
              "38. 3\n",
              "39. 2\n",
              "40. 1\n",
              "\n",
              "\n"
            ],
            "text/plain": [
              " [1] 40 39 38 37 36 35 34 33 32 31 30 29 28 27 26 25 24 23 22 21 20 19 18 17 16\n",
              "[26] 15 14 13 12 11 10  9  8  7  6  5  4  3  2  1"
            ]
          },
          "metadata": {},
          "output_type": "display_data"
        }
      ],
      "source": [
        "producto = 1:40\n",
        "producto_r = NULL\n",
        "for (i in 1:40){\n",
        "    producto_r[i] = producto[41 - i]\n",
        "}\n",
        "producto_r"
      ]
    },
    {
      "cell_type": "markdown",
      "metadata": {
        "id": "TzslzrhqmcI2"
      },
      "source": [
        "<div style=\"background-color:#5DADE2\"><b>Apartado 2</b></div>"
      ]
    },
    {
      "cell_type": "markdown",
      "metadata": {
        "id": "2YcVXGF7mcI2"
      },
      "source": [
        "**Linea 1:** Generamos nuestra variable *ventas*.  \n",
        "**Linea 2:** Creamos la variable *semanas*\n",
        "**Linea 3:** Iniciamos el bucle con **while()** y establecemos como condicion que sea un valor menor o igual a 100.  \n",
        "**Linea 4:** Le pedimos que en cada iteracion nos muestre por pantalla el valor de *ventas*\n",
        "**Linea 5:** Multiplicamos el valor de ventas por 1.10 incrementandolo.  \n",
        "**Linea 6:** Le sumamos 1 a la variable *semanas*.  \n",
        "**Linea 7:** Salimos del bucle"
      ]
    },
    {
      "cell_type": "code",
      "execution_count": null,
      "metadata": {
        "id": "E900MEDYmcI2",
        "outputId": "a56f2bda-9c50-4e6e-a489-82d7f208e4cc",
        "vscode": {
          "languageId": "r"
        }
      },
      "outputs": [
        {
          "name": "stdout",
          "output_type": "stream",
          "text": [
            "[1] 10\n",
            "[1] 11\n",
            "[1] 12.1\n",
            "[1] 13.31\n",
            "[1] 14.641\n",
            "[1] 16.1051\n",
            "[1] 17.71561\n",
            "[1] 19.48717\n",
            "[1] 21.43589\n",
            "[1] 23.57948\n",
            "[1] 25.93742\n",
            "[1] 28.53117\n",
            "[1] 31.38428\n",
            "[1] 34.52271\n",
            "[1] 37.97498\n",
            "[1] 41.77248\n",
            "[1] 45.94973\n",
            "[1] 50.5447\n",
            "[1] 55.59917\n",
            "[1] 61.15909\n",
            "[1] 67.275\n",
            "[1] 74.0025\n",
            "[1] 81.40275\n",
            "[1] 89.54302\n",
            "[1] 98.49733\n"
          ]
        }
      ],
      "source": [
        "ventas = 10\n",
        "semanas = 1\n",
        "while (ventas <= 100){\n",
        "    print(ventas)\n",
        "    ventas = ventas*1.1\n",
        "    semanas = semanas+1\n",
        "}"
      ]
    },
    {
      "cell_type": "markdown",
      "metadata": {
        "id": "b8-zRtEjmcI2"
      },
      "source": [
        "<div style=\"background-color:#5DADE2\"><b>Apartado 3</b></div>"
      ]
    },
    {
      "cell_type": "markdown",
      "metadata": {
        "id": "DdiJqCyrmcI3"
      },
      "source": [
        "**Linea 1:** Creamos la variable *idEmpleados* con los datos proporcionados.  \n",
        "**Linea 2:** Iniciamos el primer bucle **for()** en el cual vamos a recorrer cada *id* de *idEmpleados*.  \n",
        "**Linea 3:** Iniciamos un segundo bucle **for()** en el cual le solicitamos que evalue cada elemento y si su modulo es igual a cero realice una accion.  \n",
        "**Linea 4:** Si la condicion anterior se cumple usamos **next** para que pase a la siguiente\n",
        "**Linea 5:** Salimos del segundo bucle.  \n",
        "**Linea 6:** Si la condicion del bucle anterior no se cumple mostramos en pantalla el elemento.  \n",
        "**Linea 7:** Salimos del primer bucle"
      ]
    },
    {
      "cell_type": "code",
      "execution_count": null,
      "metadata": {
        "id": "ug8xWs5zmcI3",
        "outputId": "a66de977-9900-4208-ad8a-9fc1e893f76d",
        "vscode": {
          "languageId": "r"
        }
      },
      "outputs": [
        {
          "name": "stdout",
          "output_type": "stream",
          "text": [
            "[1] 1001\n",
            "[1] 1003\n",
            "[1] 1005\n",
            "[1] 1007\n"
          ]
        }
      ],
      "source": [
        "idEmpleados = c(1001, 1002, 1003, 1004, 1005, 1006, 1007, 1008)\n",
        "for (id in idEmpleados){\n",
        "    if (id %% 2 == 0) {\n",
        "        next\n",
        "    }\n",
        "    print(id)\n",
        "}"
      ]
    },
    {
      "cell_type": "markdown",
      "metadata": {
        "id": "G1WBD649mcI3"
      },
      "source": [
        "<div style=\"background-color:#5DADE2\"><b>Apartado 4</b></div>"
      ]
    },
    {
      "cell_type": "markdown",
      "metadata": {
        "id": "bHHOdaE7mcI3"
      },
      "source": [
        "**Linea 1:** Creamos la variable *semanas*.  \n",
        "**Linea 2:** Creamos la variable *ahorros*.  \n",
        "**Linea 3:** Creamos una lista vacia llamada *acumulado*.  \n",
        "**Linea 4:** Iniciamos nuestro bucle **for()** indicandole que itere a lo largo de 120 elementos que son nuestras semanas.  \n",
        "**Linea 5:** Le pasamos nuestra condicion, si el modulo de nuestro elemento es igual a cero, es decir es par, que realice la siguiente accion.   \n",
        "**Linea 6:** Sume a la variable ventas 500 euros y reescriba la variable.  \n",
        "**Linea 7:** Salimos de la primera condicion.   \n",
        "**Linea 8:** Le pasamos nuestra segunda condicion en la cual si el modulo de nuestro elemento en el bucle es diferente de cero, es decir impar sucedera lo siguiente.  \n",
        "**Linea 9:** Vamos a restarle 300 y sobreescribimos nuestra variable *ahorros*.  \n",
        "**Linea 10:** Salimos de la segunda condicion.  \n",
        "**Linea 11:** Le sumamos 1 a nuestra variable *semanas*\n",
        "**Linea 12:** Guardamos el valor de nuestra variable *ahorros* en la variable *acumulado*\n",
        "**Linea 13:** Salimos del bucle **for()**"
      ]
    },
    {
      "cell_type": "code",
      "execution_count": null,
      "metadata": {
        "id": "TkA3gjhkmcI4",
        "outputId": "2692d6b9-7258-47f1-a7fc-c140ea518c86",
        "vscode": {
          "languageId": "r"
        }
      },
      "outputs": [
        {
          "data": {
            "text/html": [
              "<ol>\n",
              "\t<li>4700</li>\n",
              "\t<li>5200</li>\n",
              "\t<li>4900</li>\n",
              "\t<li>5400</li>\n",
              "\t<li>5100</li>\n",
              "\t<li>5600</li>\n",
              "\t<li>5300</li>\n",
              "\t<li>5800</li>\n",
              "\t<li>5500</li>\n",
              "\t<li>6000</li>\n",
              "\t<li>5700</li>\n",
              "\t<li>6200</li>\n",
              "\t<li>5900</li>\n",
              "\t<li>6400</li>\n",
              "\t<li>6100</li>\n",
              "\t<li>6600</li>\n",
              "\t<li>6300</li>\n",
              "\t<li>6800</li>\n",
              "\t<li>6500</li>\n",
              "\t<li>7000</li>\n",
              "\t<li>6700</li>\n",
              "\t<li>7200</li>\n",
              "\t<li>6900</li>\n",
              "\t<li>7400</li>\n",
              "\t<li>7100</li>\n",
              "\t<li>7600</li>\n",
              "\t<li>7300</li>\n",
              "\t<li>7800</li>\n",
              "\t<li>7500</li>\n",
              "\t<li>8000</li>\n",
              "\t<li>7700</li>\n",
              "\t<li>8200</li>\n",
              "\t<li>7900</li>\n",
              "\t<li>8400</li>\n",
              "\t<li>8100</li>\n",
              "\t<li>8600</li>\n",
              "\t<li>8300</li>\n",
              "\t<li>8800</li>\n",
              "\t<li>8500</li>\n",
              "\t<li>9000</li>\n",
              "\t<li>8700</li>\n",
              "\t<li>9200</li>\n",
              "\t<li>8900</li>\n",
              "\t<li>9400</li>\n",
              "\t<li>9100</li>\n",
              "\t<li>9600</li>\n",
              "\t<li>9300</li>\n",
              "\t<li>9800</li>\n",
              "\t<li>9500</li>\n",
              "\t<li>10000</li>\n",
              "\t<li>9700</li>\n",
              "\t<li>10200</li>\n",
              "\t<li>9900</li>\n",
              "\t<li>10400</li>\n",
              "\t<li>10100</li>\n",
              "\t<li>10600</li>\n",
              "\t<li>10300</li>\n",
              "\t<li>10800</li>\n",
              "\t<li>10500</li>\n",
              "\t<li>11000</li>\n",
              "\t<li>10700</li>\n",
              "\t<li>11200</li>\n",
              "\t<li>10900</li>\n",
              "\t<li>11400</li>\n",
              "\t<li>11100</li>\n",
              "\t<li>11600</li>\n",
              "\t<li>11300</li>\n",
              "\t<li>11800</li>\n",
              "\t<li>11500</li>\n",
              "\t<li>12000</li>\n",
              "\t<li>11700</li>\n",
              "\t<li>12200</li>\n",
              "\t<li>11900</li>\n",
              "\t<li>12400</li>\n",
              "\t<li>12100</li>\n",
              "\t<li>12600</li>\n",
              "\t<li>12300</li>\n",
              "\t<li>12800</li>\n",
              "\t<li>12500</li>\n",
              "\t<li>13000</li>\n",
              "\t<li>12700</li>\n",
              "\t<li>13200</li>\n",
              "\t<li>12900</li>\n",
              "\t<li>13400</li>\n",
              "\t<li>13100</li>\n",
              "\t<li>13600</li>\n",
              "\t<li>13300</li>\n",
              "\t<li>13800</li>\n",
              "\t<li>13500</li>\n",
              "\t<li>14000</li>\n",
              "\t<li>13700</li>\n",
              "\t<li>14200</li>\n",
              "\t<li>13900</li>\n",
              "\t<li>14400</li>\n",
              "\t<li>14100</li>\n",
              "\t<li>14600</li>\n",
              "\t<li>14300</li>\n",
              "\t<li>14800</li>\n",
              "\t<li>14500</li>\n",
              "\t<li>15000</li>\n",
              "\t<li>14700</li>\n",
              "\t<li>15200</li>\n",
              "\t<li>14900</li>\n",
              "\t<li>15400</li>\n",
              "\t<li>15100</li>\n",
              "\t<li>15600</li>\n",
              "\t<li>15300</li>\n",
              "\t<li>15800</li>\n",
              "\t<li>15500</li>\n",
              "\t<li>16000</li>\n",
              "\t<li>15700</li>\n",
              "\t<li>16200</li>\n",
              "\t<li>15900</li>\n",
              "\t<li>16400</li>\n",
              "\t<li>16100</li>\n",
              "\t<li>16600</li>\n",
              "\t<li>16300</li>\n",
              "\t<li>16800</li>\n",
              "\t<li>16500</li>\n",
              "\t<li>17000</li>\n",
              "</ol>\n"
            ],
            "text/latex": [
              "\\begin{enumerate}\n",
              "\\item 4700\n",
              "\\item 5200\n",
              "\\item 4900\n",
              "\\item 5400\n",
              "\\item 5100\n",
              "\\item 5600\n",
              "\\item 5300\n",
              "\\item 5800\n",
              "\\item 5500\n",
              "\\item 6000\n",
              "\\item 5700\n",
              "\\item 6200\n",
              "\\item 5900\n",
              "\\item 6400\n",
              "\\item 6100\n",
              "\\item 6600\n",
              "\\item 6300\n",
              "\\item 6800\n",
              "\\item 6500\n",
              "\\item 7000\n",
              "\\item 6700\n",
              "\\item 7200\n",
              "\\item 6900\n",
              "\\item 7400\n",
              "\\item 7100\n",
              "\\item 7600\n",
              "\\item 7300\n",
              "\\item 7800\n",
              "\\item 7500\n",
              "\\item 8000\n",
              "\\item 7700\n",
              "\\item 8200\n",
              "\\item 7900\n",
              "\\item 8400\n",
              "\\item 8100\n",
              "\\item 8600\n",
              "\\item 8300\n",
              "\\item 8800\n",
              "\\item 8500\n",
              "\\item 9000\n",
              "\\item 8700\n",
              "\\item 9200\n",
              "\\item 8900\n",
              "\\item 9400\n",
              "\\item 9100\n",
              "\\item 9600\n",
              "\\item 9300\n",
              "\\item 9800\n",
              "\\item 9500\n",
              "\\item 10000\n",
              "\\item 9700\n",
              "\\item 10200\n",
              "\\item 9900\n",
              "\\item 10400\n",
              "\\item 10100\n",
              "\\item 10600\n",
              "\\item 10300\n",
              "\\item 10800\n",
              "\\item 10500\n",
              "\\item 11000\n",
              "\\item 10700\n",
              "\\item 11200\n",
              "\\item 10900\n",
              "\\item 11400\n",
              "\\item 11100\n",
              "\\item 11600\n",
              "\\item 11300\n",
              "\\item 11800\n",
              "\\item 11500\n",
              "\\item 12000\n",
              "\\item 11700\n",
              "\\item 12200\n",
              "\\item 11900\n",
              "\\item 12400\n",
              "\\item 12100\n",
              "\\item 12600\n",
              "\\item 12300\n",
              "\\item 12800\n",
              "\\item 12500\n",
              "\\item 13000\n",
              "\\item 12700\n",
              "\\item 13200\n",
              "\\item 12900\n",
              "\\item 13400\n",
              "\\item 13100\n",
              "\\item 13600\n",
              "\\item 13300\n",
              "\\item 13800\n",
              "\\item 13500\n",
              "\\item 14000\n",
              "\\item 13700\n",
              "\\item 14200\n",
              "\\item 13900\n",
              "\\item 14400\n",
              "\\item 14100\n",
              "\\item 14600\n",
              "\\item 14300\n",
              "\\item 14800\n",
              "\\item 14500\n",
              "\\item 15000\n",
              "\\item 14700\n",
              "\\item 15200\n",
              "\\item 14900\n",
              "\\item 15400\n",
              "\\item 15100\n",
              "\\item 15600\n",
              "\\item 15300\n",
              "\\item 15800\n",
              "\\item 15500\n",
              "\\item 16000\n",
              "\\item 15700\n",
              "\\item 16200\n",
              "\\item 15900\n",
              "\\item 16400\n",
              "\\item 16100\n",
              "\\item 16600\n",
              "\\item 16300\n",
              "\\item 16800\n",
              "\\item 16500\n",
              "\\item 17000\n",
              "\\end{enumerate}\n"
            ],
            "text/markdown": [
              "1. 4700\n",
              "2. 5200\n",
              "3. 4900\n",
              "4. 5400\n",
              "5. 5100\n",
              "6. 5600\n",
              "7. 5300\n",
              "8. 5800\n",
              "9. 5500\n",
              "10. 6000\n",
              "11. 5700\n",
              "12. 6200\n",
              "13. 5900\n",
              "14. 6400\n",
              "15. 6100\n",
              "16. 6600\n",
              "17. 6300\n",
              "18. 6800\n",
              "19. 6500\n",
              "20. 7000\n",
              "21. 6700\n",
              "22. 7200\n",
              "23. 6900\n",
              "24. 7400\n",
              "25. 7100\n",
              "26. 7600\n",
              "27. 7300\n",
              "28. 7800\n",
              "29. 7500\n",
              "30. 8000\n",
              "31. 7700\n",
              "32. 8200\n",
              "33. 7900\n",
              "34. 8400\n",
              "35. 8100\n",
              "36. 8600\n",
              "37. 8300\n",
              "38. 8800\n",
              "39. 8500\n",
              "40. 9000\n",
              "41. 8700\n",
              "42. 9200\n",
              "43. 8900\n",
              "44. 9400\n",
              "45. 9100\n",
              "46. 9600\n",
              "47. 9300\n",
              "48. 9800\n",
              "49. 9500\n",
              "50. 10000\n",
              "51. 9700\n",
              "52. 10200\n",
              "53. 9900\n",
              "54. 10400\n",
              "55. 10100\n",
              "56. 10600\n",
              "57. 10300\n",
              "58. 10800\n",
              "59. 10500\n",
              "60. 11000\n",
              "61. 10700\n",
              "62. 11200\n",
              "63. 10900\n",
              "64. 11400\n",
              "65. 11100\n",
              "66. 11600\n",
              "67. 11300\n",
              "68. 11800\n",
              "69. 11500\n",
              "70. 12000\n",
              "71. 11700\n",
              "72. 12200\n",
              "73. 11900\n",
              "74. 12400\n",
              "75. 12100\n",
              "76. 12600\n",
              "77. 12300\n",
              "78. 12800\n",
              "79. 12500\n",
              "80. 13000\n",
              "81. 12700\n",
              "82. 13200\n",
              "83. 12900\n",
              "84. 13400\n",
              "85. 13100\n",
              "86. 13600\n",
              "87. 13300\n",
              "88. 13800\n",
              "89. 13500\n",
              "90. 14000\n",
              "91. 13700\n",
              "92. 14200\n",
              "93. 13900\n",
              "94. 14400\n",
              "95. 14100\n",
              "96. 14600\n",
              "97. 14300\n",
              "98. 14800\n",
              "99. 14500\n",
              "100. 15000\n",
              "101. 14700\n",
              "102. 15200\n",
              "103. 14900\n",
              "104. 15400\n",
              "105. 15100\n",
              "106. 15600\n",
              "107. 15300\n",
              "108. 15800\n",
              "109. 15500\n",
              "110. 16000\n",
              "111. 15700\n",
              "112. 16200\n",
              "113. 15900\n",
              "114. 16400\n",
              "115. 16100\n",
              "116. 16600\n",
              "117. 16300\n",
              "118. 16800\n",
              "119. 16500\n",
              "120. 17000\n",
              "\n",
              "\n"
            ],
            "text/plain": [
              "[[1]]\n",
              "[1] 4700\n",
              "\n",
              "[[2]]\n",
              "[1] 5200\n",
              "\n",
              "[[3]]\n",
              "[1] 4900\n",
              "\n",
              "[[4]]\n",
              "[1] 5400\n",
              "\n",
              "[[5]]\n",
              "[1] 5100\n",
              "\n",
              "[[6]]\n",
              "[1] 5600\n",
              "\n",
              "[[7]]\n",
              "[1] 5300\n",
              "\n",
              "[[8]]\n",
              "[1] 5800\n",
              "\n",
              "[[9]]\n",
              "[1] 5500\n",
              "\n",
              "[[10]]\n",
              "[1] 6000\n",
              "\n",
              "[[11]]\n",
              "[1] 5700\n",
              "\n",
              "[[12]]\n",
              "[1] 6200\n",
              "\n",
              "[[13]]\n",
              "[1] 5900\n",
              "\n",
              "[[14]]\n",
              "[1] 6400\n",
              "\n",
              "[[15]]\n",
              "[1] 6100\n",
              "\n",
              "[[16]]\n",
              "[1] 6600\n",
              "\n",
              "[[17]]\n",
              "[1] 6300\n",
              "\n",
              "[[18]]\n",
              "[1] 6800\n",
              "\n",
              "[[19]]\n",
              "[1] 6500\n",
              "\n",
              "[[20]]\n",
              "[1] 7000\n",
              "\n",
              "[[21]]\n",
              "[1] 6700\n",
              "\n",
              "[[22]]\n",
              "[1] 7200\n",
              "\n",
              "[[23]]\n",
              "[1] 6900\n",
              "\n",
              "[[24]]\n",
              "[1] 7400\n",
              "\n",
              "[[25]]\n",
              "[1] 7100\n",
              "\n",
              "[[26]]\n",
              "[1] 7600\n",
              "\n",
              "[[27]]\n",
              "[1] 7300\n",
              "\n",
              "[[28]]\n",
              "[1] 7800\n",
              "\n",
              "[[29]]\n",
              "[1] 7500\n",
              "\n",
              "[[30]]\n",
              "[1] 8000\n",
              "\n",
              "[[31]]\n",
              "[1] 7700\n",
              "\n",
              "[[32]]\n",
              "[1] 8200\n",
              "\n",
              "[[33]]\n",
              "[1] 7900\n",
              "\n",
              "[[34]]\n",
              "[1] 8400\n",
              "\n",
              "[[35]]\n",
              "[1] 8100\n",
              "\n",
              "[[36]]\n",
              "[1] 8600\n",
              "\n",
              "[[37]]\n",
              "[1] 8300\n",
              "\n",
              "[[38]]\n",
              "[1] 8800\n",
              "\n",
              "[[39]]\n",
              "[1] 8500\n",
              "\n",
              "[[40]]\n",
              "[1] 9000\n",
              "\n",
              "[[41]]\n",
              "[1] 8700\n",
              "\n",
              "[[42]]\n",
              "[1] 9200\n",
              "\n",
              "[[43]]\n",
              "[1] 8900\n",
              "\n",
              "[[44]]\n",
              "[1] 9400\n",
              "\n",
              "[[45]]\n",
              "[1] 9100\n",
              "\n",
              "[[46]]\n",
              "[1] 9600\n",
              "\n",
              "[[47]]\n",
              "[1] 9300\n",
              "\n",
              "[[48]]\n",
              "[1] 9800\n",
              "\n",
              "[[49]]\n",
              "[1] 9500\n",
              "\n",
              "[[50]]\n",
              "[1] 10000\n",
              "\n",
              "[[51]]\n",
              "[1] 9700\n",
              "\n",
              "[[52]]\n",
              "[1] 10200\n",
              "\n",
              "[[53]]\n",
              "[1] 9900\n",
              "\n",
              "[[54]]\n",
              "[1] 10400\n",
              "\n",
              "[[55]]\n",
              "[1] 10100\n",
              "\n",
              "[[56]]\n",
              "[1] 10600\n",
              "\n",
              "[[57]]\n",
              "[1] 10300\n",
              "\n",
              "[[58]]\n",
              "[1] 10800\n",
              "\n",
              "[[59]]\n",
              "[1] 10500\n",
              "\n",
              "[[60]]\n",
              "[1] 11000\n",
              "\n",
              "[[61]]\n",
              "[1] 10700\n",
              "\n",
              "[[62]]\n",
              "[1] 11200\n",
              "\n",
              "[[63]]\n",
              "[1] 10900\n",
              "\n",
              "[[64]]\n",
              "[1] 11400\n",
              "\n",
              "[[65]]\n",
              "[1] 11100\n",
              "\n",
              "[[66]]\n",
              "[1] 11600\n",
              "\n",
              "[[67]]\n",
              "[1] 11300\n",
              "\n",
              "[[68]]\n",
              "[1] 11800\n",
              "\n",
              "[[69]]\n",
              "[1] 11500\n",
              "\n",
              "[[70]]\n",
              "[1] 12000\n",
              "\n",
              "[[71]]\n",
              "[1] 11700\n",
              "\n",
              "[[72]]\n",
              "[1] 12200\n",
              "\n",
              "[[73]]\n",
              "[1] 11900\n",
              "\n",
              "[[74]]\n",
              "[1] 12400\n",
              "\n",
              "[[75]]\n",
              "[1] 12100\n",
              "\n",
              "[[76]]\n",
              "[1] 12600\n",
              "\n",
              "[[77]]\n",
              "[1] 12300\n",
              "\n",
              "[[78]]\n",
              "[1] 12800\n",
              "\n",
              "[[79]]\n",
              "[1] 12500\n",
              "\n",
              "[[80]]\n",
              "[1] 13000\n",
              "\n",
              "[[81]]\n",
              "[1] 12700\n",
              "\n",
              "[[82]]\n",
              "[1] 13200\n",
              "\n",
              "[[83]]\n",
              "[1] 12900\n",
              "\n",
              "[[84]]\n",
              "[1] 13400\n",
              "\n",
              "[[85]]\n",
              "[1] 13100\n",
              "\n",
              "[[86]]\n",
              "[1] 13600\n",
              "\n",
              "[[87]]\n",
              "[1] 13300\n",
              "\n",
              "[[88]]\n",
              "[1] 13800\n",
              "\n",
              "[[89]]\n",
              "[1] 13500\n",
              "\n",
              "[[90]]\n",
              "[1] 14000\n",
              "\n",
              "[[91]]\n",
              "[1] 13700\n",
              "\n",
              "[[92]]\n",
              "[1] 14200\n",
              "\n",
              "[[93]]\n",
              "[1] 13900\n",
              "\n",
              "[[94]]\n",
              "[1] 14400\n",
              "\n",
              "[[95]]\n",
              "[1] 14100\n",
              "\n",
              "[[96]]\n",
              "[1] 14600\n",
              "\n",
              "[[97]]\n",
              "[1] 14300\n",
              "\n",
              "[[98]]\n",
              "[1] 14800\n",
              "\n",
              "[[99]]\n",
              "[1] 14500\n",
              "\n",
              "[[100]]\n",
              "[1] 15000\n",
              "\n",
              "[[101]]\n",
              "[1] 14700\n",
              "\n",
              "[[102]]\n",
              "[1] 15200\n",
              "\n",
              "[[103]]\n",
              "[1] 14900\n",
              "\n",
              "[[104]]\n",
              "[1] 15400\n",
              "\n",
              "[[105]]\n",
              "[1] 15100\n",
              "\n",
              "[[106]]\n",
              "[1] 15600\n",
              "\n",
              "[[107]]\n",
              "[1] 15300\n",
              "\n",
              "[[108]]\n",
              "[1] 15800\n",
              "\n",
              "[[109]]\n",
              "[1] 15500\n",
              "\n",
              "[[110]]\n",
              "[1] 16000\n",
              "\n",
              "[[111]]\n",
              "[1] 15700\n",
              "\n",
              "[[112]]\n",
              "[1] 16200\n",
              "\n",
              "[[113]]\n",
              "[1] 15900\n",
              "\n",
              "[[114]]\n",
              "[1] 16400\n",
              "\n",
              "[[115]]\n",
              "[1] 16100\n",
              "\n",
              "[[116]]\n",
              "[1] 16600\n",
              "\n",
              "[[117]]\n",
              "[1] 16300\n",
              "\n",
              "[[118]]\n",
              "[1] 16800\n",
              "\n",
              "[[119]]\n",
              "[1] 16500\n",
              "\n",
              "[[120]]\n",
              "[1] 17000\n"
            ]
          },
          "metadata": {},
          "output_type": "display_data"
        }
      ],
      "source": [
        "semanas = 1\n",
        "ahorros = 5000\n",
        "acumulado = list()\n",
        "for (i in 1:120){\n",
        "    if (i %% 2 == 0){\n",
        "        ahorros = ahorros + 500\n",
        "    }\n",
        "    else{\n",
        "        ahorros = ahorros - 300\n",
        "    }\n",
        "    semanas = semanas+1\n",
        "    acumulado[i] = ahorros\n",
        "}\n",
        "acumulado"
      ]
    },
    {
      "cell_type": "markdown",
      "metadata": {
        "id": "fyhjdLjamcI4"
      },
      "source": [
        "<div style=\"background-color:#5DADE2\"><b>Apartado 5</b></div>"
      ]
    },
    {
      "cell_type": "markdown",
      "metadata": {
        "id": "GKtugy4NmcI4"
      },
      "source": [
        "**Linea 1:** Creamos la variable *semanas*.  \n",
        "**Linea 2:** Creamos la variable *clientes*\n",
        "**Linea 3:** Creamos la variable *incremento*\n",
        "**Linea 4:** Iniciamos el bucle **while()** con la condicion de que *clientes* sea menor a 1000.  \n",
        "**Linea 5:** Mientras la condicion se cumpla queremos que a *clientes* le sume la multiplicacion de simisma por el incremento y sobreescriba la variable.   \n",
        "**Linea 6:** Adicionalmente sumamos 1 a la variable *semanas*.  \n",
        "**Linea 7:** Generamos un **if()** que se cumpla si *clientes* es mayor a 1000.  \n",
        "**Linea 8:** Si se cumple la condicion terminamos la ejecucion de nuestro bucle con **break**.  \n",
        "**Linea 9:** Salimos del **if()**.  \n",
        "**Linea 10:** Mostramos en pantalla el valor de *clientes*.  \n",
        "**Linea 11:** Salimos del bucle **while()**"
      ]
    },
    {
      "cell_type": "code",
      "execution_count": null,
      "metadata": {
        "id": "P4PQMKCtmcI4",
        "outputId": "ec19cd96-c009-44ea-e555-854d79b5479b",
        "vscode": {
          "languageId": "r"
        }
      },
      "outputs": [
        {
          "name": "stdout",
          "output_type": "stream",
          "text": [
            "[1] 52.5\n",
            "[1] 55.125\n",
            "[1] 57.88125\n",
            "[1] 60.77531\n",
            "[1] 63.81408\n",
            "[1] 67.00478\n",
            "[1] 70.35502\n",
            "[1] 73.87277\n",
            "[1] 77.56641\n",
            "[1] 81.44473\n",
            "[1] 85.51697\n",
            "[1] 89.79282\n",
            "[1] 94.28246\n",
            "[1] 98.99658\n",
            "[1] 103.9464\n",
            "[1] 109.1437\n",
            "[1] 114.6009\n",
            "[1] 120.331\n",
            "[1] 126.3475\n",
            "[1] 132.6649\n",
            "[1] 139.2981\n",
            "[1] 146.263\n",
            "[1] 153.5762\n",
            "[1] 161.255\n",
            "[1] 169.3177\n",
            "[1] 177.7836\n",
            "[1] 186.6728\n",
            "[1] 196.0065\n",
            "[1] 205.8068\n",
            "[1] 216.0971\n",
            "[1] 226.902\n",
            "[1] 238.2471\n",
            "[1] 250.1594\n",
            "[1] 262.6674\n",
            "[1] 275.8008\n",
            "[1] 289.5908\n",
            "[1] 304.0703\n",
            "[1] 319.2739\n",
            "[1] 335.2376\n",
            "[1] 351.9994\n",
            "[1] 369.5994\n",
            "[1] 388.0794\n",
            "[1] 407.4833\n",
            "[1] 427.8575\n",
            "[1] 449.2504\n",
            "[1] 471.7129\n",
            "[1] 495.2986\n",
            "[1] 520.0635\n",
            "[1] 546.0667\n",
            "[1] 573.37\n",
            "[1] 602.0385\n",
            "[1] 632.1404\n",
            "[1] 663.7474\n",
            "[1] 696.9348\n",
            "[1] 731.7815\n",
            "[1] 768.3706\n",
            "[1] 806.7892\n",
            "[1] 847.1286\n",
            "[1] 889.485\n",
            "[1] 933.9593\n",
            "[1] 980.6573\n"
          ]
        }
      ],
      "source": [
        "semanas = 1\n",
        "clientes = 50\n",
        "incremento = 0.05\n",
        "\n",
        "while (clientes <= 1000){\n",
        "    clientes = clientes * 1.05\n",
        "    semanas = semanas+1\n",
        "\n",
        "    if (clientes > 1000){\n",
        "        break\n",
        "    }\n",
        "    print(clientes)\n",
        "}"
      ]
    },
    {
      "cell_type": "markdown",
      "metadata": {
        "id": "_46EWpHymcI4"
      },
      "source": [
        "### 06 Ejercicio\n",
        "\n",
        "El archivo de datos `satisfaccion_empleados.csv` recoge los resultados de una encuesta realizada por el Centro de Investigaciones Sociológicas (CIS). En concreto, proporciona las puntuaciones (sobre $10$) dadas por un conjunto de $100$ empleados en diversas áreas durante el año $2023$ donde $0$ indica una menor satisfacción y $10$ una mayor satisfacción. Las áreas evaluadas incluyen:\n",
        "\n",
        "* Ambiente laboral (columna `Ambiente`).\n",
        "* Capacitación y desarrollo profesional (columna `Capacitacion`).\n",
        "* Relación con supervisores (columna `Supervisores`).\n",
        "* Beneficios y compensaciones (columna `Beneficios`).\n",
        "* Equilibrio vida laboral-personal (columna `Equilibrio`).\n",
        "\n",
        "Se os pide:\n",
        "\n",
        "1. Cargar el archivo de datos y convertirlo en un dataframe. Describir la estructura del dataset y las variables utilizadas.\n",
        "\n",
        "\n",
        "2. Calcular el vector de medias y desviaciones típicas de las puntuaciones de satisfacción. Identificar las áreas con mayor y menor variabilidad en las puntuaciones.\n",
        "\n",
        "\n",
        "3. Calcular la matriz de correlación de Pearson de esta base de datos.\n",
        "\n",
        "\n",
        "4. Representar gráficamente la matriz de correlaciones de Pearson.\n",
        "\n",
        "\n",
        "5. Determinar qué par de variables tiene la mayor y la menor correlación.\n",
        "\n",
        "\n",
        "6. Realizar los contrastes de hipótesis de correlación entre las distintas áreas e interpretar los resultados."
      ]
    },
    {
      "cell_type": "markdown",
      "metadata": {
        "id": "p0h5Vv8RmcI5"
      },
      "source": [
        "<div style=\"background-color:#F7DC6F\"><b>Resolución Ejercicio 06</b></div>"
      ]
    },
    {
      "cell_type": "markdown",
      "metadata": {
        "id": "U-Sik8cxmcI5"
      },
      "source": [
        "<div style=\"background-color:#5DADE2\"><b>Apartado 1</b></div>"
      ]
    },
    {
      "cell_type": "markdown",
      "metadata": {
        "id": "quZl13kWmcI5"
      },
      "source": [
        "**Linea 1:** Cargamos el archivo de dato usando **read.csv()** y lo guardamos como *datos*.  \n",
        "**Linea 2:** Mostramos los 5 primeros valores de *datos* con **head()**"
      ]
    },
    {
      "cell_type": "code",
      "execution_count": null,
      "metadata": {
        "id": "XQ6hJ2YSmcI5",
        "outputId": "78f75677-ea14-44c2-bf49-2d4b05dc5b86",
        "scrolled": true,
        "vscode": {
          "languageId": "r"
        }
      },
      "outputs": [
        {
          "data": {
            "text/html": [
              "<table class=\"dataframe\">\n",
              "<caption>A data.frame: 6 × 5</caption>\n",
              "<thead>\n",
              "\t<tr><th></th><th scope=col>Ambiente</th><th scope=col>Capacitacion</th><th scope=col>Supervisores</th><th scope=col>Beneficios</th><th scope=col>Equilibrio</th></tr>\n",
              "\t<tr><th></th><th scope=col>&lt;int&gt;</th><th scope=col>&lt;int&gt;</th><th scope=col>&lt;int&gt;</th><th scope=col>&lt;int&gt;</th><th scope=col>&lt;int&gt;</th></tr>\n",
              "</thead>\n",
              "<tbody>\n",
              "\t<tr><th scope=row>1</th><td>7</td><td>7</td><td>9</td><td> 3</td><td> 6</td></tr>\n",
              "\t<tr><th scope=row>2</th><td>6</td><td>1</td><td>1</td><td>10</td><td> 3</td></tr>\n",
              "\t<tr><th scope=row>3</th><td>9</td><td>2</td><td>2</td><td> 6</td><td> 4</td></tr>\n",
              "\t<tr><th scope=row>4</th><td>4</td><td>8</td><td>7</td><td> 4</td><td> 2</td></tr>\n",
              "\t<tr><th scope=row>5</th><td>1</td><td>2</td><td>2</td><td>10</td><td>10</td></tr>\n",
              "\t<tr><th scope=row>6</th><td>2</td><td>7</td><td>2</td><td> 8</td><td> 2</td></tr>\n",
              "</tbody>\n",
              "</table>\n"
            ],
            "text/latex": [
              "A data.frame: 6 × 5\n",
              "\\begin{tabular}{r|lllll}\n",
              "  & Ambiente & Capacitacion & Supervisores & Beneficios & Equilibrio\\\\\n",
              "  & <int> & <int> & <int> & <int> & <int>\\\\\n",
              "\\hline\n",
              "\t1 & 7 & 7 & 9 &  3 &  6\\\\\n",
              "\t2 & 6 & 1 & 1 & 10 &  3\\\\\n",
              "\t3 & 9 & 2 & 2 &  6 &  4\\\\\n",
              "\t4 & 4 & 8 & 7 &  4 &  2\\\\\n",
              "\t5 & 1 & 2 & 2 & 10 & 10\\\\\n",
              "\t6 & 2 & 7 & 2 &  8 &  2\\\\\n",
              "\\end{tabular}\n"
            ],
            "text/markdown": [
              "\n",
              "A data.frame: 6 × 5\n",
              "\n",
              "| <!--/--> | Ambiente &lt;int&gt; | Capacitacion &lt;int&gt; | Supervisores &lt;int&gt; | Beneficios &lt;int&gt; | Equilibrio &lt;int&gt; |\n",
              "|---|---|---|---|---|---|\n",
              "| 1 | 7 | 7 | 9 |  3 |  6 |\n",
              "| 2 | 6 | 1 | 1 | 10 |  3 |\n",
              "| 3 | 9 | 2 | 2 |  6 |  4 |\n",
              "| 4 | 4 | 8 | 7 |  4 |  2 |\n",
              "| 5 | 1 | 2 | 2 | 10 | 10 |\n",
              "| 6 | 2 | 7 | 2 |  8 |  2 |\n",
              "\n"
            ],
            "text/plain": [
              "  Ambiente Capacitacion Supervisores Beneficios Equilibrio\n",
              "1 7        7            9             3          6        \n",
              "2 6        1            1            10          3        \n",
              "3 9        2            2             6          4        \n",
              "4 4        8            7             4          2        \n",
              "5 1        2            2            10         10        \n",
              "6 2        7            2             8          2        "
            ]
          },
          "metadata": {},
          "output_type": "display_data"
        }
      ],
      "source": [
        "datos = read.csv('satisfaccion_empleados.csv')\n",
        "head(datos)"
      ]
    },
    {
      "cell_type": "markdown",
      "metadata": {
        "id": "id4SEQaxmcI5"
      },
      "source": [
        "**Linea 1:** Observamos la estructura de nuestro dataframe con **str()**."
      ]
    },
    {
      "cell_type": "code",
      "execution_count": null,
      "metadata": {
        "id": "Q6ovmlSAmcI6",
        "outputId": "07ff604a-c76e-4b7b-fb77-65d21de01b60",
        "scrolled": false,
        "vscode": {
          "languageId": "r"
        }
      },
      "outputs": [
        {
          "name": "stdout",
          "output_type": "stream",
          "text": [
            "'data.frame':\t100 obs. of  5 variables:\n",
            " $ Ambiente    : int  7 6 9 4 1 2 2 8 3 8 ...\n",
            " $ Capacitacion: int  7 1 2 8 2 7 9 5 5 8 ...\n",
            " $ Supervisores: int  9 1 2 7 2 2 7 4 8 8 ...\n",
            " $ Beneficios  : int  3 10 6 4 10 8 3 6 10 3 ...\n",
            " $ Equilibrio  : int  6 3 4 2 10 2 8 5 8 4 ...\n"
          ]
        }
      ],
      "source": [
        "str(datos)"
      ]
    },
    {
      "cell_type": "markdown",
      "metadata": {
        "id": "LGUCogu7mcI6"
      },
      "source": [
        "**Interpretacion:** Podemos observar que la estructura de nuestro dataframe se compone de 5 columnas las cuales tienen 100 observaciones cada una, para un total de 500 datos.  "
      ]
    },
    {
      "cell_type": "markdown",
      "metadata": {
        "id": "JHusHZIgmcI6"
      },
      "source": [
        "**Linea 1:** Ahora queremos conocer los principales estadisticos de nuestro dataframe, lo consultamos con la funcion **summary()**"
      ]
    },
    {
      "cell_type": "code",
      "execution_count": null,
      "metadata": {
        "id": "Jb3-y4asmcI6",
        "outputId": "7f750f44-8ad8-49f0-9027-0ea630d1d674",
        "vscode": {
          "languageId": "r"
        }
      },
      "outputs": [
        {
          "data": {
            "text/plain": [
              "    Ambiente      Capacitacion    Supervisores     Beneficios   \n",
              " Min.   : 1.00   Min.   : 1.00   Min.   : 1.00   Min.   : 1.00  \n",
              " 1st Qu.: 3.00   1st Qu.: 2.75   1st Qu.: 3.00   1st Qu.: 3.00  \n",
              " Median : 5.00   Median : 5.00   Median : 5.50   Median : 5.00  \n",
              " Mean   : 5.19   Mean   : 5.29   Mean   : 5.52   Mean   : 5.26  \n",
              " 3rd Qu.: 8.00   3rd Qu.: 8.00   3rd Qu.: 8.00   3rd Qu.: 8.00  \n",
              " Max.   :10.00   Max.   :10.00   Max.   :10.00   Max.   :10.00  \n",
              "   Equilibrio   \n",
              " Min.   : 1.00  \n",
              " 1st Qu.: 3.00  \n",
              " Median : 5.50  \n",
              " Mean   : 5.52  \n",
              " 3rd Qu.: 8.00  \n",
              " Max.   :10.00  "
            ]
          },
          "metadata": {},
          "output_type": "display_data"
        }
      ],
      "source": [
        "summary(datos)"
      ]
    },
    {
      "cell_type": "markdown",
      "metadata": {
        "id": "otQDRacgmcI7"
      },
      "source": [
        "**Interpretacion:** Podemos observar los principales estadisticos para cada una de las columnas de nuestro dataset, entre otras cosas notamos que todas se encuentran en un rango de 1 a 10 y sus valores estadisticos como la media, mediana y cuartiles parecen seguir una dispersion similar pues no difieren mucho entre si."
      ]
    },
    {
      "cell_type": "markdown",
      "metadata": {
        "id": "85n_zD2amcI7"
      },
      "source": [
        "<div style=\"background-color:#5DADE2\"><b>Apartado 2</b></div>"
      ]
    },
    {
      "cell_type": "markdown",
      "metadata": {
        "id": "6E2i9JvnmcI7"
      },
      "source": [
        "**Linea 1:** Calculamos las medias de cada una de las columnas y las guardamos en el vector *medias*.  \n",
        "**Linea 2:** Nombramos cada una de las medias de acuerdo a su columna con **names()**"
      ]
    },
    {
      "cell_type": "code",
      "execution_count": null,
      "metadata": {
        "id": "vPTsMV30mcI7",
        "outputId": "97ae32ae-4fa0-427d-b86d-ec38e5c2abdb",
        "vscode": {
          "languageId": "r"
        }
      },
      "outputs": [
        {
          "data": {
            "text/html": [
              "<style>\n",
              ".dl-inline {width: auto; margin:0; padding: 0}\n",
              ".dl-inline>dt, .dl-inline>dd {float: none; width: auto; display: inline-block}\n",
              ".dl-inline>dt::after {content: \":\\0020\"; padding-right: .5ex}\n",
              ".dl-inline>dt:not(:first-of-type) {padding-left: .5ex}\n",
              "</style><dl class=dl-inline><dt>Ambiente</dt><dd>5.19</dd><dt>Capacitacion</dt><dd>5.29</dd><dt>Supervisores</dt><dd>5.52</dd><dt>Beneficios</dt><dd>5.26</dd><dt>Equilibrio</dt><dd>5.52</dd></dl>\n"
            ],
            "text/latex": [
              "\\begin{description*}\n",
              "\\item[Ambiente] 5.19\n",
              "\\item[Capacitacion] 5.29\n",
              "\\item[Supervisores] 5.52\n",
              "\\item[Beneficios] 5.26\n",
              "\\item[Equilibrio] 5.52\n",
              "\\end{description*}\n"
            ],
            "text/markdown": [
              "Ambiente\n",
              ":   5.19Capacitacion\n",
              ":   5.29Supervisores\n",
              ":   5.52Beneficios\n",
              ":   5.26Equilibrio\n",
              ":   5.52\n",
              "\n"
            ],
            "text/plain": [
              "    Ambiente Capacitacion Supervisores   Beneficios   Equilibrio \n",
              "        5.19         5.29         5.52         5.26         5.52 "
            ]
          },
          "metadata": {},
          "output_type": "display_data"
        }
      ],
      "source": [
        "medias = c(mean(datos$Ambiente),mean(datos$Capacitacion),mean(datos$Supervisores),mean(datos$Beneficios),mean(datos$Equilibrio))\n",
        "names(medias) = c('Ambiente','Capacitacion','Supervisores','Beneficios','Equilibrio')\n",
        "medias"
      ]
    },
    {
      "cell_type": "markdown",
      "metadata": {
        "id": "t4BOaQ6-mcI7"
      },
      "source": [
        "**Linea 1:** Calculamos las desviaciones estandar de cada una de las columnas y las guardamos en el vector *desviaciones*.  \n",
        "**Linea 2:** Nombramos cada una de las medias de acuerdo a su columna con **names()**"
      ]
    },
    {
      "cell_type": "code",
      "execution_count": null,
      "metadata": {
        "id": "wYbrOas4mcI7",
        "outputId": "d7effe29-710c-4b61-d9dc-90a41b515670",
        "vscode": {
          "languageId": "r"
        }
      },
      "outputs": [
        {
          "data": {
            "text/html": [
              "<style>\n",
              ".dl-inline {width: auto; margin:0; padding: 0}\n",
              ".dl-inline>dt, .dl-inline>dd {float: none; width: auto; display: inline-block}\n",
              ".dl-inline>dt::after {content: \":\\0020\"; padding-right: .5ex}\n",
              ".dl-inline>dt:not(:first-of-type) {padding-left: .5ex}\n",
              "</style><dl class=dl-inline><dt>Ambiente</dt><dd>2.88393320086834</dd><dt>Capacitacion</dt><dd>2.89651479882254</dd><dt>Supervisores</dt><dd>2.91107255738215</dd><dt>Beneficios</dt><dd>2.93918149810247</dd><dt>Equilibrio</dt><dd>2.85855087960896</dd></dl>\n"
            ],
            "text/latex": [
              "\\begin{description*}\n",
              "\\item[Ambiente] 2.88393320086834\n",
              "\\item[Capacitacion] 2.89651479882254\n",
              "\\item[Supervisores] 2.91107255738215\n",
              "\\item[Beneficios] 2.93918149810247\n",
              "\\item[Equilibrio] 2.85855087960896\n",
              "\\end{description*}\n"
            ],
            "text/markdown": [
              "Ambiente\n",
              ":   2.88393320086834Capacitacion\n",
              ":   2.89651479882254Supervisores\n",
              ":   2.91107255738215Beneficios\n",
              ":   2.93918149810247Equilibrio\n",
              ":   2.85855087960896\n",
              "\n"
            ],
            "text/plain": [
              "    Ambiente Capacitacion Supervisores   Beneficios   Equilibrio \n",
              "    2.883933     2.896515     2.911073     2.939181     2.858551 "
            ]
          },
          "metadata": {},
          "output_type": "display_data"
        }
      ],
      "source": [
        "desviaciones = c(sd(datos$Ambiente),sd(datos$Capacitacion),sd(datos$Supervisores),sd(datos$Beneficios),sd(datos$Equilibrio))\n",
        "names(desviaciones) = c('Ambiente','Capacitacion','Supervisores','Beneficios','Equilibrio')\n",
        "desviaciones"
      ]
    },
    {
      "cell_type": "markdown",
      "metadata": {
        "id": "JUz3hF1ZmcI7"
      },
      "source": [
        "**Interpretacion:** De acuerdo a los vectores anteriores podemos decir que no existe una columna que tenga una variabilidad atipica, pero podemos observar que *Supervisores* presenta uno de los dos valores mas altos en la media y el segundo mas alto en la desviacion estandar por lo que podemos concluir que esta es la columna con la mayor variabilidad en el dataframe."
      ]
    },
    {
      "cell_type": "markdown",
      "metadata": {
        "id": "tJ_WCP6WmcI8"
      },
      "source": [
        "<div style=\"background-color:#5DADE2\"><b>Apartado 3</b></div>"
      ]
    },
    {
      "cell_type": "markdown",
      "metadata": {
        "id": "sawZx2fmmcI8"
      },
      "source": [
        "**Linea 1:** Calculamos la matriz de correlacion de *pearson* mediante la funcion **cor()** y la guardamos en la variable *correlacion*, usamos **format()** para obtener los datos en decimales y no en notacion cientifica."
      ]
    },
    {
      "cell_type": "code",
      "execution_count": null,
      "metadata": {
        "id": "OaGt11EqmcI8",
        "outputId": "fcec570c-cc01-4b5f-e728-8a9f452ae77d",
        "scrolled": false,
        "vscode": {
          "languageId": "r"
        }
      },
      "outputs": [
        {
          "data": {
            "text/html": [
              "<table class=\"dataframe\">\n",
              "<caption>A matrix: 5 × 5 of type chr</caption>\n",
              "<thead>\n",
              "\t<tr><th></th><th scope=col>Ambiente</th><th scope=col>Capacitacion</th><th scope=col>Supervisores</th><th scope=col>Beneficios</th><th scope=col>Equilibrio</th></tr>\n",
              "</thead>\n",
              "<tbody>\n",
              "\t<tr><th scope=row>Ambiente</th><td> 1.00000000000</td><td>-0.02238258671</td><td> 0.05789648491</td><td>-0.00707847412</td><td>-0.10767719415</td></tr>\n",
              "\t<tr><th scope=row>Capacitacion</th><td>-0.02238258671</td><td> 1.00000000000</td><td> 0.07896837880</td><td>-0.09674607522</td><td>-0.00009759625</td></tr>\n",
              "\t<tr><th scope=row>Supervisores</th><td> 0.05789648491</td><td> 0.07896837880</td><td> 1.00000000000</td><td> 0.01119163937</td><td> 0.08613495980</td></tr>\n",
              "\t<tr><th scope=row>Beneficios</th><td>-0.00707847412</td><td>-0.09674607522</td><td> 0.01119163937</td><td> 1.00000000000</td><td> 0.04506009010</td></tr>\n",
              "\t<tr><th scope=row>Equilibrio</th><td>-0.10767719415</td><td>-0.00009759625</td><td> 0.08613495980</td><td> 0.04506009010</td><td> 1.00000000000</td></tr>\n",
              "</tbody>\n",
              "</table>\n"
            ],
            "text/latex": [
              "A matrix: 5 × 5 of type chr\n",
              "\\begin{tabular}{r|lllll}\n",
              "  & Ambiente & Capacitacion & Supervisores & Beneficios & Equilibrio\\\\\n",
              "\\hline\n",
              "\tAmbiente &  1.00000000000 & -0.02238258671 &  0.05789648491 & -0.00707847412 & -0.10767719415\\\\\n",
              "\tCapacitacion & -0.02238258671 &  1.00000000000 &  0.07896837880 & -0.09674607522 & -0.00009759625\\\\\n",
              "\tSupervisores &  0.05789648491 &  0.07896837880 &  1.00000000000 &  0.01119163937 &  0.08613495980\\\\\n",
              "\tBeneficios & -0.00707847412 & -0.09674607522 &  0.01119163937 &  1.00000000000 &  0.04506009010\\\\\n",
              "\tEquilibrio & -0.10767719415 & -0.00009759625 &  0.08613495980 &  0.04506009010 &  1.00000000000\\\\\n",
              "\\end{tabular}\n"
            ],
            "text/markdown": [
              "\n",
              "A matrix: 5 × 5 of type chr\n",
              "\n",
              "| <!--/--> | Ambiente | Capacitacion | Supervisores | Beneficios | Equilibrio |\n",
              "|---|---|---|---|---|---|\n",
              "| Ambiente |  1.00000000000 | -0.02238258671 |  0.05789648491 | -0.00707847412 | -0.10767719415 |\n",
              "| Capacitacion | -0.02238258671 |  1.00000000000 |  0.07896837880 | -0.09674607522 | -0.00009759625 |\n",
              "| Supervisores |  0.05789648491 |  0.07896837880 |  1.00000000000 |  0.01119163937 |  0.08613495980 |\n",
              "| Beneficios | -0.00707847412 | -0.09674607522 |  0.01119163937 |  1.00000000000 |  0.04506009010 |\n",
              "| Equilibrio | -0.10767719415 | -0.00009759625 |  0.08613495980 |  0.04506009010 |  1.00000000000 |\n",
              "\n"
            ],
            "text/plain": [
              "             Ambiente       Capacitacion   Supervisores   Beneficios    \n",
              "Ambiente      1.00000000000 -0.02238258671  0.05789648491 -0.00707847412\n",
              "Capacitacion -0.02238258671  1.00000000000  0.07896837880 -0.09674607522\n",
              "Supervisores  0.05789648491  0.07896837880  1.00000000000  0.01119163937\n",
              "Beneficios   -0.00707847412 -0.09674607522  0.01119163937  1.00000000000\n",
              "Equilibrio   -0.10767719415 -0.00009759625  0.08613495980  0.04506009010\n",
              "             Equilibrio    \n",
              "Ambiente     -0.10767719415\n",
              "Capacitacion -0.00009759625\n",
              "Supervisores  0.08613495980\n",
              "Beneficios    0.04506009010\n",
              "Equilibrio    1.00000000000"
            ]
          },
          "metadata": {},
          "output_type": "display_data"
        }
      ],
      "source": [
        "correlacion = format(cor(datos, method = \"pearson\"), scientific = F)\n",
        "correlacion"
      ]
    },
    {
      "cell_type": "markdown",
      "metadata": {
        "id": "9vbpShYAmcI8"
      },
      "source": [
        "**Interpretacion:** Podemos observar en la matriz de correlacion de *Pearson* anterior que no existe ningun tipo de correlacion entre los datos de nuestro dataframe, puesto que estos son muy cercanos a cero, siento la mas significativa la pequeña correlacion negativa entre *equilibrio* y *ambiente*."
      ]
    },
    {
      "cell_type": "markdown",
      "metadata": {
        "id": "8zjASlsymcI8"
      },
      "source": [
        "<div style=\"background-color:#5DADE2\"><b>Apartado 4</b></div>"
      ]
    },
    {
      "cell_type": "markdown",
      "metadata": {
        "id": "w6lhqtZamcI8"
      },
      "source": [
        "**Linea 1:** Para representar graficamente la matriz de correlacion usamos un **heatmap()** ya que nos permite tener una mejor representacion visual de los datos y sus correlaciones."
      ]
    },
    {
      "cell_type": "code",
      "execution_count": null,
      "metadata": {
        "id": "pwdnSlj7mcI9",
        "outputId": "4227ffbd-f07d-4759-acc2-637c6f507ccb",
        "scrolled": true,
        "vscode": {
          "languageId": "r"
        }
      },
      "outputs": [
        {
          "data": {
            "image/png": "[encoded data removed]",
            "text/plain": [
              "Plot with title \"Matriz de correlacion de Pearson\""
            ]
          },
          "metadata": {
            "image/png": {
              "height": 420,
              "width": 420
            }
          },
          "output_type": "display_data"
        }
      ],
      "source": [
        "heatmap(cor(datos, method = \"pearson\"), main = \"Matriz de correlacion de Pearson\", Rowv = NA, Colv = NA, col = hcl.colors(50))"
      ]
    },
    {
      "cell_type": "markdown",
      "metadata": {
        "id": "aldP6aermcI9"
      },
      "source": [
        "**Interpretacion:** En el anterior grafico podemos observar de manera mas clara las correlaciones entre las variables de nuestro dataframe, siendo amarillos para correlaciones positivas y verdes para las negativas, en nuestro caso en particular no tenemos correlaciones negativas por lo que no se presenta el color verde, adicional podemos observar que a excepcion de la diagonal principal que esta en amarillo no existe una mayor variacion en el color de nuestro heatmap lo cual nos indica que existe una correlacion practicamente nula entre nuestras variables."
      ]
    },
    {
      "cell_type": "markdown",
      "metadata": {
        "id": "MqqeOWXwmcI9"
      },
      "source": [
        "<div style=\"background-color:#5DADE2\"><b>Apartado 5</b></div>"
      ]
    },
    {
      "cell_type": "markdown",
      "metadata": {
        "id": "vrtyRZY2mcI9"
      },
      "source": [
        "**Linea 1:** Para este caso especifico convertimos nuestra matriz de correlacion a valores absolutos puesto que no nos interesa la direccion de la correlacion si no mas bien saber cual es la menor entre ellas, es decir la que se acerca mas a cero.  \n",
        " **Linea 2:** Ahora procedemos a sacar el menor valor de nuestra matriz en terminos absolutos para conocer cual es el que se acerca mas a cero.   \n",
        "**Linea 3:** Ya que sabemos cual es el menor valor, vamos a poner buscar en nuestra tabla que par de columnas corresponden a este valor, usamos la funcion **which()** y le pedimos que nos muestre la ubicacion donde se encuentra nuestro valor minimo, por ultimo le especificamos que queremos el resultado como una matriz para poder identificarlo mejor con *arr.ind*"
      ]
    },
    {
      "cell_type": "code",
      "execution_count": null,
      "metadata": {
        "id": "PZ5vh7A9mcI-",
        "outputId": "123f0ac3-2ef0-4ea9-8874-4e84ddda358b",
        "vscode": {
          "languageId": "r"
        }
      },
      "outputs": [
        {
          "data": {
            "text/html": [
              "'0.00009759625'"
            ],
            "text/latex": [
              "'0.00009759625'"
            ],
            "text/markdown": [
              "'0.00009759625'"
            ],
            "text/plain": [
              "[1] \"0.00009759625\""
            ]
          },
          "metadata": {},
          "output_type": "display_data"
        }
      ],
      "source": [
        "corr_absoluta = abs(cor(datos, method = \"pearson\"))\n",
        "min_corr_absoluta = min(abs(cor(datos, method = \"pearson\")))\n",
        "format(min_corr_absoluta, scientific = F)"
      ]
    },
    {
      "cell_type": "code",
      "execution_count": null,
      "metadata": {
        "id": "0N6I8LN4mcI-",
        "outputId": "3d925982-ee89-4849-d12b-0a3ebc7da883",
        "scrolled": true,
        "vscode": {
          "languageId": "r"
        }
      },
      "outputs": [
        {
          "data": {
            "text/html": [
              "<table class=\"dataframe\">\n",
              "<caption>A matrix: 2 × 2 of type int</caption>\n",
              "<thead>\n",
              "\t<tr><th></th><th scope=col>row</th><th scope=col>col</th></tr>\n",
              "</thead>\n",
              "<tbody>\n",
              "\t<tr><th scope=row>Equilibrio</th><td>5</td><td>2</td></tr>\n",
              "\t<tr><th scope=row>Capacitacion</th><td>2</td><td>5</td></tr>\n",
              "</tbody>\n",
              "</table>\n"
            ],
            "text/latex": [
              "A matrix: 2 × 2 of type int\n",
              "\\begin{tabular}{r|ll}\n",
              "  & row & col\\\\\n",
              "\\hline\n",
              "\tEquilibrio & 5 & 2\\\\\n",
              "\tCapacitacion & 2 & 5\\\\\n",
              "\\end{tabular}\n"
            ],
            "text/markdown": [
              "\n",
              "A matrix: 2 × 2 of type int\n",
              "\n",
              "| <!--/--> | row | col |\n",
              "|---|---|---|\n",
              "| Equilibrio | 5 | 2 |\n",
              "| Capacitacion | 2 | 5 |\n",
              "\n"
            ],
            "text/plain": [
              "             row col\n",
              "Equilibrio   5   2  \n",
              "Capacitacion 2   5  "
            ]
          },
          "metadata": {},
          "output_type": "display_data"
        }
      ],
      "source": [
        "which(corr_absoluta == min_corr_absoluta, arr.ind = TRUE)"
      ]
    },
    {
      "cell_type": "markdown",
      "metadata": {
        "id": "2woi57WPmcI-"
      },
      "source": [
        "**Interpretacion:** De acuerdo a nuestra matriz anterior vemos que la menor correlacion, es decir la que mas se acerca a cero se da entre las columnas *Equilibrio* y *Capacitacion* siendo 0.00009759625"
      ]
    },
    {
      "cell_type": "markdown",
      "metadata": {
        "id": "m1MHIOyamcI_"
      },
      "source": [
        "**Linea 1:** Aprovechando que ya tenemos nuestra matriz convertida a valores absolutos pasamos directamente a obtener el valor maximo con **max()**, aqui agregamos un matiz puesto que el valor maximo siempre va a ser 1 debemos realizar un pequeño filtro para evitar seleccionar el valor 1.   \n",
        " **Linea 2:** Mostramos en pantalla el valor mayor de nuestra matriz en terminos absolutos para conocer cual es el que se aleja mas de cero sin contar el 1.   \n",
        "**Linea 3:** Ya que sabemos cual es el valor mayor, vamos a poner buscar en nuestra tabla que par de columnas corresponden a este valor, usamos la funcion **which()** y le pedimos que nos muestre la ubicacion donde se encuentra nuestro valor maximo, por ultimo le especificamos que queremos el resultado como una matriz para poder identificarlo mejor con *arr.ind*"
      ]
    },
    {
      "cell_type": "code",
      "execution_count": null,
      "metadata": {
        "id": "vsOjd3IUmcI_",
        "outputId": "0250f196-52de-4116-ebea-8db1ea3a3380",
        "scrolled": false,
        "vscode": {
          "languageId": "r"
        }
      },
      "outputs": [
        {
          "data": {
            "text/html": [
              "'0.1076772'"
            ],
            "text/latex": [
              "'0.1076772'"
            ],
            "text/markdown": [
              "'0.1076772'"
            ],
            "text/plain": [
              "[1] \"0.1076772\""
            ]
          },
          "metadata": {},
          "output_type": "display_data"
        }
      ],
      "source": [
        "max_corr_absoluta = max(abs(cor(datos, method = \"pearson\"))[cor(datos, method = \"pearson\") != 1])\n",
        "format(max_corr_absoluta, scientific = F)"
      ]
    },
    {
      "cell_type": "code",
      "execution_count": null,
      "metadata": {
        "id": "8hp0Ek4emcI_",
        "outputId": "bc9a92be-d8ab-4642-fc35-1ed7ceeca4e5",
        "scrolled": true,
        "vscode": {
          "languageId": "r"
        }
      },
      "outputs": [
        {
          "data": {
            "text/html": [
              "<table class=\"dataframe\">\n",
              "<caption>A matrix: 2 × 2 of type int</caption>\n",
              "<thead>\n",
              "\t<tr><th></th><th scope=col>row</th><th scope=col>col</th></tr>\n",
              "</thead>\n",
              "<tbody>\n",
              "\t<tr><th scope=row>Equilibrio</th><td>5</td><td>1</td></tr>\n",
              "\t<tr><th scope=row>Ambiente</th><td>1</td><td>5</td></tr>\n",
              "</tbody>\n",
              "</table>\n"
            ],
            "text/latex": [
              "A matrix: 2 × 2 of type int\n",
              "\\begin{tabular}{r|ll}\n",
              "  & row & col\\\\\n",
              "\\hline\n",
              "\tEquilibrio & 5 & 1\\\\\n",
              "\tAmbiente & 1 & 5\\\\\n",
              "\\end{tabular}\n"
            ],
            "text/markdown": [
              "\n",
              "A matrix: 2 × 2 of type int\n",
              "\n",
              "| <!--/--> | row | col |\n",
              "|---|---|---|\n",
              "| Equilibrio | 5 | 1 |\n",
              "| Ambiente | 1 | 5 |\n",
              "\n"
            ],
            "text/plain": [
              "           row col\n",
              "Equilibrio 5   1  \n",
              "Ambiente   1   5  "
            ]
          },
          "metadata": {},
          "output_type": "display_data"
        }
      ],
      "source": [
        "which(corr_absoluta == max(max_corr_absoluta[max_corr_absoluta != 1]), arr.ind = TRUE)"
      ]
    },
    {
      "cell_type": "markdown",
      "metadata": {
        "id": "MAo0lWPpmcI_"
      },
      "source": [
        "**Interpretacion:** Podemos observar que la mayor correlacion se encuentra entre las columnas *Equilibrio* y *Ambiente* ya que es el valor que mas se aleja de 0, en este caso si queremos ser rigurosos tenemos que especificar que se trata de una correlacion inversa siendo el valor -0.10767719415."
      ]
    },
    {
      "cell_type": "markdown",
      "metadata": {
        "id": "p_aD2b2XmcI_"
      },
      "source": [
        "<div style=\"background-color:#5DADE2\"><b>Apartado 6</b></div>"
      ]
    },
    {
      "cell_type": "markdown",
      "metadata": {
        "id": "E6rzBmxhmcJA"
      },
      "source": [
        "**Linea 1:** Realizamos el contraste de correlacion para *Ambiente* y *Capacitacion*.  \n",
        "**Linea 2:** Realizamos el contraste de correlacion para *Ambiente* y *Supervisores*.  \n",
        "**Linea 3:** Realizamos el contraste de correlacion para *Ambiente* y *Beneficios*.  \n",
        "**Linea 4:** Realizamos el contraste de correlacion para *Ambiente* y *Equilibrio*.  \n",
        "**Linea 5:** Realizamos el contraste de correlacion para *Capacitacion* y *Supervisores*.  \n",
        "**Linea 6:** Realizamos el contraste de correlacion para *Capacitacion* y *Beneficios*.  \n",
        "**Linea 7:** Realizamos el contraste de correlacion para *Capacitacion* y *Equilibrio*.  \n",
        "**Linea 8:** Realizamos el contraste de correlacion para *Supervisores* y *Beneficios*.  \n",
        "**Linea 9:** Realizamos el contraste de correlacion para *Supervisores* y *Equilibrio*.  \n",
        "**Linea 10:** Realizamos el contraste de correlacion para *Beneficios* y *Equilibrio*.  "
      ]
    },
    {
      "cell_type": "code",
      "execution_count": null,
      "metadata": {
        "id": "qoblf7EZmcJA",
        "outputId": "08f17d2a-db3e-49da-c62b-3ccd63002014",
        "vscode": {
          "languageId": "r"
        }
      },
      "outputs": [
        {
          "data": {
            "text/plain": [
              "\n",
              "\tPearson's product-moment correlation\n",
              "\n",
              "data:  datos$Ambiente and datos$Capacitacion\n",
              "t = -0.22163, df = 98, p-value = 0.8251\n",
              "alternative hypothesis: true correlation is not equal to 0\n",
              "95 percent confidence interval:\n",
              " -0.217843  0.174804\n",
              "sample estimates:\n",
              "        cor \n",
              "-0.02238259 \n"
            ]
          },
          "metadata": {},
          "output_type": "display_data"
        },
        {
          "data": {
            "text/plain": [
              "\n",
              "\tPearson's product-moment correlation\n",
              "\n",
              "data:  datos$Ambiente and datos$Supervisores\n",
              "t = 0.57411, df = 98, p-value = 0.5672\n",
              "alternative hypothesis: true correlation is not equal to 0\n",
              "95 percent confidence interval:\n",
              " -0.1401150  0.2514551\n",
              "sample estimates:\n",
              "       cor \n",
              "0.05789648 \n"
            ]
          },
          "metadata": {},
          "output_type": "display_data"
        },
        {
          "data": {
            "text/plain": [
              "\n",
              "\tPearson's product-moment correlation\n",
              "\n",
              "data:  datos$Ambiente and datos$Beneficios\n",
              "t = -0.070075, df = 98, p-value = 0.9443\n",
              "alternative hypothesis: true correlation is not equal to 0\n",
              "95 percent confidence interval:\n",
              " -0.2032141  0.1896033\n",
              "sample estimates:\n",
              "         cor \n",
              "-0.007078474 \n"
            ]
          },
          "metadata": {},
          "output_type": "display_data"
        },
        {
          "data": {
            "text/plain": [
              "\n",
              "\tPearson's product-moment correlation\n",
              "\n",
              "data:  datos$Ambiente and datos$Equilibrio\n",
              "t = -1.0722, df = 98, p-value = 0.2863\n",
              "alternative hypothesis: true correlation is not equal to 0\n",
              "95 percent confidence interval:\n",
              " -0.29779698  0.09065832\n",
              "sample estimates:\n",
              "       cor \n",
              "-0.1076772 \n"
            ]
          },
          "metadata": {},
          "output_type": "display_data"
        },
        {
          "data": {
            "text/plain": [
              "\n",
              "\tPearson's product-moment correlation\n",
              "\n",
              "data:  datos$Capacitacion and datos$Supervisores\n",
              "t = 0.7842, df = 98, p-value = 0.4348\n",
              "alternative hypothesis: true correlation is not equal to 0\n",
              "95 percent confidence interval:\n",
              " -0.1193002  0.2711803\n",
              "sample estimates:\n",
              "       cor \n",
              "0.07896838 \n"
            ]
          },
          "metadata": {},
          "output_type": "display_data"
        },
        {
          "data": {
            "text/plain": [
              "\n",
              "\tPearson's product-moment correlation\n",
              "\n",
              "data:  datos$Capacitacion and datos$Beneficios\n",
              "t = -0.96225, df = 98, p-value = 0.3383\n",
              "alternative hypothesis: true correlation is not equal to 0\n",
              "95 percent confidence interval:\n",
              " -0.2876972  0.1016028\n",
              "sample estimates:\n",
              "        cor \n",
              "-0.09674608 \n"
            ]
          },
          "metadata": {},
          "output_type": "display_data"
        },
        {
          "data": {
            "text/plain": [
              "\n",
              "\tPearson's product-moment correlation\n",
              "\n",
              "data:  datos$Capacitacion and datos$Equilibrio\n",
              "t = -0.00096615, df = 98, p-value = 0.9992\n",
              "alternative hypothesis: true correlation is not equal to 0\n",
              "95 percent confidence interval:\n",
              " -0.1965119  0.1963243\n",
              "sample estimates:\n",
              "          cor \n",
              "-9.759625e-05 \n"
            ]
          },
          "metadata": {},
          "output_type": "display_data"
        },
        {
          "data": {
            "text/plain": [
              "\n",
              "\tPearson's product-moment correlation\n",
              "\n",
              "data:  datos$Supervisores and datos$Beneficios\n",
              "t = 0.1108, df = 98, p-value = 0.912\n",
              "alternative hypothesis: true correlation is not equal to 0\n",
              "95 percent confidence interval:\n",
              " -0.1856345  0.2071544\n",
              "sample estimates:\n",
              "       cor \n",
              "0.01119164 \n"
            ]
          },
          "metadata": {},
          "output_type": "display_data"
        },
        {
          "data": {
            "text/plain": [
              "\n",
              "\tPearson's product-moment correlation\n",
              "\n",
              "data:  datos$Supervisores and datos$Equilibrio\n",
              "t = 0.85587, df = 98, p-value = 0.3942\n",
              "alternative hypothesis: true correlation is not equal to 0\n",
              "95 percent confidence interval:\n",
              " -0.1121811  0.2778522\n",
              "sample estimates:\n",
              "       cor \n",
              "0.08613496 \n"
            ]
          },
          "metadata": {},
          "output_type": "display_data"
        },
        {
          "data": {
            "text/plain": [
              "\n",
              "\tPearson's product-moment correlation\n",
              "\n",
              "data:  datos$Beneficios and datos$Equilibrio\n",
              "t = 0.44653, df = 98, p-value = 0.6562\n",
              "alternative hypothesis: true correlation is not equal to 0\n",
              "95 percent confidence interval:\n",
              " -0.1527096  0.2393597\n",
              "sample estimates:\n",
              "       cor \n",
              "0.04506009 \n"
            ]
          },
          "metadata": {},
          "output_type": "display_data"
        }
      ],
      "source": [
        "cor.test(datos$Ambiente, datos$Capacitacion, method = 'pearson')\n",
        "cor.test(datos$Ambiente, datos$Supervisores, method = 'pearson')\n",
        "cor.test(datos$Ambiente, datos$Beneficios, method = 'pearson')\n",
        "cor.test(datos$Ambiente, datos$Equilibrio, method = 'pearson')\n",
        "cor.test(datos$Capacitacion, datos$Supervisores, method = 'pearson')\n",
        "cor.test(datos$Capacitacion, datos$Beneficios, method = 'pearson')\n",
        "cor.test(datos$Capacitacion, datos$Equilibrio, method = 'pearson')\n",
        "cor.test(datos$Supervisores, datos$Beneficios, method = 'pearson')\n",
        "cor.test(datos$Supervisores, datos$Equilibrio, method = 'pearson')\n",
        "cor.test(datos$Beneficios, datos$Equilibrio, method = 'pearson')"
      ]
    },
    {
      "cell_type": "markdown",
      "metadata": {
        "id": "-CguZG6YmcJA"
      },
      "source": [
        "**Interpretacion:** Una vez realizados los contrastes de correlacion entre todas las columnas de nuestro dataframe podemos concluir que ninguna de ellas tiene una correlacion diferente a cero, es decir que aceptamos todas las hipotesis nulas dado que los *p-valores* en cada una de las pruebas son muy superiores al 5%"
      ]
    },
    {
      "cell_type": "markdown",
      "metadata": {
        "id": "qvHfeCITmcJA"
      },
      "source": [
        "# Bloque 3: Ejercicio avanzado<a id=\"topic4\"></a>&nbsp;&nbsp;<a href=\"#index\"><i class=\"fa fa-list-alt\" aria-hidden=\"true\"></i></a>\n"
      ]
    },
    {
      "cell_type": "markdown",
      "metadata": {
        "id": "CnwYPYFmmcJA"
      },
      "source": [
        "###  07 Ejercicio\n",
        "\n",
        "Contestar a las siguientes cuestiones que se plantean a continuación.\n",
        "\n",
        "1. Crear y explicar paso a paso la creación de una función en R que categorice las ganancias y pérdidas de un conjunto de transacciones financieras. La función recibirá un vector numérico representando las ganancias o pérdidas de cada transacción. Debe devolver un vector del mismo tamaño, donde cada valor sea \"Ganancia\" si el valor original es positivo, \"Pérdida\" si es negativo, y \"Neutral\" si es cero. Por ejemplo, para el vector `c(100, -50, 0, 25)`, la función debería devolver `c(\"Ganancia\", \"Pérdida\", \"Neutral\", \"Ganancia\")`.\n",
        "\n",
        "\n",
        "2. Diseñar y explicar paso a paso la creación de una función en R que calcule el bono anual de un empleado basado en sus años de servicio y salario actual. El bono es el $10\\%$ del salario actual por cada año de servicio hasta un máximo del $50\\%$ del salario.\n",
        "\n",
        "\n",
        "3. Se dispone de una lista llamada `candidato` que contiene información sobre un posible participante en un programa de mentoría. La lista tiene el formato `list(nombre, años_experiencia, tecnologías_conocidas)`. Escribir y explicar paso a paso la creación de una función en R que verifique si el candidato tiene al menos 3 años de experiencia y conoce al menos dos tecnologías de una lista dada (por ejemplo, `c(\"Python\", \"R\", \"Java\")`). Si cumple con ambos criterios, la función debe imprimir \"El candidato es elegible para el programa de mentoría\". Por ejemplo: `candidato = list(nombre = \"Carlos\", años_experiencia = 5, tecnologías_conocidas = c(\"Python\", \"SQL\"))`.\n",
        "\n",
        "\n",
        "4. Se cuenta con un dataframe que registra las ventas diarias en una determinada tienda de Apple Store. Las columnas son: fecha, venta, y descuento_aplicado (en porcentaje). El objetivo es identificar los días en los que las ventas, después de aplicar el descuento, fue mayor que el promedio de ventas netas (ventas después del descuento) de todo el periodo registrado. El dataframe que tenéis que utilizar es el siguiente:"
      ]
    },
    {
      "cell_type": "code",
      "execution_count": null,
      "metadata": {
        "id": "w4yvG6FBmcJB",
        "vscode": {
          "languageId": "r"
        }
      },
      "outputs": [],
      "source": [
        "# Dataframe que recoge dichas variables\n",
        "ventas <- data.frame(\n",
        "    fecha = c(\"2023-11-01\", \"2023-11-02\", \"2023-11-03\"),\n",
        "    venta = c(100, 200, 150),\n",
        "    descuento_aplicado = c(10, 5, 20)  # En porcentaje\n",
        ")"
      ]
    },
    {
      "cell_type": "markdown",
      "metadata": {
        "id": "VAt7PNFAmcJB"
      },
      "source": [
        "<div style=\"background-color:#F7DC6F\"><b>Resolución Ejercicio 07</b></div>"
      ]
    },
    {
      "cell_type": "markdown",
      "metadata": {
        "id": "jIsP_jbUmcJB"
      },
      "source": [
        "<div style=\"background-color:#5DADE2\"><b>Apartado 1</b></div>"
      ]
    },
    {
      "cell_type": "markdown",
      "metadata": {
        "id": "bFhOyHyjmcJC"
      },
      "source": [
        "**Linea 1:** Creamos el vector *transacciones* con nuestros datos de ejemplo.  \n",
        "**Linea 2:** Declaramos la funcion *inversiones* la cual va a recibir un parametro *v*.  \n",
        "**Linea 3:** Iniciamos una variable local llamada *resultado* sin formato.  \n",
        "**Linea 4:** Creamos un bucle **for()** que recorra los elementos de nuestro vector y como primera condicion vamos a tener que el valor sea mayor a cero.  \n",
        "**Linea 5:** Si se cumple la primera condicion devolvemos la palabra \"Ganancia\".  \n",
        "**Linea 6:** Terminamos la primera condicion.  \n",
        "**Linea 7:** Establecemos la segunda condicion con **else if** la cual es si nuestro valor es igual a cero.  \n",
        "**Linea 8:** Si se cumple esta condicion nuestro valor devuelto sera la palabra \"Neutral\".  \n",
        "**Linea 9:** Terminamos la segunda condicion.  \n",
        "**Linea 10:** Establecemos la ultima condicion en caso de que las dos primeras no se cumplan.\n",
        "**Linea 11:** El valor a devolver sera \"Perdida\".  \n",
        "**Linea 12:** Terminamos nuestro condicional **if()**.  \n",
        "**Linea 13:** En la variable *resultado* concatenamos la palabra resultante de nuestro bucle y la agregamos a las anteriores.  \n",
        "**Linea 14:** Terminamos nuestro bucle **for()**.  \n",
        "**Linea 15:** Mostramos en pantalla la variable local resultado.  \n",
        "**Linea 15:** Terminamos la funcion.  \n",
        "**Linea 15:** Probamos nuestra funcion **inversiones** con el vector *transacciones*."
      ]
    },
    {
      "cell_type": "code",
      "execution_count": null,
      "metadata": {
        "id": "VaNrb35umcJC",
        "outputId": "872fa91e-6f4d-46cb-8e48-0b1767096f7b",
        "vscode": {
          "languageId": "r"
        }
      },
      "outputs": [
        {
          "name": "stdout",
          "output_type": "stream",
          "text": [
            "[1] \"Ganancia\" \"Perdida\"  \"Neutral\"  \"Ganancia\"\n"
          ]
        }
      ],
      "source": [
        "transacciones = c(100, -50, 0, 25)\n",
        "inversiones = function(v){\n",
        "    resultado = NULL\n",
        "    for (x in v){if (x > 0){\n",
        "        out = \"Ganancia\"\n",
        "    }\n",
        "    else if (x == 0){\n",
        "        out = \"Neutral\"\n",
        "    }\n",
        "    else {\n",
        "\n",
        "        out = \"Perdida\"\n",
        "    }\n",
        "\n",
        "    resultado = c(resultado, out)}\n",
        "    print(resultado)\n",
        "}\n",
        "\n",
        "inversiones(transacciones)"
      ]
    },
    {
      "cell_type": "markdown",
      "metadata": {
        "id": "12wZdMw9mcJC"
      },
      "source": [
        "<div style=\"background-color:#5DADE2\"><b>Apartado 2</b></div>"
      ]
    },
    {
      "cell_type": "markdown",
      "metadata": {
        "id": "YwExVSqjmcJD"
      },
      "source": [
        "**Linea 1** Creamos la variable *caso1* con salario de 2000 euros y 4 años de experiencia.  \n",
        "**Linea 2** Creamos la variable *caso2* con salario de 3500 euros y 10 años de experiencia.  \n",
        "**Linea 3** Declaramos la funcion **bono** que va a recibir 2 parametros: salario y años de experiencia.  \n",
        "**Linea 4** Creamos la variable interna *maximo* para establecer el porcentaje maximo del bono a recibir.  \n",
        "**Linea 5** Creamos la variable interna *bono_anual* que calcula el minimo entre los años de trabajo multiplicado por el 10% y el *maximo* establecido.  \n",
        "**Linea 6** Creamos la variable *total_bono* que recibe la multiplicacion del salario por el resultado de la variable *bono*.  \n",
        "**Linea 7** Mostramos en pantalla el resultado de *total_bono*.  \n",
        "**Linea 8** Salimos de la funcion **bono**\n",
        "**Linea 9** Probamos la funcion con el *caso1*\n",
        "**Linea 10** Probamos la funcion con el *caso2*"
      ]
    },
    {
      "cell_type": "code",
      "execution_count": null,
      "metadata": {
        "id": "P8xAtNsRmcJD",
        "outputId": "8d47014d-8a69-4a95-e64f-f4ceecd4e8e9",
        "vscode": {
          "languageId": "r"
        }
      },
      "outputs": [
        {
          "name": "stdout",
          "output_type": "stream",
          "text": [
            "[1] 800\n",
            "[1] 1750\n"
          ]
        }
      ],
      "source": [
        "caso1 = c(2000,4)\n",
        "caso2 = c(3500,10)\n",
        "bono = function(salario,tiempo){\n",
        "    maximo = 0.5\n",
        "    bono_anual = min(salario*0.1,maximo)\n",
        "    total_bono = salario*bono_anual\n",
        "    print(total_bono[1])\n",
        "}\n",
        "bono(caso1)\n",
        "bono(caso2)"
      ]
    },
    {
      "cell_type": "markdown",
      "metadata": {
        "id": "KTjEITovmcJD"
      },
      "source": [
        "**Interpretacion:** Para el *caso1* tenemos un bono de 800 euros para un salario de 2000 euros y 4 años de trabajo, para el *caso2* tenemos un bono de 1750 euros para un salario de 3500 euros y 10 años de trabajo."
      ]
    },
    {
      "cell_type": "markdown",
      "metadata": {
        "id": "7h5T_7pemcJD"
      },
      "source": [
        "<div style=\"background-color:#5DADE2\"><b>Apartado 3</b></div>"
      ]
    },
    {
      "cell_type": "markdown",
      "metadata": {
        "id": "6ox9WKWdmcJE"
      },
      "source": [
        "**Linea 1:** Creamos la primera variable *candidato1*.  \n",
        "**Linea 2:** Creamos la segunda variable *candidato2*.  \n",
        "**Linea 3:** Declaramos la funcion **aptitud** que recibe la variable candidato.  \n",
        "**Linea 4:** Iniciamos el condicional **if()** que verifica que los años de experiencia sean mayores a 3.  \n",
        "**Linea 5:** Si se cumple esta condicion entramos en el segundo condicional **if()** que verifica las tecnologias que se encuentran en la lista de nuestro candidato sean iguales o mayores a las 2 minimas solicitadas.  \n",
        "**Linea 6:** Si se cumple esta condicion entonces imprimimos el mensaje de que si es elejible.  \n",
        "**Linea 7:** Declaramos la alternativa para el segundo condicional.  \n",
        "**Linea 8:** Si no se cumple la condicion de tecnologias imprimimos el mensaje de que no es elejible.  \n",
        "**Linea 9:** Terminamos el segundo condicional.  \n",
        "**Linea 10:** Declaramos la alternativa para el primer condicional.  \n",
        "**Linea 11:** Si no se cumplen los 3 años minimos de experiencia entonces imprimimos el mensaje de que el candidato no es elejible.  \n",
        "**Linea 12:** Terminamos el primer condicional.  \n",
        "**Linea 13:** Terminamos la funcion.  \n",
        "**Linea 14:** Probamos nuestra funcion con el primer candidato.  \n",
        "**Linea 15:** Probamos nuestra funcion con el segundo candidato."
      ]
    },
    {
      "cell_type": "code",
      "execution_count": null,
      "metadata": {
        "id": "9AGKUeq0mcJE",
        "outputId": "b5686b67-f2fa-4e64-a19d-d800b01a9ab5",
        "vscode": {
          "languageId": "r"
        }
      },
      "outputs": [
        {
          "name": "stdout",
          "output_type": "stream",
          "text": [
            "[1] \"El candidato Jorge es elejible\"\n",
            "[1] \"El candidato Andres NO es elejible\"\n"
          ]
        }
      ],
      "source": [
        "candidato1 = list(nombre = 'Jorge', experiencia = 5, tecnologias = c(\"Python\", \"R\"))\n",
        "candidato2 =list(nombre = 'Andres', experiencia = 4, tecnologias = \"Python\")\n",
        "aptitud = function(candidato) {\n",
        "  if (candidato$experiencia >= 3){\n",
        "      if (sum(c(\"Python\", \"R\", \"Java\") %in% candidato$tecnologias) >= 2){\n",
        "          print(paste('El candidato', candidato$nombre, 'es elejible'))\n",
        "      }\n",
        "      else {\n",
        "          print(paste('El candidato', candidato$nombre, 'NO es elejible'))\n",
        "      }\n",
        "  }\n",
        "    else {\n",
        "        print(paste('El candidato', candidato$nombre, 'NO es elejible'))\n",
        "    }\n",
        "\n",
        "    }\n",
        "\n",
        "aptitud(candidato1)\n",
        "aptitud(candidato2)"
      ]
    },
    {
      "cell_type": "markdown",
      "metadata": {
        "id": "EBcFBxGcmcJE"
      },
      "source": [
        "<div style=\"background-color:#5DADE2\"><b>Apartado 4</b></div>"
      ]
    },
    {
      "cell_type": "markdown",
      "metadata": {
        "id": "q7pmorw3mcJE"
      },
      "source": [
        "**Linea 1:** Para poder responder a la pregunta debemos calcular el valor de las ventas una vez aplicado el descuento, para esto creamos una nueva columna en el dataframe usando *$*.  \n",
        "**Linea 2:** Continuamos calculando el promedio de las ventas con descuento, en este caso solo vamos a tener un valor.  \n",
        "**Linea 3:** Una vez que tenemos nuestas ventas con descuento y nuestro promedio de ventas con descuento seleccionamos la columna fecha de nuestro dataframe y le pasamos la condicion de que las ventas con descuento sean mayores que el promedio de ventas con descuento.  \n",
        "**Linea 4:** Por ultimo imprimimos el resultado en pantalla."
      ]
    },
    {
      "cell_type": "code",
      "execution_count": null,
      "metadata": {
        "id": "cB5hq6-qmcJF",
        "outputId": "ba062c02-3947-4e6e-98eb-5184c69e3594",
        "vscode": {
          "languageId": "r"
        }
      },
      "outputs": [
        {
          "ename": "ERROR",
          "evalue": "Error in format(dias_mayor_promedio, \"%Y-%m-%d\"): objeto 'dias_mayor_promedio' no encontrado\n",
          "output_type": "error",
          "traceback": [
            "Error in format(dias_mayor_promedio, \"%Y-%m-%d\"): objeto 'dias_mayor_promedio' no encontrado\nTraceback:\n",
            "1. print(paste(\"Los dias en que las ventas con descuento fueron mayores al promedio fueron:\", \n .     format(dias_mayor_promedio, \"%Y-%m-%d\")))",
            "2. paste(\"Los dias en que las ventas con descuento fueron mayores al promedio fueron:\", \n .     format(dias_mayor_promedio, \"%Y-%m-%d\"))",
            "3. format(dias_mayor_promedio, \"%Y-%m-%d\")"
          ]
        }
      ],
      "source": [
        "ventas$ventas_con_descuento = ventas$venta * (1 - ventas$descuento_aplicado / 100)\n",
        "promedio_ventas_con_descuento = mean(ventas$ventas_con_descuento)\n",
        "promedio_mayor = ventas$fecha[ventas$ventas_con_descuento > promedio_ventas_con_descuento]\n",
        "print(paste(\"Los dias en que las ventas con descuento fueron mayores al promedio fueron:\", format(dias_mayor_promedio, \"%Y-%m-%d\")))"
      ]
    },
    {
      "cell_type": "markdown",
      "metadata": {
        "id": "gzdtL6XSmcJF"
      },
      "source": [
        "<div style = \"float:right\"><a style=\"text-decoration:none\" href = \"#inicio\">Inicio</a></div>"
      ]
    }
  ],
  "metadata": {
    "colab": {
      "include_colab_link": true,
      "provenance": []
    },
    "kernelspec": {
      "display_name": "R",
      "language": "R",
      "name": "ir"
    },
    "language_info": {
      "codemirror_mode": "r",
      "file_extension": ".r",
      "mimetype": "text/x-r-source",
      "name": "R",
      "pygments_lexer": "r",
      "version": "4.1.3"
    }
  },
  "nbformat": 4,
  "nbformat_minor": 0
}
